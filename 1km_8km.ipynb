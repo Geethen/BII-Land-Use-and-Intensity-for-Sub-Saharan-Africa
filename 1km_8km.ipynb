{
 "cells": [
  {
   "cell_type": "markdown",
   "id": "4eee31b3-4e0b-45c5-bfe6-62e73b3da1db",
   "metadata": {},
   "source": [
    "# BII project land use and intensity\n",
    "This notebook contains the code for pre-processing the variables in to the required format and the subsequent extraction of the data.\n",
    "\n",
    "1. Step 1: A 1km and 8km grid is defined.\n",
    "2. Step 2: Each variable is imported, filtered and scaled. If area is required, converted to area per catgeory per 1x1 km cell. If mean variable is required, the mean value per variable per 1x1 km block is obtained.\n",
    "3. Step 3: GEEML is used to extract the 1x1km data for each 1x1km grid cell.\n",
    "4. Step 4: The Expert decision tree is applied for each 1x1km cell in python.\n",
    "5. Step 5: The intensity scores are derived by first noralising all variables and thereafter, weighting them equally (1/#vars)"
   ]
  },
  {
   "cell_type": "markdown",
   "id": "fa07fcc9-b983-4c60-a3ad-040b7516bfe8",
   "metadata": {},
   "source": [
    "## Setup"
   ]
  },
  {
   "cell_type": "code",
   "execution_count": 1,
   "id": "b9017466-c447-4665-aec6-f760ce96787d",
   "metadata": {
    "tags": []
   },
   "outputs": [],
   "source": [
    "import os\n",
    "from datetime import datetime\n",
    "\n",
    "import ee\n",
    "# ee.Authenticate()\n",
    "ee.Initialize(opt_url='https://earthengine-highvolume.googleapis.com')\n",
    "import geemap, eerepr\n",
    "from tqdm.auto import tqdm\n",
    "from geeml.utils import createGrid, getCountry, eeprint\n",
    "from geeml.extract import extractor"
   ]
  },
  {
   "cell_type": "code",
   "execution_count": 2,
   "id": "29d76aa5-fcf6-460b-8f6d-fd70f2a70ecd",
   "metadata": {},
   "outputs": [],
   "source": [
    "# get sub-saharan countries\n",
    "# https://code.earthengine.google.com/443ea31edb2f25f58a3346e7dc8c1064\n",
    "countries = ee.FeatureCollection(\"USDOS/LSIB/2017\")\n",
    "c2 = ee.FeatureCollection(\"USDOS/LSIB_SIMPLE/2017\")\n",
    "\n",
    "africa = c2.filter(ee.Filter.eq('wld_rgn', 'Africa'))\n",
    "sub = countries.filterBounds(africa).aggregate_array('COUNTRY_NA')\\\n",
    ".removeAll(['Algeria', 'Egypt', 'Libya', 'Morocco', 'Tunisia', 'Spain [Canary Is]', 'Spain [Plazas de Soberania]', 'Portugal [Madeira Is]'])\n",
    "\n",
    "sub_africa = countries.filter(ee.Filter.inList('COUNTRY_NA', sub))"
   ]
  },
  {
   "cell_type": "code",
   "execution_count": 3,
   "id": "03b38e21-0808-434a-a722-9fba7702d56e",
   "metadata": {
    "tags": []
   },
   "outputs": [
    {
     "name": "stdout",
     "output_type": "stream",
     "text": [
      "dict_keys(['Benin', 'Niger', 'Nigeria', 'Djibouti', 'Equatorial Guinea', 'Eritrea', 'Ethiopia', 'Gabon', 'Gambia, The', 'Mozambique', 'Namibia', 'Gaza Strip (disp)', 'Ghana', 'Guinea', 'Guinea-Bissau', 'Kenya', 'Sierra Leone', 'Koualou (disp)', 'Lesotho', 'Liberia', 'Madagascar', 'Malawi', 'Mali', 'Mauritania', 'Mayotte (Fr)', 'Rwanda', 'Sao Tome & Principe', 'Senegal', 'Somalia', 'South Sudan', 'Sudan', 'Swaziland', 'Tanzania', 'Togo', 'Uganda', 'Western Sahara (disp)', 'Zambia', 'Zimbabwe', 'Israel', 'Abyei (disp)', 'Angola', 'Botswana', 'Comoros', 'Congo, Dem Rep of the', 'Congo, Rep of the', 'Burkina Faso', 'Burundi', 'Cabo Verde', 'Cameroon', \"Cote d'Ivoire\", 'Central African Rep', 'Chad', 'South Africa'])\n"
     ]
    }
   ],
   "source": [
    "country_list = sub_africa.aggregate_array('COUNTRY_NA').getInfo()\n",
    "\n",
    "dd = r\"C:\\Users\\coach\\myfiles\\miscellenous\\hayley\\outputs\"\n",
    "\n",
    "config = {}\n",
    "for country in country_list:\n",
    "    csavepath = f\"{dd}/{country}\"\n",
    "    caoi = sub_africa.filter(ee.Filter.eq('COUNTRY_NA', country))\n",
    "    config[country] = {'dd':csavepath,\n",
    "                       'aoi':caoi}\n",
    "print(config.keys())"
   ]
  },
  {
   "cell_type": "code",
   "execution_count": 5,
   "id": "8d9e8e9b-d870-4858-aff0-dd56ee9faa05",
   "metadata": {},
   "outputs": [
    {
     "name": "stdout",
     "output_type": "stream",
     "text": [
      "C:\\Users\\coach\\myfiles\\miscellenous\\hayley\\outputs\\South Africa\n"
     ]
    }
   ],
   "source": [
    "country = 'South Africa'\n",
    "\n",
    "# Get current date- used for saving files\n",
    "date = datetime.today().strftime('%d%m%Y')\n",
    "\n",
    "# Set path for saving data\n",
    "dd = config.get(country).get('dd')\n",
    "if not os.path.exists(dd):\n",
    "    os.makedirs(dd)\n",
    "    os.chdir(dd)\n",
    "else:\n",
    "    os.chdir(dd)\n",
    "    \n",
    "print(os.getcwd())"
   ]
  },
  {
   "cell_type": "code",
   "execution_count": 6,
   "id": "621da6c3-4cf9-41cc-9c6d-03440a2abe1f",
   "metadata": {
    "tags": []
   },
   "outputs": [
    {
     "data": {
      "application/vnd.jupyter.widget-view+json": {
       "model_id": "04cbc69bf5d943cd9914d95f43017ec1",
       "version_major": 2,
       "version_minor": 0
      },
      "text/plain": [
       "Map(center=[-28.97574975972159, 25.201998135703736], controls=(WidgetControl(options=['position', 'transparent…"
      ]
     },
     "execution_count": 6,
     "metadata": {},
     "output_type": "execute_result"
    }
   ],
   "source": [
    "# Sanity check that the correct country is selected\n",
    "Map = geemap.Map()\n",
    "aoi = config.get(country).get('aoi')\n",
    "Map.centerObject(aoi, 3)\n",
    "Map.addLayer(aoi)\n",
    "Map"
   ]
  },
  {
   "cell_type": "markdown",
   "id": "1e02a099-a364-4192-8dac-bd1cdc1a2f4f",
   "metadata": {},
   "source": [
    "## Data extraction"
   ]
  },
  {
   "cell_type": "code",
   "execution_count": 7,
   "id": "81bca092-163d-4696-8493-3599b384552e",
   "metadata": {},
   "outputs": [],
   "source": [
    "# Define projection\n",
    "wkt = '\\\n",
    "PROJCS[\"Africa_Albers_Equal_Area_Conic\",\\\n",
    "    GEOGCS[\"GCS_WGS_1984\",\\\n",
    "    DATUM[\"WGS_1984\",\\\n",
    "    SPHEROID[\"WGS_1984\",6378137,298.257223563]],\\\n",
    "    PRIMEM[\"Greenwich\",0],\\\n",
    "    UNIT[\"Degree\",0.017453292519943295]],\\\n",
    "    PROJECTION[\"Albers_Conic_Equal_Area\"],\\\n",
    "    PARAMETER[\"False_Easting\",0],\\\n",
    "    PARAMETER[\"False_Northing\",0],\\\n",
    "    PARAMETER[\"longitude_of_center\",25],\\\n",
    "    PARAMETER[\"Standard_Parallel_1\",20],\\\n",
    "    PARAMETER[\"Standard_Parallel_2\",-23],\\\n",
    "    PARAMETER[\"latitude_of_center\",0],\\\n",
    "    UNIT[\"Meter\",1],\\\n",
    "    AUTHORITY[\"EPSG\",\"102022\"]]'\n",
    "\n",
    "# ALbers equal area for africa\n",
    "epsg_102022 = ee.Projection(wkt)\n",
    "\n",
    "grid1km, _ = createGrid(1000, aoi, crs = epsg_102022)\n",
    "grid8km, _ = createGrid(8000, aoi, crs = epsg_102022)\n",
    "grid1kmr, _ = createGrid(1000, aoi, vect= False, crs = epsg_102022)\n",
    "# Create a 8km raster with unique id\n",
    "grid8kmr, _ = createGrid(8000, aoi, vect = False, crs = epsg_102022)"
   ]
  },
  {
   "cell_type": "code",
   "execution_count": 8,
   "id": "f05b6d60-8df4-4a9f-9560-b83ba0cb1632",
   "metadata": {},
   "outputs": [],
   "source": [
    "# Urban cover (10m>>1km) 2019\n",
    "area = ee.Image.pixelArea().divide(1e6).clip(aoi.geometry().buffer(5000))\n",
    "urban_cover = ee.ImageCollection(\"projects/sat-io/open-datasets/WSF/WSF_2019\").filterBounds(aoi)\\\n",
    ".mosaic().eq(255).unmask(0)\n",
    "urbanAreaImage = area.multiply(urban_cover).rename('areakm2_urban')\n",
    "\n",
    "# Crop cover (30 m)\n",
    "crop_cover = ee.ImageCollection(\"users/potapovpeter/Global_cropland_2019\").filterBounds(aoi).mosaic()\n",
    "cropAreaImage = area.multiply(crop_cover).rename('areakm2_cropCover')\n",
    "\n",
    "# Protected area\n",
    "prot_areas = ee.FeatureCollection(\"projects/ee-geethensingh/assets/WDPA_Africa_strict\").filterBounds(aoi)\n",
    "protectedAreaImage = area.clipToCollection(prot_areas).unmask(0).rename('areakm2_protArea')    \n",
    "\n",
    "# Plantation and tree crop\n",
    "result = ee.ImageCollection(\"users/liuzhujun/SDPT_NEW\").mosaic()\n",
    "plantag = ee.Image(\"users/duzhenrong/SDPT/sdpt_plantag\")\n",
    "china_plantyear = ee.ImageCollection(\"users/liuzhujun/SDPT_China\").mosaic().rename('plantyear')\n",
    "DescalesOP = ee.ImageCollection(\"users/liuzhujun/Descales\").mosaic()\n",
    "op = DescalesOP.updateMask(DescalesOP.gt(1980)).rename('plantyear')\n",
    "sdpt_name = ee.Image(\"users/duzhenrong/SDPT/sdpt_name\")\n",
    "\n",
    "china_plantyear=china_plantyear.updateMask(china_plantyear.gt(1980))\n",
    "result=result.rename('plantyear').updateMask((sdpt_name.lt(120).And(sdpt_name.gt(0))).Or(sdpt_name.gt(129))).toInt32()\n",
    "\n",
    "plantationForest=ee.ImageCollection([result.updateMask(plantag.eq(1)),china_plantyear]).mosaic().gt(0).unmask(0) \n",
    "plantationAreaImage = area.updateMask(plantationForest).rename('areakm2_plantation')\n",
    "treeCrop=result.multiply(plantag.eq(2))\n",
    "treeCrop =ee.ImageCollection([treeCrop,op]).mosaic().gt(0)  \n",
    "treeCropAreaImage = area.multiply(treeCrop).rename('areakm2_treeCrop')\n",
    "\n",
    "#Soil nutrients\n",
    "Soil_Lownutrient = ee.FeatureCollection(\"projects/ee-geethensingh/assets/Bell_1982_nutrient_map\")\\\n",
    ".filter(ee.Filter.eq('Nut_status', 'Low'))\n",
    "Soil_Mednutrient = ee.FeatureCollection(\"projects/ee-geethensingh/assets/Bell_1982_nutrient_map\")\\\n",
    ".filter(ee.Filter.eq('Nut_status', 'Medium'))\n",
    "Soil_Highnutrient = ee.FeatureCollection(\"projects/ee-geethensingh/assets/Bell_1982_nutrient_map\")\\\n",
    ".filter(ee.Filter.eq('Nut_status', 'High'))\n",
    "\n",
    "soilLowNutrientAreaImage = area.clipToCollection(Soil_Lownutrient).unmask(0).rename('areakm2_slowNutrArea')\n",
    "soilMedNutrientAreaImage = area.clipToCollection(Soil_Mednutrient).unmask(0).rename('areakm2_sMedNutriArea')\n",
    "soilHighNutrientAreaImage = area.clipToCollection(Soil_Highnutrient).unmask(0).rename('areakm2_sHighNutriArea')\n",
    "\n",
    "# Population Density\n",
    "popDensity = ee.ImageCollection(\"CIESIN/GPWv411/GPW_UNWPP-Adjusted_Population_Density\")\\\n",
    ".select('unwpp-adjusted_population_density').filterBounds(aoi).mosaic().rename('popDensity').unmask(0)\n",
    "                                       \n",
    "# Grazing Intensity\n",
    "area = ee.Image('projects/ee-geethensingh/assets/GrazingDensity/GI_8_Areakm').unmask(0)\n",
    "cattleDensity = ee.Image('projects/ee-geethensingh/assets/GrazingDensity/5_Ct_2010_Da').divide(area).rename('cattleDensity').unmask(0)\n",
    "sheepDensity = ee.Image('projects/ee-geethensingh/assets/GrazingDensity/5_Sh_2010_Da').divide(area).rename('sheepDensity').unmask(0)\n",
    "goatDensity = ee.Image('projects/ee-geethensingh/assets/GrazingDensity/5_Gt_2010_Da').divide(area).rename('goatDensity').unmask(0)\n",
    "\n",
    "# Precipitation\n",
    "years = list(range(1991,2021))\n",
    "precipitation = ee.ImageCollection(\"UCSB-CHG/CHIRPS/DAILY\").filterBounds(aoi)  \n",
    "precipitation = ee.Image(ee.ImageCollection(ee.List(years).map(lambda year: precipitation\\\n",
    ".filterDate(ee.Number(year).format(), ee.Number(year).add(1).format()).sum())).mean().rename('mm_precipitation')).unmask(0)\n",
    "\n",
    "# Nitrogen input\n",
    "proj = ee.Projection('EPSG:4326').scale(0.25,0.25)\n",
    "grid = aoi.geometry().coveringGrid(proj)\n",
    "\n",
    "nInput = ee.FeatureCollection(\"projects/ee-geethensingh/assets/Nfur_15arcmins_transformed\").filterBounds(aoi)\\\n",
    ".map(lambda x: x.set(\"Nfer_type\",ee.Algorithms.ObjectType(x.get(\"Nfer_kgha_\"))))\n",
    "nInputStr = nInput.filter(ee.Filter.eq('Nfer_type', 'String')).map(lambda x: x.set(\"Nfer_kgha_\",ee.Number.parse(x.get(\"Nfer_kgha_\")).toFloat()))\n",
    "nInputNumber = nInput.filter(ee.Filter.neq('Nfer_type', 'String')).map(lambda x: x.set(\"Nfer_kgha_\",ee.Number(x.get(\"Nfer_kgha_\")).toFloat()))\n",
    "\n",
    "nInput = nInputStr.merge(nInputNumber)\n",
    "\n",
    "def pointToGrid(ft):\n",
    "    feat = ee.Feature(ft);\n",
    "    first = nInput.filterBounds(feat.geometry()).aggregate_first('Nfer_kgha_');\n",
    "    return feat.set('Nfer_kgha_', first);\n",
    "\n",
    "nInput = grid.filterBounds(nInput).map(pointToGrid)\\\n",
    ".reduceToImage(**{'properties': ee.List([\"Nfer_kgha_\"]), 'reducer': ee.Reducer.first()})\\\n",
    ".rename('Nfer_kgha').unmask(0)\n",
    "\n",
    "# FieldSize\n",
    "fieldSize = ee.FeatureCollection(\"projects/ee-geethensingh/assets/dominant_field_sizes\").filterBounds(aoi)\\\n",
    ".filter(ee.Filter.neq('field_size', 'NA')).map(lambda x: x.set(\"field_size_\",ee.Number.parse(x.get(\"field_size\"))))\n",
    "\n",
    "def maxSize(ft):\n",
    "    feat = ee.Feature(ft);\n",
    "    max_ = fieldSize.filterBounds(feat.geometry()).aggregate_max('field_size_');\n",
    "    return feat.set('max_fieldSize', max_);\n",
    "\n",
    "fieldSize = grid1km.filterBounds(fieldSize).map(maxSize).reduceToImage(**{\n",
    "  'properties': ['max_fieldSize'],\n",
    "  'reducer': ee.Reducer.first()\n",
    "}).rename('fieldSize');"
   ]
  },
  {
   "cell_type": "code",
   "execution_count": null,
   "id": "ab554c31-eb9b-4032-9023-6e62cb07ae59",
   "metadata": {},
   "outputs": [
    {
     "data": {
      "application/vnd.jupyter.widget-view+json": {
       "model_id": "c380e7cf48ad4ad0b748c72e6faa6675",
       "version_major": 2,
       "version_minor": 0
      },
      "text/plain": [
       "sum2_1km.csv: |                                                                        | [  0.0%] in 00:00 (et…"
      ]
     },
     "metadata": {},
     "output_type": "display_data"
    }
   ],
   "source": [
    "# Get current date- used for saving files\n",
    "date = datetime.today().strftime('%d%m%Y')\n",
    "\n",
    "# # Extract data\n",
    "sumCovariates = cropAreaImage.addBands([protectedAreaImage, soilLowNutrientAreaImage,\\\n",
    "                                    soilMedNutrientAreaImage, soilHighNutrientAreaImage,\\\n",
    "                                    plantationAreaImage, treeCropAreaImage])\n",
    "# extract 30m datasets for 1km grid using sum reducer\n",
    "extractor(sumCovariates, aoi.geometry(), scale = 30, dd = dd, target = grid1km, crs = epsg_102022, num_threads = 25)\\\n",
    ".extractByGrid(reduce = True, reducer = ee.Reducer.sum(), gridSize = 100000, batchSize = 3500, filename = 'sum1_1km.csv')\n",
    "\n",
    "# Extract 10m datasets for 1km grid using sum reducer\n",
    "extractor(urbanAreaImage, aoi.geometry(), scale = 10, dd = dd, target = grid1km, crs = epsg_102022, num_threads = 25)\\\n",
    ".extractByGrid(reduce = True, reducer = ee.Reducer.sum(), gridSize = 100000, batchSize = 3500, filename = 'sum2_1km.csv')\n",
    "\n",
    "# Extract 30m datatsets for 1km grid using sum reducer\n",
    "extractor(sumCovariates, aoi.geometry(), scale = 30, dd = dd, target = grid8km, crs = epsg_102022, num_threads = 25)\\\n",
    ".extractByGrid(reduce = True, reducer = ee.Reducer.sum(), gridSize = 100000, batchSize = 3500, filename = 'sum1_8km.csv')\n",
    "\n",
    "#Extract 10m datasets for 8km grid using sum reducer\n",
    "extractor(urbanAreaImage, aoi.geometry(), scale = 10, dd = dd, target = grid8km, crs = epsg_102022, num_threads = 25)\\\n",
    ".extractByGrid(reduce = True, reducer = ee.Reducer.sum(), gridSize = 100000, batchSize = 3500, filename = 'sum2_8km.csv')\n",
    "\n",
    "fieldSize = ee.Image.pixelCoordinates(epsg_102022).addBands([fieldSize, grid1kmr.rename('id1km'), grid8kmr.rename('id8km')])\n",
    "\n",
    "# extract field size and unique id's at 1km scale using 1km grid using first reducer\n",
    "dd = os.getcwd()\n",
    "extractor(fieldSize, aoi.geometry(), scale = 1000, dd = dd, target = grid1km, crs = epsg_102022, num_threads = 25)\\\n",
    ".extractByGrid(reduce = True, reducer = ee.Reducer.first(), gridSize = 100000, batchSize = 3500, filename = 'fieldSize_1km.csv')\n",
    "\n",
    "# extract field size and unique id's at 1km scale for 8km grid using first reducer\n",
    "extractor(fieldSize, aoi.geometry(), scale = 1000, dd = dd, target = grid8km, crs = epsg_102022, num_threads = 25)\\\n",
    ".extractByGrid(reduce = True, reducer = ee.Reducer.first(), gridSize = 100000, batchSize = 3500, filename = 'fieldSize_8km.csv')\n",
    "\n",
    "# Extract precipitation and nitrogen Input\n",
    "meanCovariates = precipitation.addBands([nInput, popDensity,\\\n",
    "                                        sheepDensity, goatDensity,cattleDensity])\n",
    "\n",
    "extractor(meanCovariates, aoi.geometry(), scale = 1000, dd = dd, target = grid1km, crs = epsg_102022, num_threads = 25)\\\n",
    ".extractByGrid(reduce = True, reducer = ee.Reducer.mean(), gridSize = 100000, batchSize = 3500, filename = 'mean_1km.csv')\n",
    "\n",
    "extractor(meanCovariates, aoi.geometry(), scale = 1000, dd = dd, target = grid8km, crs = epsg_102022, num_threads = 25)\\\n",
    ".extractByGrid(reduce = True, reducer = ee.Reducer.mean(), gridSize = 100000, batchSize = 3500, filename = 'mean_8km.csv')"
   ]
  },
  {
   "cell_type": "markdown",
   "id": "70aa0733-c996-443f-95c3-dcd20097fbb2",
   "metadata": {},
   "source": [
    "## Prepare data\n",
    "## 1km"
   ]
  },
  {
   "cell_type": "code",
   "execution_count": 9,
   "id": "d7d15109-ae9e-4780-b831-142d8c4b0618",
   "metadata": {},
   "outputs": [],
   "source": [
    "# For grid cells with crop_cover and no data, assign field size of nearest cell.\n",
    "import math\n",
    "import os\n",
    "\n",
    "import pandas as pd\n",
    "import geopandas as gpd\n",
    "import matplotlib.pyplot as plt\n",
    "import numpy as np\n",
    "from sklearn.preprocessing import MinMaxScaler, RobustScaler\n",
    "from tqdm.auto import tqdm\n",
    "\n",
    "from scipy.spatial import cKDTree\n",
    "from shapely.geometry import Point"
   ]
  },
  {
   "cell_type": "code",
   "execution_count": 10,
   "id": "1e4a3273-6416-4221-ba61-1194b0206cab",
   "metadata": {},
   "outputs": [],
   "source": [
    "def ckdnearest(gdA, gdB):\n",
    "\n",
    "    nA = np.array(list(gdA.geometry.apply(lambda x: (x.x, x.y))))\n",
    "    nB = np.array(list(gdB.geometry.apply(lambda x: (x.x, x.y))))\n",
    "    btree = cKDTree(nB)\n",
    "    dist, idx = btree.query(nA, k=1)\n",
    "    gdB_nearest = gdB.iloc[idx].drop(columns=\"geometry\").reset_index(drop=True)\n",
    "    gdf = pd.concat(\n",
    "        [\n",
    "            gdA.reset_index(drop=True),\n",
    "            gdB_nearest,\n",
    "            pd.Series(dist, name='dist')\n",
    "        ], \n",
    "        axis=1)\n",
    "\n",
    "    return gdf"
   ]
  },
  {
   "cell_type": "code",
   "execution_count": 11,
   "id": "2ef8a80d-3d3b-45c9-8345-70d1a8e77b1a",
   "metadata": {},
   "outputs": [],
   "source": [
    "# #Field Size data\n",
    "df = pd.read_csv(r\"fieldSize_1km.csv\", low_memory=False, header = None, index_col = False, skiprows=1)\n",
    "df.columns = ['x', 'y', 'fieldSize', 'id1km', 'id8km', 'gid']"
   ]
  },
  {
   "cell_type": "code",
   "execution_count": 13,
   "id": "1dd5e680-39d0-4dfa-99d8-e7f93635ca0f",
   "metadata": {},
   "outputs": [],
   "source": [
    "df2 = pd.read_csv(r\"sum1_1km.csv\", low_memory=False, header = None, index_col = False, skiprows=1)\n",
    "df2.columns = ['areakm2_cropCover', 'areakm2_protArea',\n",
    "       'areakm2_slowNutrArea', 'areakm2_sMedNutriArea',\n",
    "       'areakm2_sHighNutriArea', 'areakm2_plantation', 'areakm2_treeCrop', 'gid']\n",
    "\n",
    "df0 = pd.read_csv(r\"sum2_1km.csv\", low_memory=False, header = None, index_col = False, skiprows=1)\n",
    "df0.columns = ['areakm2_urban', 'gid']\n",
    "\n",
    "# Merge datasets into single datset based on matching GID column\n",
    "df1 = pd.merge(df2, df0, on= 'gid', how = 'outer').fillna(0)"
   ]
  },
  {
   "cell_type": "code",
   "execution_count": 14,
   "id": "38b64040-8c07-4508-9cfc-431499973e3a",
   "metadata": {},
   "outputs": [],
   "source": [
    "# Mean covariate data\n",
    "dfmean = pd.read_csv(r\"mean_1km.csv\", low_memory=False, header = None, index_col = False, skiprows=1)\n",
    "dfmean.columns = ['mean_precip','Nfer_kgha', 'popDensity', 'sheepDensity', 'goatDensity', 'cattleDensity', 'gid']\n",
    "dfmean= dfmean[dfmean['gid']!= '245,-2948']"
   ]
  },
  {
   "cell_type": "code",
   "execution_count": 15,
   "id": "1c8f9763-4324-49d2-9c24-47af99ce45e4",
   "metadata": {},
   "outputs": [],
   "source": [
    "# Merge datasets into single datset based on matching GIS column\n",
    "dfJoin = pd.merge(df1, dfmean, on= 'gid')\n",
    "dfAll = pd.merge(dfJoin, df, on= 'gid').drop_duplicates().reset_index(drop=True)"
   ]
  },
  {
   "cell_type": "code",
   "execution_count": 16,
   "id": "b6e547e0-559f-4e7a-b289-c228d6aa6ced",
   "metadata": {},
   "outputs": [
    {
     "name": "stdout",
     "output_type": "stream",
     "text": [
      "The number of missing mean_precip values: 0\n"
     ]
    }
   ],
   "source": [
    "# Fill in missing mean precipitation data\n",
    "# by copying attribute of closest point\n",
    "missing = dfAll.mean_precip.isna().sum()\n",
    "print('The number of missing mean_precip values:', missing)\n",
    "if missing>0:\n",
    "    # Blocks with mean-precip data\n",
    "    sdf2 = dfAll.loc[dfAll['mean_precip'].notna(), ['mean_precip', 'x', 'y']]\n",
    "    gdf2 =  gpd.GeoDataFrame(sdf2.drop(['x', 'y'],axis=1), geometry = gpd.points_from_xy(sdf2.x, sdf2.y))\n",
    "\n",
    "    # All columns without join-attributes(s) column\n",
    "    sdf1 = dfAll.loc[dfAll['mean_precip'].isna(), ['gid','x', 'y']]\n",
    "    gdf1 =  gpd.GeoDataFrame(sdf1.drop(['x', 'y'],axis=1), geometry = gpd.points_from_xy(sdf1.x, sdf1.y))\n",
    "\n",
    "    joinNearest1 = ckdnearest(gdf1, gdf2)\n",
    "\n",
    "    result1 = pd.DataFrame(joinNearest1)[['gid', 'mean_precip']]\n",
    "    result1.columns = ['gid', 'mean_precip2']\n",
    "\n",
    "    dfAll = pd.merge(dfAll, result1, how = 'outer',on = 'gid').drop_duplicates()\n",
    "    dfAll['mean_precip'].fillna(dfAll['mean_precip2'], inplace = True)\n",
    "    dfAll.drop('mean_precip2', axis=1, inplace=True)"
   ]
  },
  {
   "cell_type": "code",
   "execution_count": 17,
   "id": "f1d6aea7-8e2e-458f-a4fe-3830b8a3baa9",
   "metadata": {
    "tags": []
   },
   "outputs": [],
   "source": [
    "# select fieldSize column for cells that are cropcover or treeCrop\n",
    "dfs1 = dfAll.loc[(dfAll['areakm2_cropCover']>0)|(dfAll['areakm2_treeCrop']>0), ['x', 'y', 'fieldSize', 'gid']]\n",
    "\n",
    "# get rows with fieldsize data\n",
    "dfs2 = dfs1.dropna().loc[\n",
    "      (dfs1['fieldSize']!= 3507), ['fieldSize', 'x', 'y']]\n",
    "# all rows without fieldsize column(including rows with data)\n",
    "dfs3 = dfs1[['x', 'y', 'gid']]\n",
    "\n",
    "# with attribute\n",
    "gdf2 = gpd.GeoDataFrame(dfs2.drop(['x', 'y'],axis=1), geometry = gpd.points_from_xy(dfs2.x, dfs2.y))\n",
    "\n",
    "# Missing data\n",
    "gdf3 = gpd.GeoDataFrame(dfs3.drop(['x', 'y'],axis=1), geometry = gpd.points_from_xy(dfs3.x, dfs3.y))"
   ]
  },
  {
   "cell_type": "code",
   "execution_count": 18,
   "id": "def14264-a6f2-43f3-bb86-744dbc80b3af",
   "metadata": {},
   "outputs": [],
   "source": [
    "joinNearest = ckdnearest(gdf3, gdf2)\n",
    "result = pd.DataFrame(joinNearest)[['gid', 'fieldSize']]\n",
    "result.columns = ['gid', 'fieldSize2']\n",
    "\n",
    "finaldf = pd.merge(dfAll, result, how= 'outer',on = 'gid').drop_duplicates()\n",
    "finaldf['fieldSize2'] = finaldf['fieldSize2'].fillna(0)\n",
    "finaldf['fieldSize'] = finaldf['fieldSize2'].astype('int')\n",
    "\n",
    "dfF = finaldf.drop('fieldSize2', axis=1).reset_index(drop=True)"
   ]
  },
  {
   "cell_type": "code",
   "execution_count": 19,
   "id": "70b5a721-886e-4c97-a8bc-985942ab3b2a",
   "metadata": {
    "tags": []
   },
   "outputs": [],
   "source": [
    "dfF.loc[:,'id8km'] = dfF.loc[:,'id8km'].fillna(0)\n",
    "dfF.loc[:,'id1km'] = dfF.loc[:,'id1km'].fillna(0)\n",
    "dfF = dfF[dfF['areakm2_treeCrop']!= '2726,-3471']\n",
    "\n",
    "# Format data types\n",
    "dfF.loc[:,'areakm2_treeCrop'] = dfF.loc[:,'areakm2_treeCrop'].astype('float64')\n",
    "dfF.loc[:,'gid'] = dfF.loc[:,'gid'].astype('string')\n",
    "dfF.loc[:,'id8km'] = dfF.loc[:,'id8km'].astype('int64')\n",
    "dfF.loc[:,'Nfer_kgha'] = dfF.loc[:,'Nfer_kgha'].astype('float64')\n",
    "dfF.loc[:,'mean_precip'] = dfF.loc[:,'mean_precip'].astype('float32')\n",
    "\n",
    "# Add scaled fieldSize\n",
    "dfF['scaled_fieldSize'] = 0\n",
    "dfF.loc[dfF['fieldSize'] == 3502, 'scaled_fieldSize'] = 1.0\n",
    "dfF.loc[dfF['fieldSize'] == 3503, 'scaled_fieldSize'] = 0.8\n",
    "dfF.loc[dfF['fieldSize'] == 3504, 'scaled_fieldSize'] = 0.6\n",
    "dfF.loc[dfF['fieldSize'] == 3505, 'scaled_fieldSize'] = 0.4\n",
    "dfF.loc[dfF['fieldSize'] == 3506, 'scaled_fieldSize'] = 0.2"
   ]
  },
  {
   "cell_type": "code",
   "execution_count": 20,
   "id": "5ffbb593-3673-41aa-b4e3-6adf34ec742d",
   "metadata": {},
   "outputs": [
    {
     "name": "stdout",
     "output_type": "stream",
     "text": [
      "The number of missing soil nutrient data values: 346895\n"
     ]
    }
   ],
   "source": [
    "# Fill in missing Nutrient data\n",
    "# Copy attribute of closest point\n",
    "df = dfF\n",
    "df['maxN'] = df[['areakm2_slowNutrArea','areakm2_sMedNutriArea', 'areakm2_sHighNutriArea']].max(axis=1)\n",
    "\n",
    "missing = df[df.maxN==0].shape[0]\n",
    "print('The number of missing soil nutrient data values:', missing)\n",
    "if missing>0:\n",
    "    # Blocks with Nutrient areas\n",
    "    sdf2 = df.loc[df['maxN']>0, ['areakm2_slowNutrArea','areakm2_sMedNutriArea', 'areakm2_sHighNutriArea', 'x', 'y']]\n",
    "    gdf2 =  gpd.GeoDataFrame(sdf2.drop(['x', 'y'],axis=1), geometry = gpd.points_from_xy(sdf2.x, sdf2.y))\n",
    "\n",
    "    # All columns without join-attributes(s) column\n",
    "    sdf1 = df[['gid', 'x', 'y']]\n",
    "    gdf1 =  gpd.GeoDataFrame(sdf1.drop(['x', 'y'],axis=1), geometry = gpd.points_from_xy(sdf1.x, sdf1.y))\n",
    "\n",
    "    joinNearest1 = ckdnearest(gdf1, gdf2)\n",
    "\n",
    "    result1 = pd.DataFrame(joinNearest1)[['gid', 'areakm2_slowNutrArea','areakm2_sMedNutriArea', 'areakm2_sHighNutriArea']]\n",
    "    result1.columns = ['gid', 'areakm2_slowNutrArea2','areakm2_sMedNutriArea2', 'areakm2_sHighNutriArea2']\n",
    "\n",
    "    finaldf = pd.merge(df, result1, how = 'outer',on = 'gid')"
   ]
  },
  {
   "cell_type": "code",
   "execution_count": 21,
   "id": "abf68bb9-924f-4dac-a702-d2db3ea5bf72",
   "metadata": {},
   "outputs": [],
   "source": [
    "# Export data\n",
    "outfile = f'{country}_POC_{date}.feather'\n",
    "finaldf.drop_duplicates(subset = ['x', 'y']).reset_index(drop=True).to_feather(outfile)"
   ]
  },
  {
   "cell_type": "code",
   "execution_count": 78,
   "id": "a57529eb-78d6-452b-bb4f-e02a61f756c5",
   "metadata": {
    "collapsed": true,
    "jupyter": {
     "outputs_hidden": true
    },
    "tags": []
   },
   "outputs": [
    {
     "ename": "NameError",
     "evalue": "name 'gdf' is not defined",
     "output_type": "error",
     "traceback": [
      "\u001b[1;31m---------------------------------------------------------------------------\u001b[0m",
      "\u001b[1;31mNameError\u001b[0m                                 Traceback (most recent call last)",
      "Cell \u001b[1;32mIn [78], line 8\u001b[0m\n\u001b[0;32m      4\u001b[0m ax \u001b[38;5;241m=\u001b[39m world[world\u001b[38;5;241m.\u001b[39mcontinent \u001b[38;5;241m==\u001b[39m \u001b[38;5;124m'\u001b[39m\u001b[38;5;124mSouth Africa\u001b[39m\u001b[38;5;124m'\u001b[39m]\u001b[38;5;241m.\u001b[39mplot(\n\u001b[0;32m      5\u001b[0m     color\u001b[38;5;241m=\u001b[39m\u001b[38;5;124m'\u001b[39m\u001b[38;5;124mwhite\u001b[39m\u001b[38;5;124m'\u001b[39m, edgecolor\u001b[38;5;241m=\u001b[39m\u001b[38;5;124m'\u001b[39m\u001b[38;5;124mblack\u001b[39m\u001b[38;5;124m'\u001b[39m)\n\u001b[0;32m      7\u001b[0m \u001b[38;5;66;03m# plot ``GeoDataFrame``.\u001b[39;00m\n\u001b[1;32m----> 8\u001b[0m \u001b[43mgdf\u001b[49m\u001b[38;5;241m.\u001b[39mplot(ax\u001b[38;5;241m=\u001b[39max, color\u001b[38;5;241m=\u001b[39m\u001b[38;5;124m'\u001b[39m\u001b[38;5;124mred\u001b[39m\u001b[38;5;124m'\u001b[39m)\n\u001b[0;32m      9\u001b[0m plt\u001b[38;5;241m.\u001b[39mshow()\n",
      "\u001b[1;31mNameError\u001b[0m: name 'gdf' is not defined"
     ]
    },
    {
     "name": "stdout",
     "output_type": "stream",
     "text": [
      "Error in callback <function _draw_all_if_interactive at 0x000001BD391E5F70> (for post_execute):\n"
     ]
    },
    {
     "ename": "ValueError",
     "evalue": "cannot convert float NaN to integer",
     "output_type": "error",
     "traceback": [
      "\u001b[1;31m---------------------------------------------------------------------------\u001b[0m",
      "\u001b[1;31mValueError\u001b[0m                                Traceback (most recent call last)",
      "File \u001b[1;32mC:\\WINDOWS\\System32\\erty\\lib\\site-packages\\matplotlib\\pyplot.py:119\u001b[0m, in \u001b[0;36m_draw_all_if_interactive\u001b[1;34m()\u001b[0m\n\u001b[0;32m    117\u001b[0m \u001b[38;5;28;01mdef\u001b[39;00m \u001b[38;5;21m_draw_all_if_interactive\u001b[39m():\n\u001b[0;32m    118\u001b[0m     \u001b[38;5;28;01mif\u001b[39;00m matplotlib\u001b[38;5;241m.\u001b[39mis_interactive():\n\u001b[1;32m--> 119\u001b[0m         \u001b[43mdraw_all\u001b[49m\u001b[43m(\u001b[49m\u001b[43m)\u001b[49m\n",
      "File \u001b[1;32mC:\\WINDOWS\\System32\\erty\\lib\\site-packages\\matplotlib\\_pylab_helpers.py:132\u001b[0m, in \u001b[0;36mGcf.draw_all\u001b[1;34m(cls, force)\u001b[0m\n\u001b[0;32m    130\u001b[0m \u001b[38;5;28;01mfor\u001b[39;00m manager \u001b[38;5;129;01min\u001b[39;00m \u001b[38;5;28mcls\u001b[39m\u001b[38;5;241m.\u001b[39mget_all_fig_managers():\n\u001b[0;32m    131\u001b[0m     \u001b[38;5;28;01mif\u001b[39;00m force \u001b[38;5;129;01mor\u001b[39;00m manager\u001b[38;5;241m.\u001b[39mcanvas\u001b[38;5;241m.\u001b[39mfigure\u001b[38;5;241m.\u001b[39mstale:\n\u001b[1;32m--> 132\u001b[0m         \u001b[43mmanager\u001b[49m\u001b[38;5;241;43m.\u001b[39;49m\u001b[43mcanvas\u001b[49m\u001b[38;5;241;43m.\u001b[39;49m\u001b[43mdraw_idle\u001b[49m\u001b[43m(\u001b[49m\u001b[43m)\u001b[49m\n",
      "File \u001b[1;32mC:\\WINDOWS\\System32\\erty\\lib\\site-packages\\matplotlib\\backend_bases.py:2054\u001b[0m, in \u001b[0;36mFigureCanvasBase.draw_idle\u001b[1;34m(self, *args, **kwargs)\u001b[0m\n\u001b[0;32m   2052\u001b[0m \u001b[38;5;28;01mif\u001b[39;00m \u001b[38;5;129;01mnot\u001b[39;00m \u001b[38;5;28mself\u001b[39m\u001b[38;5;241m.\u001b[39m_is_idle_drawing:\n\u001b[0;32m   2053\u001b[0m     \u001b[38;5;28;01mwith\u001b[39;00m \u001b[38;5;28mself\u001b[39m\u001b[38;5;241m.\u001b[39m_idle_draw_cntx():\n\u001b[1;32m-> 2054\u001b[0m         \u001b[38;5;28mself\u001b[39m\u001b[38;5;241m.\u001b[39mdraw(\u001b[38;5;241m*\u001b[39margs, \u001b[38;5;241m*\u001b[39m\u001b[38;5;241m*\u001b[39mkwargs)\n",
      "File \u001b[1;32mC:\\WINDOWS\\System32\\erty\\lib\\site-packages\\matplotlib\\backends\\backend_agg.py:408\u001b[0m, in \u001b[0;36mFigureCanvasAgg.draw\u001b[1;34m(self)\u001b[0m\n\u001b[0;32m    404\u001b[0m \u001b[38;5;66;03m# Acquire a lock on the shared font cache.\u001b[39;00m\n\u001b[0;32m    405\u001b[0m \u001b[38;5;28;01mwith\u001b[39;00m RendererAgg\u001b[38;5;241m.\u001b[39mlock, \\\n\u001b[0;32m    406\u001b[0m      (\u001b[38;5;28mself\u001b[39m\u001b[38;5;241m.\u001b[39mtoolbar\u001b[38;5;241m.\u001b[39m_wait_cursor_for_draw_cm() \u001b[38;5;28;01mif\u001b[39;00m \u001b[38;5;28mself\u001b[39m\u001b[38;5;241m.\u001b[39mtoolbar\n\u001b[0;32m    407\u001b[0m       \u001b[38;5;28;01melse\u001b[39;00m nullcontext()):\n\u001b[1;32m--> 408\u001b[0m     \u001b[38;5;28;43mself\u001b[39;49m\u001b[38;5;241;43m.\u001b[39;49m\u001b[43mfigure\u001b[49m\u001b[38;5;241;43m.\u001b[39;49m\u001b[43mdraw\u001b[49m\u001b[43m(\u001b[49m\u001b[38;5;28;43mself\u001b[39;49m\u001b[38;5;241;43m.\u001b[39;49m\u001b[43mrenderer\u001b[49m\u001b[43m)\u001b[49m\n\u001b[0;32m    409\u001b[0m     \u001b[38;5;66;03m# A GUI class may be need to update a window using this draw, so\u001b[39;00m\n\u001b[0;32m    410\u001b[0m     \u001b[38;5;66;03m# don't forget to call the superclass.\u001b[39;00m\n\u001b[0;32m    411\u001b[0m     \u001b[38;5;28msuper\u001b[39m()\u001b[38;5;241m.\u001b[39mdraw()\n",
      "File \u001b[1;32mC:\\WINDOWS\\System32\\erty\\lib\\site-packages\\matplotlib\\artist.py:74\u001b[0m, in \u001b[0;36m_finalize_rasterization.<locals>.draw_wrapper\u001b[1;34m(artist, renderer, *args, **kwargs)\u001b[0m\n\u001b[0;32m     72\u001b[0m \u001b[38;5;129m@wraps\u001b[39m(draw)\n\u001b[0;32m     73\u001b[0m \u001b[38;5;28;01mdef\u001b[39;00m \u001b[38;5;21mdraw_wrapper\u001b[39m(artist, renderer, \u001b[38;5;241m*\u001b[39margs, \u001b[38;5;241m*\u001b[39m\u001b[38;5;241m*\u001b[39mkwargs):\n\u001b[1;32m---> 74\u001b[0m     result \u001b[38;5;241m=\u001b[39m draw(artist, renderer, \u001b[38;5;241m*\u001b[39margs, \u001b[38;5;241m*\u001b[39m\u001b[38;5;241m*\u001b[39mkwargs)\n\u001b[0;32m     75\u001b[0m     \u001b[38;5;28;01mif\u001b[39;00m renderer\u001b[38;5;241m.\u001b[39m_rasterizing:\n\u001b[0;32m     76\u001b[0m         renderer\u001b[38;5;241m.\u001b[39mstop_rasterizing()\n",
      "File \u001b[1;32mC:\\WINDOWS\\System32\\erty\\lib\\site-packages\\matplotlib\\artist.py:51\u001b[0m, in \u001b[0;36mallow_rasterization.<locals>.draw_wrapper\u001b[1;34m(artist, renderer)\u001b[0m\n\u001b[0;32m     48\u001b[0m     \u001b[38;5;28;01mif\u001b[39;00m artist\u001b[38;5;241m.\u001b[39mget_agg_filter() \u001b[38;5;129;01mis\u001b[39;00m \u001b[38;5;129;01mnot\u001b[39;00m \u001b[38;5;28;01mNone\u001b[39;00m:\n\u001b[0;32m     49\u001b[0m         renderer\u001b[38;5;241m.\u001b[39mstart_filter()\n\u001b[1;32m---> 51\u001b[0m     \u001b[38;5;28;01mreturn\u001b[39;00m \u001b[43mdraw\u001b[49m\u001b[43m(\u001b[49m\u001b[43martist\u001b[49m\u001b[43m,\u001b[49m\u001b[43m \u001b[49m\u001b[43mrenderer\u001b[49m\u001b[43m)\u001b[49m\n\u001b[0;32m     52\u001b[0m \u001b[38;5;28;01mfinally\u001b[39;00m:\n\u001b[0;32m     53\u001b[0m     \u001b[38;5;28;01mif\u001b[39;00m artist\u001b[38;5;241m.\u001b[39mget_agg_filter() \u001b[38;5;129;01mis\u001b[39;00m \u001b[38;5;129;01mnot\u001b[39;00m \u001b[38;5;28;01mNone\u001b[39;00m:\n",
      "File \u001b[1;32mC:\\WINDOWS\\System32\\erty\\lib\\site-packages\\matplotlib\\figure.py:3069\u001b[0m, in \u001b[0;36mFigure.draw\u001b[1;34m(self, renderer)\u001b[0m\n\u001b[0;32m   3066\u001b[0m         \u001b[38;5;66;03m# ValueError can occur when resizing a window.\u001b[39;00m\n\u001b[0;32m   3068\u001b[0m \u001b[38;5;28mself\u001b[39m\u001b[38;5;241m.\u001b[39mpatch\u001b[38;5;241m.\u001b[39mdraw(renderer)\n\u001b[1;32m-> 3069\u001b[0m \u001b[43mmimage\u001b[49m\u001b[38;5;241;43m.\u001b[39;49m\u001b[43m_draw_list_compositing_images\u001b[49m\u001b[43m(\u001b[49m\n\u001b[0;32m   3070\u001b[0m \u001b[43m    \u001b[49m\u001b[43mrenderer\u001b[49m\u001b[43m,\u001b[49m\u001b[43m \u001b[49m\u001b[38;5;28;43mself\u001b[39;49m\u001b[43m,\u001b[49m\u001b[43m \u001b[49m\u001b[43martists\u001b[49m\u001b[43m,\u001b[49m\u001b[43m \u001b[49m\u001b[38;5;28;43mself\u001b[39;49m\u001b[38;5;241;43m.\u001b[39;49m\u001b[43msuppressComposite\u001b[49m\u001b[43m)\u001b[49m\n\u001b[0;32m   3072\u001b[0m \u001b[38;5;28;01mfor\u001b[39;00m sfig \u001b[38;5;129;01min\u001b[39;00m \u001b[38;5;28mself\u001b[39m\u001b[38;5;241m.\u001b[39msubfigs:\n\u001b[0;32m   3073\u001b[0m     sfig\u001b[38;5;241m.\u001b[39mdraw(renderer)\n",
      "File \u001b[1;32mC:\\WINDOWS\\System32\\erty\\lib\\site-packages\\matplotlib\\image.py:131\u001b[0m, in \u001b[0;36m_draw_list_compositing_images\u001b[1;34m(renderer, parent, artists, suppress_composite)\u001b[0m\n\u001b[0;32m    129\u001b[0m \u001b[38;5;28;01mif\u001b[39;00m not_composite \u001b[38;5;129;01mor\u001b[39;00m \u001b[38;5;129;01mnot\u001b[39;00m has_images:\n\u001b[0;32m    130\u001b[0m     \u001b[38;5;28;01mfor\u001b[39;00m a \u001b[38;5;129;01min\u001b[39;00m artists:\n\u001b[1;32m--> 131\u001b[0m         \u001b[43ma\u001b[49m\u001b[38;5;241;43m.\u001b[39;49m\u001b[43mdraw\u001b[49m\u001b[43m(\u001b[49m\u001b[43mrenderer\u001b[49m\u001b[43m)\u001b[49m\n\u001b[0;32m    132\u001b[0m \u001b[38;5;28;01melse\u001b[39;00m:\n\u001b[0;32m    133\u001b[0m     \u001b[38;5;66;03m# Composite any adjacent images together\u001b[39;00m\n\u001b[0;32m    134\u001b[0m     image_group \u001b[38;5;241m=\u001b[39m []\n",
      "File \u001b[1;32mC:\\WINDOWS\\System32\\erty\\lib\\site-packages\\matplotlib\\artist.py:51\u001b[0m, in \u001b[0;36mallow_rasterization.<locals>.draw_wrapper\u001b[1;34m(artist, renderer)\u001b[0m\n\u001b[0;32m     48\u001b[0m     \u001b[38;5;28;01mif\u001b[39;00m artist\u001b[38;5;241m.\u001b[39mget_agg_filter() \u001b[38;5;129;01mis\u001b[39;00m \u001b[38;5;129;01mnot\u001b[39;00m \u001b[38;5;28;01mNone\u001b[39;00m:\n\u001b[0;32m     49\u001b[0m         renderer\u001b[38;5;241m.\u001b[39mstart_filter()\n\u001b[1;32m---> 51\u001b[0m     \u001b[38;5;28;01mreturn\u001b[39;00m \u001b[43mdraw\u001b[49m\u001b[43m(\u001b[49m\u001b[43martist\u001b[49m\u001b[43m,\u001b[49m\u001b[43m \u001b[49m\u001b[43mrenderer\u001b[49m\u001b[43m)\u001b[49m\n\u001b[0;32m     52\u001b[0m \u001b[38;5;28;01mfinally\u001b[39;00m:\n\u001b[0;32m     53\u001b[0m     \u001b[38;5;28;01mif\u001b[39;00m artist\u001b[38;5;241m.\u001b[39mget_agg_filter() \u001b[38;5;129;01mis\u001b[39;00m \u001b[38;5;129;01mnot\u001b[39;00m \u001b[38;5;28;01mNone\u001b[39;00m:\n",
      "File \u001b[1;32mC:\\WINDOWS\\System32\\erty\\lib\\site-packages\\matplotlib\\axes\\_base.py:3106\u001b[0m, in \u001b[0;36m_AxesBase.draw\u001b[1;34m(self, renderer)\u001b[0m\n\u001b[0;32m   3103\u001b[0m         a\u001b[38;5;241m.\u001b[39mdraw(renderer)\n\u001b[0;32m   3104\u001b[0m     renderer\u001b[38;5;241m.\u001b[39mstop_rasterizing()\n\u001b[1;32m-> 3106\u001b[0m \u001b[43mmimage\u001b[49m\u001b[38;5;241;43m.\u001b[39;49m\u001b[43m_draw_list_compositing_images\u001b[49m\u001b[43m(\u001b[49m\n\u001b[0;32m   3107\u001b[0m \u001b[43m    \u001b[49m\u001b[43mrenderer\u001b[49m\u001b[43m,\u001b[49m\u001b[43m \u001b[49m\u001b[38;5;28;43mself\u001b[39;49m\u001b[43m,\u001b[49m\u001b[43m \u001b[49m\u001b[43martists\u001b[49m\u001b[43m,\u001b[49m\u001b[43m \u001b[49m\u001b[38;5;28;43mself\u001b[39;49m\u001b[38;5;241;43m.\u001b[39;49m\u001b[43mfigure\u001b[49m\u001b[38;5;241;43m.\u001b[39;49m\u001b[43msuppressComposite\u001b[49m\u001b[43m)\u001b[49m\n\u001b[0;32m   3109\u001b[0m renderer\u001b[38;5;241m.\u001b[39mclose_group(\u001b[38;5;124m'\u001b[39m\u001b[38;5;124maxes\u001b[39m\u001b[38;5;124m'\u001b[39m)\n\u001b[0;32m   3110\u001b[0m \u001b[38;5;28mself\u001b[39m\u001b[38;5;241m.\u001b[39mstale \u001b[38;5;241m=\u001b[39m \u001b[38;5;28;01mFalse\u001b[39;00m\n",
      "File \u001b[1;32mC:\\WINDOWS\\System32\\erty\\lib\\site-packages\\matplotlib\\image.py:131\u001b[0m, in \u001b[0;36m_draw_list_compositing_images\u001b[1;34m(renderer, parent, artists, suppress_composite)\u001b[0m\n\u001b[0;32m    129\u001b[0m \u001b[38;5;28;01mif\u001b[39;00m not_composite \u001b[38;5;129;01mor\u001b[39;00m \u001b[38;5;129;01mnot\u001b[39;00m has_images:\n\u001b[0;32m    130\u001b[0m     \u001b[38;5;28;01mfor\u001b[39;00m a \u001b[38;5;129;01min\u001b[39;00m artists:\n\u001b[1;32m--> 131\u001b[0m         \u001b[43ma\u001b[49m\u001b[38;5;241;43m.\u001b[39;49m\u001b[43mdraw\u001b[49m\u001b[43m(\u001b[49m\u001b[43mrenderer\u001b[49m\u001b[43m)\u001b[49m\n\u001b[0;32m    132\u001b[0m \u001b[38;5;28;01melse\u001b[39;00m:\n\u001b[0;32m    133\u001b[0m     \u001b[38;5;66;03m# Composite any adjacent images together\u001b[39;00m\n\u001b[0;32m    134\u001b[0m     image_group \u001b[38;5;241m=\u001b[39m []\n",
      "File \u001b[1;32mC:\\WINDOWS\\System32\\erty\\lib\\site-packages\\matplotlib\\artist.py:51\u001b[0m, in \u001b[0;36mallow_rasterization.<locals>.draw_wrapper\u001b[1;34m(artist, renderer)\u001b[0m\n\u001b[0;32m     48\u001b[0m     \u001b[38;5;28;01mif\u001b[39;00m artist\u001b[38;5;241m.\u001b[39mget_agg_filter() \u001b[38;5;129;01mis\u001b[39;00m \u001b[38;5;129;01mnot\u001b[39;00m \u001b[38;5;28;01mNone\u001b[39;00m:\n\u001b[0;32m     49\u001b[0m         renderer\u001b[38;5;241m.\u001b[39mstart_filter()\n\u001b[1;32m---> 51\u001b[0m     \u001b[38;5;28;01mreturn\u001b[39;00m \u001b[43mdraw\u001b[49m\u001b[43m(\u001b[49m\u001b[43martist\u001b[49m\u001b[43m,\u001b[49m\u001b[43m \u001b[49m\u001b[43mrenderer\u001b[49m\u001b[43m)\u001b[49m\n\u001b[0;32m     52\u001b[0m \u001b[38;5;28;01mfinally\u001b[39;00m:\n\u001b[0;32m     53\u001b[0m     \u001b[38;5;28;01mif\u001b[39;00m artist\u001b[38;5;241m.\u001b[39mget_agg_filter() \u001b[38;5;129;01mis\u001b[39;00m \u001b[38;5;129;01mnot\u001b[39;00m \u001b[38;5;28;01mNone\u001b[39;00m:\n",
      "File \u001b[1;32mC:\\WINDOWS\\System32\\erty\\lib\\site-packages\\matplotlib\\axis.py:1304\u001b[0m, in \u001b[0;36mAxis.draw\u001b[1;34m(self, renderer, *args, **kwargs)\u001b[0m\n\u001b[0;32m   1301\u001b[0m     \u001b[38;5;28;01mreturn\u001b[39;00m\n\u001b[0;32m   1302\u001b[0m renderer\u001b[38;5;241m.\u001b[39mopen_group(\u001b[38;5;18m__name__\u001b[39m, gid\u001b[38;5;241m=\u001b[39m\u001b[38;5;28mself\u001b[39m\u001b[38;5;241m.\u001b[39mget_gid())\n\u001b[1;32m-> 1304\u001b[0m ticks_to_draw \u001b[38;5;241m=\u001b[39m \u001b[38;5;28;43mself\u001b[39;49m\u001b[38;5;241;43m.\u001b[39;49m\u001b[43m_update_ticks\u001b[49m\u001b[43m(\u001b[49m\u001b[43m)\u001b[49m\n\u001b[0;32m   1305\u001b[0m tlb1, tlb2 \u001b[38;5;241m=\u001b[39m \u001b[38;5;28mself\u001b[39m\u001b[38;5;241m.\u001b[39m_get_ticklabel_bboxes(ticks_to_draw, renderer)\n\u001b[0;32m   1307\u001b[0m \u001b[38;5;28;01mfor\u001b[39;00m tick \u001b[38;5;129;01min\u001b[39;00m ticks_to_draw:\n",
      "File \u001b[1;32mC:\\WINDOWS\\System32\\erty\\lib\\site-packages\\matplotlib\\axis.py:1190\u001b[0m, in \u001b[0;36mAxis._update_ticks\u001b[1;34m(self)\u001b[0m\n\u001b[0;32m   1185\u001b[0m \u001b[38;5;28;01mdef\u001b[39;00m \u001b[38;5;21m_update_ticks\u001b[39m(\u001b[38;5;28mself\u001b[39m):\n\u001b[0;32m   1186\u001b[0m     \u001b[38;5;124;03m\"\"\"\u001b[39;00m\n\u001b[0;32m   1187\u001b[0m \u001b[38;5;124;03m    Update ticks (position and labels) using the current data interval of\u001b[39;00m\n\u001b[0;32m   1188\u001b[0m \u001b[38;5;124;03m    the axes.  Return the list of ticks that will be drawn.\u001b[39;00m\n\u001b[0;32m   1189\u001b[0m \u001b[38;5;124;03m    \"\"\"\u001b[39;00m\n\u001b[1;32m-> 1190\u001b[0m     major_locs \u001b[38;5;241m=\u001b[39m \u001b[38;5;28;43mself\u001b[39;49m\u001b[38;5;241;43m.\u001b[39;49m\u001b[43mget_majorticklocs\u001b[49m\u001b[43m(\u001b[49m\u001b[43m)\u001b[49m\n\u001b[0;32m   1191\u001b[0m     major_labels \u001b[38;5;241m=\u001b[39m \u001b[38;5;28mself\u001b[39m\u001b[38;5;241m.\u001b[39mmajor\u001b[38;5;241m.\u001b[39mformatter\u001b[38;5;241m.\u001b[39mformat_ticks(major_locs)\n\u001b[0;32m   1192\u001b[0m     major_ticks \u001b[38;5;241m=\u001b[39m \u001b[38;5;28mself\u001b[39m\u001b[38;5;241m.\u001b[39mget_major_ticks(\u001b[38;5;28mlen\u001b[39m(major_locs))\n",
      "File \u001b[1;32mC:\\WINDOWS\\System32\\erty\\lib\\site-packages\\matplotlib\\axis.py:1416\u001b[0m, in \u001b[0;36mAxis.get_majorticklocs\u001b[1;34m(self)\u001b[0m\n\u001b[0;32m   1414\u001b[0m \u001b[38;5;28;01mdef\u001b[39;00m \u001b[38;5;21mget_majorticklocs\u001b[39m(\u001b[38;5;28mself\u001b[39m):\n\u001b[0;32m   1415\u001b[0m     \u001b[38;5;124;03m\"\"\"Return this Axis' major tick locations in data coordinates.\"\"\"\u001b[39;00m\n\u001b[1;32m-> 1416\u001b[0m     \u001b[38;5;28;01mreturn\u001b[39;00m \u001b[38;5;28;43mself\u001b[39;49m\u001b[38;5;241;43m.\u001b[39;49m\u001b[43mmajor\u001b[49m\u001b[38;5;241;43m.\u001b[39;49m\u001b[43mlocator\u001b[49m\u001b[43m(\u001b[49m\u001b[43m)\u001b[49m\n",
      "File \u001b[1;32mC:\\WINDOWS\\System32\\erty\\lib\\site-packages\\matplotlib\\ticker.py:2143\u001b[0m, in \u001b[0;36mMaxNLocator.__call__\u001b[1;34m(self)\u001b[0m\n\u001b[0;32m   2141\u001b[0m \u001b[38;5;28;01mdef\u001b[39;00m \u001b[38;5;21m__call__\u001b[39m(\u001b[38;5;28mself\u001b[39m):\n\u001b[0;32m   2142\u001b[0m     vmin, vmax \u001b[38;5;241m=\u001b[39m \u001b[38;5;28mself\u001b[39m\u001b[38;5;241m.\u001b[39maxis\u001b[38;5;241m.\u001b[39mget_view_interval()\n\u001b[1;32m-> 2143\u001b[0m     \u001b[38;5;28;01mreturn\u001b[39;00m \u001b[38;5;28;43mself\u001b[39;49m\u001b[38;5;241;43m.\u001b[39;49m\u001b[43mtick_values\u001b[49m\u001b[43m(\u001b[49m\u001b[43mvmin\u001b[49m\u001b[43m,\u001b[49m\u001b[43m \u001b[49m\u001b[43mvmax\u001b[49m\u001b[43m)\u001b[49m\n",
      "File \u001b[1;32mC:\\WINDOWS\\System32\\erty\\lib\\site-packages\\matplotlib\\ticker.py:2151\u001b[0m, in \u001b[0;36mMaxNLocator.tick_values\u001b[1;34m(self, vmin, vmax)\u001b[0m\n\u001b[0;32m   2148\u001b[0m     vmin \u001b[38;5;241m=\u001b[39m \u001b[38;5;241m-\u001b[39mvmax\n\u001b[0;32m   2149\u001b[0m vmin, vmax \u001b[38;5;241m=\u001b[39m mtransforms\u001b[38;5;241m.\u001b[39mnonsingular(\n\u001b[0;32m   2150\u001b[0m     vmin, vmax, expander\u001b[38;5;241m=\u001b[39m\u001b[38;5;241m1e-13\u001b[39m, tiny\u001b[38;5;241m=\u001b[39m\u001b[38;5;241m1e-14\u001b[39m)\n\u001b[1;32m-> 2151\u001b[0m locs \u001b[38;5;241m=\u001b[39m \u001b[38;5;28;43mself\u001b[39;49m\u001b[38;5;241;43m.\u001b[39;49m\u001b[43m_raw_ticks\u001b[49m\u001b[43m(\u001b[49m\u001b[43mvmin\u001b[49m\u001b[43m,\u001b[49m\u001b[43m \u001b[49m\u001b[43mvmax\u001b[49m\u001b[43m)\u001b[49m\n\u001b[0;32m   2153\u001b[0m prune \u001b[38;5;241m=\u001b[39m \u001b[38;5;28mself\u001b[39m\u001b[38;5;241m.\u001b[39m_prune\n\u001b[0;32m   2154\u001b[0m \u001b[38;5;28;01mif\u001b[39;00m prune \u001b[38;5;241m==\u001b[39m \u001b[38;5;124m'\u001b[39m\u001b[38;5;124mlower\u001b[39m\u001b[38;5;124m'\u001b[39m:\n",
      "File \u001b[1;32mC:\\WINDOWS\\System32\\erty\\lib\\site-packages\\matplotlib\\ticker.py:2090\u001b[0m, in \u001b[0;36mMaxNLocator._raw_ticks\u001b[1;34m(self, vmin, vmax)\u001b[0m\n\u001b[0;32m   2088\u001b[0m \u001b[38;5;28;01mif\u001b[39;00m \u001b[38;5;28mself\u001b[39m\u001b[38;5;241m.\u001b[39m_nbins \u001b[38;5;241m==\u001b[39m \u001b[38;5;124m'\u001b[39m\u001b[38;5;124mauto\u001b[39m\u001b[38;5;124m'\u001b[39m:\n\u001b[0;32m   2089\u001b[0m     \u001b[38;5;28;01mif\u001b[39;00m \u001b[38;5;28mself\u001b[39m\u001b[38;5;241m.\u001b[39maxis \u001b[38;5;129;01mis\u001b[39;00m \u001b[38;5;129;01mnot\u001b[39;00m \u001b[38;5;28;01mNone\u001b[39;00m:\n\u001b[1;32m-> 2090\u001b[0m         nbins \u001b[38;5;241m=\u001b[39m np\u001b[38;5;241m.\u001b[39mclip(\u001b[38;5;28;43mself\u001b[39;49m\u001b[38;5;241;43m.\u001b[39;49m\u001b[43maxis\u001b[49m\u001b[38;5;241;43m.\u001b[39;49m\u001b[43mget_tick_space\u001b[49m\u001b[43m(\u001b[49m\u001b[43m)\u001b[49m,\n\u001b[0;32m   2091\u001b[0m                         \u001b[38;5;28mmax\u001b[39m(\u001b[38;5;241m1\u001b[39m, \u001b[38;5;28mself\u001b[39m\u001b[38;5;241m.\u001b[39m_min_n_ticks \u001b[38;5;241m-\u001b[39m \u001b[38;5;241m1\u001b[39m), \u001b[38;5;241m9\u001b[39m)\n\u001b[0;32m   2092\u001b[0m     \u001b[38;5;28;01melse\u001b[39;00m:\n\u001b[0;32m   2093\u001b[0m         nbins \u001b[38;5;241m=\u001b[39m \u001b[38;5;241m9\u001b[39m\n",
      "File \u001b[1;32mC:\\WINDOWS\\System32\\erty\\lib\\site-packages\\matplotlib\\axis.py:2430\u001b[0m, in \u001b[0;36mXAxis.get_tick_space\u001b[1;34m(self)\u001b[0m\n\u001b[0;32m   2428\u001b[0m size \u001b[38;5;241m=\u001b[39m \u001b[38;5;28mself\u001b[39m\u001b[38;5;241m.\u001b[39m_get_tick_label_size(\u001b[38;5;124m'\u001b[39m\u001b[38;5;124mx\u001b[39m\u001b[38;5;124m'\u001b[39m) \u001b[38;5;241m*\u001b[39m \u001b[38;5;241m3\u001b[39m\n\u001b[0;32m   2429\u001b[0m \u001b[38;5;28;01mif\u001b[39;00m size \u001b[38;5;241m>\u001b[39m \u001b[38;5;241m0\u001b[39m:\n\u001b[1;32m-> 2430\u001b[0m     \u001b[38;5;28;01mreturn\u001b[39;00m \u001b[38;5;28;43mint\u001b[39;49m\u001b[43m(\u001b[49m\u001b[43mnp\u001b[49m\u001b[38;5;241;43m.\u001b[39;49m\u001b[43mfloor\u001b[49m\u001b[43m(\u001b[49m\u001b[43mlength\u001b[49m\u001b[43m \u001b[49m\u001b[38;5;241;43m/\u001b[39;49m\u001b[43m \u001b[49m\u001b[43msize\u001b[49m\u001b[43m)\u001b[49m\u001b[43m)\u001b[49m\n\u001b[0;32m   2431\u001b[0m \u001b[38;5;28;01melse\u001b[39;00m:\n\u001b[0;32m   2432\u001b[0m     \u001b[38;5;28;01mreturn\u001b[39;00m \u001b[38;5;241m2\u001b[39m\u001b[38;5;241m*\u001b[39m\u001b[38;5;241m*\u001b[39m\u001b[38;5;241m31\u001b[39m \u001b[38;5;241m-\u001b[39m \u001b[38;5;241m1\u001b[39m\n",
      "\u001b[1;31mValueError\u001b[0m: cannot convert float NaN to integer"
     ]
    },
    {
     "ename": "ValueError",
     "evalue": "cannot convert float NaN to integer",
     "output_type": "error",
     "traceback": [
      "\u001b[1;31m---------------------------------------------------------------------------\u001b[0m",
      "\u001b[1;31mValueError\u001b[0m                                Traceback (most recent call last)",
      "File \u001b[1;32mC:\\WINDOWS\\System32\\erty\\lib\\site-packages\\IPython\\core\\formatters.py:339\u001b[0m, in \u001b[0;36mBaseFormatter.__call__\u001b[1;34m(self, obj)\u001b[0m\n\u001b[0;32m    337\u001b[0m     \u001b[38;5;28;01mpass\u001b[39;00m\n\u001b[0;32m    338\u001b[0m \u001b[38;5;28;01melse\u001b[39;00m:\n\u001b[1;32m--> 339\u001b[0m     \u001b[38;5;28;01mreturn\u001b[39;00m \u001b[43mprinter\u001b[49m\u001b[43m(\u001b[49m\u001b[43mobj\u001b[49m\u001b[43m)\u001b[49m\n\u001b[0;32m    340\u001b[0m \u001b[38;5;66;03m# Finally look for special method names\u001b[39;00m\n\u001b[0;32m    341\u001b[0m method \u001b[38;5;241m=\u001b[39m get_real_method(obj, \u001b[38;5;28mself\u001b[39m\u001b[38;5;241m.\u001b[39mprint_method)\n",
      "File \u001b[1;32mC:\\WINDOWS\\System32\\erty\\lib\\site-packages\\IPython\\core\\pylabtools.py:151\u001b[0m, in \u001b[0;36mprint_figure\u001b[1;34m(fig, fmt, bbox_inches, base64, **kwargs)\u001b[0m\n\u001b[0;32m    148\u001b[0m     \u001b[38;5;28;01mfrom\u001b[39;00m \u001b[38;5;21;01mmatplotlib\u001b[39;00m\u001b[38;5;21;01m.\u001b[39;00m\u001b[38;5;21;01mbackend_bases\u001b[39;00m \u001b[38;5;28;01mimport\u001b[39;00m FigureCanvasBase\n\u001b[0;32m    149\u001b[0m     FigureCanvasBase(fig)\n\u001b[1;32m--> 151\u001b[0m fig\u001b[38;5;241m.\u001b[39mcanvas\u001b[38;5;241m.\u001b[39mprint_figure(bytes_io, \u001b[38;5;241m*\u001b[39m\u001b[38;5;241m*\u001b[39mkw)\n\u001b[0;32m    152\u001b[0m data \u001b[38;5;241m=\u001b[39m bytes_io\u001b[38;5;241m.\u001b[39mgetvalue()\n\u001b[0;32m    153\u001b[0m \u001b[38;5;28;01mif\u001b[39;00m fmt \u001b[38;5;241m==\u001b[39m \u001b[38;5;124m'\u001b[39m\u001b[38;5;124msvg\u001b[39m\u001b[38;5;124m'\u001b[39m:\n",
      "File \u001b[1;32mC:\\WINDOWS\\System32\\erty\\lib\\site-packages\\matplotlib\\backend_bases.py:2314\u001b[0m, in \u001b[0;36mFigureCanvasBase.print_figure\u001b[1;34m(self, filename, dpi, facecolor, edgecolor, orientation, format, bbox_inches, pad_inches, bbox_extra_artists, backend, **kwargs)\u001b[0m\n\u001b[0;32m   2308\u001b[0m     renderer \u001b[38;5;241m=\u001b[39m _get_renderer(\n\u001b[0;32m   2309\u001b[0m         \u001b[38;5;28mself\u001b[39m\u001b[38;5;241m.\u001b[39mfigure,\n\u001b[0;32m   2310\u001b[0m         functools\u001b[38;5;241m.\u001b[39mpartial(\n\u001b[0;32m   2311\u001b[0m             print_method, orientation\u001b[38;5;241m=\u001b[39morientation)\n\u001b[0;32m   2312\u001b[0m     )\n\u001b[0;32m   2313\u001b[0m     \u001b[38;5;28;01mwith\u001b[39;00m \u001b[38;5;28mgetattr\u001b[39m(renderer, \u001b[38;5;124m\"\u001b[39m\u001b[38;5;124m_draw_disabled\u001b[39m\u001b[38;5;124m\"\u001b[39m, nullcontext)():\n\u001b[1;32m-> 2314\u001b[0m         \u001b[38;5;28;43mself\u001b[39;49m\u001b[38;5;241;43m.\u001b[39;49m\u001b[43mfigure\u001b[49m\u001b[38;5;241;43m.\u001b[39;49m\u001b[43mdraw\u001b[49m\u001b[43m(\u001b[49m\u001b[43mrenderer\u001b[49m\u001b[43m)\u001b[49m\n\u001b[0;32m   2316\u001b[0m \u001b[38;5;28;01mif\u001b[39;00m bbox_inches:\n\u001b[0;32m   2317\u001b[0m     \u001b[38;5;28;01mif\u001b[39;00m bbox_inches \u001b[38;5;241m==\u001b[39m \u001b[38;5;124m\"\u001b[39m\u001b[38;5;124mtight\u001b[39m\u001b[38;5;124m\"\u001b[39m:\n",
      "File \u001b[1;32mC:\\WINDOWS\\System32\\erty\\lib\\site-packages\\matplotlib\\artist.py:74\u001b[0m, in \u001b[0;36m_finalize_rasterization.<locals>.draw_wrapper\u001b[1;34m(artist, renderer, *args, **kwargs)\u001b[0m\n\u001b[0;32m     72\u001b[0m \u001b[38;5;129m@wraps\u001b[39m(draw)\n\u001b[0;32m     73\u001b[0m \u001b[38;5;28;01mdef\u001b[39;00m \u001b[38;5;21mdraw_wrapper\u001b[39m(artist, renderer, \u001b[38;5;241m*\u001b[39margs, \u001b[38;5;241m*\u001b[39m\u001b[38;5;241m*\u001b[39mkwargs):\n\u001b[1;32m---> 74\u001b[0m     result \u001b[38;5;241m=\u001b[39m draw(artist, renderer, \u001b[38;5;241m*\u001b[39margs, \u001b[38;5;241m*\u001b[39m\u001b[38;5;241m*\u001b[39mkwargs)\n\u001b[0;32m     75\u001b[0m     \u001b[38;5;28;01mif\u001b[39;00m renderer\u001b[38;5;241m.\u001b[39m_rasterizing:\n\u001b[0;32m     76\u001b[0m         renderer\u001b[38;5;241m.\u001b[39mstop_rasterizing()\n",
      "File \u001b[1;32mC:\\WINDOWS\\System32\\erty\\lib\\site-packages\\matplotlib\\artist.py:51\u001b[0m, in \u001b[0;36mallow_rasterization.<locals>.draw_wrapper\u001b[1;34m(artist, renderer)\u001b[0m\n\u001b[0;32m     48\u001b[0m     \u001b[38;5;28;01mif\u001b[39;00m artist\u001b[38;5;241m.\u001b[39mget_agg_filter() \u001b[38;5;129;01mis\u001b[39;00m \u001b[38;5;129;01mnot\u001b[39;00m \u001b[38;5;28;01mNone\u001b[39;00m:\n\u001b[0;32m     49\u001b[0m         renderer\u001b[38;5;241m.\u001b[39mstart_filter()\n\u001b[1;32m---> 51\u001b[0m     \u001b[38;5;28;01mreturn\u001b[39;00m \u001b[43mdraw\u001b[49m\u001b[43m(\u001b[49m\u001b[43martist\u001b[49m\u001b[43m,\u001b[49m\u001b[43m \u001b[49m\u001b[43mrenderer\u001b[49m\u001b[43m)\u001b[49m\n\u001b[0;32m     52\u001b[0m \u001b[38;5;28;01mfinally\u001b[39;00m:\n\u001b[0;32m     53\u001b[0m     \u001b[38;5;28;01mif\u001b[39;00m artist\u001b[38;5;241m.\u001b[39mget_agg_filter() \u001b[38;5;129;01mis\u001b[39;00m \u001b[38;5;129;01mnot\u001b[39;00m \u001b[38;5;28;01mNone\u001b[39;00m:\n",
      "File \u001b[1;32mC:\\WINDOWS\\System32\\erty\\lib\\site-packages\\matplotlib\\figure.py:3069\u001b[0m, in \u001b[0;36mFigure.draw\u001b[1;34m(self, renderer)\u001b[0m\n\u001b[0;32m   3066\u001b[0m         \u001b[38;5;66;03m# ValueError can occur when resizing a window.\u001b[39;00m\n\u001b[0;32m   3068\u001b[0m \u001b[38;5;28mself\u001b[39m\u001b[38;5;241m.\u001b[39mpatch\u001b[38;5;241m.\u001b[39mdraw(renderer)\n\u001b[1;32m-> 3069\u001b[0m \u001b[43mmimage\u001b[49m\u001b[38;5;241;43m.\u001b[39;49m\u001b[43m_draw_list_compositing_images\u001b[49m\u001b[43m(\u001b[49m\n\u001b[0;32m   3070\u001b[0m \u001b[43m    \u001b[49m\u001b[43mrenderer\u001b[49m\u001b[43m,\u001b[49m\u001b[43m \u001b[49m\u001b[38;5;28;43mself\u001b[39;49m\u001b[43m,\u001b[49m\u001b[43m \u001b[49m\u001b[43martists\u001b[49m\u001b[43m,\u001b[49m\u001b[43m \u001b[49m\u001b[38;5;28;43mself\u001b[39;49m\u001b[38;5;241;43m.\u001b[39;49m\u001b[43msuppressComposite\u001b[49m\u001b[43m)\u001b[49m\n\u001b[0;32m   3072\u001b[0m \u001b[38;5;28;01mfor\u001b[39;00m sfig \u001b[38;5;129;01min\u001b[39;00m \u001b[38;5;28mself\u001b[39m\u001b[38;5;241m.\u001b[39msubfigs:\n\u001b[0;32m   3073\u001b[0m     sfig\u001b[38;5;241m.\u001b[39mdraw(renderer)\n",
      "File \u001b[1;32mC:\\WINDOWS\\System32\\erty\\lib\\site-packages\\matplotlib\\image.py:131\u001b[0m, in \u001b[0;36m_draw_list_compositing_images\u001b[1;34m(renderer, parent, artists, suppress_composite)\u001b[0m\n\u001b[0;32m    129\u001b[0m \u001b[38;5;28;01mif\u001b[39;00m not_composite \u001b[38;5;129;01mor\u001b[39;00m \u001b[38;5;129;01mnot\u001b[39;00m has_images:\n\u001b[0;32m    130\u001b[0m     \u001b[38;5;28;01mfor\u001b[39;00m a \u001b[38;5;129;01min\u001b[39;00m artists:\n\u001b[1;32m--> 131\u001b[0m         \u001b[43ma\u001b[49m\u001b[38;5;241;43m.\u001b[39;49m\u001b[43mdraw\u001b[49m\u001b[43m(\u001b[49m\u001b[43mrenderer\u001b[49m\u001b[43m)\u001b[49m\n\u001b[0;32m    132\u001b[0m \u001b[38;5;28;01melse\u001b[39;00m:\n\u001b[0;32m    133\u001b[0m     \u001b[38;5;66;03m# Composite any adjacent images together\u001b[39;00m\n\u001b[0;32m    134\u001b[0m     image_group \u001b[38;5;241m=\u001b[39m []\n",
      "File \u001b[1;32mC:\\WINDOWS\\System32\\erty\\lib\\site-packages\\matplotlib\\artist.py:51\u001b[0m, in \u001b[0;36mallow_rasterization.<locals>.draw_wrapper\u001b[1;34m(artist, renderer)\u001b[0m\n\u001b[0;32m     48\u001b[0m     \u001b[38;5;28;01mif\u001b[39;00m artist\u001b[38;5;241m.\u001b[39mget_agg_filter() \u001b[38;5;129;01mis\u001b[39;00m \u001b[38;5;129;01mnot\u001b[39;00m \u001b[38;5;28;01mNone\u001b[39;00m:\n\u001b[0;32m     49\u001b[0m         renderer\u001b[38;5;241m.\u001b[39mstart_filter()\n\u001b[1;32m---> 51\u001b[0m     \u001b[38;5;28;01mreturn\u001b[39;00m \u001b[43mdraw\u001b[49m\u001b[43m(\u001b[49m\u001b[43martist\u001b[49m\u001b[43m,\u001b[49m\u001b[43m \u001b[49m\u001b[43mrenderer\u001b[49m\u001b[43m)\u001b[49m\n\u001b[0;32m     52\u001b[0m \u001b[38;5;28;01mfinally\u001b[39;00m:\n\u001b[0;32m     53\u001b[0m     \u001b[38;5;28;01mif\u001b[39;00m artist\u001b[38;5;241m.\u001b[39mget_agg_filter() \u001b[38;5;129;01mis\u001b[39;00m \u001b[38;5;129;01mnot\u001b[39;00m \u001b[38;5;28;01mNone\u001b[39;00m:\n",
      "File \u001b[1;32mC:\\WINDOWS\\System32\\erty\\lib\\site-packages\\matplotlib\\axes\\_base.py:3106\u001b[0m, in \u001b[0;36m_AxesBase.draw\u001b[1;34m(self, renderer)\u001b[0m\n\u001b[0;32m   3103\u001b[0m         a\u001b[38;5;241m.\u001b[39mdraw(renderer)\n\u001b[0;32m   3104\u001b[0m     renderer\u001b[38;5;241m.\u001b[39mstop_rasterizing()\n\u001b[1;32m-> 3106\u001b[0m \u001b[43mmimage\u001b[49m\u001b[38;5;241;43m.\u001b[39;49m\u001b[43m_draw_list_compositing_images\u001b[49m\u001b[43m(\u001b[49m\n\u001b[0;32m   3107\u001b[0m \u001b[43m    \u001b[49m\u001b[43mrenderer\u001b[49m\u001b[43m,\u001b[49m\u001b[43m \u001b[49m\u001b[38;5;28;43mself\u001b[39;49m\u001b[43m,\u001b[49m\u001b[43m \u001b[49m\u001b[43martists\u001b[49m\u001b[43m,\u001b[49m\u001b[43m \u001b[49m\u001b[38;5;28;43mself\u001b[39;49m\u001b[38;5;241;43m.\u001b[39;49m\u001b[43mfigure\u001b[49m\u001b[38;5;241;43m.\u001b[39;49m\u001b[43msuppressComposite\u001b[49m\u001b[43m)\u001b[49m\n\u001b[0;32m   3109\u001b[0m renderer\u001b[38;5;241m.\u001b[39mclose_group(\u001b[38;5;124m'\u001b[39m\u001b[38;5;124maxes\u001b[39m\u001b[38;5;124m'\u001b[39m)\n\u001b[0;32m   3110\u001b[0m \u001b[38;5;28mself\u001b[39m\u001b[38;5;241m.\u001b[39mstale \u001b[38;5;241m=\u001b[39m \u001b[38;5;28;01mFalse\u001b[39;00m\n",
      "File \u001b[1;32mC:\\WINDOWS\\System32\\erty\\lib\\site-packages\\matplotlib\\image.py:131\u001b[0m, in \u001b[0;36m_draw_list_compositing_images\u001b[1;34m(renderer, parent, artists, suppress_composite)\u001b[0m\n\u001b[0;32m    129\u001b[0m \u001b[38;5;28;01mif\u001b[39;00m not_composite \u001b[38;5;129;01mor\u001b[39;00m \u001b[38;5;129;01mnot\u001b[39;00m has_images:\n\u001b[0;32m    130\u001b[0m     \u001b[38;5;28;01mfor\u001b[39;00m a \u001b[38;5;129;01min\u001b[39;00m artists:\n\u001b[1;32m--> 131\u001b[0m         \u001b[43ma\u001b[49m\u001b[38;5;241;43m.\u001b[39;49m\u001b[43mdraw\u001b[49m\u001b[43m(\u001b[49m\u001b[43mrenderer\u001b[49m\u001b[43m)\u001b[49m\n\u001b[0;32m    132\u001b[0m \u001b[38;5;28;01melse\u001b[39;00m:\n\u001b[0;32m    133\u001b[0m     \u001b[38;5;66;03m# Composite any adjacent images together\u001b[39;00m\n\u001b[0;32m    134\u001b[0m     image_group \u001b[38;5;241m=\u001b[39m []\n",
      "File \u001b[1;32mC:\\WINDOWS\\System32\\erty\\lib\\site-packages\\matplotlib\\artist.py:51\u001b[0m, in \u001b[0;36mallow_rasterization.<locals>.draw_wrapper\u001b[1;34m(artist, renderer)\u001b[0m\n\u001b[0;32m     48\u001b[0m     \u001b[38;5;28;01mif\u001b[39;00m artist\u001b[38;5;241m.\u001b[39mget_agg_filter() \u001b[38;5;129;01mis\u001b[39;00m \u001b[38;5;129;01mnot\u001b[39;00m \u001b[38;5;28;01mNone\u001b[39;00m:\n\u001b[0;32m     49\u001b[0m         renderer\u001b[38;5;241m.\u001b[39mstart_filter()\n\u001b[1;32m---> 51\u001b[0m     \u001b[38;5;28;01mreturn\u001b[39;00m \u001b[43mdraw\u001b[49m\u001b[43m(\u001b[49m\u001b[43martist\u001b[49m\u001b[43m,\u001b[49m\u001b[43m \u001b[49m\u001b[43mrenderer\u001b[49m\u001b[43m)\u001b[49m\n\u001b[0;32m     52\u001b[0m \u001b[38;5;28;01mfinally\u001b[39;00m:\n\u001b[0;32m     53\u001b[0m     \u001b[38;5;28;01mif\u001b[39;00m artist\u001b[38;5;241m.\u001b[39mget_agg_filter() \u001b[38;5;129;01mis\u001b[39;00m \u001b[38;5;129;01mnot\u001b[39;00m \u001b[38;5;28;01mNone\u001b[39;00m:\n",
      "File \u001b[1;32mC:\\WINDOWS\\System32\\erty\\lib\\site-packages\\matplotlib\\axis.py:1304\u001b[0m, in \u001b[0;36mAxis.draw\u001b[1;34m(self, renderer, *args, **kwargs)\u001b[0m\n\u001b[0;32m   1301\u001b[0m     \u001b[38;5;28;01mreturn\u001b[39;00m\n\u001b[0;32m   1302\u001b[0m renderer\u001b[38;5;241m.\u001b[39mopen_group(\u001b[38;5;18m__name__\u001b[39m, gid\u001b[38;5;241m=\u001b[39m\u001b[38;5;28mself\u001b[39m\u001b[38;5;241m.\u001b[39mget_gid())\n\u001b[1;32m-> 1304\u001b[0m ticks_to_draw \u001b[38;5;241m=\u001b[39m \u001b[38;5;28;43mself\u001b[39;49m\u001b[38;5;241;43m.\u001b[39;49m\u001b[43m_update_ticks\u001b[49m\u001b[43m(\u001b[49m\u001b[43m)\u001b[49m\n\u001b[0;32m   1305\u001b[0m tlb1, tlb2 \u001b[38;5;241m=\u001b[39m \u001b[38;5;28mself\u001b[39m\u001b[38;5;241m.\u001b[39m_get_ticklabel_bboxes(ticks_to_draw, renderer)\n\u001b[0;32m   1307\u001b[0m \u001b[38;5;28;01mfor\u001b[39;00m tick \u001b[38;5;129;01min\u001b[39;00m ticks_to_draw:\n",
      "File \u001b[1;32mC:\\WINDOWS\\System32\\erty\\lib\\site-packages\\matplotlib\\axis.py:1190\u001b[0m, in \u001b[0;36mAxis._update_ticks\u001b[1;34m(self)\u001b[0m\n\u001b[0;32m   1185\u001b[0m \u001b[38;5;28;01mdef\u001b[39;00m \u001b[38;5;21m_update_ticks\u001b[39m(\u001b[38;5;28mself\u001b[39m):\n\u001b[0;32m   1186\u001b[0m     \u001b[38;5;124;03m\"\"\"\u001b[39;00m\n\u001b[0;32m   1187\u001b[0m \u001b[38;5;124;03m    Update ticks (position and labels) using the current data interval of\u001b[39;00m\n\u001b[0;32m   1188\u001b[0m \u001b[38;5;124;03m    the axes.  Return the list of ticks that will be drawn.\u001b[39;00m\n\u001b[0;32m   1189\u001b[0m \u001b[38;5;124;03m    \"\"\"\u001b[39;00m\n\u001b[1;32m-> 1190\u001b[0m     major_locs \u001b[38;5;241m=\u001b[39m \u001b[38;5;28;43mself\u001b[39;49m\u001b[38;5;241;43m.\u001b[39;49m\u001b[43mget_majorticklocs\u001b[49m\u001b[43m(\u001b[49m\u001b[43m)\u001b[49m\n\u001b[0;32m   1191\u001b[0m     major_labels \u001b[38;5;241m=\u001b[39m \u001b[38;5;28mself\u001b[39m\u001b[38;5;241m.\u001b[39mmajor\u001b[38;5;241m.\u001b[39mformatter\u001b[38;5;241m.\u001b[39mformat_ticks(major_locs)\n\u001b[0;32m   1192\u001b[0m     major_ticks \u001b[38;5;241m=\u001b[39m \u001b[38;5;28mself\u001b[39m\u001b[38;5;241m.\u001b[39mget_major_ticks(\u001b[38;5;28mlen\u001b[39m(major_locs))\n",
      "File \u001b[1;32mC:\\WINDOWS\\System32\\erty\\lib\\site-packages\\matplotlib\\axis.py:1416\u001b[0m, in \u001b[0;36mAxis.get_majorticklocs\u001b[1;34m(self)\u001b[0m\n\u001b[0;32m   1414\u001b[0m \u001b[38;5;28;01mdef\u001b[39;00m \u001b[38;5;21mget_majorticklocs\u001b[39m(\u001b[38;5;28mself\u001b[39m):\n\u001b[0;32m   1415\u001b[0m     \u001b[38;5;124;03m\"\"\"Return this Axis' major tick locations in data coordinates.\"\"\"\u001b[39;00m\n\u001b[1;32m-> 1416\u001b[0m     \u001b[38;5;28;01mreturn\u001b[39;00m \u001b[38;5;28;43mself\u001b[39;49m\u001b[38;5;241;43m.\u001b[39;49m\u001b[43mmajor\u001b[49m\u001b[38;5;241;43m.\u001b[39;49m\u001b[43mlocator\u001b[49m\u001b[43m(\u001b[49m\u001b[43m)\u001b[49m\n",
      "File \u001b[1;32mC:\\WINDOWS\\System32\\erty\\lib\\site-packages\\matplotlib\\ticker.py:2143\u001b[0m, in \u001b[0;36mMaxNLocator.__call__\u001b[1;34m(self)\u001b[0m\n\u001b[0;32m   2141\u001b[0m \u001b[38;5;28;01mdef\u001b[39;00m \u001b[38;5;21m__call__\u001b[39m(\u001b[38;5;28mself\u001b[39m):\n\u001b[0;32m   2142\u001b[0m     vmin, vmax \u001b[38;5;241m=\u001b[39m \u001b[38;5;28mself\u001b[39m\u001b[38;5;241m.\u001b[39maxis\u001b[38;5;241m.\u001b[39mget_view_interval()\n\u001b[1;32m-> 2143\u001b[0m     \u001b[38;5;28;01mreturn\u001b[39;00m \u001b[38;5;28;43mself\u001b[39;49m\u001b[38;5;241;43m.\u001b[39;49m\u001b[43mtick_values\u001b[49m\u001b[43m(\u001b[49m\u001b[43mvmin\u001b[49m\u001b[43m,\u001b[49m\u001b[43m \u001b[49m\u001b[43mvmax\u001b[49m\u001b[43m)\u001b[49m\n",
      "File \u001b[1;32mC:\\WINDOWS\\System32\\erty\\lib\\site-packages\\matplotlib\\ticker.py:2151\u001b[0m, in \u001b[0;36mMaxNLocator.tick_values\u001b[1;34m(self, vmin, vmax)\u001b[0m\n\u001b[0;32m   2148\u001b[0m     vmin \u001b[38;5;241m=\u001b[39m \u001b[38;5;241m-\u001b[39mvmax\n\u001b[0;32m   2149\u001b[0m vmin, vmax \u001b[38;5;241m=\u001b[39m mtransforms\u001b[38;5;241m.\u001b[39mnonsingular(\n\u001b[0;32m   2150\u001b[0m     vmin, vmax, expander\u001b[38;5;241m=\u001b[39m\u001b[38;5;241m1e-13\u001b[39m, tiny\u001b[38;5;241m=\u001b[39m\u001b[38;5;241m1e-14\u001b[39m)\n\u001b[1;32m-> 2151\u001b[0m locs \u001b[38;5;241m=\u001b[39m \u001b[38;5;28;43mself\u001b[39;49m\u001b[38;5;241;43m.\u001b[39;49m\u001b[43m_raw_ticks\u001b[49m\u001b[43m(\u001b[49m\u001b[43mvmin\u001b[49m\u001b[43m,\u001b[49m\u001b[43m \u001b[49m\u001b[43mvmax\u001b[49m\u001b[43m)\u001b[49m\n\u001b[0;32m   2153\u001b[0m prune \u001b[38;5;241m=\u001b[39m \u001b[38;5;28mself\u001b[39m\u001b[38;5;241m.\u001b[39m_prune\n\u001b[0;32m   2154\u001b[0m \u001b[38;5;28;01mif\u001b[39;00m prune \u001b[38;5;241m==\u001b[39m \u001b[38;5;124m'\u001b[39m\u001b[38;5;124mlower\u001b[39m\u001b[38;5;124m'\u001b[39m:\n",
      "File \u001b[1;32mC:\\WINDOWS\\System32\\erty\\lib\\site-packages\\matplotlib\\ticker.py:2090\u001b[0m, in \u001b[0;36mMaxNLocator._raw_ticks\u001b[1;34m(self, vmin, vmax)\u001b[0m\n\u001b[0;32m   2088\u001b[0m \u001b[38;5;28;01mif\u001b[39;00m \u001b[38;5;28mself\u001b[39m\u001b[38;5;241m.\u001b[39m_nbins \u001b[38;5;241m==\u001b[39m \u001b[38;5;124m'\u001b[39m\u001b[38;5;124mauto\u001b[39m\u001b[38;5;124m'\u001b[39m:\n\u001b[0;32m   2089\u001b[0m     \u001b[38;5;28;01mif\u001b[39;00m \u001b[38;5;28mself\u001b[39m\u001b[38;5;241m.\u001b[39maxis \u001b[38;5;129;01mis\u001b[39;00m \u001b[38;5;129;01mnot\u001b[39;00m \u001b[38;5;28;01mNone\u001b[39;00m:\n\u001b[1;32m-> 2090\u001b[0m         nbins \u001b[38;5;241m=\u001b[39m np\u001b[38;5;241m.\u001b[39mclip(\u001b[38;5;28;43mself\u001b[39;49m\u001b[38;5;241;43m.\u001b[39;49m\u001b[43maxis\u001b[49m\u001b[38;5;241;43m.\u001b[39;49m\u001b[43mget_tick_space\u001b[49m\u001b[43m(\u001b[49m\u001b[43m)\u001b[49m,\n\u001b[0;32m   2091\u001b[0m                         \u001b[38;5;28mmax\u001b[39m(\u001b[38;5;241m1\u001b[39m, \u001b[38;5;28mself\u001b[39m\u001b[38;5;241m.\u001b[39m_min_n_ticks \u001b[38;5;241m-\u001b[39m \u001b[38;5;241m1\u001b[39m), \u001b[38;5;241m9\u001b[39m)\n\u001b[0;32m   2092\u001b[0m     \u001b[38;5;28;01melse\u001b[39;00m:\n\u001b[0;32m   2093\u001b[0m         nbins \u001b[38;5;241m=\u001b[39m \u001b[38;5;241m9\u001b[39m\n",
      "File \u001b[1;32mC:\\WINDOWS\\System32\\erty\\lib\\site-packages\\matplotlib\\axis.py:2430\u001b[0m, in \u001b[0;36mXAxis.get_tick_space\u001b[1;34m(self)\u001b[0m\n\u001b[0;32m   2428\u001b[0m size \u001b[38;5;241m=\u001b[39m \u001b[38;5;28mself\u001b[39m\u001b[38;5;241m.\u001b[39m_get_tick_label_size(\u001b[38;5;124m'\u001b[39m\u001b[38;5;124mx\u001b[39m\u001b[38;5;124m'\u001b[39m) \u001b[38;5;241m*\u001b[39m \u001b[38;5;241m3\u001b[39m\n\u001b[0;32m   2429\u001b[0m \u001b[38;5;28;01mif\u001b[39;00m size \u001b[38;5;241m>\u001b[39m \u001b[38;5;241m0\u001b[39m:\n\u001b[1;32m-> 2430\u001b[0m     \u001b[38;5;28;01mreturn\u001b[39;00m \u001b[38;5;28;43mint\u001b[39;49m\u001b[43m(\u001b[49m\u001b[43mnp\u001b[49m\u001b[38;5;241;43m.\u001b[39;49m\u001b[43mfloor\u001b[49m\u001b[43m(\u001b[49m\u001b[43mlength\u001b[49m\u001b[43m \u001b[49m\u001b[38;5;241;43m/\u001b[39;49m\u001b[43m \u001b[49m\u001b[43msize\u001b[49m\u001b[43m)\u001b[49m\u001b[43m)\u001b[49m\n\u001b[0;32m   2431\u001b[0m \u001b[38;5;28;01melse\u001b[39;00m:\n\u001b[0;32m   2432\u001b[0m     \u001b[38;5;28;01mreturn\u001b[39;00m \u001b[38;5;241m2\u001b[39m\u001b[38;5;241m*\u001b[39m\u001b[38;5;241m*\u001b[39m\u001b[38;5;241m31\u001b[39m \u001b[38;5;241m-\u001b[39m \u001b[38;5;241m1\u001b[39m\n",
      "\u001b[1;31mValueError\u001b[0m: cannot convert float NaN to integer"
     ]
    },
    {
     "data": {
      "text/plain": [
       "<Figure size 640x480 with 1 Axes>"
      ]
     },
     "metadata": {},
     "output_type": "display_data"
    }
   ],
   "source": [
    "world = gpd.read_file(gpd.datasets.get_path('naturalearth_lowres'))\n",
    "\n",
    "# We restrict to South Africa.\n",
    "ax = world[world.continent == 'South Africa'].plot(\n",
    "    color='white', edgecolor='black')\n",
    "\n",
    "# plot ``GeoDataFrame``.\n",
    "gdf.plot(ax=ax, color='red')\n",
    "plt.show()"
   ]
  },
  {
   "cell_type": "markdown",
   "id": "aacae64d-6ec5-4875-91eb-3d1a9943a441",
   "metadata": {},
   "source": [
    "## Decision tree"
   ]
  },
  {
   "cell_type": "code",
   "execution_count": 22,
   "id": "f2453cca-3952-45c6-a2f9-70937f46f170",
   "metadata": {
    "tags": []
   },
   "outputs": [],
   "source": [
    "infile = f'{country}_POC_{date}.feather'\n",
    "df = pd.read_feather(infile).dropna().reset_index(drop=True)"
   ]
  },
  {
   "cell_type": "code",
   "execution_count": 23,
   "id": "5f0c762e-ecc3-4011-9114-ecbed2edf8fc",
   "metadata": {},
   "outputs": [
    {
     "name": "stdout",
     "output_type": "stream",
     "text": [
      "1    569599\n",
      "0    564693\n",
      "2     89293\n",
      "3      1581\n",
      "Name: precipDiscrete, dtype: int64\n"
     ]
    }
   ],
   "source": [
    "# Add small value to zero precip\n",
    "finaldf.loc[finaldf.mean_precip==0, 'mean_precip'] = 0.1\n",
    "# Round of to the nearest 400\n",
    "max_round = math.ceil(max(finaldf['mean_precip']) / 400) * 400\n",
    "cut_bins = list(range(0, max_round+1, 400))\n",
    "# discretize precipitation into categories \n",
    "cut_labels = [str(item) for item in range(0, len(cut_bins)-1)]\n",
    "finaldf[\"precipDiscrete\"] = pd.cut(x = finaldf[\"mean_precip\"].astype(float), bins= cut_bins, labels = cut_labels)\n",
    "print(finaldf.precipDiscrete.value_counts())\n",
    "\n",
    "# Identify the max nutrient area\n",
    "finaldf['maxNutr'] = finaldf[['areakm2_slowNutrArea2','areakm2_sMedNutriArea2', 'areakm2_sHighNutriArea2']].idxmax(axis=1)\n",
    "\n",
    "# Get unique category based on precip bucket and max nutrient category\n",
    "finaldf['combination_LS_intensity'] = finaldf[['precipDiscrete','maxNutr']].agg(tuple, axis=1)\n",
    "finaldf['lsIntensityCat'] = finaldf['combination_LS_intensity'].factorize()[0]"
   ]
  },
  {
   "cell_type": "code",
   "execution_count": 24,
   "id": "df76966a-bfba-4654-a5b5-843f3b00a8d0",
   "metadata": {},
   "outputs": [
    {
     "name": "stdout",
     "output_type": "stream",
     "text": [
      "Livestock Intensity categories (based on unique combinations of discretised precipitation and max nutrient category): [0, 1, 2, 3, 4, 5, 6, 7, 8, 9, 10]\n"
     ]
    },
    {
     "data": {
      "application/vnd.jupyter.widget-view+json": {
       "model_id": "c6831ead3398433aa1dc741e6cc24afb",
       "version_major": 2,
       "version_minor": 0
      },
      "text/plain": [
       "  0%|          | 0/11 [00:00<?, ?it/s]"
      ]
     },
     "metadata": {},
     "output_type": "display_data"
    },
    {
     "name": "stdout",
     "output_type": "stream",
     "text": [
      "The 99th percentile of sum density is: 102.65250155634293\n",
      "The 99th percentile of sum density is: 102.65250155634293\n",
      "The 99th percentile of sum density is: 102.65250155634293\n",
      "The 99th percentile of sum density is: 102.65250155634293\n",
      "The 99th percentile of sum density is: 102.65250155634293\n",
      "The 99th percentile of sum density is: 102.65250155634293\n",
      "The 99th percentile of sum density is: 102.65250155634293\n",
      "The 99th percentile of sum density is: 102.65250155634293\n",
      "The 99th percentile of sum density is: 102.65250155634293\n",
      "The 99th percentile of sum density is: 102.65250155634293\n",
      "The 99th percentile of sum density is: 102.65250155634293\n"
     ]
    }
   ],
   "source": [
    "# Get unique combinations of precipitation and maxNutrient categories\n",
    "combinations = list(set(finaldf['lsIntensityCat']))\n",
    "print(\"Livestock Intensity categories (based on unique combinations of discretised precipitation and max nutrient category):\",combinations)\n",
    "\n",
    "# Compute the sum of sheep, goat and cattle density\n",
    "finaldf['lsSum'] = finaldf[['sheepDensity', 'goatDensity', 'cattleDensity']].sum(axis=1)\n",
    "\n",
    "# Scale data\n",
    "finaldf['scaled_livestockIntensity']= 0\n",
    "for combination in tqdm(combinations):\n",
    "    qq99 = finaldf['lsSum'].quantile(0.99)\n",
    "    print(f'The 99th percentile of sum density is: {qq99}')\n",
    "    # apply min max scaling to all data less than 99th quantile per unique combination.\n",
    "    scaler = MinMaxScaler()\n",
    "    finaldf.loc[(finaldf['lsIntensityCat'] == combination)&(finaldf['lsSum']<=qq99), 'scaled_livestockIntensity']\\\n",
    "    = scaler.fit_transform(pd.DataFrame(finaldf.loc[(finaldf['lsIntensityCat'] == combination)&(finaldf['lsSum']<=qq99)\\\n",
    "                                                    , 'scaled_livestockIntensity']))\n",
    "    # for data greater than 99th percentile per category, equal to max value 1\n",
    "    finaldf.loc[(finaldf['lsIntensityCat'] == combination)&(finaldf['lsSum']>qq99), 'scaled_livestockIntensity'] = 1"
   ]
  },
  {
   "cell_type": "code",
   "execution_count": 25,
   "id": "68b2586f-5588-41e8-bfb8-9b1e8ffcc73e",
   "metadata": {
    "tags": []
   },
   "outputs": [
    {
     "name": "stdout",
     "output_type": "stream",
     "text": [
      "Nfer_kgha: 21.672\n",
      "popDensity: 894.8745574951172\n"
     ]
    }
   ],
   "source": [
    "# Scale variables\n",
    "colnames = ['Nfer_kgha', 'popDensity']\n",
    "\n",
    "for col in colnames:\n",
    "    # create scaled variable\n",
    "    finaldf['scaled_'+col] = finaldf[col]\n",
    "    # get 99th percentile\n",
    "    qq99 = finaldf[col].quantile(0.99)\n",
    "    print(col + ':', qq99)\n",
    "    # apply min max scaling to all data less than 99th quantile.\n",
    "    scaler = MinMaxScaler()\n",
    "    finaldf.loc[finaldf[col]<=qq99, 'scaled_'+ col] = scaler.fit_transform(pd.DataFrame(finaldf.loc[finaldf[col]<=qq99, col]))\n",
    "    # for data greater than 99th percentile, equal to max value 1\n",
    "    finaldf.loc[finaldf[col]>qq99, 'scaled_' + col] = 1"
   ]
  },
  {
   "cell_type": "code",
   "execution_count": 26,
   "id": "d4bcc049-6f1b-4b60-99c3-a296ea12744d",
   "metadata": {},
   "outputs": [
    {
     "name": "stdout",
     "output_type": "stream",
     "text": [
      "The number of cells per landcover category\n"
     ]
    },
    {
     "data": {
      "text/plain": [
       "6    1082684\n",
       "4      74893\n",
       "5      32481\n",
       "1      16871\n",
       "2      15238\n",
       "3       2999\n",
       "Name: Land_Use, dtype: int64"
      ]
     },
     "execution_count": 26,
     "metadata": {},
     "output_type": "execute_result"
    }
   ],
   "source": [
    "#1= Urban\n",
    "#2= Timber plantations\n",
    "#3= Tree Croplands\n",
    "#4= CropLands\n",
    "#5= Protected areas\n",
    "#6= Rangelands/Near-natural lands\n",
    "\n",
    "def ExpertDT(df):\n",
    "\n",
    "    #6= Rangelands/Near-natural lands\n",
    "    df['Land_Use'] = 6\n",
    "\n",
    "    #5= Protected areas\n",
    "    df.loc[df['areakm2_protArea']>0.2, 'Land_Use'] = 5\n",
    "\n",
    "    #4= CropLands\n",
    "    df.loc[df['areakm2_cropCover']>0.2, 'Land_Use'] = 4\n",
    "\n",
    "    #3= Tree Croplands\n",
    "    df.loc[df['areakm2_treeCrop']>0.2, 'Land_Use'] = 3\n",
    "\n",
    "    #2= Timber plantations\n",
    "    df.loc[df['areakm2_plantation']>0.2, 'Land_Use'] = 2\n",
    "\n",
    "    #1= Urban\n",
    "    df.loc[(df['areakm2_urban']>0.2)|\n",
    "           (df['popDensity']>1000) , 'Land_Use'] = 1\n",
    "    return df\n",
    "    \n",
    "result = ExpertDT(finaldf)\n",
    "print('The number of cells per landcover category')\n",
    "result['Land_Use'].value_counts()"
   ]
  },
  {
   "cell_type": "markdown",
   "id": "fca544e8-cf9a-4bec-a144-4431850d9d2e",
   "metadata": {},
   "source": [
    "## Intensity"
   ]
  },
  {
   "cell_type": "code",
   "execution_count": 27,
   "id": "16c195e1-79ef-4010-bb7e-f2090dc58d6a",
   "metadata": {},
   "outputs": [],
   "source": [
    "result['intensity'] = -1\n",
    "\n",
    "#1= Urban\n",
    "if result.loc[(result['Land_Use']==1), 'intensity'].shape[0]>0:\n",
    "    scaler = MinMaxScaler()\n",
    "    result.loc[(result['Land_Use']==1), 'intensity'] = scaler.fit_transform(pd.DataFrame(result.loc[(result['Land_Use']==1), 'areakm2_urban']))\n",
    "    result.loc[(result['Land_Use']==1), 'intensity'] = (result['areakm2_urban']+\\\n",
    "                                                        result['scaled_popDensity'])/2\n",
    "\n",
    "#3= Tree Croplands\n",
    "if result.loc[(result['Land_Use']==3), 'intensity'].shape[0]>0:\n",
    "    scaler = MinMaxScaler()\n",
    "    result.loc[(result['Land_Use']==3), 'intensity'] = scaler.fit_transform(pd.DataFrame(result.loc[(result['Land_Use']==3), 'areakm2_treeCrop']))\n",
    "    result.loc[(result['Land_Use']==3), 'intensity'] = (result['areakm2_treeCrop']+\\\n",
    "                                                        result['scaled_fieldSize']+\\\n",
    "                                                        result['scaled_Nfer_kgha']\\\n",
    "                                                       )/3\n",
    "\n",
    "#4 = Croplands\n",
    "if result.loc[(result['Land_Use']==4), 'intensity'].shape[0]>0:\n",
    "    scaler = MinMaxScaler()\n",
    "    result.loc[(result['Land_Use']==4), 'intensity'] = scaler.fit_transform(pd.DataFrame(result.loc[(result['Land_Use']==4), 'areakm2_cropCover']))\n",
    "    result.loc[(result['Land_Use']==4), 'intensity'] = (result['areakm2_cropCover']+\\\n",
    "                                                        result['scaled_fieldSize']+\\\n",
    "                                                        result['scaled_Nfer_kgha']\\\n",
    "                                                       )/3\n",
    "\n",
    "#6 = Rangelands/ Near-naturallands\n",
    "if result.loc[(result['Land_Use']==6), 'intensity'].shape[0]>0:\n",
    "    result.loc[(result['Land_Use']==6), 'intensity'] = (result['scaled_livestockIntensity']+\\\n",
    "                                                        result['scaled_Nfer_kgha'])/2"
   ]
  },
  {
   "cell_type": "code",
   "execution_count": 28,
   "id": "c4233847-b6bd-4e76-a2a7-ed3c159ffc45",
   "metadata": {},
   "outputs": [],
   "source": [
    "gdf = gpd.GeoDataFrame(result.drop(['x', 'y','combination_LS_intensity'], axis = 1), geometry = gpd.points_from_xy(result.x, result.y), crs= 'EPSG:4326')"
   ]
  },
  {
   "cell_type": "code",
   "execution_count": 29,
   "id": "917a0d9f-92dc-4dd6-af53-f3bfa1c4f878",
   "metadata": {},
   "outputs": [],
   "source": [
    "gdf.drop(['areakm2_slowNutrArea','areakm2_sMedNutriArea', 'areakm2_sHighNutriArea'], axis=1, inplace=True)"
   ]
  },
  {
   "cell_type": "code",
   "execution_count": 30,
   "id": "f2217c92-787d-46d7-9038-e0ee7e80da37",
   "metadata": {},
   "outputs": [
    {
     "data": {
      "text/plain": [
       "Index(['areakm2_cropCover', 'areakm2_protArea', 'areakm2_plantation',\n",
       "       'areakm2_treeCrop', 'gid', 'areakm2_urban', 'mean_precip', 'Nfer_kgha',\n",
       "       'popDensity', 'sheepDensity', 'goatDensity', 'cattleDensity',\n",
       "       'fieldSize', 'id1km', 'id8km', 'scaled_fieldSize', 'maxN',\n",
       "       'areakm2_slowNutrArea2', 'areakm2_sMedNutriArea2',\n",
       "       'areakm2_sHighNutriArea2', 'precipDiscrete', 'maxNutr',\n",
       "       'lsIntensityCat', 'lsSum', 'scaled_livestockIntensity',\n",
       "       'scaled_Nfer_kgha', 'scaled_popDensity', 'Land_Use', 'intensity',\n",
       "       'geometry'],\n",
       "      dtype='object')"
      ]
     },
     "execution_count": 30,
     "metadata": {},
     "output_type": "execute_result"
    }
   ],
   "source": [
    "gdf.columns"
   ]
  },
  {
   "cell_type": "code",
   "execution_count": 31,
   "id": "cdffc10c-9242-45fd-9b6f-244fec6d0735",
   "metadata": {},
   "outputs": [],
   "source": [
    "gdf.columns = [ 'km2_cropCov',\n",
    " 'km2_protAr',\n",
    " 'km2_plntn',\n",
    " 'km2_trCrp',\n",
    " 'gid',\n",
    " 'km2_urban',\n",
    " 'mean_precip',\n",
    " 'mean_Nfer',\n",
    " 'sum_popDen',\n",
    " 'sum_shpDen',\n",
    " 'sum_gtDen',\n",
    " 'sum_ctlDen',        \n",
    " 'fieldSize',\n",
    " 'id1km',\n",
    " 'id8km',\n",
    " 'fieldSzScd',\n",
    " 'maxSNtrAr',      \n",
    " 'km2_sLwNtr',\n",
    " 'km2_sMdNtr',\n",
    " 'km2_sHgNtr',\n",
    " 'precipDisc',\n",
    " 'maxSNtrCat',\n",
    " 'LSIntenCat',\n",
    " 'LSSum',\n",
    " 'LSIntenScd',\n",
    " 'NferScd',\n",
    " 'popDenScd',     \n",
    " 'Land_Use',\n",
    " 'Intensity',\n",
    " 'geometry']"
   ]
  },
  {
   "cell_type": "code",
   "execution_count": 32,
   "id": "2746cd94-ec9e-48df-b463-58608ee4ae29",
   "metadata": {},
   "outputs": [],
   "source": [
    "gdf.loc[:,'precipDisc'] = gdf.loc[:,'precipDisc'].astype('int')\n",
    "gdf.loc[:,'maxSNtrCat'] = gdf.loc[:,'maxSNtrCat'].astype('string')"
   ]
  },
  {
   "cell_type": "code",
   "execution_count": 33,
   "id": "98a15c7c-f928-47cf-b2d6-819be022480f",
   "metadata": {},
   "outputs": [
    {
     "name": "stdout",
     "output_type": "stream",
     "text": [
      "C:\\Users\\coach\\myfiles\\miscellenous\\hayley\\outputs\\South Africa\n"
     ]
    }
   ],
   "source": [
    "print(os.getcwd())\n",
    "outfile = f\"{country}_1km_{date}.shp\"\n",
    "gdf.to_file(outfile)"
   ]
  },
  {
   "cell_type": "markdown",
   "id": "a3fbe06d-70f0-490b-901e-99f2b8f5d6f3",
   "metadata": {},
   "source": [
    "# 8km - Aggregation method"
   ]
  },
  {
   "cell_type": "code",
   "execution_count": 124,
   "id": "b06501c2-2493-47e5-a394-ea3e204d70be",
   "metadata": {},
   "outputs": [
    {
     "data": {
      "text/html": [
       "<div>\n",
       "<style scoped>\n",
       "    .dataframe tbody tr th:only-of-type {\n",
       "        vertical-align: middle;\n",
       "    }\n",
       "\n",
       "    .dataframe tbody tr th {\n",
       "        vertical-align: top;\n",
       "    }\n",
       "\n",
       "    .dataframe thead th {\n",
       "        text-align: right;\n",
       "    }\n",
       "</style>\n",
       "<table border=\"1\" class=\"dataframe\">\n",
       "  <thead>\n",
       "    <tr style=\"text-align: right;\">\n",
       "      <th></th>\n",
       "      <th>id8km</th>\n",
       "      <th>Land_Use_mode</th>\n",
       "      <th>intensity_mean</th>\n",
       "      <th>intensity_std</th>\n",
       "    </tr>\n",
       "  </thead>\n",
       "  <tbody>\n",
       "    <tr>\n",
       "      <th>0</th>\n",
       "      <td>0</td>\n",
       "      <td>6</td>\n",
       "      <td>0.156839</td>\n",
       "      <td>0.399982</td>\n",
       "    </tr>\n",
       "    <tr>\n",
       "      <th>1</th>\n",
       "      <td>25</td>\n",
       "      <td>6</td>\n",
       "      <td>0.514178</td>\n",
       "      <td>0.225300</td>\n",
       "    </tr>\n",
       "    <tr>\n",
       "      <th>2</th>\n",
       "      <td>57</td>\n",
       "      <td>6</td>\n",
       "      <td>0.211921</td>\n",
       "      <td>0.043774</td>\n",
       "    </tr>\n",
       "    <tr>\n",
       "      <th>3</th>\n",
       "      <td>72</td>\n",
       "      <td>6</td>\n",
       "      <td>0.125059</td>\n",
       "      <td>0.024506</td>\n",
       "    </tr>\n",
       "    <tr>\n",
       "      <th>4</th>\n",
       "      <td>96</td>\n",
       "      <td>6</td>\n",
       "      <td>0.075002</td>\n",
       "      <td>0.005644</td>\n",
       "    </tr>\n",
       "    <tr>\n",
       "      <th>...</th>\n",
       "      <td>...</td>\n",
       "      <td>...</td>\n",
       "      <td>...</td>\n",
       "      <td>...</td>\n",
       "    </tr>\n",
       "    <tr>\n",
       "      <th>19428</th>\n",
       "      <td>999773</td>\n",
       "      <td>4</td>\n",
       "      <td>0.727722</td>\n",
       "      <td>0.004564</td>\n",
       "    </tr>\n",
       "    <tr>\n",
       "      <th>19429</th>\n",
       "      <td>999797</td>\n",
       "      <td>6</td>\n",
       "      <td>0.307565</td>\n",
       "      <td>0.035039</td>\n",
       "    </tr>\n",
       "    <tr>\n",
       "      <th>19430</th>\n",
       "      <td>999839</td>\n",
       "      <td>4</td>\n",
       "      <td>0.495474</td>\n",
       "      <td>0.090302</td>\n",
       "    </tr>\n",
       "    <tr>\n",
       "      <th>19431</th>\n",
       "      <td>999910</td>\n",
       "      <td>6</td>\n",
       "      <td>0.057655</td>\n",
       "      <td>0.000643</td>\n",
       "    </tr>\n",
       "    <tr>\n",
       "      <th>19432</th>\n",
       "      <td>999949</td>\n",
       "      <td>6</td>\n",
       "      <td>0.241048</td>\n",
       "      <td>0.141756</td>\n",
       "    </tr>\n",
       "  </tbody>\n",
       "</table>\n",
       "<p>19433 rows × 4 columns</p>\n",
       "</div>"
      ],
      "text/plain": [
       "        id8km Land_Use_mode  intensity_mean  intensity_std\n",
       "0           0             6        0.156839       0.399982\n",
       "1          25             6        0.514178       0.225300\n",
       "2          57             6        0.211921       0.043774\n",
       "3          72             6        0.125059       0.024506\n",
       "4          96             6        0.075002       0.005644\n",
       "...       ...           ...             ...            ...\n",
       "19428  999773             4        0.727722       0.004564\n",
       "19429  999797             6        0.307565       0.035039\n",
       "19430  999839             4        0.495474       0.090302\n",
       "19431  999910             6        0.057655       0.000643\n",
       "19432  999949             6        0.241048       0.141756\n",
       "\n",
       "[19433 rows x 4 columns]"
      ]
     },
     "execution_count": 124,
     "metadata": {},
     "output_type": "execute_result"
    }
   ],
   "source": [
    "# Aggregate 1km data by 8km grid ids\n",
    "grouped_data = result.groupby('id8km').agg({'Land_Use': pd.Series.mode, 'intensity': ['mean','std']})\n",
    "# Format into dataframe\n",
    "grouped_data.columns = ['_'.join(i).rstrip('_') for i in grouped_data.columns.values]\n",
    "grouped_data = grouped_data.reset_index()\n",
    "grouped_data"
   ]
  },
  {
   "cell_type": "code",
   "execution_count": 125,
   "id": "5bbcf303-60fd-4c0e-9297-39ea47e34be7",
   "metadata": {},
   "outputs": [
    {
     "data": {
      "text/html": [
       "<div>\n",
       "<style scoped>\n",
       "    .dataframe tbody tr th:only-of-type {\n",
       "        vertical-align: middle;\n",
       "    }\n",
       "\n",
       "    .dataframe tbody tr th {\n",
       "        vertical-align: top;\n",
       "    }\n",
       "\n",
       "    .dataframe thead th {\n",
       "        text-align: right;\n",
       "    }\n",
       "</style>\n",
       "<table border=\"1\" class=\"dataframe\">\n",
       "  <thead>\n",
       "    <tr style=\"text-align: right;\">\n",
       "      <th></th>\n",
       "      <th>id8km</th>\n",
       "      <th>x</th>\n",
       "      <th>y</th>\n",
       "      <th>Land_Use</th>\n",
       "      <th>MuIntnsty</th>\n",
       "      <th>StdIntnsty</th>\n",
       "    </tr>\n",
       "  </thead>\n",
       "  <tbody>\n",
       "    <tr>\n",
       "      <th>0</th>\n",
       "      <td>33293</td>\n",
       "      <td>-99500</td>\n",
       "      <td>-3799500</td>\n",
       "      <td>6</td>\n",
       "      <td>-0.010609</td>\n",
       "      <td>0.547418</td>\n",
       "    </tr>\n",
       "    <tr>\n",
       "      <th>104</th>\n",
       "      <td>3037</td>\n",
       "      <td>-95500</td>\n",
       "      <td>-3799500</td>\n",
       "      <td>6</td>\n",
       "      <td>0.145177</td>\n",
       "      <td>0.379336</td>\n",
       "    </tr>\n",
       "    <tr>\n",
       "      <th>196</th>\n",
       "      <td>289838</td>\n",
       "      <td>-87500</td>\n",
       "      <td>-3799500</td>\n",
       "      <td>6</td>\n",
       "      <td>-0.025513</td>\n",
       "      <td>0.527104</td>\n",
       "    </tr>\n",
       "    <tr>\n",
       "      <th>294</th>\n",
       "      <td>262196</td>\n",
       "      <td>-79500</td>\n",
       "      <td>-3799500</td>\n",
       "      <td>6</td>\n",
       "      <td>0.245256</td>\n",
       "      <td>0.013126</td>\n",
       "    </tr>\n",
       "    <tr>\n",
       "      <th>386</th>\n",
       "      <td>741568</td>\n",
       "      <td>-71500</td>\n",
       "      <td>-3799500</td>\n",
       "      <td>6</td>\n",
       "      <td>0.228525</td>\n",
       "      <td>0.016932</td>\n",
       "    </tr>\n",
       "    <tr>\n",
       "      <th>...</th>\n",
       "      <td>...</td>\n",
       "      <td>...</td>\n",
       "      <td>...</td>\n",
       "      <td>...</td>\n",
       "      <td>...</td>\n",
       "      <td>...</td>\n",
       "    </tr>\n",
       "    <tr>\n",
       "      <th>1953737</th>\n",
       "      <td>289715</td>\n",
       "      <td>560500</td>\n",
       "      <td>-2607500</td>\n",
       "      <td>6</td>\n",
       "      <td>0.245986</td>\n",
       "      <td>0.428805</td>\n",
       "    </tr>\n",
       "    <tr>\n",
       "      <th>1953835</th>\n",
       "      <td>115883</td>\n",
       "      <td>568500</td>\n",
       "      <td>-2607500</td>\n",
       "      <td>6</td>\n",
       "      <td>0.358959</td>\n",
       "      <td>0.287424</td>\n",
       "    </tr>\n",
       "    <tr>\n",
       "      <th>1953931</th>\n",
       "      <td>457724</td>\n",
       "      <td>576500</td>\n",
       "      <td>-2607500</td>\n",
       "      <td>5</td>\n",
       "      <td>-0.364208</td>\n",
       "      <td>0.715252</td>\n",
       "    </tr>\n",
       "    <tr>\n",
       "      <th>1954021</th>\n",
       "      <td>702136</td>\n",
       "      <td>584500</td>\n",
       "      <td>-2607500</td>\n",
       "      <td>5</td>\n",
       "      <td>-0.476051</td>\n",
       "      <td>0.718904</td>\n",
       "    </tr>\n",
       "    <tr>\n",
       "      <th>1954127</th>\n",
       "      <td>47390</td>\n",
       "      <td>592500</td>\n",
       "      <td>-2607500</td>\n",
       "      <td>5</td>\n",
       "      <td>-0.409306</td>\n",
       "      <td>0.722441</td>\n",
       "    </tr>\n",
       "  </tbody>\n",
       "</table>\n",
       "<p>19433 rows × 6 columns</p>\n",
       "</div>"
      ],
      "text/plain": [
       "          id8km       x        y Land_Use  MuIntnsty  StdIntnsty\n",
       "0         33293  -99500 -3799500        6  -0.010609    0.547418\n",
       "104        3037  -95500 -3799500        6   0.145177    0.379336\n",
       "196      289838  -87500 -3799500        6  -0.025513    0.527104\n",
       "294      262196  -79500 -3799500        6   0.245256    0.013126\n",
       "386      741568  -71500 -3799500        6   0.228525    0.016932\n",
       "...         ...     ...      ...      ...        ...         ...\n",
       "1953737  289715  560500 -2607500        6   0.245986    0.428805\n",
       "1953835  115883  568500 -2607500        6   0.358959    0.287424\n",
       "1953931  457724  576500 -2607500        5  -0.364208    0.715252\n",
       "1954021  702136  584500 -2607500        5  -0.476051    0.718904\n",
       "1954127   47390  592500 -2607500        5  -0.409306    0.722441\n",
       "\n",
       "[19433 rows x 6 columns]"
      ]
     },
     "execution_count": 125,
     "metadata": {},
     "output_type": "execute_result"
    }
   ],
   "source": [
    "# Add coordinates\n",
    "result8km = pd.merge(result[['id8km', 'x', 'y']], grouped_data, on = 'id8km', how='inner')\\\n",
    ".drop_duplicates(['id8km', 'intensity_mean', 'intensity_std'])\n",
    "# rename columns\n",
    "result8km.columns = ['id8km', 'x', 'y', 'Land_Use', 'MuIntnsty', 'StdIntnsty']\n",
    "result8km"
   ]
  },
  {
   "cell_type": "code",
   "execution_count": 126,
   "id": "62af45e9-8cb7-4b1f-8534-220682e2696a",
   "metadata": {},
   "outputs": [],
   "source": [
    "# When computing the mode, some cells have 2 categories with the same number of cells. The lower category is selected.\n",
    "\n",
    "# add type attribute- rows with two land uses will have a list or array data type\n",
    "result8km['type'] = result8km['Land_Use'].apply(type).apply(str)\n",
    "# overwrite array/lists with first element in list\n",
    "result8km.loc[result8km['type'] == \"<class 'numpy.ndarray'>\", 'Land_Use'] = result8km.loc[result8km['type'] == \"<class 'numpy.ndarray'>\", 'Land_Use'].apply(lambda x: x[0])\n",
    "# set data type to integer\n",
    "result8km['Land_Use'] = result8km['Land_Use'].astype(int)"
   ]
  },
  {
   "cell_type": "code",
   "execution_count": 127,
   "id": "f0fcde0e-67ad-4aa3-8709-cb10e912e9f9",
   "metadata": {},
   "outputs": [
    {
     "name": "stdout",
     "output_type": "stream",
     "text": [
      "C:\\Users\\coach\\myfiles\\miscellenous\\hayley\\outputs\\SA\n"
     ]
    }
   ],
   "source": [
    "print(os.getcwd())\n",
    "gdf8km = gpd.GeoDataFrame(result8km.drop(['x', 'y', 'type'], axis=1), geometry = gpd.points_from_xy(result8km.x, result8km.y), crs= 'EPSG:4326')\n",
    "outfile = f\"{country}_8km_v1_{date}.shp\"\n",
    "gdf8km.to_file(outfile)"
   ]
  },
  {
   "cell_type": "markdown",
   "id": "5059a5c0-4f1e-4f66-b771-429c20c624a7",
   "metadata": {},
   "source": [
    "## 8km- From extracted data at 8km"
   ]
  },
  {
   "cell_type": "code",
   "execution_count": 19,
   "id": "97039957-5cb4-4046-9a8e-a3bf68b68ac2",
   "metadata": {},
   "outputs": [],
   "source": [
    "# For grid cells with crop_cover and no data, assign field size of nearest cell.\n",
    "import math\n",
    "import os\n",
    "\n",
    "import pandas as pd\n",
    "import geopandas as gpd\n",
    "import matplotlib.pyplot as plt\n",
    "import numpy as np\n",
    "from sklearn.preprocessing import MinMaxScaler, RobustScaler\n",
    "from tqdm.auto import tqdm\n",
    "\n",
    "from scipy.spatial import cKDTree\n",
    "from shapely.geometry import Point"
   ]
  },
  {
   "cell_type": "code",
   "execution_count": 20,
   "id": "7a6d4e9e-aebe-42dc-8ea8-9997dc11273d",
   "metadata": {},
   "outputs": [],
   "source": [
    "def ckdnearest(gdA, gdB):\n",
    "\n",
    "    nA = np.array(list(gdA.geometry.apply(lambda x: (x.x, x.y))))\n",
    "    nB = np.array(list(gdB.geometry.apply(lambda x: (x.x, x.y))))\n",
    "    btree = cKDTree(nB)\n",
    "    dist, idx = btree.query(nA, k=1)\n",
    "    gdB_nearest = gdB.iloc[idx].drop(columns=\"geometry\").reset_index(drop=True)\n",
    "    gdf = pd.concat(\n",
    "        [\n",
    "            gdA.reset_index(drop=True),\n",
    "            gdB_nearest,\n",
    "            pd.Series(dist, name='dist')\n",
    "        ], \n",
    "        axis=1)\n",
    "\n",
    "    return gdf"
   ]
  },
  {
   "cell_type": "code",
   "execution_count": 21,
   "id": "0491e368-7bd5-4cd9-b664-e647463214f0",
   "metadata": {},
   "outputs": [],
   "source": [
    "# #Field Size data\n",
    "df = pd.read_csv(r\"fieldSize2_8km.csv\", low_memory=False, header = None, index_col = False, skiprows=1)\n",
    "df.columns = ['x', 'y', 'fieldSize', 'id1km', 'id8km', 'gid']"
   ]
  },
  {
   "cell_type": "code",
   "execution_count": 22,
   "id": "e49a3982-e549-42c2-8d5e-32be1e780353",
   "metadata": {},
   "outputs": [],
   "source": [
    "df1 = pd.read_csv(r\"sum_8km.csv\", low_memory=False, header = None, index_col = False, skiprows=1)\n",
    "df1.columns = ['areakm2_urban', 'areakm2_cropCover', 'areakm2_protArea',\n",
    "       'areakm2_slowNutrArea', 'areakm2_sMedNutriArea',\n",
    "       'areakm2_sHighNutriArea', 'areakm2_plantation', 'areakm2_treeCrop',\n",
    "       'popDensity', 'sheepDensity', 'goatDensity', 'cattleDensity', 'gid']"
   ]
  },
  {
   "cell_type": "code",
   "execution_count": 74,
   "id": "5d98a490-14f6-4358-a311-aa3ff2e2f87b",
   "metadata": {},
   "outputs": [],
   "source": [
    "# Mean covariate data\n",
    "dfmean = pd.read_csv(r\"mean_8km.csv\", low_memory=False, header = None, index_col = False, skiprows=1)\n",
    "dfmean.columns = ['mean_precip', 'Nfer_kgha', 'gid']"
   ]
  },
  {
   "cell_type": "code",
   "execution_count": 75,
   "id": "d0ab8dcd-5dbe-4184-ad03-37c6e130b696",
   "metadata": {},
   "outputs": [],
   "source": [
    "# Merge datasets into single datset based on matching GIS column\n",
    "dfJoin = pd.merge(df1, dfmean, on= 'gid')\n",
    "dfAll = pd.merge(dfJoin, df, on= 'gid').drop_duplicates().reset_index(drop=True)"
   ]
  },
  {
   "cell_type": "code",
   "execution_count": 76,
   "id": "d51a6cc1-e46b-462c-a71b-65bfee5f1804",
   "metadata": {},
   "outputs": [],
   "source": [
    "# Fill in missing mean precipitation data\n",
    "# by copying attribute of closest point\n",
    "missing = dfAll['mean_precip'].isna().sum()\n",
    "if missing>0:\n",
    "    # Blocks with mean-precip data\n",
    "    sdf2 = dfAll.loc[dfAll['mean_precip'].notna(), ['mean_precip', 'x', 'y']]\n",
    "    gdf2 =  gpd.GeoDataFrame(sdf2.drop(['x', 'y'],axis=1), geometry = gpd.points_from_xy(sdf2.x, sdf2.y))\n",
    "\n",
    "    # All columns without join-attributes(s) column\n",
    "    sdf1 = dfAll.loc[dfAll['mean_precip'].isna(), ['gid','x', 'y']]\n",
    "    gdf1 =  gpd.GeoDataFrame(sdf1.drop(['x', 'y'],axis=1), geometry = gpd.points_from_xy(sdf1.x, sdf1.y))\n",
    "\n",
    "    joinNearest1 = ckdnearest(gdf1, gdf2)\n",
    "\n",
    "    result1 = pd.DataFrame(joinNearest1)[['gid', 'mean_precip']]\n",
    "    result1.columns = ['gid', 'mean_precip2']\n",
    "\n",
    "    dfAll = pd.merge(dfAll, result1, how = 'outer',on = 'gid').drop_duplicates()\n",
    "    dfAll['mean_precip'].fillna(dfAll['mean_precip2'], inplace = True)\n",
    "    dfAll.drop('mean_precip2', axis=1, inplace=True)"
   ]
  },
  {
   "cell_type": "code",
   "execution_count": 77,
   "id": "6ded7853-0d3c-48fd-8c7e-332f5224e561",
   "metadata": {
    "tags": []
   },
   "outputs": [],
   "source": [
    "# Fill missing field size data\n",
    "# select fieldSize column for cells that are cropcover\n",
    "dfs1 = dfAll.loc[(dfAll['areakm2_cropCover']>0)|(dfAll['areakm2_treeCrop']>0), ['x', 'y', 'fieldSize', 'gid']]\n",
    "# get rows with fieldsize data\n",
    "dfs2 = dfs1.dropna().loc[\n",
    "      (dfs1['fieldSize']!= 3507), ['fieldSize', 'x', 'y']]#[['x', 'y', 'fieldSize']]\n",
    "# all rows without fieldsize column(including rows with data)\n",
    "dfs3 = dfs1[['x', 'y', 'gid']]\n",
    "\n",
    "# with attribute\n",
    "gdf2 = gpd.GeoDataFrame(dfs2.drop(['x', 'y'],axis=1), geometry = gpd.points_from_xy(dfs2.x, dfs2.y))\n",
    "\n",
    "# Missing data\n",
    "gdf3 = gpd.GeoDataFrame(dfs3.drop(['x', 'y'],axis=1), geometry = gpd.points_from_xy(dfs3.x, dfs3.y))\n",
    "\n",
    "joinNearest = ckdnearest(gdf3, gdf2)\n",
    "result = pd.DataFrame(joinNearest)[['gid', 'fieldSize']]\n",
    "result.columns = ['gid', 'fieldSize2']\n",
    "\n",
    "finaldf = pd.merge(dfAll, result, how= 'outer',on = 'gid').drop_duplicates()\n",
    "finaldf['fieldSize2'] = finaldf['fieldSize2'].fillna(0)\n",
    "finaldf['fieldSize'] = finaldf['fieldSize2'].astype('int')\n",
    "\n",
    "dfF = finaldf.drop('fieldSize2', axis=1).reset_index(drop=True)"
   ]
  },
  {
   "cell_type": "code",
   "execution_count": 78,
   "id": "bf347355-6c3f-400b-aa00-fad6a1d65dba",
   "metadata": {
    "tags": []
   },
   "outputs": [
    {
     "name": "stderr",
     "output_type": "stream",
     "text": [
      "C:\\Users\\coach\\AppData\\Local\\Temp\\ipykernel_28488\\3485110472.py:6: FutureWarning: In a future version, `df.iloc[:, i] = newvals` will attempt to set the values inplace instead of always setting a new array. To retain the old behavior, use either `df[df.columns[i]] = newvals` or, if columns are non-unique, `df.isetitem(i, newvals)`\n",
      "  dfF.loc[:,'gid'] = dfF.loc[:,'gid'].astype('string')\n",
      "C:\\Users\\coach\\AppData\\Local\\Temp\\ipykernel_28488\\3485110472.py:7: FutureWarning: In a future version, `df.iloc[:, i] = newvals` will attempt to set the values inplace instead of always setting a new array. To retain the old behavior, use either `df[df.columns[i]] = newvals` or, if columns are non-unique, `df.isetitem(i, newvals)`\n",
      "  dfF.loc[:,'id8km'] = dfF.loc[:,'id8km'].astype('int64')\n",
      "C:\\Users\\coach\\AppData\\Local\\Temp\\ipykernel_28488\\3485110472.py:9: FutureWarning: In a future version, `df.iloc[:, i] = newvals` will attempt to set the values inplace instead of always setting a new array. To retain the old behavior, use either `df[df.columns[i]] = newvals` or, if columns are non-unique, `df.isetitem(i, newvals)`\n",
      "  dfF.loc[:,'mean_precip'] = dfF.loc[:,'mean_precip'].astype('float32')\n"
     ]
    }
   ],
   "source": [
    "dfF.loc[:,'id8km'] = dfF.loc[:,'id8km'].fillna(0)\n",
    "dfF.loc[:,'id1km'] = dfF.loc[:,'id1km'].fillna(0)\n",
    "\n",
    "# Format data types\n",
    "dfF.loc[:,'areakm2_treeCrop'] = dfF.loc[:,'areakm2_treeCrop'].astype('float64')\n",
    "dfF.loc[:,'gid'] = dfF.loc[:,'gid'].astype('string')\n",
    "dfF.loc[:,'id8km'] = dfF.loc[:,'id8km'].astype('int64')\n",
    "dfF.loc[:,'Nfer_kgha'] = dfF.loc[:,'Nfer_kgha'].astype('float64')\n",
    "dfF.loc[:,'mean_precip'] = dfF.loc[:,'mean_precip'].astype('float32')\n",
    "\n",
    "# Add scaled fieldSize\n",
    "dfF['scaled_fieldSize'] = 0\n",
    "dfF.loc[dfF['fieldSize'] == 3502, 'scaled_fieldSize'] = 1.0\n",
    "dfF.loc[dfF['fieldSize'] == 3503, 'scaled_fieldSize'] = 0.8\n",
    "dfF.loc[dfF['fieldSize'] == 3504, 'scaled_fieldSize'] = 0.6\n",
    "dfF.loc[dfF['fieldSize'] == 3505, 'scaled_fieldSize'] = 0.4\n",
    "dfF.loc[dfF['fieldSize'] == 3506, 'scaled_fieldSize'] = 0.2"
   ]
  },
  {
   "cell_type": "code",
   "execution_count": 79,
   "id": "c0ec3240-92cd-4f78-b5d9-302aa7cf2773",
   "metadata": {},
   "outputs": [],
   "source": [
    "# Fill in missing Nutrient data\n",
    "# Copy attribute of closest point\n",
    "df = dfF\n",
    "df['maxN'] = df[['areakm2_slowNutrArea','areakm2_sMedNutriArea', 'areakm2_sHighNutriArea']].max(axis=1)\n",
    "\n",
    "# Blocks with Nutrient areas\n",
    "sdf2 = df.loc[df['maxN']>0, ['areakm2_slowNutrArea','areakm2_sMedNutriArea', 'areakm2_sHighNutriArea', 'x', 'y']]\n",
    "gdf2 =  gpd.GeoDataFrame(sdf2.drop(['x', 'y'],axis=1), geometry = gpd.points_from_xy(sdf2.x, sdf2.y))\n",
    "\n",
    "# All columns without join-attributes(s) column\n",
    "sdf1 = df.loc[df['maxN'] == 0, ['gid', 'x', 'y']]\n",
    "gdf1 =  gpd.GeoDataFrame(sdf1.drop(['x', 'y'], axis=1), geometry = gpd.points_from_xy(sdf1.x, sdf1.y))\n",
    "\n",
    "joinNearest1 = ckdnearest(gdf1, gdf2)\n",
    "\n",
    "result1 = pd.DataFrame(joinNearest1)[['gid', 'areakm2_slowNutrArea','areakm2_sMedNutriArea', 'areakm2_sHighNutriArea']]\n",
    "result1.columns = ['gid', 'areakm2_slowNutrArea2','areakm2_sMedNutriArea2', 'areakm2_sHighNutriArea2']\n",
    "\n",
    "finaldf = pd.merge(df, result1, how = 'outer',on = 'gid').drop_duplicates()\n",
    "\n",
    "# df = finaldf.drop('fieldSize2', axis=1).reset_index(drop=True)"
   ]
  },
  {
   "cell_type": "code",
   "execution_count": 80,
   "id": "c00376d2-43d5-4b54-84d2-42c731bb32fc",
   "metadata": {},
   "outputs": [],
   "source": [
    "finaldf.loc[df['maxN']==0, 'areakm2_slowNutrArea'] = finaldf.loc[df['maxN']==0, 'areakm2_slowNutrArea2']\n",
    "finaldf.loc[df['maxN']==0, 'areakm2_sMedNutriArea'] = finaldf.loc[df['maxN']==0, 'areakm2_sMedNutriArea2']\n",
    "finaldf.loc[df['maxN']==0, 'areakm2_sHighNutriArea'] = finaldf.loc[df['maxN']==0, 'areakm2_sHighNutriArea2']\n",
    "finaldf.drop(['areakm2_slowNutrArea2','areakm2_sMedNutriArea2', 'areakm2_sHighNutriArea2'], axis=1, inplace= True)"
   ]
  },
  {
   "cell_type": "code",
   "execution_count": 81,
   "id": "eaad60db-25fb-4716-82e5-1ad5ad6ea3a6",
   "metadata": {},
   "outputs": [],
   "source": [
    "# Export data\n",
    "outfile = f\"{country}_POC_8km_{date}.feather\"\n",
    "finaldf.reset_index(drop=True).to_feather(outfile)"
   ]
  },
  {
   "cell_type": "markdown",
   "id": "c69ffd81-049d-432c-aaf9-a2502e1c3757",
   "metadata": {},
   "source": [
    "## Decision tree"
   ]
  },
  {
   "cell_type": "code",
   "execution_count": 82,
   "id": "c5c2751d-4f88-492e-8154-9f2ef5ce40b4",
   "metadata": {
    "tags": []
   },
   "outputs": [],
   "source": [
    "infile = f\"{country}_POC_8km_{date}.feather\"\n",
    "finaldf = pd.read_feather(infile).dropna().reset_index(drop=True)"
   ]
  },
  {
   "cell_type": "code",
   "execution_count": 83,
   "id": "31cb1a46-6270-43d5-98dd-c0032f7dc8af",
   "metadata": {},
   "outputs": [
    {
     "name": "stdout",
     "output_type": "stream",
     "text": [
      "Categries for 400mm discretised rainfall: 2    8020\n",
      "3    6031\n",
      "1    4689\n",
      "0    1231\n",
      "Name: precipDiscrete, dtype: int64\n"
     ]
    }
   ],
   "source": [
    "# Add small value to zero precip\n",
    "finaldf.loc[finaldf.mean_precip==0, 'mean_precip'] = 0.1\n",
    "#round of to the nearest 400\n",
    "max_round = math.ceil(max(finaldf['mean_precip']) / 400) * 400\n",
    "cut_bins = list(range(0, max_round+1, 400))\n",
    "# discretize precipitation into categories \n",
    "cut_labels = [str(item) for item in range(0, len(cut_bins)-1)]\n",
    "finaldf[\"precipDiscrete\"] = pd.cut(x = finaldf[\"mean_precip\"].astype(float), bins= cut_bins, labels = cut_labels)\n",
    "print(\"Categries for 400mm discretised rainfall:\", finaldf.precipDiscrete.value_counts())\n",
    "\n",
    "# Identify the max nutrient area\n",
    "finaldf['maxNutr'] = finaldf[['areakm2_slowNutrArea','areakm2_sMedNutriArea', 'areakm2_sHighNutriArea']].idxmax(axis=1)\n",
    "\n",
    "# Get unique category based on precip bucket and max nutrient category\n",
    "finaldf['combination_LS_intensity'] = finaldf[['precipDiscrete','maxNutr']].agg(tuple, axis=1)\n",
    "finaldf['lsIntensityCat'] = finaldf['combination_LS_intensity'].factorize()[0]"
   ]
  },
  {
   "cell_type": "code",
   "execution_count": 84,
   "id": "3e9df13e-8497-4444-9e25-e4503223ac48",
   "metadata": {},
   "outputs": [
    {
     "name": "stdout",
     "output_type": "stream",
     "text": [
      "Livestock Intensity categories (based on unique combinations of discretised precipitation and max nutrient category): [0, 1, 2, 3, 4]\n"
     ]
    },
    {
     "data": {
      "application/vnd.jupyter.widget-view+json": {
       "model_id": "7846ba162e5a482f905f78f2945da28d",
       "version_major": 2,
       "version_minor": 0
      },
      "text/plain": [
       "  0%|          | 0/5 [00:00<?, ?it/s]"
      ]
     },
     "metadata": {},
     "output_type": "display_data"
    }
   ],
   "source": [
    "combinations = list(set(finaldf['lsIntensityCat']))\n",
    "print('Livestock Intensity categories (based on unique combinations of discretised precipitation and max nutrient category):',combinations)\n",
    "\n",
    "finaldf['scaled_livestockIntensity']= 0\n",
    "for combination in tqdm(combinations):\n",
    "    scaler = MinMaxScaler()\n",
    "    colnames = ['sheepDensity', 'goatDensity', 'cattleDensity']\n",
    "    finaldf.loc[finaldf['lsIntensityCat'] == combination, 'scaled_livestockIntensity'] = scaler.fit_transform(finaldf.loc[finaldf['lsIntensityCat'] == combination, colnames]).sum(axis=1)"
   ]
  },
  {
   "cell_type": "code",
   "execution_count": 85,
   "id": "7c1e964a-7f98-42bf-8d17-4c96a19a9bf9",
   "metadata": {
    "tags": []
   },
   "outputs": [
    {
     "name": "stdout",
     "output_type": "stream",
     "text": [
      "Nfer_kgha: 2.03008\n",
      "popDensity: 10488.552641296386\n"
     ]
    }
   ],
   "source": [
    "# Scale variables\n",
    "colnames = ['Nfer_kgha', 'popDensity']\n",
    "\n",
    "for col in colnames:\n",
    "    # create scaled variable\n",
    "    finaldf['scaled_'+col] = finaldf[col]\n",
    "    # get 99th percentile\n",
    "    qq99 = finaldf[col].quantile(0.99)\n",
    "    print(col + ':', qq99)\n",
    "    # apply min max scaling to all data less than 99th quantile.\n",
    "    scaler = MinMaxScaler()\n",
    "    finaldf.loc[finaldf[col]<=qq99, 'scaled_'+ col] = scaler.fit_transform(pd.DataFrame(finaldf.loc[finaldf[col]<=qq99, col]))\n",
    "    # for data greater than 99th percentile, equal to max value 1\n",
    "    finaldf.loc[finaldf[col]>qq99, 'scaled_' + col] = 1"
   ]
  },
  {
   "cell_type": "code",
   "execution_count": 86,
   "id": "7fb02584-2eea-405a-83b9-117e231bd98b",
   "metadata": {},
   "outputs": [],
   "source": [
    "#1= Urban\n",
    "#2= Timber plantations\n",
    "#3= Tree Croplands\n",
    "#4= CropLands\n",
    "#5= Protected areas\n",
    "#6= Rangelands/Near-natural lands\n",
    "\n",
    "def ExpertDT(df):\n",
    "\n",
    "    #6= Rangelands/Near-natural lands\n",
    "    df['Land_Use'] = 6\n",
    "\n",
    "    #5= Protected areas\n",
    "    df.loc[df['areakm2_protArea']>0.2, 'Land_Use'] = 5\n",
    "\n",
    "    #4= CropLands\n",
    "    df.loc[df['areakm2_cropCover']>0.2, 'Land_Use'] = 4\n",
    "\n",
    "    #3= Tree Croplands\n",
    "    df.loc[df['areakm2_treeCrop']>0.2, 'Land_Use'] = 3\n",
    "\n",
    "    #2= Timber plantations\n",
    "    df.loc[df['areakm2_plantation']>0.2, 'Land_Use'] = 2\n",
    "\n",
    "    #1= Urban\n",
    "    df.loc[(df['areakm2_urban']>0.2)|\n",
    "           (df['popDensity']>1000) , 'Land_Use'] = 1\n",
    "    return df\n",
    "    \n",
    "result = ExpertDT(finaldf)"
   ]
  },
  {
   "cell_type": "code",
   "execution_count": 87,
   "id": "3cfc6285-7f50-4782-83d4-0c8ba4e34ebf",
   "metadata": {
    "tags": []
   },
   "outputs": [
    {
     "data": {
      "text/plain": [
       "6    12743\n",
       "1     4887\n",
       "4     1295\n",
       "5     1045\n",
       "3        1\n",
       "Name: Land_Use, dtype: int64"
      ]
     },
     "execution_count": 87,
     "metadata": {},
     "output_type": "execute_result"
    }
   ],
   "source": [
    "result['Land_Use'].value_counts()"
   ]
  },
  {
   "cell_type": "markdown",
   "id": "37881ca6-7b9b-4ede-ba8f-0f79bc679224",
   "metadata": {},
   "source": [
    "## Intensity"
   ]
  },
  {
   "cell_type": "code",
   "execution_count": 88,
   "id": "7877cfe9-8271-426c-a55b-ba3ab0273521",
   "metadata": {},
   "outputs": [],
   "source": [
    "result['intensity'] = -1\n",
    "\n",
    "#1= Urban\n",
    "result.loc[(result['Land_Use']==1), 'intensity'] = ((result['areakm2_urban']/64)+\\\n",
    "                                                    result['scaled_popDensity'])/2\n",
    "\n",
    "#3= Tree Croplands\n",
    "result.loc[(result['Land_Use']==3), 'intensity'] = ((result['areakm2_treeCrop']/64)+\\\n",
    "                                                    result['scaled_fieldSize']+\\\n",
    "                                                    result['scaled_Nfer_kgha']\\\n",
    "                                                   )/3\n",
    "\n",
    "#4 = Croplands\n",
    "result.loc[(result['Land_Use']==4), 'intensity'] = ((result['areakm2_cropCover']/64)+\\\n",
    "                                                    result['scaled_fieldSize']+\\\n",
    "                                                    result['scaled_Nfer_kgha']\\\n",
    "                                                   )/3\n",
    "\n",
    "#6 = Rangelands/ Near-naturallands\n",
    "result.loc[(result['Land_Use']==6), 'intensity'] = (result['scaled_livestockIntensity']+\\\n",
    "                                                    result['scaled_Nfer_kgha'])/2"
   ]
  },
  {
   "cell_type": "code",
   "execution_count": 89,
   "id": "06df3108-b9a3-40b2-82f5-e6d72328a36b",
   "metadata": {},
   "outputs": [],
   "source": [
    "gdf = gpd.GeoDataFrame(result.drop(['x', 'y','combination_LS_intensity'], axis = 1), geometry = gpd.points_from_xy(result.x, result.y), crs= 'EPSG:4326')"
   ]
  },
  {
   "cell_type": "code",
   "execution_count": 90,
   "id": "f70b4703-543b-4a60-8b10-78d80498f3e9",
   "metadata": {},
   "outputs": [
    {
     "data": {
      "text/plain": [
       "Index(['areakm2_urban', 'areakm2_cropCover', 'areakm2_protArea',\n",
       "       'areakm2_slowNutrArea', 'areakm2_sMedNutriArea',\n",
       "       'areakm2_sHighNutriArea', 'areakm2_plantation', 'areakm2_treeCrop',\n",
       "       'popDensity', 'sheepDensity', 'goatDensity', 'cattleDensity', 'gid',\n",
       "       'mean_precip', 'Nfer_kgha', 'fieldSize', 'id1km', 'id8km',\n",
       "       'scaled_fieldSize', 'maxN', 'precipDiscrete', 'maxNutr',\n",
       "       'lsIntensityCat', 'scaled_livestockIntensity', 'scaled_Nfer_kgha',\n",
       "       'scaled_popDensity', 'Land_Use', 'intensity', 'geometry'],\n",
       "      dtype='object')"
      ]
     },
     "execution_count": 90,
     "metadata": {},
     "output_type": "execute_result"
    }
   ],
   "source": [
    "gdf.columns"
   ]
  },
  {
   "cell_type": "code",
   "execution_count": 91,
   "id": "411855d4-dd71-45ba-bc33-0ba9821c36ef",
   "metadata": {},
   "outputs": [],
   "source": [
    "gdf.columns = ['km2_urban',\n",
    " 'km2_cropCov',\n",
    " 'km2_protAr',\n",
    " 'km2_sLwNtr',\n",
    " 'km2_sMdNtr',\n",
    " 'km2_sHgNtr',              \n",
    " 'km2_plntn',\n",
    " 'km2_trCrp',\n",
    " 'sum_popDen',\n",
    " 'sum_shpDen',\n",
    " 'sum_gtDen',\n",
    " 'sum_ctlDen',\n",
    " 'gid',\n",
    " 'mean_precip',\n",
    " 'mean_Nfer',\n",
    " 'fieldSize',\n",
    " 'id1km',\n",
    " 'id8km',\n",
    " 'fieldSzScd',\n",
    " 'maxSNtrAr',      \n",
    " 'precipDisc',\n",
    " 'maxSNtrCat',\n",
    " 'LSIntenCat',\n",
    " 'LSIntenScd',\n",
    " 'NferScd',\n",
    " 'popDenScd',\n",
    " 'Land_Use',\n",
    " 'Intensity',\n",
    " 'geometry']"
   ]
  },
  {
   "cell_type": "code",
   "execution_count": 92,
   "id": "529b2ddd-01ef-44db-a38c-5abca58d1d32",
   "metadata": {},
   "outputs": [
    {
     "data": {
      "text/plain": [
       "count    19971.000000\n",
       "mean         0.043381\n",
       "std          0.268040\n",
       "min         -1.000000\n",
       "25%          0.032292\n",
       "50%          0.061536\n",
       "75%          0.111992\n",
       "max          0.883670\n",
       "Name: Intensity, dtype: float64"
      ]
     },
     "execution_count": 92,
     "metadata": {},
     "output_type": "execute_result"
    }
   ],
   "source": [
    "gdf.Intensity.describe()"
   ]
  },
  {
   "cell_type": "code",
   "execution_count": 93,
   "id": "f3b94a52-abe1-466d-b013-b493ec915670",
   "metadata": {},
   "outputs": [
    {
     "data": {
      "text/plain": [
       "km2_urban      0\n",
       "km2_cropCov    0\n",
       "km2_protAr     0\n",
       "km2_sLwNtr     0\n",
       "km2_sMdNtr     0\n",
       "km2_sHgNtr     0\n",
       "km2_plntn      0\n",
       "km2_trCrp      0\n",
       "sum_popDen     0\n",
       "sum_shpDen     0\n",
       "sum_gtDen      0\n",
       "sum_ctlDen     0\n",
       "gid            0\n",
       "mean_precip    0\n",
       "mean_Nfer      0\n",
       "fieldSize      0\n",
       "id1km          0\n",
       "id8km          0\n",
       "fieldSzScd     0\n",
       "maxSNtrAr      0\n",
       "precipDisc     0\n",
       "maxSNtrCat     0\n",
       "LSIntenCat     0\n",
       "LSIntenScd     0\n",
       "NferScd        0\n",
       "popDenScd      0\n",
       "Land_Use       0\n",
       "Intensity      0\n",
       "geometry       0\n",
       "dtype: int64"
      ]
     },
     "execution_count": 93,
     "metadata": {},
     "output_type": "execute_result"
    }
   ],
   "source": [
    "gdf.isna().sum()"
   ]
  },
  {
   "cell_type": "code",
   "execution_count": 94,
   "id": "57a8706b-3053-4bbe-bb3e-ab8cef611a68",
   "metadata": {},
   "outputs": [
    {
     "name": "stderr",
     "output_type": "stream",
     "text": [
      "C:\\Users\\coach\\AppData\\Local\\Temp\\ipykernel_28488\\1448088867.py:1: FutureWarning: In a future version, `df.iloc[:, i] = newvals` will attempt to set the values inplace instead of always setting a new array. To retain the old behavior, use either `df[df.columns[i]] = newvals` or, if columns are non-unique, `df.isetitem(i, newvals)`\n",
      "  gdf.loc[:,'precipDisc'] = gdf.loc[:,'precipDisc'].astype('int')\n",
      "C:\\Users\\coach\\AppData\\Local\\Temp\\ipykernel_28488\\1448088867.py:2: FutureWarning: In a future version, `df.iloc[:, i] = newvals` will attempt to set the values inplace instead of always setting a new array. To retain the old behavior, use either `df[df.columns[i]] = newvals` or, if columns are non-unique, `df.isetitem(i, newvals)`\n",
      "  gdf.loc[:,'maxSNtrCat'] = gdf.loc[:,'maxSNtrCat'].astype('string')\n"
     ]
    }
   ],
   "source": [
    "gdf.loc[:,'precipDisc'] = gdf.loc[:,'precipDisc'].astype('int')\n",
    "gdf.loc[:,'maxSNtrCat'] = gdf.loc[:,'maxSNtrCat'].astype('string')"
   ]
  },
  {
   "cell_type": "code",
   "execution_count": 95,
   "id": "e4739cb7-3a6b-44d1-b3b0-172eb7691cdc",
   "metadata": {},
   "outputs": [
    {
     "name": "stdout",
     "output_type": "stream",
     "text": [
      "C:\\Users\\coach\\myfiles\\miscellenous\\hayley\\outputs\\Angola\n"
     ]
    },
    {
     "name": "stderr",
     "output_type": "stream",
     "text": [
      "C:\\Users\\coach\\AppData\\Local\\Temp\\ipykernel_28488\\3677940952.py:3: UserWarning: Column names longer than 10 characters will be truncated when saved to ESRI Shapefile.\n",
      "  gdf.to_file(outfile)\n"
     ]
    }
   ],
   "source": [
    "print(os.getcwd())\n",
    "outfile = f\"{country}_8km_v2_{date}.shp\"\n",
    "gdf.to_file(outfile)"
   ]
  },
  {
   "cell_type": "code",
   "execution_count": 69,
   "id": "5f8aab6c-8b6e-47b2-a7e0-6d892b410615",
   "metadata": {},
   "outputs": [],
   "source": [
    "# create config file\n",
    "# iterate over countries\n",
    "# Download data\n",
    "# preprocess data\n",
    "# Expert DT\n",
    "# Intensity scores"
   ]
  },
  {
   "cell_type": "code",
   "execution_count": null,
   "id": "379ceded-bfa4-4b89-86a1-71bcc76faa75",
   "metadata": {},
   "outputs": [],
   "source": []
  }
 ],
 "metadata": {
  "kernelspec": {
   "display_name": "erty",
   "language": "python",
   "name": "erty"
  },
  "language_info": {
   "codemirror_mode": {
    "name": "ipython",
    "version": 3
   },
   "file_extension": ".py",
   "mimetype": "text/x-python",
   "name": "python",
   "nbconvert_exporter": "python",
   "pygments_lexer": "ipython3",
   "version": "3.9.12"
  },
  "toc-autonumbering": false,
  "toc-showcode": false
 },
 "nbformat": 4,
 "nbformat_minor": 5
}
