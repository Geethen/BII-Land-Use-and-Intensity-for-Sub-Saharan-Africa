{
 "cells": [
  {
   "cell_type": "code",
   "execution_count": null,
   "id": "be14aea3-8e05-45a6-aefa-e8de71f044ff",
   "metadata": {},
   "outputs": [],
   "source": [
    "1. Determine the max, min, median, average and 99th percentile values of each variable. \n",
    " - Check the relevant variable minimum values (e.g., 20% for urban or 1000ppl/km2; 20% for cropland, etc). \n",
    " - Check the maximum value of relevant variables for land use classes already assigned (e.g., for cropland, ensure there are no values of urban, plantation or tree crop cover >20%)\n",
    " - Check that relevant scaled variables have a min of 0 and a max of 1\n",
    "\n",
    "2. Recalculate the minmax or min-99th percentile scaling of relevant variables and subtract each pixel's recalculated scaled value from the scaled value you provide - these should all be ~0 (ie, equal) so by summing this calculation across pixels I can quickly pix up issues.\n",
    "3. For rangeland, check clusters are appropriately assigned based on rainfall brackets and nutrient levels (ie check their min and max rainfall values and nutrient class).\n",
    "5. Check the intensity category is the average across relevant scaled variables (or for rangeland across summed livestock within each cluster)"
   ]
  },
  {
   "cell_type": "code",
   "execution_count": null,
   "id": "2f3cd954-b331-4943-8d4f-b8788944cc41",
   "metadata": {},
   "outputs": [],
   "source": [
    "1. summary stats for all vars (+99th percentile)\n",
    "2. for each classified land use, check criteria is met 20%\n",
    "3. for each land use, make sure there is no conflicts with other criteria\n",
    "4. for scaled variables check min and max is 0 and 1 respectively\n",
    "5. subtract scaled values from rescaled values.  should be equal to zero.\n",
    "6. for each rainfal bin check minmax values also for nutrient levels\n",
    "7. check the intensity is equal to relevant scaled variables\n",
    "8. rangeland equal to summed livestock within cluster\n"
   ]
  }
 ],
 "metadata": {
  "kernelspec": {
   "display_name": "erty",
   "language": "python",
   "name": "erty"
  },
  "language_info": {
   "codemirror_mode": {
    "name": "ipython",
    "version": 3
   },
   "file_extension": ".py",
   "mimetype": "text/x-python",
   "name": "python",
   "nbconvert_exporter": "python",
   "pygments_lexer": "ipython3",
   "version": "3.9.12"
  }
 },
 "nbformat": 4,
 "nbformat_minor": 5
}
