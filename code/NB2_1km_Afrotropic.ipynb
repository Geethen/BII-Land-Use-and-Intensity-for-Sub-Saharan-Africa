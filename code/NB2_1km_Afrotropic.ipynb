{
 "cells": [
  {
   "cell_type": "markdown",
   "id": "6fefdd95-e8b1-460b-8062-d9768979d552",
   "metadata": {},
   "source": [
    "# NB2_1km_Afrotropics\n",
    "## BII project land use and intensity\n",
    "This notebook contains the code for extracting, pre-processing, and applying the expert decision tree and computing the intensity values of six categories of land use at a 1x1 km spatial resolution for The entire Afrotropic region. \n",
    "\n",
    "Inputs: Three csv files for each country of interest.  \n",
    "Outputs:\n",
    "1) A geofeather file with a point for every 1x1 km cell within the Afrotropic region.\n",
    "2) A two-band tif file with land use and associated land use intensity.\n",
    "\n",
    "Refer to NB1_1km_country to run the same analysis for a single country.  \n",
    "Refer to NB1_8km_country to run the same analysis for a single country at an 8km spatial resolution.  \n",
    "Refer to NB2_8km_Afrotropic to run the same analysis for the entire afrotropic region at an 8km spatial resolution.\n",
    "\n",
    "### High-level steps\n",
    "1. Merge csv files per country into a single afrotropic file\n",
    "2. Datasets are pre-processed. Includes, filling in missing data, scaling data and correcting data types.\n",
    "3. The expert decision tree is applied that outputs a land use for every point\n",
    "4. Data is scaled and the intensity scores are computed"
   ]
  },
  {
   "cell_type": "markdown",
   "id": "19d1dd44-bd13-4e13-999b-1a4bf2c69a0e",
   "metadata": {},
   "source": [
    "## Import packages"
   ]
  },
  {
   "cell_type": "code",
   "execution_count": 1,
   "id": "d7d15109-ae9e-4780-b831-142d8c4b0618",
   "metadata": {},
   "outputs": [
    {
     "name": "stderr",
     "output_type": "stream",
     "text": [
      "C:\\WINDOWS\\System32\\erty\\lib\\site-packages\\geopandas\\_compat.py:123: UserWarning: The Shapely GEOS version (3.10.3-CAPI-1.16.1) is incompatible with the GEOS version PyGEOS was compiled with (3.11.1-CAPI-1.17.1). Conversions between both will be slow.\n",
      "  warnings.warn(\n"
     ]
    }
   ],
   "source": [
    "import math\n",
    "import os\n",
    "import glob\n",
    "import pandas as pd\n",
    "\n",
    "from osgeo import gdal\n",
    "from osgeo import osr\n",
    "from osgeo import ogr\n",
    "\n",
    "import pandas as pd\n",
    "from datetime import datetime\n",
    "import geopandas as gpd\n",
    "import matplotlib.pyplot as plt\n",
    "import numpy as np\n",
    "from sklearn.preprocessing import MinMaxScaler, RobustScaler\n",
    "from tqdm.auto import tqdm\n",
    "\n",
    "from scipy.spatial import cKDTree\n",
    "from shapely.geometry import Point\n",
    "\n",
    "from geeml.utils import createGrid\n",
    "import ee\n",
    "try:\n",
    "    ee.Initialize()\n",
    "except:\n",
    "    ee.Authenticate()\n",
    "    ee.Initialize()\n",
    "import geemap"
   ]
  },
  {
   "cell_type": "markdown",
   "id": "9c8ae1cb-bed0-4516-9a93-a98503776153",
   "metadata": {},
   "source": [
    "# Merge files"
   ]
  },
  {
   "cell_type": "code",
   "execution_count": 2,
   "id": "c9484dd5-7a53-4476-87da-d2f2c81e248d",
   "metadata": {
    "tags": []
   },
   "outputs": [
    {
     "name": "stdout",
     "output_type": "stream",
     "text": [
      "Merging data with length: 45\n",
      "Saving data with shape (23664079, 7)\n",
      "Merging data with length: 45\n",
      "Saving data with shape (23664275, 9)\n",
      "Merging data with length: 45\n",
      "Saving data with shape (23663358, 3)\n"
     ]
    }
   ],
   "source": [
    "def toAfrotropic(inDir, outDir, search, colnames):\n",
    "    # Initialize an empty list to store the DataFrame objects\n",
    "    data_frames = []\n",
    "\n",
    "    # Loop through all subdirectories and files in the specified directory\n",
    "    for subdir, dirs, files in os.walk(inDir):\n",
    "        # Loop through all CSV files in the current subdirectory\n",
    "        for file in glob.glob(os.path.join(subdir, search)):\n",
    "            # Read in the CSV file as a DataFrame and append it to the data_frames list\n",
    "            df1 = pd.read_csv(file, low_memory=False, header = None, index_col = False, skiprows=1)\n",
    "            df1.columns = colnames\n",
    "            data_frames.append(df1)\n",
    "\n",
    "    # Concatenate all the DataFrames into a single DataFrame\n",
    "    print(f\"Merging data with length: {len(data_frames)}\")\n",
    "    merged_data = pd.concat(data_frames, ignore_index=True)#.drop_duplicates().reset_index(drop=True)\n",
    "\n",
    "    # Write the merged data to a feather file\n",
    "    print(f\"Saving data with shape {merged_data.shape}\")\n",
    "    merged_data.to_csv(outDir+ \"/\" + search)\n",
    "\n",
    "files = {'mean': {'search': \"mean_1km.csv\", \n",
    "                  'columns': ['mean_precip','Nfer_kgha', 'popDensity', 'sheepDensity', 'goatDensity', 'cattleDensity', 'gid']},\n",
    "'sum': {'search': \"sum_1km.csv\", \n",
    "        'columns': ['areakm2_urban','areakm2_cropCover', 'areakm2_protArea',\n",
    "                    'areakm2_slowNutrArea', 'areakm2_sMedNutriArea',\n",
    "                    'areakm2_sHighNutriArea', 'areakm2_plantation', 'areakm2_treeCrop', 'gid']},\n",
    "'coords': {'search': \"coords_1km.csv\", \n",
    "           'columns': ['x', 'y', 'gid']}}\n",
    "\n",
    "dir_path = r'C:\\Users\\coach\\myfiles\\miscellenous\\hayley\\outputs2'\n",
    "outPath = r'C:\\Users\\coach\\myfiles\\miscellenous\\hayley'\n",
    "\n",
    "for file in files:\n",
    "    search = files.get(file).get('search')\n",
    "    colnames = files.get(file).get('columns')\n",
    "    toAfrotropic(inDir = dir_path, outDir = outPath, search = search, colnames = colnames)"
   ]
  },
  {
   "cell_type": "code",
   "execution_count": 2,
   "id": "b262d17c-cc76-42ab-b20e-0c84dcd079ee",
   "metadata": {},
   "outputs": [
    {
     "data": {
      "text/plain": [
       "'C:\\\\Users\\\\coach\\\\myfiles\\\\miscellenous\\\\hayley'"
      ]
     },
     "execution_count": 2,
     "metadata": {},
     "output_type": "execute_result"
    }
   ],
   "source": [
    "date = datetime.today().strftime('%d%m%Y')\n",
    "outPath = r'C:\\Users\\coach\\myfiles\\miscellenous\\hayley'\n",
    "os.chdir(outPath)\n",
    "os.getcwd()"
   ]
  },
  {
   "cell_type": "code",
   "execution_count": 3,
   "id": "1e4a3273-6416-4221-ba61-1194b0206cab",
   "metadata": {},
   "outputs": [],
   "source": [
    "def ckdnearest(gdA, gdB, k=1):\n",
    "    \"\"\"\n",
    "    For missing values, fill with nearest value\n",
    "    \"\"\"\n",
    "\n",
    "    nA = np.array(list(gdA.geometry.apply(lambda x: (x.x, x.y))))\n",
    "    nB = np.array(list(gdB.geometry.apply(lambda x: (x.x, x.y))))\n",
    "    btree = cKDTree(nB)\n",
    "    dist, idx = btree.query(nA, k=k)\n",
    "    gdB_nearest = gdB.iloc[idx].drop(columns=\"geometry\").reset_index(drop=True)\n",
    "    gdf = pd.concat(\n",
    "        [\n",
    "            gdA.reset_index(drop=True),\n",
    "            gdB_nearest,\n",
    "            pd.Series(dist, name='dist')\n",
    "        ], \n",
    "        axis=1)\n",
    "\n",
    "    return gdf"
   ]
  },
  {
   "cell_type": "code",
   "execution_count": 9,
   "id": "09621066-3e8a-43a6-84ec-8aabca29c252",
   "metadata": {},
   "outputs": [],
   "source": [
    "# On first run, read csv and export as feather\n",
    "# df = pd.read_csv(r\"coords_1km.csv\", index_col = 'Unnamed: 0')\n",
    "# df.to_feather(r\"coords_1km.feather\")\n",
    "df = pd.read_feather(r\"coords_1km.feather\", columns = ['x', 'y', 'gid'])"
   ]
  },
  {
   "cell_type": "code",
   "execution_count": 11,
   "id": "707850c7-48b8-489e-8875-5c47f57eb76e",
   "metadata": {
    "tags": []
   },
   "outputs": [
    {
     "name": "stderr",
     "output_type": "stream",
     "text": [
      "C:\\Users\\coach\\AppData\\Local\\Temp\\ipykernel_3844\\341516735.py:1: DtypeWarning: Columns (1) have mixed types. Specify dtype option on import or set low_memory=False.\n",
      "  df1 = pd.read_csv(r\"sum_1km.csv\", index_col = 'Unnamed: 0')\n",
      "C:\\Users\\coach\\AppData\\Local\\Temp\\ipykernel_3844\\341516735.py:3: SettingWithCopyWarning: \n",
      "A value is trying to be set on a copy of a slice from a DataFrame.\n",
      "Try using .loc[row_indexer,col_indexer] = value instead\n",
      "\n",
      "See the caveats in the documentation: https://pandas.pydata.org/pandas-docs/stable/user_guide/indexing.html#returning-a-view-versus-a-copy\n",
      "  df1['areakm2_urban'] = df1['areakm2_urban'].astype('float')\n",
      "C:\\Users\\coach\\AppData\\Local\\Temp\\ipykernel_3844\\341516735.py:4: SettingWithCopyWarning: \n",
      "A value is trying to be set on a copy of a slice from a DataFrame.\n",
      "Try using .loc[row_indexer,col_indexer] = value instead\n",
      "\n",
      "See the caveats in the documentation: https://pandas.pydata.org/pandas-docs/stable/user_guide/indexing.html#returning-a-view-versus-a-copy\n",
      "  df1['gid'] = df1['gid'].astype('str')\n"
     ]
    }
   ],
   "source": [
    "# read sum.csv set data types and export to feather\n",
    "df1 = pd.read_csv(r\"sum_1km.csv\", index_col = 'Unnamed: 0')\n",
    "df1 = df1.loc[df1['areakm2_urban']!='86\"']\n",
    "\n",
    "df1['areakm2_urban'] = df1['areakm2_urban'].astype('float')\n",
    "df1['gid'] = df1['gid'].astype('str')\n",
    "\n",
    "df1.reset_index(drop=True).to_feather(r\"sum_1km.feather\")\n",
    "df1 = pd.read_feather(r\"sum_1km.feather\")"
   ]
  },
  {
   "cell_type": "code",
   "execution_count": 19,
   "id": "38b64040-8c07-4508-9cfc-431499973e3a",
   "metadata": {
    "tags": []
   },
   "outputs": [],
   "source": [
    "# Mean covariate data\n",
    "# dfmean = pd.read_csv(r\"mean_1km.csv\", index_col = 'Unnamed: 0').dropna()\n",
    "# dfmean= dfmean[dfmean['gid']!= '245,-2948']\n",
    "# dfmean.loc[:,['mean_precip', 'Nfer_kgha', 'goatDensity']] = dfmean.loc[:,['mean_precip', 'Nfer_kgha', 'goatDensity']].astype(float)\n",
    "# dfmean.loc[:,['popDensity', 'cattleDensity']] = dfmean.loc[:,['popDensity', 'cattleDensity']].astype(float)\n",
    "# dfmean.reset_index(drop=True).to_feather(r\"mean_1km.feather\")\n",
    "dfmean = pd.read_feather(r\"mean_1km.feather\")"
   ]
  },
  {
   "cell_type": "code",
   "execution_count": 20,
   "id": "1c8f9763-4324-49d2-9c24-47af99ce45e4",
   "metadata": {},
   "outputs": [],
   "source": [
    "# Merge datasets into single datset based on matching GIS column\n",
    "dfJoin = pd.merge(df1, dfmean, on= 'gid')\n",
    "dfAll = pd.merge(dfJoin, df, on= 'gid')#.drop_duplicates().reset_index(drop=True)"
   ]
  },
  {
   "cell_type": "code",
   "execution_count": 4,
   "id": "2cdd5097-815f-4906-8aab-a7f207fdd10e",
   "metadata": {
    "tags": []
   },
   "outputs": [],
   "source": [
    "# dfAll.to_feather('merged.feather')\n",
    "dfAll = pd.read_feather('merged.feather')"
   ]
  },
  {
   "cell_type": "code",
   "execution_count": 5,
   "id": "b6e547e0-559f-4e7a-b289-c228d6aa6ced",
   "metadata": {},
   "outputs": [
    {
     "name": "stdout",
     "output_type": "stream",
     "text": [
      "The number of missing mean_precip values: 0\n"
     ]
    }
   ],
   "source": [
    "# Fill in missing mean precipitation data\n",
    "# by copying attribute of closest point\n",
    "missing = dfAll.mean_precip.isna().sum()\n",
    "print('The number of missing mean_precip values:', missing)\n",
    "if missing>0:\n",
    "    # Blocks with mean-precip data\n",
    "    sdf2 = dfAll.loc[dfAll['mean_precip'].notna(), ['mean_precip', 'x', 'y']]\n",
    "    gdf2 =  gpd.GeoDataFrame(sdf2.drop(['x', 'y'],axis=1), geometry = gpd.points_from_xy(sdf2.x, sdf2.y))\n",
    "\n",
    "    # All columns without join-attributes(s) column\n",
    "    sdf1 = dfAll.loc[dfAll['mean_precip'].isna(), ['gid','x', 'y']]\n",
    "    gdf1 =  gpd.GeoDataFrame(sdf1.drop(['x', 'y'],axis=1), geometry = gpd.points_from_xy(sdf1.x, sdf1.y))\n",
    "\n",
    "    joinNearest1 = ckdnearest(gdf1, gdf2)\n",
    "\n",
    "    result1 = pd.DataFrame(joinNearest1)[['gid', 'mean_precip']]\n",
    "    result1.columns = ['gid', 'mean_precip2']\n",
    "\n",
    "    dfAll = pd.merge(dfAll, result1, how = 'outer',on = 'gid').drop_duplicates()\n",
    "    dfAll['mean_precip'].fillna(dfAll['mean_precip2'], inplace = True)\n",
    "    dfAll.drop('mean_precip2', axis=1, inplace=True)"
   ]
  },
  {
   "cell_type": "code",
   "execution_count": 6,
   "id": "70b5a721-886e-4c97-a8bc-985942ab3b2a",
   "metadata": {
    "tags": []
   },
   "outputs": [
    {
     "name": "stderr",
     "output_type": "stream",
     "text": [
      "C:\\Users\\coach\\AppData\\Local\\Temp\\ipykernel_2872\\854933499.py:5: FutureWarning: In a future version, `df.iloc[:, i] = newvals` will attempt to set the values inplace instead of always setting a new array. To retain the old behavior, use either `df[df.columns[i]] = newvals` or, if columns are non-unique, `df.isetitem(i, newvals)`\n",
      "  dfF.loc[:,'gid'] = dfF.loc[:,'gid'].astype('string')\n",
      "C:\\Users\\coach\\AppData\\Local\\Temp\\ipykernel_2872\\854933499.py:7: FutureWarning: In a future version, `df.iloc[:, i] = newvals` will attempt to set the values inplace instead of always setting a new array. To retain the old behavior, use either `df[df.columns[i]] = newvals` or, if columns are non-unique, `df.isetitem(i, newvals)`\n",
      "  dfF.loc[:,'mean_precip'] = dfF.loc[:,'mean_precip'].astype('float32')\n"
     ]
    }
   ],
   "source": [
    "dfF = dfAll\n",
    "\n",
    "# Format data types\n",
    "dfF.loc[:,'areakm2_treeCrop'] = dfF.loc[:,'areakm2_treeCrop'].astype('float64')\n",
    "dfF.loc[:,'gid'] = dfF.loc[:,'gid'].astype('string')\n",
    "dfF.loc[:,'Nfer_kgha'] = dfF.loc[:,'Nfer_kgha'].astype('float64')\n",
    "dfF.loc[:,'mean_precip'] = dfF.loc[:,'mean_precip'].astype('float32')"
   ]
  },
  {
   "cell_type": "code",
   "execution_count": 15,
   "id": "6a4554dd-cfc7-4af5-a64f-27f8f7ae0266",
   "metadata": {},
   "outputs": [],
   "source": [
    "# get sub-saharan countries\n",
    "# https://code.earthengine.google.com/443ea31edb2f25f58a3346e7dc8c1064\n",
    "countries = ee.FeatureCollection(\"USDOS/LSIB/2017\")\n",
    "c2 = ee.FeatureCollection(\"USDOS/LSIB_SIMPLE/2017\")\n",
    "afroTropics = ee.FeatureCollection(\"projects/ee-geethensingh/assets/Afrotropics\")\n",
    "\n",
    "africa = c2.filter(ee.Filter.eq('wld_rgn', 'Africa'))\n",
    "sub = countries.filterBounds(afroTropics).aggregate_array('COUNTRY_NA')\\\n",
    ".removeAll(['Gaza Strip (disp)','Israel', 'Algeria', 'Egypt', 'Libya', 'Morocco', 'Tunisia', 'Mayotte (Fr)',\n",
    "            'Spain [Canary Is]', 'Spain [Plazas de Soberania]', 'Portugal [Madeira Is]'])\n",
    "\n",
    "sub_africa = countries.filter(ee.Filter.inList('COUNTRY_NA', sub))"
   ]
  },
  {
   "cell_type": "code",
   "execution_count": 8,
   "id": "5a31d222-3a60-40f5-892d-d991c4bc707c",
   "metadata": {},
   "outputs": [
    {
     "name": "stderr",
     "output_type": "stream",
     "text": [
      "C:\\Users\\coach\\AppData\\Local\\Temp\\ipykernel_2872\\2742369715.py:8: FutureWarning: Currently, index_parts defaults to True, but in the future, it will default to False to be consistent with Pandas. Use `index_parts=True` to keep the current behavior and True/False to silence the warning.\n",
      "  diff = diff.explode()\n",
      "C:\\Users\\coach\\AppData\\Local\\Temp\\ipykernel_2872\\2742369715.py:10: UserWarning: Geometry is in a geographic CRS. Results from 'area' are likely incorrect. Use 'GeoSeries.to_crs()' to re-project geometries to a projected CRS before this operation.\n",
      "\n",
      "  diff['area'] = diff.geometry.area\n"
     ]
    },
    {
     "data": {
      "text/plain": [
       "<AxesSubplot: >"
      ]
     },
     "execution_count": 8,
     "metadata": {},
     "output_type": "execute_result"
    },
    {
     "data": {
      "image/png": "[encoded data removed]",
      "text/plain": [
       "<Figure size 640x480 with 1 Axes>"
      ]
     },
     "metadata": {},
     "output_type": "display_data"
    }
   ],
   "source": [
    "aoi = sub_africa.union(1000)\n",
    "aoi1 = geemap.ee_to_geopandas(aoi)\n",
    "aoi2 = geemap.ee_to_geopandas(afroTropics)\n",
    "\n",
    "diff = aoi1.difference(aoi2)\n",
    "# Create a new GeoDataFrame with each part of the geometry as a separate row\n",
    "diff = gpd.GeoDataFrame(geometry=[part for part in diff], crs= 'EPSG:4326')\n",
    "diff = diff.explode()\n",
    "\n",
    "diff['area'] = diff.geometry.area\n",
    "max_diff = diff.loc[diff['area']==diff['area'].max()]\n",
    "max_diff.plot()"
   ]
  },
  {
   "cell_type": "code",
   "execution_count": 9,
   "id": "b60281cf-a136-4553-a5a1-00bfcb9c9aa9",
   "metadata": {},
   "outputs": [],
   "source": [
    "diff_aoi = geemap.geopandas_to_ee(gpd.GeoDataFrame(geometry= max_diff.geometry, crs= 'EPSG:4326'))\n",
    "# diff_aoi"
   ]
  },
  {
   "cell_type": "code",
   "execution_count": 48,
   "id": "ee6b6d1f-f254-44c7-ab7b-f00d7781ebe8",
   "metadata": {},
   "outputs": [
    {
     "data": {
      "application/vnd.jupyter.widget-view+json": {
       "model_id": "0f9b568762ed4b80827bac6e08d7b5e0",
       "version_major": 2,
       "version_minor": 0
      },
      "text/plain": [
       "Map(center=[20, 0], controls=(WidgetControl(options=['position', 'transparent_bg'], widget=HBox(children=(Togg…"
      ]
     },
     "metadata": {},
     "output_type": "display_data"
    }
   ],
   "source": [
    "Map = geemap.Map()\n",
    "Map.addLayer(diff_aoi)\n",
    "Map"
   ]
  },
  {
   "cell_type": "code",
   "execution_count": 4,
   "id": "a1180d40-02fa-492b-a168-661556bcd2c3",
   "metadata": {},
   "outputs": [
    {
     "ename": "NameError",
     "evalue": "name 'diff_aoi' is not defined",
     "output_type": "error",
     "traceback": [
      "\u001b[1;31m---------------------------------------------------------------------------\u001b[0m",
      "\u001b[1;31mNameError\u001b[0m                                 Traceback (most recent call last)",
      "Cell \u001b[1;32mIn [4], line 22\u001b[0m\n\u001b[0;32m     19\u001b[0m \u001b[38;5;66;03m# ALbers equal area for africa\u001b[39;00m\n\u001b[0;32m     20\u001b[0m epsg_102022 \u001b[38;5;241m=\u001b[39m ee\u001b[38;5;241m.\u001b[39mProjection(wkt)\n\u001b[1;32m---> 22\u001b[0m grid, _ \u001b[38;5;241m=\u001b[39m createGrid(\u001b[38;5;241m1000\u001b[39m, \u001b[43mdiff_aoi\u001b[49m, crs \u001b[38;5;241m=\u001b[39m epsg_102022)\n\u001b[0;32m     23\u001b[0m remove_ids \u001b[38;5;241m=\u001b[39m grid\u001b[38;5;241m.\u001b[39mmap(\u001b[38;5;28;01mlambda\u001b[39;00m cell: cell\u001b[38;5;241m.\u001b[39mset(\u001b[38;5;124m'\u001b[39m\u001b[38;5;124mid\u001b[39m\u001b[38;5;124m'\u001b[39m, cell\u001b[38;5;241m.\u001b[39mid()))\u001b[38;5;241m.\u001b[39maggregate_array(\u001b[38;5;124m'\u001b[39m\u001b[38;5;124mid\u001b[39m\u001b[38;5;124m'\u001b[39m)\u001b[38;5;241m.\u001b[39mgetInfo()\n",
      "\u001b[1;31mNameError\u001b[0m: name 'diff_aoi' is not defined"
     ]
    }
   ],
   "source": [
    "# Define projection\n",
    "wkt = '\\\n",
    "PROJCS[\"Africa_Albers_Equal_Area_Conic\",\\\n",
    "    GEOGCS[\"GCS_WGS_1984\",\\\n",
    "    DATUM[\"WGS_1984\",\\\n",
    "    SPHEROID[\"WGS_1984\",6378137,298.257223563]],\\\n",
    "    PRIMEM[\"Greenwich\",0],\\\n",
    "    UNIT[\"Degree\",0.017453292519943295]],\\\n",
    "    PROJECTION[\"Albers_Conic_Equal_Area\"],\\\n",
    "    PARAMETER[\"False_Easting\",0],\\\n",
    "    PARAMETER[\"False_Northing\",0],\\\n",
    "    PARAMETER[\"longitude_of_center\",25],\\\n",
    "    PARAMETER[\"Standard_Parallel_1\",20],\\\n",
    "    PARAMETER[\"Standard_Parallel_2\",-23],\\\n",
    "    PARAMETER[\"latitude_of_center\",0],\\\n",
    "    UNIT[\"Meter\",1],\\\n",
    "    AUTHORITY[\"EPSG\",\"102022\"]]'\n",
    "\n",
    "# ALbers equal area for africa\n",
    "epsg_102022 = ee.Projection(wkt)\n",
    "\n",
    "grid, _ = createGrid(1000, diff_aoi, crs = epsg_102022)\n",
    "remove_ids = grid.map(lambda cell: cell.set('id', cell.id())).aggregate_array('id').getInfo()"
   ]
  },
  {
   "cell_type": "code",
   "execution_count": 55,
   "id": "b82e338f-7c89-4bdd-a95a-89b5c52fa504",
   "metadata": {},
   "outputs": [
    {
     "data": {
      "text/plain": [
       "(16588099, 18)"
      ]
     },
     "execution_count": 55,
     "metadata": {},
     "output_type": "execute_result"
    }
   ],
   "source": [
    "dfF.loc[~dfF['gid'].isin(remove_ids)].shape"
   ]
  },
  {
   "cell_type": "code",
   "execution_count": 11,
   "id": "b87b8e72-cbd3-4010-aade-7506da6d9c1c",
   "metadata": {},
   "outputs": [
    {
     "name": "stdout",
     "output_type": "stream",
     "text": [
      "shape before: (24219858, 17)\n",
      "shape after: (21133874, 17)\n"
     ]
    },
    {
     "data": {
      "text/html": [
       "<div>\n",
       "<style scoped>\n",
       "    .dataframe tbody tr th:only-of-type {\n",
       "        vertical-align: middle;\n",
       "    }\n",
       "\n",
       "    .dataframe tbody tr th {\n",
       "        vertical-align: top;\n",
       "    }\n",
       "\n",
       "    .dataframe thead th {\n",
       "        text-align: right;\n",
       "    }\n",
       "</style>\n",
       "<table border=\"1\" class=\"dataframe\">\n",
       "  <thead>\n",
       "    <tr style=\"text-align: right;\">\n",
       "      <th></th>\n",
       "      <th>areakm2_urban</th>\n",
       "      <th>areakm2_cropCover</th>\n",
       "      <th>areakm2_protArea</th>\n",
       "      <th>areakm2_slowNutrArea</th>\n",
       "      <th>areakm2_sMedNutriArea</th>\n",
       "      <th>areakm2_sHighNutriArea</th>\n",
       "      <th>areakm2_plantation</th>\n",
       "      <th>areakm2_treeCrop</th>\n",
       "      <th>gid</th>\n",
       "      <th>mean_precip</th>\n",
       "      <th>Nfer_kgha</th>\n",
       "      <th>popDensity</th>\n",
       "      <th>sheepDensity</th>\n",
       "      <th>goatDensity</th>\n",
       "      <th>cattleDensity</th>\n",
       "      <th>x</th>\n",
       "      <th>y</th>\n",
       "    </tr>\n",
       "  </thead>\n",
       "  <tbody>\n",
       "    <tr>\n",
       "      <th>0</th>\n",
       "      <td>0.0</td>\n",
       "      <td>0.0</td>\n",
       "      <td>0.0</td>\n",
       "      <td>0.999999</td>\n",
       "      <td>0.0</td>\n",
       "      <td>0.0</td>\n",
       "      <td>0.0</td>\n",
       "      <td>0.0</td>\n",
       "      <td>299,1140</td>\n",
       "      <td>781.408203</td>\n",
       "      <td>0.0</td>\n",
       "      <td>7.829042</td>\n",
       "      <td>13.063177</td>\n",
       "      <td>5.999696</td>\n",
       "      <td>11.667612</td>\n",
       "      <td>299500</td>\n",
       "      <td>1140500</td>\n",
       "    </tr>\n",
       "    <tr>\n",
       "      <th>1</th>\n",
       "      <td>0.0</td>\n",
       "      <td>0.0</td>\n",
       "      <td>0.0</td>\n",
       "      <td>0.999999</td>\n",
       "      <td>0.0</td>\n",
       "      <td>0.0</td>\n",
       "      <td>0.0</td>\n",
       "      <td>0.0</td>\n",
       "      <td>299,1140</td>\n",
       "      <td>781.408203</td>\n",
       "      <td>0.0</td>\n",
       "      <td>7.829042</td>\n",
       "      <td>13.063177</td>\n",
       "      <td>5.999696</td>\n",
       "      <td>11.667612</td>\n",
       "      <td>299500</td>\n",
       "      <td>1140500</td>\n",
       "    </tr>\n",
       "    <tr>\n",
       "      <th>2</th>\n",
       "      <td>0.0</td>\n",
       "      <td>0.0</td>\n",
       "      <td>0.0</td>\n",
       "      <td>0.999999</td>\n",
       "      <td>0.0</td>\n",
       "      <td>0.0</td>\n",
       "      <td>0.0</td>\n",
       "      <td>0.0</td>\n",
       "      <td>299,1140</td>\n",
       "      <td>781.408203</td>\n",
       "      <td>0.0</td>\n",
       "      <td>7.829042</td>\n",
       "      <td>13.063177</td>\n",
       "      <td>5.999696</td>\n",
       "      <td>11.667612</td>\n",
       "      <td>299500</td>\n",
       "      <td>1140500</td>\n",
       "    </tr>\n",
       "    <tr>\n",
       "      <th>3</th>\n",
       "      <td>0.0</td>\n",
       "      <td>0.0</td>\n",
       "      <td>0.0</td>\n",
       "      <td>0.999999</td>\n",
       "      <td>0.0</td>\n",
       "      <td>0.0</td>\n",
       "      <td>0.0</td>\n",
       "      <td>0.0</td>\n",
       "      <td>299,1140</td>\n",
       "      <td>781.408203</td>\n",
       "      <td>0.0</td>\n",
       "      <td>7.829042</td>\n",
       "      <td>13.063177</td>\n",
       "      <td>5.999696</td>\n",
       "      <td>11.667612</td>\n",
       "      <td>299500</td>\n",
       "      <td>1140500</td>\n",
       "    </tr>\n",
       "    <tr>\n",
       "      <th>4</th>\n",
       "      <td>0.0</td>\n",
       "      <td>0.0</td>\n",
       "      <td>0.0</td>\n",
       "      <td>0.999999</td>\n",
       "      <td>0.0</td>\n",
       "      <td>0.0</td>\n",
       "      <td>0.0</td>\n",
       "      <td>0.0</td>\n",
       "      <td>299,1140</td>\n",
       "      <td>781.408203</td>\n",
       "      <td>0.0</td>\n",
       "      <td>7.829042</td>\n",
       "      <td>13.063177</td>\n",
       "      <td>5.999696</td>\n",
       "      <td>11.667612</td>\n",
       "      <td>299500</td>\n",
       "      <td>1140500</td>\n",
       "    </tr>\n",
       "  </tbody>\n",
       "</table>\n",
       "</div>"
      ],
      "text/plain": [
       "   areakm2_urban  areakm2_cropCover  areakm2_protArea  areakm2_slowNutrArea  \\\n",
       "0            0.0                0.0               0.0              0.999999   \n",
       "1            0.0                0.0               0.0              0.999999   \n",
       "2            0.0                0.0               0.0              0.999999   \n",
       "3            0.0                0.0               0.0              0.999999   \n",
       "4            0.0                0.0               0.0              0.999999   \n",
       "\n",
       "   areakm2_sMedNutriArea  areakm2_sHighNutriArea  areakm2_plantation  \\\n",
       "0                    0.0                     0.0                 0.0   \n",
       "1                    0.0                     0.0                 0.0   \n",
       "2                    0.0                     0.0                 0.0   \n",
       "3                    0.0                     0.0                 0.0   \n",
       "4                    0.0                     0.0                 0.0   \n",
       "\n",
       "   areakm2_treeCrop       gid  mean_precip  Nfer_kgha  popDensity  \\\n",
       "0               0.0  299,1140   781.408203        0.0    7.829042   \n",
       "1               0.0  299,1140   781.408203        0.0    7.829042   \n",
       "2               0.0  299,1140   781.408203        0.0    7.829042   \n",
       "3               0.0  299,1140   781.408203        0.0    7.829042   \n",
       "4               0.0  299,1140   781.408203        0.0    7.829042   \n",
       "\n",
       "   sheepDensity  goatDensity  cattleDensity       x        y  \n",
       "0     13.063177     5.999696      11.667612  299500  1140500  \n",
       "1     13.063177     5.999696      11.667612  299500  1140500  \n",
       "2     13.063177     5.999696      11.667612  299500  1140500  \n",
       "3     13.063177     5.999696      11.667612  299500  1140500  \n",
       "4     13.063177     5.999696      11.667612  299500  1140500  "
      ]
     },
     "execution_count": 11,
     "metadata": {},
     "output_type": "execute_result"
    }
   ],
   "source": [
    "print(f'shape before: {dfF.shape}') \n",
    "dfF = dfF.loc[~dfF['gid'].isin(remove_ids)]\n",
    "print(f'shape after: {dfF.shape}')\n",
    "dfF.head()"
   ]
  },
  {
   "cell_type": "code",
   "execution_count": 4,
   "id": "995023be-e303-47a6-bfde-e921ac057e18",
   "metadata": {},
   "outputs": [],
   "source": [
    "dfF = pd.read_feather(r\"cleaned.feather\")"
   ]
  },
  {
   "cell_type": "code",
   "execution_count": 5,
   "id": "19f4248a-8053-4303-9599-f404479fbdf7",
   "metadata": {
    "tags": []
   },
   "outputs": [],
   "source": [
    "# Define projection\n",
    "wkt = '\\\n",
    "PROJCS[\"Africa_Albers_Equal_Area_Conic\",\\\n",
    "    GEOGCS[\"GCS_WGS_1984\",\\\n",
    "    DATUM[\"WGS_1984\",\\\n",
    "    SPHEROID[\"WGS_1984\",6378137,298.257223563]],\\\n",
    "    PRIMEM[\"Greenwich\",0],\\\n",
    "    UNIT[\"Degree\",0.017453292519943295]],\\\n",
    "    PROJECTION[\"Albers_Conic_Equal_Area\"],\\\n",
    "    PARAMETER[\"False_Easting\",0],\\\n",
    "    PARAMETER[\"False_Northing\",0],\\\n",
    "    PARAMETER[\"longitude_of_center\",25],\\\n",
    "    PARAMETER[\"Standard_Parallel_1\",20],\\\n",
    "    PARAMETER[\"Standard_Parallel_2\",-23],\\\n",
    "    PARAMETER[\"latitude_of_center\",0],\\\n",
    "    UNIT[\"Meter\",1],\\\n",
    "    AUTHORITY[\"EPSG\",\"102022\"]]'\n",
    "\n",
    "# ALbers equal area for africa\n",
    "epsg_102022 = ee.Projection(wkt)"
   ]
  },
  {
   "cell_type": "code",
   "execution_count": null,
   "id": "5ffbb593-3673-41aa-b4e3-6adf34ec742d",
   "metadata": {},
   "outputs": [
    {
     "name": "stdout",
     "output_type": "stream",
     "text": [
      "The number of missing soil nutrient values: 138889\n"
     ]
    }
   ],
   "source": [
    "# Fill in missing Nutrient data\n",
    "# Copy attribute of closest point\n",
    "df = dfF\n",
    "df['maxN'] = df[['areakm2_slowNutrArea','areakm2_sMedNutriArea', 'areakm2_sHighNutriArea']].max(axis=1)\n",
    "\n",
    "missing = df[df.maxN==0].shape[0]\n",
    "print('The number of missing soil nutrient values:', missing)\n",
    "if missing>0:\n",
    "    # Blocks with Nutrient areas\n",
    "    sdf2 = df.loc[df['maxN']>0, ['areakm2_slowNutrArea','areakm2_sMedNutriArea', 'areakm2_sHighNutriArea', 'x', 'y']]\n",
    "    gdf2 =  gpd.GeoDataFrame(sdf2.drop(['x', 'y'],axis=1), geometry = gpd.points_from_xy(sdf2.x, sdf2.y))\n",
    "\n",
    "    # All columns without join-attributes(s) column\n",
    "    sdf1 = df[['gid', 'x', 'y']]\n",
    "    gdf1 =  gpd.GeoDataFrame(sdf1.drop(['x', 'y'],axis=1), geometry = gpd.points_from_xy(sdf1.x, sdf1.y))\n",
    "\n",
    "    joinNearest1 = ckdnearest(gdf1, gdf2)\n",
    "\n",
    "    result1 = pd.DataFrame(joinNearest1)[['gid', 'areakm2_slowNutrArea','areakm2_sMedNutriArea', 'areakm2_sHighNutriArea']]\n",
    "    result1.columns = ['gid', 'areakm2_slowNutrArea2','areakm2_sMedNutriArea2', 'areakm2_sHighNutriArea2']\n",
    "\n",
    "    finaldf = pd.merge(df, result1, how = 'outer',on = 'gid')\n",
    "else:\n",
    "    finaldf = df"
   ]
  },
  {
   "cell_type": "code",
   "execution_count": 6,
   "id": "6aaf0760-b2b5-43cc-ab8e-ddf23dca9def",
   "metadata": {},
   "outputs": [
    {
     "name": "stdout",
     "output_type": "stream",
     "text": [
      "max rainfall:8409155371008.0\n",
      "max rainfall:8409155371008.0\n",
      "max rainfall:5064011.0\n"
     ]
    }
   ],
   "source": [
    "print(f\"max rainfall:{finaldf.mean_precip.max()}\")\n",
    "while finaldf.mean_precip.max() >20000:\n",
    "    print(f\"max rainfall:{finaldf.mean_precip.max()}\")\n",
    "    finaldf = finaldf[finaldf.mean_precip<finaldf.mean_precip.max()]\n",
    "finaldf.mean_precip.max()"
   ]
  },
  {
   "cell_type": "code",
   "execution_count": 7,
   "id": "5f0c762e-ecc3-4011-9114-ecbed2edf8fc",
   "metadata": {},
   "outputs": [
    {
     "name": "stdout",
     "output_type": "stream",
     "text": [
      "0     4985764\n",
      "2     4703990\n",
      "1     4490010\n",
      "3     3676522\n",
      "4     2090591\n",
      "5      371439\n",
      "6      178543\n",
      "7       65980\n",
      "8       21441\n",
      "9        2468\n",
      "10        199\n",
      "Name: precipDiscrete, dtype: int64\n"
     ]
    }
   ],
   "source": [
    "# Add small value to zero precip\n",
    "finaldf.loc[finaldf.mean_precip==0, 'mean_precip'] = 0.1\n",
    "# Round of to the nearest 400\n",
    "max_round = math.ceil(max(finaldf['mean_precip']) / 400) * 400\n",
    "cut_bins = list(range(0, max_round+1, 400))\n",
    "# discretize precipitation into categories \n",
    "cut_labels = [str(item) for item in range(0, len(cut_bins)-1)]\n",
    "finaldf[\"precipDiscrete\"] = pd.cut(x = finaldf[\"mean_precip\"].astype(float), bins= cut_bins, labels = cut_labels)\n",
    "print(finaldf.precipDiscrete.value_counts())\n",
    "\n",
    "# Identify the max nutrient area\n",
    "finaldf['maxNutr'] = finaldf[['areakm2_slowNutrArea2','areakm2_sMedNutriArea2', 'areakm2_sHighNutriArea2']].idxmax(axis=1)\n",
    "\n",
    "# Get unique category based on precip bucket and max nutrient category\n",
    "finaldf['combination_LS_intensity'] = finaldf[['precipDiscrete','maxNutr']].agg(tuple, axis=1)\n",
    "finaldf['lsIntensityCat'] = finaldf['combination_LS_intensity'].factorize()[0]"
   ]
  },
  {
   "cell_type": "code",
   "execution_count": 8,
   "id": "df76966a-bfba-4654-a5b5-843f3b00a8d0",
   "metadata": {},
   "outputs": [
    {
     "name": "stdout",
     "output_type": "stream",
     "text": [
      "Livestock Intensity categories (based on unique combinations of discretised precipitation and max nutrient category): [0, 1, 2, 3, 4, 5, 6, 7, 8, 9, 10, 11, 12, 13, 14, 15, 16, 17, 18, 19, 20, 21, 22, 23, 24, 25, 26, 27]\n"
     ]
    },
    {
     "data": {
      "application/vnd.jupyter.widget-view+json": {
       "model_id": "a502516c081b4832b402d9c487278e9a",
       "version_major": 2,
       "version_minor": 0
      },
      "text/plain": [
       "  0%|          | 0/28 [00:00<?, ?it/s]"
      ]
     },
     "metadata": {},
     "output_type": "display_data"
    },
    {
     "name": "stdout",
     "output_type": "stream",
     "text": [
      "The 99th percentile of summed livestock density for combination 0 is: 450.0038024777067\n",
      "The 99th percentile of summed livestock density for combination 1 is: 332.6190599041766\n",
      "The 99th percentile of summed livestock density for combination 2 is: 245.2022127980789\n",
      "The 99th percentile of summed livestock density for combination 3 is: 257.6245400383198\n",
      "The 99th percentile of summed livestock density for combination 4 is: 319.5076179159332\n",
      "The 99th percentile of summed livestock density for combination 5 is: 243.3486251118582\n",
      "The 99th percentile of summed livestock density for combination 6 is: 230.70352355836988\n",
      "The 99th percentile of summed livestock density for combination 7 is: 303.6019580458383\n",
      "The 99th percentile of summed livestock density for combination 8 is: 385.39497771238024\n",
      "The 99th percentile of summed livestock density for combination 9 is: 416.54549035623086\n",
      "The 99th percentile of summed livestock density for combination 10 is: 231.77507812956472\n",
      "The 99th percentile of summed livestock density for combination 11 is: 138.44611870365193\n",
      "The 99th percentile of summed livestock density for combination 12 is: 217.78168832524167\n",
      "The 99th percentile of summed livestock density for combination 13 is: 18.171079262730714\n",
      "The 99th percentile of summed livestock density for combination 14 is: 368.23301570699016\n",
      "The 99th percentile of summed livestock density for combination 15 is: 27.719287813094947\n",
      "The 99th percentile of summed livestock density for combination 16 is: 408.8195978425063\n",
      "The 99th percentile of summed livestock density for combination 17 is: 360.0476098010745\n",
      "The 99th percentile of summed livestock density for combination 18 is: 43.400950735280375\n",
      "The 99th percentile of summed livestock density for combination 19 is: 121.44794292196966\n",
      "The 99th percentile of summed livestock density for combination 20 is: 219.8072694699377\n",
      "The 99th percentile of summed livestock density for combination 21 is: 595.2397132274776\n",
      "The 99th percentile of summed livestock density for combination 22 is: 356.64918595344665\n",
      "The 99th percentile of summed livestock density for combination 23 is: 496.83822273787104\n",
      "The 99th percentile of summed livestock density for combination 24 is: 280.5005544571474\n",
      "The 99th percentile of summed livestock density for combination 25 is: 432.708601791845\n",
      "The 99th percentile of summed livestock density for combination 26 is: 93.5886572049236\n",
      "The 99th percentile of summed livestock density for combination 27 is: 18.187298625130325\n"
     ]
    }
   ],
   "source": [
    "# Get unique combinations of precipitation and maxNutrient categories\n",
    "combinations = list(set(finaldf['lsIntensityCat']))\n",
    "print(\"Livestock Intensity categories (based on unique combinations of discretised precipitation and max nutrient category):\",combinations)\n",
    "\n",
    "# Compute the sum of sheep, goat and cattle density\n",
    "finaldf['lsSum'] = finaldf[['sheepDensity', 'goatDensity', 'cattleDensity']].sum(axis=1)\n",
    "\n",
    "# Scale data\n",
    "finaldf['scaled_livestockIntensity']= 0\n",
    "for combination in tqdm(combinations):\n",
    "    qq99 = finaldf.loc[(finaldf['lsIntensityCat'] == combination),'lsSum'].quantile(0.99)\n",
    "    print(f'The 99th percentile of summed livestock density for combination {combination} is: {qq99}')\n",
    "    # if there are rows\n",
    "    if finaldf.loc[(finaldf['lsIntensityCat'] == combination)&(finaldf['lsSum']<qq99), 'scaled_livestockIntensity'].shape[0]>0:\n",
    "        # apply min max scaling to all data less than 99th quantile per unique combination.\n",
    "        scaler = MinMaxScaler()\n",
    "        finaldf.loc[(finaldf['lsIntensityCat'] == combination)&(finaldf['lsSum']<qq99), 'scaled_livestockIntensity']\\\n",
    "        = scaler.fit_transform(pd.DataFrame(finaldf.loc[(finaldf['lsIntensityCat'] == combination)&(finaldf['lsSum']<qq99)\\\n",
    "                                                    , 'lsSum']))\n",
    "    else: \n",
    "        finaldf.loc[(finaldf['lsIntensityCat'] == combination)&(finaldf['lsSum']<qq99), 'scaled_livestockIntensity'] =\\\n",
    "        finaldf.loc[(finaldf['lsIntensityCat'] == combination)&(finaldf['lsSum']<qq99), 'scaled_livestockIntensity']\n",
    "    # for data greater than 99th percentile per category, equal to max value 1\n",
    "    finaldf.loc[(finaldf['lsIntensityCat'] == combination)&(finaldf['lsSum']>=qq99), 'scaled_livestockIntensity'] = 1"
   ]
  },
  {
   "cell_type": "code",
   "execution_count": 9,
   "id": "e813f87b-0196-4e57-880e-3d2a2b01f4a0",
   "metadata": {},
   "outputs": [
    {
     "name": "stdout",
     "output_type": "stream",
     "text": [
      "combination 0 has a max value of 1.0\n",
      "combination 0 has a min value of 0.0\n",
      "combination 1 has a max value of 1.0\n",
      "combination 1 has a min value of 0.0\n",
      "combination 2 has a max value of 1.0\n",
      "combination 2 has a min value of 0.0\n",
      "combination 3 has a max value of 1.0\n",
      "combination 3 has a min value of 0.0\n",
      "combination 4 has a max value of 1.0\n",
      "combination 4 has a min value of 0.0\n",
      "combination 5 has a max value of 1.0\n",
      "combination 5 has a min value of 0.0\n",
      "combination 6 has a max value of 1.0\n",
      "combination 6 has a min value of 0.0\n",
      "combination 7 has a max value of 1.0\n",
      "combination 7 has a min value of 0.0\n",
      "combination 8 has a max value of 1.0\n",
      "combination 8 has a min value of 0.0\n",
      "combination 9 has a max value of 1.0\n",
      "combination 9 has a min value of 0.0\n",
      "combination 10 has a max value of 1.0\n",
      "combination 10 has a min value of 0.0\n",
      "combination 11 has a max value of 1.0\n",
      "combination 11 has a min value of 0.0\n",
      "combination 12 has a max value of 1.0\n",
      "combination 12 has a min value of 0.0\n",
      "combination 13 has a max value of 1.0\n",
      "combination 13 has a min value of 0.0\n",
      "combination 14 has a max value of 1.0\n",
      "combination 14 has a min value of 0.0\n",
      "combination 15 has a max value of 1.0\n",
      "combination 15 has a min value of 0.0\n",
      "combination 16 has a max value of 1.0\n",
      "combination 16 has a min value of 0.0\n",
      "combination 17 has a max value of 1.0\n",
      "combination 17 has a min value of 0.0\n",
      "combination 18 has a max value of 1.0\n",
      "combination 18 has a min value of 0.0\n",
      "combination 19 has a max value of 1.0\n",
      "combination 19 has a min value of 0.0\n",
      "combination 20 has a max value of 1.0\n",
      "combination 20 has a min value of 0.0\n",
      "combination 21 has a max value of 1.0\n",
      "combination 21 has a min value of 0.0\n",
      "combination 22 has a max value of 1.0\n",
      "combination 22 has a min value of 0.0\n",
      "combination 23 has a max value of 1.0\n",
      "combination 23 has a min value of 0.0\n",
      "combination 24 has a max value of 1.0\n",
      "combination 24 has a min value of 0.0\n",
      "combination 25 has a max value of 1.0\n",
      "combination 25 has a min value of 0.0\n",
      "combination 26 has a max value of 1.0\n",
      "combination 26 has a min value of 0.0\n",
      "combination 27 has a max value of 1.0\n",
      "combination 27 has a min value of 1.0\n"
     ]
    }
   ],
   "source": [
    "for cid in combinations:\n",
    "    data = finaldf.loc[(finaldf['lsIntensityCat'] == cid), 'scaled_livestockIntensity']\n",
    "    print(f\"combination {cid} has a max value of {data.max()}\") \n",
    "    print(f\"combination {cid} has a min value of {data.min()}\") "
   ]
  },
  {
   "cell_type": "code",
   "execution_count": 10,
   "id": "abf68bb9-924f-4dac-a702-d2db3ea5bf72",
   "metadata": {
    "tags": []
   },
   "outputs": [
    {
     "name": "stdout",
     "output_type": "stream",
     "text": [
      "shape before (20586947, 27)\n"
     ]
    }
   ],
   "source": [
    "# Export data\n",
    "date = datetime.today().strftime('%d%m%Y')\n",
    "outfile = f'1km_{date}.feather'\n",
    "print(f\"shape before {finaldf.shape}\")\n",
    "finaldf.reset_index(drop=True).to_feather(outfile)\n",
    "# finaldf.drop_duplicates().reset_index(drop=True).to_feather(outfile)\n",
    "# print(f\"shape after {finaldf.drop_duplicates().reset_index(drop=True).shape}\")"
   ]
  },
  {
   "cell_type": "markdown",
   "id": "6a4e45d4-9cd5-4f1c-85e2-177b05c794b5",
   "metadata": {},
   "source": [
    "## Expert Decision tree"
   ]
  },
  {
   "cell_type": "code",
   "execution_count": 11,
   "id": "d5c92bfd-0bd4-459c-b4dc-be5e860e9105",
   "metadata": {
    "tags": []
   },
   "outputs": [],
   "source": [
    "def ckdnearest_fsz(gdA, gdB, k=5):\n",
    "    \"\"\"\n",
    "    For rows with no field size data, identify the 5-closest points -> select the most common fieldSize.\n",
    "    If there are 2 most field sizes, drop the furthest point and redetermine most common field Size.\n",
    "    \n",
    "    Args:\n",
    "        gdA (pandas DataFrame): contains rows with missing data in column named 'fieldSize'\n",
    "        gdB (pandas DataFrame): contains rows with no missing data in column named 'fieldSize'\n",
    "        k (int): Determines the number of closest points considered\n",
    "    \n",
    "    Returns:\n",
    "        gdA (pandas dataframe) with filled in missing data at column named 'fieldSize2'.\n",
    "        If the 5 points are each different fieldsizes, this function will not work.\n",
    "    \"\"\"\n",
    "    # get 5-closest pts\n",
    "    nA = np.array(list(gdA.geometry.apply(lambda x: (x.x, x.y))))\n",
    "    nB = np.array(list(gdB.geometry.apply(lambda x: (x.x, x.y))))\n",
    "    btree = cKDTree(nB)\n",
    "    dist, idx = btree.query(nA, k=k)\n",
    "    \n",
    "    gdA['fieldSize2'] = np.nan\n",
    "    for row in tqdm(range(idx.shape[0])):\n",
    "        # get 5 rows\n",
    "        data = gdB.iloc[idx[row],:]\n",
    "        # get most common fieldsize value\n",
    "        if data['fieldSize'].value_counts().mode().shape[0]==1:\n",
    "            most_common = data['fieldSize'].value_counts().idxmax()\n",
    "            gdA.at[row, 'fieldSize2'] = most_common\n",
    "        # if 2 or more values are returned, drop point with greatest distance\n",
    "        else:\n",
    "            fts = pd.DataFrame(np.column_stack([dist[row], idx[row]]), columns=['dist', 'idx'])\n",
    "            # drop point with greatest distance\n",
    "            idx_i = list(fts.loc[fts['dist']<fts['dist'].max(), 'idx'])\n",
    "            data = gdB.iloc[idx_i,:]\n",
    "            # get most common value\n",
    "            most_common = data['fieldSize'].value_counts().idxmax()\n",
    "            gdA.at[row, 'fieldSize2'] = most_common\n",
    "    return gdA"
   ]
  },
  {
   "cell_type": "code",
   "execution_count": 12,
   "id": "f2453cca-3952-45c6-a2f9-70937f46f170",
   "metadata": {
    "tags": []
   },
   "outputs": [],
   "source": [
    "date = datetime.today().strftime('%d%m%Y')\n",
    "infile = f'1km_{date}.feather'\n",
    "df = pd.read_feather(infile).dropna().reset_index(drop=True)"
   ]
  },
  {
   "cell_type": "code",
   "execution_count": 14,
   "id": "d4bcc049-6f1b-4b60-99c3-a296ea12744d",
   "metadata": {},
   "outputs": [
    {
     "name": "stdout",
     "output_type": "stream",
     "text": [
      "The number of cells per landcover category\n"
     ]
    },
    {
     "data": {
      "text/plain": [
       "6    16780973\n",
       "4     2531078\n",
       "5     1082818\n",
       "1      138576\n",
       "2       38917\n",
       "3       14584\n",
       "Name: Land_Use, dtype: int64"
      ]
     },
     "execution_count": 14,
     "metadata": {},
     "output_type": "execute_result"
    }
   ],
   "source": [
    "#1= Urban\n",
    "#2= Timber plantations\n",
    "#3= Tree Croplands\n",
    "#4= CropLands\n",
    "#5= Protected areas\n",
    "#6= Rangelands/Near-natural lands\n",
    "\n",
    "def ExpertDT(df):\n",
    "\n",
    "    #6= Rangelands/Near-natural lands\n",
    "    df['Land_Use'] = 6\n",
    "\n",
    "    #5= Protected areas\n",
    "    df.loc[df['areakm2_protArea']>0.2, 'Land_Use'] = 5\n",
    "\n",
    "    #4= CropLands\n",
    "    df.loc[df['areakm2_cropCover']>0.2, 'Land_Use'] = 4\n",
    "\n",
    "    #3= Tree Croplands\n",
    "    df.loc[df['areakm2_treeCrop']>0.2, 'Land_Use'] = 3\n",
    "\n",
    "    #2= Timber plantations\n",
    "    df.loc[df['areakm2_plantation']>0.2, 'Land_Use'] = 2\n",
    "\n",
    "    #1= Urban\n",
    "    df.loc[(df['areakm2_urban']>0.2)|\n",
    "           (df['popDensity']>1000) , 'Land_Use'] = 1\n",
    "    return df\n",
    "    \n",
    "result = ExpertDT(df)\n",
    "print('The number of cells per landcover category')\n",
    "result['Land_Use'].value_counts()"
   ]
  },
  {
   "cell_type": "code",
   "execution_count": 15,
   "id": "2b80e25b-031c-4ad2-a05d-e779d368f0a1",
   "metadata": {
    "tags": []
   },
   "outputs": [
    {
     "data": {
      "application/vnd.jupyter.widget-view+json": {
       "model_id": "aea81b2a3592417da6cbf216da42e3e5",
       "version_major": 2,
       "version_minor": 0
      },
      "text/plain": [
       "  0%|          | 0/4 [00:00<?, ?it/s]"
      ]
     },
     "metadata": {},
     "output_type": "display_data"
    },
    {
     "name": "stderr",
     "output_type": "stream",
     "text": [
      "C:\\Users\\coach\\AppData\\Local\\Temp\\ipykernel_3204\\1893818060.py:44: FutureWarning: The frame.append method is deprecated and will be removed from pandas in a future version. Use pandas.concat instead.\n",
      "  df = df.append(ee_to_geopandas(fc))\n",
      "C:\\Users\\coach\\AppData\\Local\\Temp\\ipykernel_3204\\1893818060.py:44: FutureWarning: The frame.append method is deprecated and will be removed from pandas in a future version. Use pandas.concat instead.\n",
      "  df = df.append(ee_to_geopandas(fc))\n",
      "C:\\Users\\coach\\AppData\\Local\\Temp\\ipykernel_3204\\1893818060.py:44: FutureWarning: The frame.append method is deprecated and will be removed from pandas in a future version. Use pandas.concat instead.\n",
      "  df = df.append(ee_to_geopandas(fc))\n",
      "C:\\Users\\coach\\AppData\\Local\\Temp\\ipykernel_3204\\1893818060.py:44: FutureWarning: The frame.append method is deprecated and will be removed from pandas in a future version. Use pandas.concat instead.\n",
      "  df = df.append(ee_to_geopandas(fc))\n"
     ]
    },
    {
     "name": "stdout",
     "output_type": "stream",
     "text": [
      "fill in 2545662 missing field size values\n"
     ]
    }
   ],
   "source": [
    "# FieldSize\n",
    "from geemap import ee_to_geopandas\n",
    "from tqdm.auto import tqdm\n",
    "import ee\n",
    "ee.Initialize()\n",
    "aoi = ee.FeatureCollection(\"projects/ee-geethensingh/assets/Afrotropics\")\n",
    "pts = ee.FeatureCollection(\"projects/ee-geethensingh/assets/dominant_field_sizes\")\\\n",
    "                                .filterBounds(aoi)\\\n",
    "                                .filter(ee.Filter.neq('field_size', 'NA'))\\\n",
    "                                .map(lambda x: x.set(\"fieldSize\",ee.Number.parse(x.get(\"field_size\")))\\\n",
    "                                ).select(['fieldSize', 'geometry'])\n",
    "# Define projection\n",
    "wkt = '\\\n",
    "PROJCS[\"Africa_Albers_Equal_Area_Conic\",\\\n",
    "    GEOGCS[\"GCS_WGS_1984\",\\\n",
    "    DATUM[\"WGS_1984\",\\\n",
    "    SPHEROID[\"WGS_1984\",6378137,298.257223563]],\\\n",
    "    PRIMEM[\"Greenwich\",0],\\\n",
    "    UNIT[\"Degree\",0.017453292519943295]],\\\n",
    "    PROJECTION[\"Albers_Conic_Equal_Area\"],\\\n",
    "    PARAMETER[\"False_Easting\",0],\\\n",
    "    PARAMETER[\"False_Northing\",0],\\\n",
    "    PARAMETER[\"longitude_of_center\",25],\\\n",
    "    PARAMETER[\"Standard_Parallel_1\",20],\\\n",
    "    PARAMETER[\"Standard_Parallel_2\",-23],\\\n",
    "    PARAMETER[\"latitude_of_center\",0],\\\n",
    "    UNIT[\"Meter\",1],\\\n",
    "    AUTHORITY[\"EPSG\",\"102022\"]]'\n",
    "\n",
    "def largefc_to_geopandas(featurecollection, step_size = 5000):\n",
    "    \"\"\"\n",
    "    function to convert a featurecollection with more than 5000 elements to a pandas dataframe\n",
    "    \n",
    "    featurecollection: earth engine feature collection with more than 5000 elements\n",
    "    step_size: Th enumber of elemenst to process at once. Must be less than equal to 5000\n",
    "    \n",
    "    \"\"\"\n",
    "    df = gpd.GeoDataFrame()\n",
    "    fcsize = featurecollection.size()\n",
    "    fclist = featurecollection.toList(fcsize)\n",
    "    _fcsize = featurecollection.size().getInfo()\n",
    "    for i in tqdm(range(0,_fcsize,step_size)):\n",
    "        fc = ee.FeatureCollection(fclist.slice(i,i+step_size))\n",
    "        df = df.append(ee_to_geopandas(fc))\n",
    "    return df\n",
    "\n",
    "fieldSize = largefc_to_geopandas(pts).set_crs('EPSG:4326').to_crs(wkt)\n",
    "\n",
    "    \n",
    "# get rows with fieldsize, cropcover or treeCrop data-used for joining\n",
    "val_list = [3502, 3503, 3504, 3505, 3506]\n",
    "gdf1 = fieldSize.loc[fieldSize['fieldSize'].isin(val_list), ].reset_index(drop=True) #select all rows with valid field size data\n",
    "\n",
    "# select landcover 3 and 4 (tree crop and crop)\n",
    "dfs2 = result.loc[(result['Land_Use']==3)|(result['Land_Use']==4),['x', 'y', 'gid']].reset_index(drop=True)\n",
    "# Convert to gdf\n",
    "gdf2 = gpd.GeoDataFrame(dfs2.drop(['x', 'y'],axis=1), geometry = gpd.points_from_xy(dfs2.x, dfs2.y)).set_crs(wkt)\n",
    "\n",
    "print(f'fill in {gdf2.shape[0]} missing field size values')"
   ]
  },
  {
   "cell_type": "code",
   "execution_count": 69,
   "id": "6eb3df25-ac8f-4cb9-86c9-78c218706e11",
   "metadata": {},
   "outputs": [
    {
     "data": {
      "image/png": "[encoded data removed]",
      "text/plain": [
       "<Figure size 640x480 with 1 Axes>"
      ]
     },
     "metadata": {},
     "output_type": "display_data"
    }
   ],
   "source": [
    "# Check if datasets overlap (same projection\n",
    "ax = gdf2.to_crs(wkt).plot(color='white', edgecolor='black')\n",
    "\n",
    "# plot ``GeoDataFrame``.\n",
    "gdf1.to_crs(wkt).plot(ax=ax, color='red')\n",
    "plt.show()"
   ]
  },
  {
   "cell_type": "code",
   "execution_count": 16,
   "id": "def14264-a6f2-43f3-bb86-744dbc80b3af",
   "metadata": {
    "tags": []
   },
   "outputs": [
    {
     "data": {
      "application/vnd.jupyter.widget-view+json": {
       "model_id": "f7bc6b64079144b1b1148b50233f8494",
       "version_major": 2,
       "version_minor": 0
      },
      "text/plain": [
       "  0%|          | 0/2545662 [00:00<?, ?it/s]"
      ]
     },
     "metadata": {},
     "output_type": "display_data"
    }
   ],
   "source": [
    "joinNearest = ckdnearest_fsz(gdf2, gdf1, k=5)\n",
    "df1 = pd.DataFrame(joinNearest[['gid', 'fieldSize2']])\n",
    "\n",
    "finaldf = pd.merge(result, df1, how= 'outer',on = 'gid')\n",
    "finaldf['fieldSize'] = finaldf['fieldSize2'].fillna(-1).astype('int')\n",
    "\n",
    "dfF = finaldf.drop('fieldSize2', axis=1).reset_index(drop=True)"
   ]
  },
  {
   "cell_type": "code",
   "execution_count": 17,
   "id": "c5da95cd-d0a8-416c-8c66-4816ef837f2b",
   "metadata": {},
   "outputs": [],
   "source": [
    "# Add scaled fieldSize\n",
    "dfF['scaled_fieldSize'] = -1\n",
    "dfF.loc[dfF['fieldSize'] == 3502, 'scaled_fieldSize'] = 1.0\n",
    "dfF.loc[dfF['fieldSize'] == 3503, 'scaled_fieldSize'] = 0.75\n",
    "dfF.loc[dfF['fieldSize'] == 3504, 'scaled_fieldSize'] = 0.50\n",
    "dfF.loc[dfF['fieldSize'] == 3505, 'scaled_fieldSize'] = 0.25\n",
    "dfF.loc[dfF['fieldSize'] == 3506, 'scaled_fieldSize'] = 0"
   ]
  },
  {
   "cell_type": "code",
   "execution_count": 18,
   "id": "68b2586f-5588-41e8-bfb8-9b1e8ffcc73e",
   "metadata": {
    "tags": []
   },
   "outputs": [
    {
     "name": "stdout",
     "output_type": "stream",
     "text": [
      "Nfer_kgha for Tree Croplands: 12.20016\n",
      "Nfer_kgha for CropCover: 16.376\n",
      "Nfer_kgha for Rangeland: 8.61856\n",
      "popDensity for urban areas: 18628.4794921875\n"
     ]
    }
   ],
   "source": [
    "# Scale variables\n",
    "colnames = ['Nfer_kgha', 'popDensity']\n",
    "\n",
    "result = dfF\n",
    "for col in colnames:\n",
    "    # create scaled variable\n",
    "    result['scaled_'+col] = 0\n",
    "    if (col=='Nfer_kgha')&(result.loc[(result['Land_Use']==3), col].shape[0]>0):\n",
    "#         For tree croplands\n",
    "        # get 99th percentile is equal to 0.99 quantile\n",
    "        qq99 = result.loc[(result['Land_Use']==3), col].quantile(0.99)\n",
    "        print(f\"{col} for Tree Croplands: {qq99}\")\n",
    "        # apply min max scaling to all data less than 99th quantile.\n",
    "        scaler = MinMaxScaler()\n",
    "        result.loc[(result[col]<qq99)&(result['Land_Use']==3), 'scaled_'+ col] =\\\n",
    "        scaler.fit_transform(pd.DataFrame(result.loc[(result[col]<qq99)&(result['Land_Use']==3), col]))\n",
    "        # for data greater than 99th percentile, equal to max value 1\n",
    "        result.loc[(result[col]>=qq99)&(result['Land_Use']==3), 'scaled_' + col] = 1\n",
    "    if (col=='Nfer_kgha')&(result.loc[(result['Land_Use']==4), col].shape[0]>0):\n",
    "#         for croplands\n",
    "        # get 99th percentile\n",
    "        qq99 = result.loc[(result['Land_Use']==4), col].quantile(0.99)\n",
    "        print(f\"{col} for CropCover: {qq99}\")\n",
    "        # apply min max scaling to all data less than 99th quantile.\n",
    "        scaler = MinMaxScaler()\n",
    "        result.loc[(result[col]<qq99)&(result['Land_Use']==4), 'scaled_'+ col] =\\\n",
    "        scaler.fit_transform(pd.DataFrame(result.loc[(result[col]<qq99)&(result['Land_Use']==4), col]))\n",
    "        # for data greater than 99th percentile, equal to max value 1\n",
    "        result.loc[(result[col]>=qq99)&(result['Land_Use']==4), 'scaled_' + col] = 1\n",
    "    if (col=='Nfer_kgha')&(result.loc[(result['Land_Use']==6), col].shape[0]>0):\n",
    "#         for rangelands\n",
    "        # get 99th percentile\n",
    "        qq99 = result.loc[(result['Land_Use']==6), col].quantile(0.99)\n",
    "        print(f\"{col} for Rangeland: {qq99}\")\n",
    "        # apply min max scaling to all data less than 99th quantile.\n",
    "        scaler = MinMaxScaler()\n",
    "        result.loc[(result[col]<qq99)&(result['Land_Use']==6), 'scaled_'+ col] =\\\n",
    "        scaler.fit_transform(pd.DataFrame(result.loc[(result[col]<qq99)&(result['Land_Use']==6), col]))\n",
    "        # for data greater than 99th percentile, equal to max value 1\n",
    "        result.loc[(result[col]>=qq99)&(result['Land_Use']==6), 'scaled_' + col] = 1\n",
    "        \n",
    "    if col=='popDensity':\n",
    "        # get 99th percentile\n",
    "        qq99 = result.loc[result['Land_Use']==1, col].quantile(0.99)\n",
    "        print(f\"{col} for urban areas: {qq99}\")\n",
    "        # apply min max scaling to all data less than 99th quantile.\n",
    "        scaler = MinMaxScaler()\n",
    "        result.loc[(result[col]<qq99)&(result['Land_Use']==1), 'scaled_'+ col] =\\\n",
    "        scaler.fit_transform(pd.DataFrame(result.loc[(result[col]<qq99)&(result['Land_Use']==1), col]))\n",
    "        # for data greater than 99th percentile, equal to max value 1\n",
    "        result.loc[(result[col]>=qq99)&(result['Land_Use']==1), 'scaled_' + col] = 1"
   ]
  },
  {
   "cell_type": "markdown",
   "id": "c69fd099-eca7-4db4-8369-a1b5fc4f4704",
   "metadata": {},
   "source": [
    "## Land Use Intensity"
   ]
  },
  {
   "cell_type": "code",
   "execution_count": 19,
   "id": "16c195e1-79ef-4010-bb7e-f2090dc58d6a",
   "metadata": {},
   "outputs": [
    {
     "name": "stdout",
     "output_type": "stream",
     "text": [
      "Computing Intensity for Land Use 1 (urban area)\n",
      "Computing Intensity for Land Use 3 (tree_crop)\n",
      "Computing Intensity for Land Use 4 (crop cover)\n",
      "Computing Intensity for Land Use 6 (Rangelands)\n"
     ]
    }
   ],
   "source": [
    "result['intensity'] = -1\n",
    "result['scaled_intensity'] = -1\n",
    "\n",
    "#1= Urban\n",
    "# check if there are urban land use pixels\n",
    "if result.loc[(result['Land_Use']==1), 'intensity'].shape[0]>0:\n",
    "    print('Computing Intensity for Land Use 1 (urban area)')\n",
    "#     scale urban area between 0 and 1 (from 0.2 to 1)\n",
    "    scaler = MinMaxScaler()\n",
    "    result.loc[(result['Land_Use']==1), 'scaled_areakm2_urban'] = scaler.fit_transform(pd.DataFrame(result.loc[(result['Land_Use']==1)\\\n",
    "                                                                                                             , 'areakm2_urban']))\n",
    "#     assign intensity scores based on an equal weighting of scaled popDensity and scaled urban area\n",
    "    result.loc[(result['Land_Use']==1), 'intensity'] = (result['scaled_areakm2_urban']+\\\n",
    "                                                        result['scaled_popDensity'])/2\n",
    "#     scale raw intensity values between 0 and 1 within a land use\n",
    "    scaler = MinMaxScaler()\n",
    "    result.loc[(result['Land_Use']== 1), 'scaled_intensity'] = scaler.fit_transform(pd.DataFrame(result.loc[(result['Land_Use']==1)\\\n",
    "                                                                                                                   , 'intensity']))\n",
    "\n",
    "#3= Tree Croplands\n",
    "if result.loc[(result['Land_Use']==3), 'intensity'].shape[0]>0:\n",
    "    print('Computing Intensity for Land Use 3 (tree_crop)')\n",
    "    scaler = MinMaxScaler()\n",
    "    result.loc[(result['Land_Use']==3), 'scaled_areakm2_treeCrop'] = scaler.fit_transform(pd.DataFrame(result.loc[(result['Land_Use']==3)\\\n",
    "                                                                                                                  , 'areakm2_treeCrop']))\n",
    "    result.loc[(result['Land_Use']==3), 'intensity'] = (result['scaled_areakm2_treeCrop']+\\\n",
    "                                                        result['scaled_fieldSize']+\\\n",
    "                                                        result['scaled_Nfer_kgha']\\\n",
    "                                                       )/3\n",
    "    scaler = MinMaxScaler()\n",
    "    result.loc[(result['Land_Use']==3), 'scaled_intensity'] = scaler.fit_transform(pd.DataFrame(result.loc[(result['Land_Use']==3)\\\n",
    "                                                                                                                   , 'intensity']))\n",
    "\n",
    "#4 = Croplands\n",
    "if result.loc[(result['Land_Use']==4), 'intensity'].shape[0]>0:\n",
    "    print('Computing Intensity for Land Use 4 (crop cover)')\n",
    "    scaler = MinMaxScaler()\n",
    "    result.loc[(result['Land_Use']==4), 'scaled_areakm2_cropCover'] = scaler.fit_transform(pd.DataFrame(result.loc[(result['Land_Use']==4)\\\n",
    "                                                                                                                   , 'areakm2_cropCover']))\n",
    "    result.loc[(result['Land_Use']==4), 'intensity'] = (result['scaled_areakm2_cropCover']+\\\n",
    "                                                        result['scaled_fieldSize']+\\\n",
    "                                                        result['scaled_Nfer_kgha']\\\n",
    "                                                       )/3\n",
    "    scaler = MinMaxScaler()\n",
    "    result.loc[(result['Land_Use']==4), 'scaled_intensity'] = scaler.fit_transform(pd.DataFrame(result.loc[(result['Land_Use']==4)\\\n",
    "                                                                                                                   , 'intensity']))\n",
    "\n",
    "#6 = Rangelands/ Near-naturallands\n",
    "print('Computing Intensity for Land Use 6 (Rangelands)')\n",
    "if result.loc[(result['Land_Use']==6), 'intensity'].shape[0]>0:\n",
    "    result.loc[(result['Land_Use']==6), 'intensity'] = (result['scaled_livestockIntensity']+\\\n",
    "                                                        result['scaled_Nfer_kgha'])/2\n",
    "                                                                                                                   \n",
    "    scaler = MinMaxScaler()\n",
    "    result.loc[(result['Land_Use']==6), 'scaled_intensity'] = scaler.fit_transform(pd.DataFrame(result.loc[(result['Land_Use']==6)\\\n",
    "                                                                                                                   , 'intensity']))"
   ]
  },
  {
   "cell_type": "code",
   "execution_count": 20,
   "id": "e59f9e43-dea2-4d70-b4dc-7787737a54dd",
   "metadata": {},
   "outputs": [],
   "source": [
    "# Export to feather\n",
    "result.to_feather(f\"result_1km_{date}.feather\")"
   ]
  },
  {
   "cell_type": "code",
   "execution_count": 5,
   "id": "0c331b94-afb3-41f3-a413-59f21292b81d",
   "metadata": {},
   "outputs": [],
   "source": [
    "# Read feather\n",
    "result = pd.read_feather(f\"result_1km_16032023.feather\")"
   ]
  },
  {
   "cell_type": "code",
   "execution_count": 7,
   "id": "c4233847-b6bd-4e76-a2a7-ed3c159ffc45",
   "metadata": {},
   "outputs": [],
   "source": [
    "# Define Albers equal area projection \n",
    "wkt = '\\\n",
    "PROJCS[\"Africa_Albers_Equal_Area_Conic\",\\\n",
    "    GEOGCS[\"GCS_WGS_1984\",\\\n",
    "    DATUM[\"WGS_1984\",\\\n",
    "    SPHEROID[\"WGS_1984\",6378137,298.257223563]],\\\n",
    "    PRIMEM[\"Greenwich\",0],\\\n",
    "    UNIT[\"Degree\",0.017453292519943295]],\\\n",
    "    PROJECTION[\"Albers_Conic_Equal_Area\"],\\\n",
    "    PARAMETER[\"False_Easting\",0],\\\n",
    "    PARAMETER[\"False_Northing\",0],\\\n",
    "    PARAMETER[\"longitude_of_center\",25],\\\n",
    "    PARAMETER[\"Standard_Parallel_1\",20],\\\n",
    "    PARAMETER[\"Standard_Parallel_2\",-23],\\\n",
    "    PARAMETER[\"latitude_of_center\",0],\\\n",
    "    UNIT[\"Meter\",1],\\\n",
    "    AUTHORITY[\"EPSG\",\"102022\"]]'\n",
    "\n",
    "# Convert to geodataframe\n",
    "gdf = gpd.GeoDataFrame(result.drop(['x', 'y','combination_LS_intensity', 'areakm2_slowNutrArea','areakm2_sMedNutriArea', 'areakm2_sHighNutriArea'], axis = 1),\n",
    "                       geometry = gpd.points_from_xy(result.x, result.y), crs= wkt).to_crs(crs= 'EPSG:4326')"
   ]
  },
  {
   "cell_type": "code",
   "execution_count": 8,
   "id": "e58aefd4-3b5f-4295-897d-d05d6fc2c1f4",
   "metadata": {},
   "outputs": [],
   "source": [
    "# Define columns for renaming\n",
    "shp_cols = {'areakm2_urban':'km2_urban',\n",
    "            'areakm2_cropCover':'km2_cropCov',\n",
    "            'areakm2_protArea':'km2_protAr',\n",
    "            'km2_plntn':'areakm2_plantation',\n",
    "            'areakm2_treeCrop':'km2_trCrp',\n",
    "            'gid':'gid',\n",
    "            'mean_precip':'mean_precip',\n",
    "            'Nfer_kgha':'mean_Nfer',\n",
    "            'popDensity':'sum_popDen',\n",
    "            'sheepDensity':'sum_shpDen',\n",
    "            'goatDensity':'sum_gtDen',\n",
    "            'cattleDensity':'sum_ctlDen',\n",
    "            'maxN':'maxSNtrAr',\n",
    "            'areakm2_slowNutrArea2':'km2_sLwNtr',\n",
    "            'areakm2_sMedNutriArea2':'km2_sMdNtr',\n",
    "            'areakm2_sHighNutriArea2':'km2_sHgNtr',\n",
    "            'precipDiscrete':'precipDisc',\n",
    "            'maxNutr':'maxSNtrCat',\n",
    "            'lsIntensityCat':'LSIntenCat',\n",
    "            'lsSum':'LSSum',\n",
    "            'scaled_livestockIntensity':'LSIntenScd',\n",
    "            'Land_Use':'Land_Use',\n",
    "            'fieldSize':'fieldSize',\n",
    "            'scaled_fieldSize':'fieldSzScd',\n",
    "            'scaled_Nfer_kgha':'NferScd',\n",
    "            'scaled_popDensity':'popDenScd',\n",
    "            'intensity':'Intensity',\n",
    "            'scaled_intensity':'SdItensity',\n",
    "            'scaled_areakm2_urban':'km2_ubn_sd',\n",
    "            'scaled_areakm2_treeCrop':'km2_trCrpS',\n",
    "            'scaled_areakm2_cropCover':'km2_crpCvS',\n",
    "            'geometry':'geometry'}"
   ]
  },
  {
   "cell_type": "code",
   "execution_count": 9,
   "id": "f2217c92-787d-46d7-9038-e0ee7e80da37",
   "metadata": {},
   "outputs": [
    {
     "data": {
      "text/plain": [
       "Index(['km2_urban', 'km2_cropCov', 'km2_protAr', 'areakm2_plantation',\n",
       "       'km2_trCrp', 'gid', 'mean_precip', 'mean_Nfer', 'sum_popDen',\n",
       "       'sum_shpDen', 'sum_gtDen', 'sum_ctlDen', 'maxSNtrAr', 'km2_sLwNtr',\n",
       "       'km2_sMdNtr', 'km2_sHgNtr', 'precipDisc', 'maxSNtrCat', 'LSIntenCat',\n",
       "       'LSSum', 'LSIntenScd', 'Land_Use', 'fieldSize', 'fieldSzScd', 'NferScd',\n",
       "       'popDenScd', 'Intensity', 'SdItensity', 'km2_ubn_sd', 'km2_trCrpS',\n",
       "       'km2_crpCvS', 'geometry'],\n",
       "      dtype='object')"
      ]
     },
     "execution_count": 9,
     "metadata": {},
     "output_type": "execute_result"
    }
   ],
   "source": [
    "# Rename columns\n",
    "gdf.rename(columns=shp_cols, inplace = True)\n",
    "gdf.columns"
   ]
  },
  {
   "cell_type": "code",
   "execution_count": 10,
   "id": "2746cd94-ec9e-48df-b463-58608ee4ae29",
   "metadata": {},
   "outputs": [
    {
     "name": "stderr",
     "output_type": "stream",
     "text": [
      "C:\\Users\\coach\\AppData\\Local\\Temp\\ipykernel_8860\\1448088867.py:1: FutureWarning: In a future version, `df.iloc[:, i] = newvals` will attempt to set the values inplace instead of always setting a new array. To retain the old behavior, use either `df[df.columns[i]] = newvals` or, if columns are non-unique, `df.isetitem(i, newvals)`\n",
      "  gdf.loc[:,'precipDisc'] = gdf.loc[:,'precipDisc'].astype('int')\n",
      "C:\\Users\\coach\\AppData\\Local\\Temp\\ipykernel_8860\\1448088867.py:2: FutureWarning: In a future version, `df.iloc[:, i] = newvals` will attempt to set the values inplace instead of always setting a new array. To retain the old behavior, use either `df[df.columns[i]] = newvals` or, if columns are non-unique, `df.isetitem(i, newvals)`\n",
      "  gdf.loc[:,'maxSNtrCat'] = gdf.loc[:,'maxSNtrCat'].astype('string')\n"
     ]
    }
   ],
   "source": [
    "# Set data type\n",
    "gdf.loc[:,'precipDisc'] = gdf.loc[:,'precipDisc'].astype('int')\n",
    "gdf.loc[:,'maxSNtrCat'] = gdf.loc[:,'maxSNtrCat'].astype('string')"
   ]
  },
  {
   "cell_type": "code",
   "execution_count": 13,
   "id": "7ddc3640-72d6-4381-938b-6e94bcc74953",
   "metadata": {},
   "outputs": [],
   "source": [
    "# Export as feather file\n",
    "gdf.to_feather(f\"gdf_1km_{date}.feather\")"
   ]
  },
  {
   "cell_type": "code",
   "execution_count": 3,
   "id": "8db34ff3-0353-48d0-9f77-7cfabdb6e010",
   "metadata": {},
   "outputs": [],
   "source": [
    "# Read feather file (resume point)\n",
    "gdf = gpd.read_feather(f\"gdf_1km_24032023.feather\").to_crs('EPSG:4326')"
   ]
  },
  {
   "cell_type": "code",
   "execution_count": 12,
   "id": "ce1f3218-5795-43c5-ad6f-bcd2c687579e",
   "metadata": {},
   "outputs": [
    {
     "name": "stdout",
     "output_type": "stream",
     "text": [
      "C:\\Users\\coach\\myfiles\\miscellenous\\hayley\n"
     ]
    }
   ],
   "source": [
    "# Export as shapefile\n",
    "print(os.getcwd())\n",
    "outfile = f\"1km_{date}.shp\"\n",
    "gdf.drop(['km2_urban', 'km2_cropCov', 'km2_protAr', 'areakm2_plantation',\n",
    "       'km2_trCrp', 'gid', 'mean_precip', 'mean_Nfer', 'sum_popDen',\n",
    "       'sum_shpDen', 'sum_gtDen', 'sum_ctlDen', 'maxSNtrAr', 'km2_sLwNtr',\n",
    "       'km2_sMdNtr', 'km2_sHgNtr', 'precipDisc', 'maxSNtrCat', 'LSIntenCat',\n",
    "       'LSSum', 'LSIntenScd', 'fieldSize', 'fieldSzScd', 'NferScd',\n",
    "       'popDenScd', 'Intensity', 'km2_ubn_sd', 'km2_trCrpS',\n",
    "       'km2_crpCvS'], axis=1).to_file(outfile)"
   ]
  },
  {
   "cell_type": "code",
   "execution_count": 13,
   "id": "f520c368-08f2-4b59-bb29-3e31eb2cb133",
   "metadata": {},
   "outputs": [
    {
     "ename": "AttributeError",
     "evalue": "'NoneType' object has no attribute 'SetProjection'",
     "output_type": "error",
     "traceback": [
      "\u001b[1;31m---------------------------------------------------------------------------\u001b[0m",
      "\u001b[1;31mAttributeError\u001b[0m                            Traceback (most recent call last)",
      "Cell \u001b[1;32mIn [13], line 29\u001b[0m\n\u001b[0;32m     26\u001b[0m output_crs\u001b[38;5;241m.\u001b[39mImportFromEPSG(\u001b[38;5;241m4326\u001b[39m)\n\u001b[0;32m     28\u001b[0m \u001b[38;5;66;03m# Set the output raster CRS\u001b[39;00m\n\u001b[1;32m---> 29\u001b[0m \u001b[43mraster_ds\u001b[49m\u001b[38;5;241;43m.\u001b[39;49m\u001b[43mSetProjection\u001b[49m(output_crs\u001b[38;5;241m.\u001b[39mExportToWkt())\n\u001b[0;32m     31\u001b[0m gdal\u001b[38;5;241m.\u001b[39mRasterizeLayer(raster_ds, [\u001b[38;5;241m1\u001b[39m], layer, options\u001b[38;5;241m=\u001b[39m[\u001b[38;5;124mf\u001b[39m\u001b[38;5;124m\"\u001b[39m\u001b[38;5;124mATTRIBUTE=\u001b[39m\u001b[38;5;132;01m{\u001b[39;00mattribute_name1\u001b[38;5;132;01m}\u001b[39;00m\u001b[38;5;124m\"\u001b[39m, \u001b[38;5;124mf\u001b[39m\u001b[38;5;124m\"\u001b[39m\u001b[38;5;124mNODATA= \u001b[39m\u001b[38;5;132;01m{\u001b[39;00mno_data_value\u001b[38;5;132;01m}\u001b[39;00m\u001b[38;5;124m\"\u001b[39m], noData \u001b[38;5;241m=\u001b[39m no_data_value)\n\u001b[0;32m     32\u001b[0m gdal\u001b[38;5;241m.\u001b[39mRasterizeLayer(raster_ds, [\u001b[38;5;241m2\u001b[39m], layer, options\u001b[38;5;241m=\u001b[39m[\u001b[38;5;124mf\u001b[39m\u001b[38;5;124m\"\u001b[39m\u001b[38;5;124mATTRIBUTE=\u001b[39m\u001b[38;5;132;01m{\u001b[39;00mattribute_name2\u001b[38;5;132;01m}\u001b[39;00m\u001b[38;5;124m\"\u001b[39m, \u001b[38;5;124mf\u001b[39m\u001b[38;5;124m\"\u001b[39m\u001b[38;5;124mNODATA= \u001b[39m\u001b[38;5;132;01m{\u001b[39;00mno_data_value\u001b[38;5;132;01m}\u001b[39;00m\u001b[38;5;124m\"\u001b[39m], noData \u001b[38;5;241m=\u001b[39m no_data_value)\n",
      "\u001b[1;31mAttributeError\u001b[0m: 'NoneType' object has no attribute 'SetProjection'"
     ]
    }
   ],
   "source": [
    "# Export data as tif\n",
    "date = '24032023'\n",
    "input_vector = f\"1km_{date}.shp\"\n",
    "output_raster = f\"Afrotropics_1km_{date}.tif\"\n",
    "x_resolution = 0.01\n",
    "y_resolution = 0.01\n",
    "attribute_name1 = \"Land_Use\"\n",
    "attribute_name2 = \"SdItensity\"\n",
    "no_data_value = -999\n",
    "data_type = gdal.GDT_Float32\n",
    "format = \"GTiff\"\n",
    "xmin, ymin, xmax, ymax = gdf.total_bounds\n",
    "\n",
    "# Open the input vector\n",
    "ds = gdal.OpenEx(input_vector)\n",
    "layer = ds.GetLayer()\n",
    "\n",
    "# Create the output raster\n",
    "driver = gdal.GetDriverByName(format)\n",
    "raster_ds = driver.Create(output_raster, int((xmax - xmin) / x_resolution),\n",
    "                          int((ymax - ymin) / y_resolution), 2, data_type)\n",
    "raster_ds.SetGeoTransform((xmin, x_resolution, 0, ymax, 0, -y_resolution))\n",
    "\n",
    "# Set the output raster CRS to CRS:4326\n",
    "from osgeo import osr\n",
    "output_crs = osr.SpatialReference()\n",
    "output_crs.ImportFromEPSG(4326)\n",
    "\n",
    "# Set the output raster CRS\n",
    "raster_ds.SetProjection(output_crs.ExportToWkt())\n",
    "\n",
    "gdal.RasterizeLayer(raster_ds, [1], layer, options=[f\"ATTRIBUTE={attribute_name1}\", f\"NODATA= {no_data_value}\"], noData = no_data_value)\n",
    "gdal.RasterizeLayer(raster_ds, [2], layer, options=[f\"ATTRIBUTE={attribute_name2}\", f\"NODATA= {no_data_value}\"], noData = no_data_value)\n",
    "\n",
    "band1 = raster_ds.GetRasterBand(1)\n",
    "band1.SetNoDataValue(no_data_value)\n",
    "band1.SetDescription(\"Land Use\")\n",
    "\n",
    "band2 = raster_ds.GetRasterBand(2)\n",
    "band2.SetNoDataValue(no_data_value)\n",
    "band2.SetDescription(\"Intensity (scaled)\")\n",
    "\n",
    "raster_ds = None  # Close the file"
   ]
  },
  {
   "cell_type": "code",
   "execution_count": 5,
   "id": "55e7729e-4d32-4194-ae24-8bba4a8afe85",
   "metadata": {},
   "outputs": [],
   "source": [
    "# Post processing to address missing data. raster data was uploaded to GEE\n",
    "\n",
    "# https://code.earthengine.google.com/4fd7a225a9eb8f23f8c373f91f317361\n",
    "\n",
    "img = ee.Image(\"projects/ee-geethensingh/assets/Afrotropics_1km\")\n",
    "afrotropics = ee.FeatureCollection(\"projects/ee-geethensingh/assets/Afrotropics\").geometry().buffer(-2000, 1000)\n",
    "fsize = ee.FeatureCollection(\"projects/ee-geethensingh/assets/dominant_field_sizes\")\n",
    "    \n",
    "lu = img.select('b1')\n",
    "int = img.select('b2')\n",
    "missinglu = lu.eq(0).clip(afrotropics).multiply(100)\n",
    "missingint = int.eq(0).clip(afrotropics)\n",
    "\n",
    "# missing both = 101\n",
    "# missing in 1 = 1 or 100\n",
    "# if missing in both, get points to extract data, if missing in 1 fill with 0\n",
    "both = missinglu.add(missingint).eq(101).selfMask().sample(region=afrotropics, scale=1000,geometries=True)\n",
    "# both.size()"
   ]
  },
  {
   "cell_type": "code",
   "execution_count": 6,
   "id": "9e4f2068-2c04-452e-93e9-5da7bc8ddd5e",
   "metadata": {},
   "outputs": [],
   "source": [
    "# Define projection\n",
    "wkt = '\\\n",
    "PROJCS[\"Africa_Albers_Equal_Area_Conic\",\\\n",
    "    GEOGCS[\"GCS_WGS_1984\",\\\n",
    "    DATUM[\"WGS_1984\",\\\n",
    "    SPHEROID[\"WGS_1984\",6378137,298.257223563]],\\\n",
    "    PRIMEM[\"Greenwich\",0],\\\n",
    "    UNIT[\"Degree\",0.017453292519943295]],\\\n",
    "    PROJECTION[\"Albers_Conic_Equal_Area\"],\\\n",
    "    PARAMETER[\"False_Easting\",0],\\\n",
    "    PARAMETER[\"False_Northing\",0],\\\n",
    "    PARAMETER[\"longitude_of_center\",25],\\\n",
    "    PARAMETER[\"Standard_Parallel_1\",20],\\\n",
    "    PARAMETER[\"Standard_Parallel_2\",-23],\\\n",
    "    PARAMETER[\"latitude_of_center\",0],\\\n",
    "    UNIT[\"Meter\",1],\\\n",
    "    AUTHORITY[\"EPSG\",\"102022\"]]'\n",
    "\n",
    "# ALbers equal area for africa\n",
    "epsg_102022 = ee.Projection(wkt)\n",
    "\n",
    "grid = ee.Geometry.MultiPoint(both.geometry().coordinates()).coveringGrid(epsg_102022, 1000)\n",
    "# aoi = grid.union(1000)"
   ]
  },
  {
   "cell_type": "code",
   "execution_count": 8,
   "id": "3c704c24-f8d2-4089-94be-cf3b388b1768",
   "metadata": {},
   "outputs": [],
   "source": [
    "# Define the asset ID for your output asset\n",
    "asset_id = \"users/geethensingh/grid_msn\"\n",
    "\n",
    "# Define the export parameters\n",
    "export_params = {\n",
    "  'assetId': asset_id,\n",
    "  'collection': grid,\n",
    "  'description': 'missing cells grid',\n",
    "  'maxError': 800\n",
    "}\n",
    "\n",
    "# Export the table to the asset\n",
    "task = ee.batch.Export.table.toAsset(**export_params)\n",
    "task.start()"
   ]
  },
  {
   "cell_type": "code",
   "execution_count": 7,
   "id": "b60511f4-6f43-4fce-a296-eb7e10c8020f",
   "metadata": {},
   "outputs": [],
   "source": [
    "grid = ee.FeatureCollection(\"users/geethensingh/grid_msn\")\n",
    "# grid"
   ]
  },
  {
   "cell_type": "code",
   "execution_count": 6,
   "id": "bd0e28a5-b6ff-4b60-926e-11ac6fcd5103",
   "metadata": {},
   "outputs": [
    {
     "data": {
      "application/vnd.jupyter.widget-view+json": {
       "model_id": "35375ac3df4a4d68926538e894f21e54",
       "version_major": 2,
       "version_minor": 0
      },
      "text/plain": [
       "Map(center=[20, 0], controls=(WidgetControl(options=['position', 'transparent_bg'], widget=HBox(children=(Togg…"
      ]
     },
     "metadata": {},
     "output_type": "display_data"
    }
   ],
   "source": [
    "Map = geemap.Map()\n",
    "Map.addLayer(grid)\n",
    "Map"
   ]
  }
 ],
 "metadata": {
  "kernelspec": {
   "display_name": "erty",
   "language": "python",
   "name": "erty"
  },
  "language_info": {
   "codemirror_mode": {
    "name": "ipython",
    "version": 3
   },
   "file_extension": ".py",
   "mimetype": "text/x-python",
   "name": "python",
   "nbconvert_exporter": "python",
   "pygments_lexer": "ipython3",
   "version": "3.9.12"
  }
 },
 "nbformat": 4,
 "nbformat_minor": 5
}
