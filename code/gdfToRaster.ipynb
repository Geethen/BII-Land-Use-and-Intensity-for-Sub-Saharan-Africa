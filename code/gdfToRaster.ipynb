{
 "cells": [
  {
   "cell_type": "markdown",
   "metadata": {},
   "source": [
    "## This notebook converts point data loaded as a geodataframe into a multiband raster"
   ]
  },
  {
   "cell_type": "code",
   "execution_count": 1,
   "metadata": {},
   "outputs": [],
   "source": [
    "import geopandas as gpd\n",
    "import rasterio as rio"
   ]
  },
  {
   "cell_type": "code",
   "execution_count": null,
   "metadata": {},
   "outputs": [],
   "source": [
    "gdf = gpd.read_file(r\"C:\\Users\\coach\\myfiles\\miscellenous\\hayley\\datasets\\all_response_groups_bii_8km\\subset.shp\")\n",
    "gdf.explore()"
   ]
  },
  {
   "cell_type": "code",
   "execution_count": 7,
   "metadata": {},
   "outputs": [],
   "source": [
    "gdf.columns\n",
    "column_prefixes = ['B', 'HA', 'HR', 'LC', 'PR', 'SC', 'SMB', 'SMI', 'SMR', 'LH']\n",
    "columns = [col for col in gdf.columns if any(col.startswith(prefix) for prefix in column_prefixes)]\n"
   ]
  },
  {
   "cell_type": "code",
   "execution_count": 9,
   "metadata": {},
   "outputs": [
    {
     "data": {
      "text/plain": [
       "113"
      ]
     },
     "execution_count": 9,
     "metadata": {},
     "output_type": "execute_result"
    }
   ],
   "source": [
    "len(columns)"
   ]
  },
  {
   "cell_type": "code",
   "execution_count": 4,
   "metadata": {},
   "outputs": [
    {
     "data": {
      "application/vnd.jupyter.widget-view+json": {
       "model_id": "16de3869a8cf4562a2cd5b0d3775f81d",
       "version_major": 2,
       "version_minor": 0
      },
      "text/plain": [
       "  0%|          | 0/113 [00:00<?, ?it/s]"
      ]
     },
     "metadata": {},
     "output_type": "display_data"
    }
   ],
   "source": [
    "import geopandas as gpd\n",
    "from osgeo import gdal, ogr, osr\n",
    "import fiona\n",
    "from tqdm.auto import tqdm\n",
    "\n",
    "def geodf_to_multiband_tif(gdf_path, attributes, output_raster, resolution, no_data_value, tile_size=256):\n",
    "    \"\"\"\n",
    "    Converts a large GeoDataFrame with points and attributes into a multiband raster TIFF efficiently.\n",
    "    \n",
    "    Parameters:\n",
    "    - gdf_path: Path to the shapefile.\n",
    "    - attributes: List of attribute names to rasterize into separate bands.\n",
    "    - output_raster: Path for the output raster (multiband TIFF).\n",
    "    - resolution: Pixel size (same for x and y).\n",
    "    - no_data_value: No data value to set in the raster.\n",
    "    - tile_size: Size of the raster tile/block for efficient processing.\n",
    "    \"\"\"\n",
    "    \n",
    "    # Open the input vector using Fiona (better for large datasets)\n",
    "    with fiona.open(gdf_path, 'r') as source:\n",
    "        xmin, ymin, xmax, ymax = source.bounds\n",
    "    \n",
    "    # Adjust the bounds to include the rightmost and bottommost points\n",
    "    xmax += resolution \n",
    "    ymin -= resolution \n",
    "\n",
    "    # Create the output raster with LZW compression\n",
    "    driver = gdal.GetDriverByName(\"GTiff\")\n",
    "    raster_ds = driver.Create(output_raster, int((xmax - xmin) / resolution),\n",
    "                              int((ymax - ymin) / resolution), len(attributes), \n",
    "                              gdal.GDT_Float32, options=['COMPRESS=LZW', 'TILED=YES', f'BLOCKXSIZE={tile_size}', f'BLOCKYSIZE={tile_size}'])\n",
    "    \n",
    "    # Set the geotransform (tie point and pixel size)\n",
    "    raster_ds.SetGeoTransform((xmin, resolution, 0, ymax, 0, -resolution))\n",
    "\n",
    "    # Set the projection to WGS 84 (EPSG:4326)\n",
    "    output_crs = osr.SpatialReference()\n",
    "    output_crs.ImportFromEPSG(4326)\n",
    "    raster_ds.SetProjection(output_crs.ExportToWkt())\n",
    "\n",
    "    # Open the shapefile for streaming processing\n",
    "    mem_driver = gdal.GetDriverByName('Memory')\n",
    "    \n",
    "    # Rasterize each attribute into separate bands using tiling\n",
    "    for i, attribute in tqdm(enumerate(attributes), total=len(attributes)):\n",
    "        mem_ds = mem_driver.Create('', 0, 0, 0, gdal.GDT_Unknown)  # Temporary memory dataset\n",
    "        gdal.VectorTranslate(mem_ds, gdf_path, format='ESRI Shapefile', options=['-select', attribute])  # Only select relevant attribute\n",
    "        layer = mem_ds.GetLayer()\n",
    "\n",
    "        # Rasterize in blocks for each attribute\n",
    "        for block_x in range(0, raster_ds.RasterXSize, tile_size):\n",
    "            for block_y in range(0, raster_ds.RasterYSize, tile_size):\n",
    "                # Read block-by-block to avoid loading everything into memory\n",
    "                gdal.RasterizeLayer(raster_ds, [i + 1], layer, options=[f\"ATTRIBUTE={attribute}\", f\"NODATA={no_data_value}\"])\n",
    "                \n",
    "        band = raster_ds.GetRasterBand(i + 1)\n",
    "        band.SetNoDataValue(no_data_value)\n",
    "        band.SetDescription(attribute)  # Set the band description to the attribute name\n",
    "\n",
    "    # Flush cache and close datasets\n",
    "    raster_ds.FlushCache()\n",
    "    raster_ds = None\n",
    "\n",
    "# Example usage:\n",
    "# First test for data subset\n",
    "shp = r\"C:\\Users\\coach\\myfiles\\miscellenous\\hayley\\datasets\\all_response_groups_bii_8km\\subset.shp\"\n",
    "column_prefixes = ['B', 'HA', 'HR', 'LC', 'PR', 'SC', 'SMB', 'SMI', 'SMR', 'LH']\n",
    "attributes = [col for col in gpd.read_file(shp).columns if any(col.startswith(prefix) for prefix in column_prefixes)]  # List of attributes to rasterize\n",
    "output_raster = r\"C:\\Users\\coach\\myfiles\\miscellenous\\hayley\\datasets\\output_multiband.tif\"\n",
    "resolution = 0.08  # Same resolution for both x and y\n",
    "no_data_value = -999\n",
    "\n",
    "geodf_to_multiband_tif(shp, attributes, output_raster, resolution, no_data_value)\n"
   ]
  },
  {
   "cell_type": "code",
   "execution_count": null,
   "metadata": {},
   "outputs": [
    {
     "data": {
      "application/vnd.jupyter.widget-view+json": {
       "model_id": "46a86f7c21c1496c9788c82baaaf2677",
       "version_major": 2,
       "version_minor": 0
      },
      "text/plain": [
       "  0%|          | 0/113 [00:00<?, ?it/s]"
      ]
     },
     "metadata": {},
     "output_type": "display_data"
    }
   ],
   "source": [
    "# run for entire dataset\n",
    "# Use the subset to get the column names of interest- faster thatn reading in the entire point shp\n",
    "shp = r\"C:\\Users\\coach\\myfiles\\miscellenous\\hayley\\datasets\\all_response_groups_bii_8km\\subset.shp\"\n",
    "column_prefixes = ['B', 'HA', 'HR', 'LC', 'PR', 'SC', 'SMB', 'SMI', 'SMR', 'LH']\n",
    "attributes = [col for col in gpd.read_file(shp).columns if any(col.startswith(prefix) for prefix in column_prefixes)]\n",
    "shp = r\"C:\\Users\\coach\\myfiles\\miscellenous\\hayley\\datasets\\all_response_groups_bii_8km\\all_response_groups_bii_8km.shp\"\n",
    "output_raster = r\"C:\\Users\\coach\\myfiles\\miscellenous\\hayley\\datasets\\all_response_groups_bii_8km.tif\"\n",
    "resolution = 0.08  # Same resolution for both x and y\n",
    "no_data_value = -999\n",
    "\n",
    "geodf_to_multiband_tif(shp, attributes, output_raster, resolution, no_data_value)"
   ]
  }
 ],
 "metadata": {
  "kernelspec": {
   "display_name": "erthy",
   "language": "python",
   "name": "python3"
  },
  "language_info": {
   "codemirror_mode": {
    "name": "ipython",
    "version": 3
   },
   "file_extension": ".py",
   "mimetype": "text/x-python",
   "name": "python",
   "nbconvert_exporter": "python",
   "pygments_lexer": "ipython3",
   "version": "3.9.13"
  }
 },
 "nbformat": 4,
 "nbformat_minor": 2
}
