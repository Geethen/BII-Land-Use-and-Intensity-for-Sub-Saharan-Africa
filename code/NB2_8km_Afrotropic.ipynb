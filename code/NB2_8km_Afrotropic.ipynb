{
 "cells": [
  {
   "cell_type": "markdown",
   "id": "43cb95c1-86a4-42a0-86f5-8adfc54aa011",
   "metadata": {},
   "source": [
    "# NB2_8km_Afrotropics\n",
    "## BII project land use and intensity\n",
    "This notebook contains the code for extracting, pre-processing, and applying the expert decision tree and computing the intensity values of six categories of land use at a 8x8 km spatial resolution for The entire Afrotropic region. \n",
    "\n",
    "Inputs: Three csv files for each country of interest.  \n",
    "Outputs:\n",
    "1) A geofeather file with a point for every 1x1 km cell within the Afrotropic region.\n",
    "2) A two-band tif file with land use and associated land use intensity.\n",
    "\n",
    "Refer to NB1_1km_country to run the same analysis for a single country at a 1km spatial resolution.  \n",
    "Refer to NB1_8km_country to run the same analysis for a single country at an 8km spatial resolution.  \n",
    "Refer to NB2_1km_Afrotropic to run the same analysis for the entire afrotropic region at a 1km spatial resolution.\n",
    "\n",
    "### High-level steps\n",
    "1. Merge csv files per country into a single afrotropic file\n",
    "2. Datasets are pre-processed. Includes, filling in missing data, scaling data and correcting data types.\n",
    "3. The expert decision tree is applied that outputs a land use for every point\n",
    "4. Data is scaled and the intensity scores are computed"
   ]
  },
  {
   "cell_type": "markdown",
   "id": "375dd73b-3a43-44ba-87cd-14d4533388d2",
   "metadata": {},
   "source": [
    "## Import packages"
   ]
  },
  {
   "cell_type": "code",
   "execution_count": 1,
   "id": "2b981259-fa80-4275-8e15-f8e081f31cd6",
   "metadata": {},
   "outputs": [
    {
     "name": "stderr",
     "output_type": "stream",
     "text": [
      "C:\\WINDOWS\\System32\\erty\\lib\\site-packages\\geopandas\\_compat.py:123: UserWarning: The Shapely GEOS version (3.10.3-CAPI-1.16.1) is incompatible with the GEOS version PyGEOS was compiled with (3.11.1-CAPI-1.17.1). Conversions between both will be slow.\n",
      "  warnings.warn(\n"
     ]
    }
   ],
   "source": [
    "import math\n",
    "import os\n",
    "import glob\n",
    "import pandas as pd\n",
    "\n",
    "from osgeo import gdal\n",
    "from osgeo import osr\n",
    "from osgeo import ogr\n",
    "\n",
    "import pandas as pd\n",
    "from datetime import datetime\n",
    "import geopandas as gpd\n",
    "import matplotlib.pyplot as plt\n",
    "import numpy as np\n",
    "from sklearn.preprocessing import MinMaxScaler, RobustScaler\n",
    "from tqdm.auto import tqdm\n",
    "\n",
    "from scipy.spatial import cKDTree\n",
    "from shapely.geometry import Point\n",
    "\n",
    "from geeml.utils import createGrid\n",
    "import ee\n",
    "try:\n",
    "    ee.Initialize()\n",
    "except:\n",
    "    ee.Authenticate()\n",
    "    ee.Initialize()\n",
    "import geemap"
   ]
  },
  {
   "cell_type": "markdown",
   "id": "9c8ae1cb-bed0-4516-9a93-a98503776153",
   "metadata": {},
   "source": [
    "# Merge files"
   ]
  },
  {
   "cell_type": "code",
   "execution_count": 89,
   "id": "c9484dd5-7a53-4476-87da-d2f2c81e248d",
   "metadata": {},
   "outputs": [
    {
     "name": "stdout",
     "output_type": "stream",
     "text": [
      "Merging data with length: 45\n",
      "Saving data with shape (412331, 7)\n",
      "Merging data with length: 45\n",
      "Saving data with shape (412346, 9)\n",
      "Merging data with length: 45\n",
      "Saving data with shape (412346, 3)\n"
     ]
    }
   ],
   "source": [
    "def toAfrotropic(inDir, outDir, search, colnames):\n",
    "    # Initialize an empty list to store the DataFrame objects\n",
    "    data_frames = []\n",
    "\n",
    "    # Loop through all subdirectories and files in the specified directory\n",
    "    for subdir, dirs, files in os.walk(inDir):\n",
    "        # Loop through all CSV files in the current subdirectory\n",
    "        for file in glob.glob(os.path.join(subdir, search)):\n",
    "            # Read in the CSV file as a DataFrame and append it to the data_frames list\n",
    "            df1 = pd.read_csv(file, low_memory=False, header = None, index_col = False, skiprows=1)\n",
    "            df1.columns = colnames\n",
    "            data_frames.append(df1)\n",
    "\n",
    "    # Concatenate all the DataFrames into a single DataFrame\n",
    "    print(f\"Merging data with length: {len(data_frames)}\")\n",
    "    merged_data = pd.concat(data_frames, ignore_index=True)#.drop_duplicates().reset_index(drop=True)\n",
    "\n",
    "    # Write the merged data to a feather file\n",
    "    print(f\"Saving data with shape {merged_data.shape}\")\n",
    "    merged_data.to_feather(outDir+ \"/\" + search + \".feather\")\n",
    "\n",
    "files = {'mean': {'search': \"mean_8km.csv\", \n",
    "            'columns': ['mean_precip','Nfer_kgha', 'popDensity', 'sheepDensity', 'goatDensity', 'cattleDensity', 'gid']},\n",
    "'sum': {'search': \"sum_8km.csv\", \n",
    "            'columns': ['areakm2_urban','areakm2_cropCover', 'areakm2_protArea',\n",
    "       'areakm2_slowNutrArea', 'areakm2_sMedNutriArea',\n",
    "       'areakm2_sHighNutriArea', 'areakm2_plantation', 'areakm2_treeCrop', 'gid']},\n",
    "'coords': {'search': \"coords_8km.csv\", \n",
    "            'columns': ['x', 'y', 'gid']}}\n",
    "\n",
    "dir_path = r'C:\\Users\\coach\\myfiles\\miscellenous\\hayley\\outputs2'\n",
    "outPath = r'C:\\Users\\coach\\myfiles\\miscellenous\\hayley'\n",
    "\n",
    "for file in files:\n",
    "    search = files.get(file).get('search')\n",
    "    colnames = files.get(file).get('columns')\n",
    "    toAfrotropic(inDir = dir_path, outDir = outPath, search = search, colnames = colnames)"
   ]
  },
  {
   "cell_type": "code",
   "execution_count": 3,
   "id": "b262d17c-cc76-42ab-b20e-0c84dcd079ee",
   "metadata": {},
   "outputs": [
    {
     "data": {
      "text/plain": [
       "'C:\\\\Users\\\\coach\\\\myfiles\\\\miscellenous\\\\hayley'"
      ]
     },
     "execution_count": 3,
     "metadata": {},
     "output_type": "execute_result"
    }
   ],
   "source": [
    "outPath = r'C:\\Users\\coach\\myfiles\\miscellenous\\hayley'\n",
    "os.chdir(outPath)\n",
    "os.getcwd()"
   ]
  },
  {
   "cell_type": "code",
   "execution_count": 4,
   "id": "1e4a3273-6416-4221-ba61-1194b0206cab",
   "metadata": {},
   "outputs": [],
   "source": [
    "def ckdnearest(gdA, gdB, k=1):\n",
    "    \"\"\"\n",
    "    For missing values, fill with nearest value\n",
    "    \"\"\"\n",
    "    nA = np.array(list(gdA.geometry.apply(lambda x: (x.x, x.y))))\n",
    "    nB = np.array(list(gdB.geometry.apply(lambda x: (x.x, x.y))))\n",
    "    btree = cKDTree(nB)\n",
    "    dist, idx = btree.query(nA, k=k)\n",
    "    gdB_nearest = gdB.iloc[idx].drop(columns=\"geometry\").reset_index(drop=True)\n",
    "    gdf = pd.concat(\n",
    "        [\n",
    "            gdA.reset_index(drop=True),\n",
    "            gdB_nearest,\n",
    "            pd.Series(dist, name='dist')\n",
    "        ], \n",
    "        axis=1)\n",
    "\n",
    "    return gdf"
   ]
  },
  {
   "cell_type": "code",
   "execution_count": 5,
   "id": "09621066-3e8a-43a6-84ec-8aabca29c252",
   "metadata": {},
   "outputs": [],
   "source": [
    "# #Field Size data\n",
    "df = pd.read_feather(r\"coords_8km.feather\")"
   ]
  },
  {
   "cell_type": "code",
   "execution_count": 6,
   "id": "707850c7-48b8-489e-8875-5c47f57eb76e",
   "metadata": {},
   "outputs": [],
   "source": [
    "df1 = pd.read_feather(r\"sum_8km.feather\")\n",
    "\n",
    "df1.loc[:,['areakm2_urban', 'areakm2_cropCover', 'areakm2_protArea',\n",
    "       'areakm2_slowNutrArea', 'areakm2_sMedNutriArea',\n",
    "       'areakm2_sHighNutriArea', 'areakm2_plantation', 'areakm2_treeCrop',]] = \\\n",
    "df1.loc[:,['areakm2_urban','areakm2_cropCover', 'areakm2_protArea',\n",
    "       'areakm2_slowNutrArea', 'areakm2_sMedNutriArea',\n",
    "       'areakm2_sHighNutriArea', 'areakm2_plantation', 'areakm2_treeCrop']].divide(1, axis=1)"
   ]
  },
  {
   "cell_type": "code",
   "execution_count": 7,
   "id": "38b64040-8c07-4508-9cfc-431499973e3a",
   "metadata": {},
   "outputs": [],
   "source": [
    "# Mean covariate data\n",
    "dfmean = pd.read_feather(r\"mean_8km.feather\")\n",
    "dfmean= dfmean[dfmean['gid']!= '245,-2948']"
   ]
  },
  {
   "cell_type": "code",
   "execution_count": 8,
   "id": "1c8f9763-4324-49d2-9c24-47af99ce45e4",
   "metadata": {},
   "outputs": [],
   "source": [
    "# Merge datasets into single datset based on matching GIS column\n",
    "dfJoin = pd.merge(df1, dfmean, on= 'gid')\n",
    "dfAll = pd.merge(dfJoin, df, on= 'gid').drop_duplicates().reset_index(drop=True)"
   ]
  },
  {
   "cell_type": "code",
   "execution_count": 9,
   "id": "b6e547e0-559f-4e7a-b289-c228d6aa6ced",
   "metadata": {},
   "outputs": [
    {
     "name": "stdout",
     "output_type": "stream",
     "text": [
      "The number of missing mean_precip values: 0\n"
     ]
    }
   ],
   "source": [
    "# Fill in missing mean precipitation data\n",
    "# by copying attribute of closest point\n",
    "missing = dfAll.mean_precip.isna().sum()\n",
    "print('The number of missing mean_precip values:', missing)\n",
    "if missing>0:\n",
    "    # Blocks with mean-precip data\n",
    "    sdf2 = dfAll.loc[dfAll['mean_precip'].notna(), ['mean_precip', 'x', 'y']]\n",
    "    gdf2 =  gpd.GeoDataFrame(sdf2.drop(['x', 'y'],axis=1), geometry = gpd.points_from_xy(sdf2.x, sdf2.y))\n",
    "\n",
    "    # All columns without join-attributes(s) column\n",
    "    sdf1 = dfAll.loc[dfAll['mean_precip'].isna(), ['gid','x', 'y']]\n",
    "    gdf1 =  gpd.GeoDataFrame(sdf1.drop(['x', 'y'],axis=1), geometry = gpd.points_from_xy(sdf1.x, sdf1.y))\n",
    "\n",
    "    joinNearest1 = ckdnearest(gdf1, gdf2)\n",
    "\n",
    "    result1 = pd.DataFrame(joinNearest1)[['gid', 'mean_precip']]\n",
    "    result1.columns = ['gid', 'mean_precip2']\n",
    "\n",
    "    dfAll = pd.merge(dfAll, result1, how = 'outer',on = 'gid').drop_duplicates()\n",
    "    dfAll['mean_precip'].fillna(dfAll['mean_precip2'], inplace = True)\n",
    "    dfAll.drop('mean_precip2', axis=1, inplace=True)"
   ]
  },
  {
   "cell_type": "code",
   "execution_count": 10,
   "id": "70b5a721-886e-4c97-a8bc-985942ab3b2a",
   "metadata": {
    "tags": []
   },
   "outputs": [
    {
     "name": "stderr",
     "output_type": "stream",
     "text": [
      "C:\\Users\\coach\\AppData\\Local\\Temp\\ipykernel_11604\\144965382.py:5: FutureWarning: In a future version, `df.iloc[:, i] = newvals` will attempt to set the values inplace instead of always setting a new array. To retain the old behavior, use either `df[df.columns[i]] = newvals` or, if columns are non-unique, `df.isetitem(i, newvals)`\n",
      "  dfF.loc[:,'gid'] = dfF.loc[:,'gid'].astype('string')\n",
      "C:\\Users\\coach\\AppData\\Local\\Temp\\ipykernel_11604\\144965382.py:7: FutureWarning: In a future version, `df.iloc[:, i] = newvals` will attempt to set the values inplace instead of always setting a new array. To retain the old behavior, use either `df[df.columns[i]] = newvals` or, if columns are non-unique, `df.isetitem(i, newvals)`\n",
      "  dfF.loc[:,'mean_precip'] = dfF.loc[:,'mean_precip'].astype('float32')\n"
     ]
    }
   ],
   "source": [
    "dfF = dfAll[dfAll['areakm2_treeCrop']!= '2726,-3471']\n",
    "\n",
    "# Format data types\n",
    "dfF.loc[:,'areakm2_treeCrop'] = dfF.loc[:,'areakm2_treeCrop'].astype('float64')\n",
    "dfF.loc[:,'gid'] = dfF.loc[:,'gid'].astype('string')\n",
    "dfF.loc[:,'Nfer_kgha'] = dfF.loc[:,'Nfer_kgha'].astype('float64')\n",
    "dfF.loc[:,'mean_precip'] = dfF.loc[:,'mean_precip'].astype('float32')"
   ]
  },
  {
   "cell_type": "code",
   "execution_count": 11,
   "id": "6a4554dd-cfc7-4af5-a64f-27f8f7ae0266",
   "metadata": {},
   "outputs": [],
   "source": [
    "# get sub-saharan countries\n",
    "# https://code.earthengine.google.com/443ea31edb2f25f58a3346e7dc8c1064\n",
    "countries = ee.FeatureCollection(\"USDOS/LSIB/2017\")\n",
    "c2 = ee.FeatureCollection(\"USDOS/LSIB_SIMPLE/2017\")\n",
    "afroTropics = ee.FeatureCollection(\"projects/ee-geethensingh/assets/Afrotropics\")\n",
    "\n",
    "africa = c2.filter(ee.Filter.eq('wld_rgn', 'Africa'))\n",
    "sub = countries.filterBounds(afroTropics).aggregate_array('COUNTRY_NA')\\\n",
    ".removeAll(['Gaza Strip (disp)','Israel', 'Algeria', 'Egypt', 'Libya', 'Morocco', 'Tunisia', 'Mayotte (Fr)',\n",
    "            'Spain [Canary Is]', 'Spain [Plazas de Soberania]', 'Portugal [Madeira Is]'])\n",
    "\n",
    "sub_africa = countries.filter(ee.Filter.inList('COUNTRY_NA', sub))"
   ]
  },
  {
   "cell_type": "code",
   "execution_count": 8,
   "id": "9e09fdea-99aa-40b6-a3ee-3f17570c4395",
   "metadata": {},
   "outputs": [
    {
     "name": "stderr",
     "output_type": "stream",
     "text": [
      "C:\\Users\\coach\\AppData\\Local\\Temp\\ipykernel_2872\\2742369715.py:8: FutureWarning: Currently, index_parts defaults to True, but in the future, it will default to False to be consistent with Pandas. Use `index_parts=True` to keep the current behavior and True/False to silence the warning.\n",
      "  diff = diff.explode()\n",
      "C:\\Users\\coach\\AppData\\Local\\Temp\\ipykernel_2872\\2742369715.py:10: UserWarning: Geometry is in a geographic CRS. Results from 'area' are likely incorrect. Use 'GeoSeries.to_crs()' to re-project geometries to a projected CRS before this operation.\n",
      "\n",
      "  diff['area'] = diff.geometry.area\n"
     ]
    },
    {
     "data": {
      "text/plain": [
       "<AxesSubplot: >"
      ]
     },
     "execution_count": 8,
     "metadata": {},
     "output_type": "execute_result"
    },
    {
     "data": {
      "image/png": "[encoded data removed]",
      "text/plain": [
       "<Figure size 640x480 with 1 Axes>"
      ]
     },
     "metadata": {},
     "output_type": "display_data"
    }
   ],
   "source": [
    "aoi = sub_africa.union(1000)\n",
    "aoi1 = geemap.ee_to_geopandas(aoi)\n",
    "aoi2 = geemap.ee_to_geopandas(afroTropics)\n",
    "\n",
    "diff = aoi1.difference(aoi2)\n",
    "# Create a new GeoDataFrame with each part of the geometry as a separate row\n",
    "diff = gpd.GeoDataFrame(geometry=[part for part in diff], crs= 'EPSG:4326')\n",
    "diff = diff.explode()\n",
    "\n",
    "diff['area'] = diff.geometry.area\n",
    "max_diff = diff.loc[diff['area']==diff['area'].max()]\n",
    "max_diff.plot()"
   ]
  },
  {
   "cell_type": "code",
   "execution_count": 9,
   "id": "d61ddc54-8bec-4226-8748-6d87636bc1bf",
   "metadata": {},
   "outputs": [],
   "source": [
    "diff_aoi = geemap.geopandas_to_ee(gpd.GeoDataFrame(geometry= max_diff.geometry, crs= 'EPSG:4326'))\n",
    "# diff_aoi"
   ]
  },
  {
   "cell_type": "code",
   "execution_count": 48,
   "id": "8a5f242c-7355-4942-a898-9dcb48ab62fa",
   "metadata": {},
   "outputs": [
    {
     "data": {
      "application/vnd.jupyter.widget-view+json": {
       "model_id": "0f9b568762ed4b80827bac6e08d7b5e0",
       "version_major": 2,
       "version_minor": 0
      },
      "text/plain": [
       "Map(center=[20, 0], controls=(WidgetControl(options=['position', 'transparent_bg'], widget=HBox(children=(Togg…"
      ]
     },
     "metadata": {},
     "output_type": "display_data"
    }
   ],
   "source": [
    "Map = geemap.Map()\n",
    "Map.addLayer(diff_aoi)\n",
    "Map"
   ]
  },
  {
   "cell_type": "code",
   "execution_count": 4,
   "id": "c5f8f994-c19a-4dc2-a31a-e80118338673",
   "metadata": {},
   "outputs": [
    {
     "ename": "NameError",
     "evalue": "name 'diff_aoi' is not defined",
     "output_type": "error",
     "traceback": [
      "\u001b[1;31m---------------------------------------------------------------------------\u001b[0m",
      "\u001b[1;31mNameError\u001b[0m                                 Traceback (most recent call last)",
      "Cell \u001b[1;32mIn [4], line 22\u001b[0m\n\u001b[0;32m     19\u001b[0m \u001b[38;5;66;03m# ALbers equal area for africa\u001b[39;00m\n\u001b[0;32m     20\u001b[0m epsg_102022 \u001b[38;5;241m=\u001b[39m ee\u001b[38;5;241m.\u001b[39mProjection(wkt)\n\u001b[1;32m---> 22\u001b[0m grid, _ \u001b[38;5;241m=\u001b[39m createGrid(\u001b[38;5;241m1000\u001b[39m, \u001b[43mdiff_aoi\u001b[49m, crs \u001b[38;5;241m=\u001b[39m epsg_102022)\n\u001b[0;32m     23\u001b[0m remove_ids \u001b[38;5;241m=\u001b[39m grid\u001b[38;5;241m.\u001b[39mmap(\u001b[38;5;28;01mlambda\u001b[39;00m cell: cell\u001b[38;5;241m.\u001b[39mset(\u001b[38;5;124m'\u001b[39m\u001b[38;5;124mid\u001b[39m\u001b[38;5;124m'\u001b[39m, cell\u001b[38;5;241m.\u001b[39mid()))\u001b[38;5;241m.\u001b[39maggregate_array(\u001b[38;5;124m'\u001b[39m\u001b[38;5;124mid\u001b[39m\u001b[38;5;124m'\u001b[39m)\u001b[38;5;241m.\u001b[39mgetInfo()\n",
      "\u001b[1;31mNameError\u001b[0m: name 'diff_aoi' is not defined"
     ]
    }
   ],
   "source": [
    "# Define projection\n",
    "wkt = '\\\n",
    "PROJCS[\"Africa_Albers_Equal_Area_Conic\",\\\n",
    "    GEOGCS[\"GCS_WGS_1984\",\\\n",
    "    DATUM[\"WGS_1984\",\\\n",
    "    SPHEROID[\"WGS_1984\",6378137,298.257223563]],\\\n",
    "    PRIMEM[\"Greenwich\",0],\\\n",
    "    UNIT[\"Degree\",0.017453292519943295]],\\\n",
    "    PROJECTION[\"Albers_Conic_Equal_Area\"],\\\n",
    "    PARAMETER[\"False_Easting\",0],\\\n",
    "    PARAMETER[\"False_Northing\",0],\\\n",
    "    PARAMETER[\"longitude_of_center\",25],\\\n",
    "    PARAMETER[\"Standard_Parallel_1\",20],\\\n",
    "    PARAMETER[\"Standard_Parallel_2\",-23],\\\n",
    "    PARAMETER[\"latitude_of_center\",0],\\\n",
    "    UNIT[\"Meter\",1],\\\n",
    "    AUTHORITY[\"EPSG\",\"102022\"]]'\n",
    "\n",
    "# ALbers equal area for africa\n",
    "epsg_102022 = ee.Projection(wkt)\n",
    "\n",
    "grid, _ = createGrid(1000, diff_aoi, crs = epsg_102022)\n",
    "remove_ids = grid.map(lambda cell: cell.set('id', cell.id())).aggregate_array('id').getInfo()"
   ]
  },
  {
   "cell_type": "code",
   "execution_count": 55,
   "id": "5aa6f18f-38e4-4b9f-b380-746c693f9cdd",
   "metadata": {},
   "outputs": [
    {
     "data": {
      "text/plain": [
       "(16588099, 18)"
      ]
     },
     "execution_count": 55,
     "metadata": {},
     "output_type": "execute_result"
    }
   ],
   "source": [
    "dfF.loc[~dfF['gid'].isin(remove_ids)].shape"
   ]
  },
  {
   "cell_type": "code",
   "execution_count": 11,
   "id": "8cb24cfd-5347-4f0c-a366-296a4233ec52",
   "metadata": {},
   "outputs": [
    {
     "name": "stdout",
     "output_type": "stream",
     "text": [
      "shape before: (24219858, 17)\n",
      "shape after: (21133874, 17)\n"
     ]
    },
    {
     "data": {
      "text/html": [
       "<div>\n",
       "<style scoped>\n",
       "    .dataframe tbody tr th:only-of-type {\n",
       "        vertical-align: middle;\n",
       "    }\n",
       "\n",
       "    .dataframe tbody tr th {\n",
       "        vertical-align: top;\n",
       "    }\n",
       "\n",
       "    .dataframe thead th {\n",
       "        text-align: right;\n",
       "    }\n",
       "</style>\n",
       "<table border=\"1\" class=\"dataframe\">\n",
       "  <thead>\n",
       "    <tr style=\"text-align: right;\">\n",
       "      <th></th>\n",
       "      <th>areakm2_urban</th>\n",
       "      <th>areakm2_cropCover</th>\n",
       "      <th>areakm2_protArea</th>\n",
       "      <th>areakm2_slowNutrArea</th>\n",
       "      <th>areakm2_sMedNutriArea</th>\n",
       "      <th>areakm2_sHighNutriArea</th>\n",
       "      <th>areakm2_plantation</th>\n",
       "      <th>areakm2_treeCrop</th>\n",
       "      <th>gid</th>\n",
       "      <th>mean_precip</th>\n",
       "      <th>Nfer_kgha</th>\n",
       "      <th>popDensity</th>\n",
       "      <th>sheepDensity</th>\n",
       "      <th>goatDensity</th>\n",
       "      <th>cattleDensity</th>\n",
       "      <th>x</th>\n",
       "      <th>y</th>\n",
       "    </tr>\n",
       "  </thead>\n",
       "  <tbody>\n",
       "    <tr>\n",
       "      <th>0</th>\n",
       "      <td>0.0</td>\n",
       "      <td>0.0</td>\n",
       "      <td>0.0</td>\n",
       "      <td>0.999999</td>\n",
       "      <td>0.0</td>\n",
       "      <td>0.0</td>\n",
       "      <td>0.0</td>\n",
       "      <td>0.0</td>\n",
       "      <td>299,1140</td>\n",
       "      <td>781.408203</td>\n",
       "      <td>0.0</td>\n",
       "      <td>7.829042</td>\n",
       "      <td>13.063177</td>\n",
       "      <td>5.999696</td>\n",
       "      <td>11.667612</td>\n",
       "      <td>299500</td>\n",
       "      <td>1140500</td>\n",
       "    </tr>\n",
       "    <tr>\n",
       "      <th>1</th>\n",
       "      <td>0.0</td>\n",
       "      <td>0.0</td>\n",
       "      <td>0.0</td>\n",
       "      <td>0.999999</td>\n",
       "      <td>0.0</td>\n",
       "      <td>0.0</td>\n",
       "      <td>0.0</td>\n",
       "      <td>0.0</td>\n",
       "      <td>299,1140</td>\n",
       "      <td>781.408203</td>\n",
       "      <td>0.0</td>\n",
       "      <td>7.829042</td>\n",
       "      <td>13.063177</td>\n",
       "      <td>5.999696</td>\n",
       "      <td>11.667612</td>\n",
       "      <td>299500</td>\n",
       "      <td>1140500</td>\n",
       "    </tr>\n",
       "    <tr>\n",
       "      <th>2</th>\n",
       "      <td>0.0</td>\n",
       "      <td>0.0</td>\n",
       "      <td>0.0</td>\n",
       "      <td>0.999999</td>\n",
       "      <td>0.0</td>\n",
       "      <td>0.0</td>\n",
       "      <td>0.0</td>\n",
       "      <td>0.0</td>\n",
       "      <td>299,1140</td>\n",
       "      <td>781.408203</td>\n",
       "      <td>0.0</td>\n",
       "      <td>7.829042</td>\n",
       "      <td>13.063177</td>\n",
       "      <td>5.999696</td>\n",
       "      <td>11.667612</td>\n",
       "      <td>299500</td>\n",
       "      <td>1140500</td>\n",
       "    </tr>\n",
       "    <tr>\n",
       "      <th>3</th>\n",
       "      <td>0.0</td>\n",
       "      <td>0.0</td>\n",
       "      <td>0.0</td>\n",
       "      <td>0.999999</td>\n",
       "      <td>0.0</td>\n",
       "      <td>0.0</td>\n",
       "      <td>0.0</td>\n",
       "      <td>0.0</td>\n",
       "      <td>299,1140</td>\n",
       "      <td>781.408203</td>\n",
       "      <td>0.0</td>\n",
       "      <td>7.829042</td>\n",
       "      <td>13.063177</td>\n",
       "      <td>5.999696</td>\n",
       "      <td>11.667612</td>\n",
       "      <td>299500</td>\n",
       "      <td>1140500</td>\n",
       "    </tr>\n",
       "    <tr>\n",
       "      <th>4</th>\n",
       "      <td>0.0</td>\n",
       "      <td>0.0</td>\n",
       "      <td>0.0</td>\n",
       "      <td>0.999999</td>\n",
       "      <td>0.0</td>\n",
       "      <td>0.0</td>\n",
       "      <td>0.0</td>\n",
       "      <td>0.0</td>\n",
       "      <td>299,1140</td>\n",
       "      <td>781.408203</td>\n",
       "      <td>0.0</td>\n",
       "      <td>7.829042</td>\n",
       "      <td>13.063177</td>\n",
       "      <td>5.999696</td>\n",
       "      <td>11.667612</td>\n",
       "      <td>299500</td>\n",
       "      <td>1140500</td>\n",
       "    </tr>\n",
       "  </tbody>\n",
       "</table>\n",
       "</div>"
      ],
      "text/plain": [
       "   areakm2_urban  areakm2_cropCover  areakm2_protArea  areakm2_slowNutrArea  \\\n",
       "0            0.0                0.0               0.0              0.999999   \n",
       "1            0.0                0.0               0.0              0.999999   \n",
       "2            0.0                0.0               0.0              0.999999   \n",
       "3            0.0                0.0               0.0              0.999999   \n",
       "4            0.0                0.0               0.0              0.999999   \n",
       "\n",
       "   areakm2_sMedNutriArea  areakm2_sHighNutriArea  areakm2_plantation  \\\n",
       "0                    0.0                     0.0                 0.0   \n",
       "1                    0.0                     0.0                 0.0   \n",
       "2                    0.0                     0.0                 0.0   \n",
       "3                    0.0                     0.0                 0.0   \n",
       "4                    0.0                     0.0                 0.0   \n",
       "\n",
       "   areakm2_treeCrop       gid  mean_precip  Nfer_kgha  popDensity  \\\n",
       "0               0.0  299,1140   781.408203        0.0    7.829042   \n",
       "1               0.0  299,1140   781.408203        0.0    7.829042   \n",
       "2               0.0  299,1140   781.408203        0.0    7.829042   \n",
       "3               0.0  299,1140   781.408203        0.0    7.829042   \n",
       "4               0.0  299,1140   781.408203        0.0    7.829042   \n",
       "\n",
       "   sheepDensity  goatDensity  cattleDensity       x        y  \n",
       "0     13.063177     5.999696      11.667612  299500  1140500  \n",
       "1     13.063177     5.999696      11.667612  299500  1140500  \n",
       "2     13.063177     5.999696      11.667612  299500  1140500  \n",
       "3     13.063177     5.999696      11.667612  299500  1140500  \n",
       "4     13.063177     5.999696      11.667612  299500  1140500  "
      ]
     },
     "execution_count": 11,
     "metadata": {},
     "output_type": "execute_result"
    }
   ],
   "source": [
    "print(f'shape before: {dfF.shape}') \n",
    "dfF = dfF.loc[~dfF['gid'].isin(remove_ids)]\n",
    "print(f'shape after: {dfF.shape}')\n",
    "dfF.head()"
   ]
  },
  {
   "cell_type": "code",
   "execution_count": 4,
   "id": "5ed9a4d4-90ae-4c08-9586-2c84b6f6fe92",
   "metadata": {},
   "outputs": [],
   "source": [
    "dfF = pd.read_feather(r\"cleaned.feather\")"
   ]
  },
  {
   "cell_type": "code",
   "execution_count": 5,
   "id": "c0b2e5f7-9b7b-42f3-9b13-ec307c639cd0",
   "metadata": {
    "tags": []
   },
   "outputs": [],
   "source": [
    "# Define projection\n",
    "wkt = '\\\n",
    "PROJCS[\"Africa_Albers_Equal_Area_Conic\",\\\n",
    "    GEOGCS[\"GCS_WGS_1984\",\\\n",
    "    DATUM[\"WGS_1984\",\\\n",
    "    SPHEROID[\"WGS_1984\",6378137,298.257223563]],\\\n",
    "    PRIMEM[\"Greenwich\",0],\\\n",
    "    UNIT[\"Degree\",0.017453292519943295]],\\\n",
    "    PROJECTION[\"Albers_Conic_Equal_Area\"],\\\n",
    "    PARAMETER[\"False_Easting\",0],\\\n",
    "    PARAMETER[\"False_Northing\",0],\\\n",
    "    PARAMETER[\"longitude_of_center\",25],\\\n",
    "    PARAMETER[\"Standard_Parallel_1\",20],\\\n",
    "    PARAMETER[\"Standard_Parallel_2\",-23],\\\n",
    "    PARAMETER[\"latitude_of_center\",0],\\\n",
    "    UNIT[\"Meter\",1],\\\n",
    "    AUTHORITY[\"EPSG\",\"102022\"]]'\n",
    "\n",
    "# ALbers equal area for africa\n",
    "epsg_102022 = ee.Projection(wkt)"
   ]
  },
  {
   "cell_type": "code",
   "execution_count": 16,
   "id": "5ffbb593-3673-41aa-b4e3-6adf34ec742d",
   "metadata": {},
   "outputs": [
    {
     "name": "stderr",
     "output_type": "stream",
     "text": [
      "C:\\Users\\coach\\AppData\\Local\\Temp\\ipykernel_11604\\458380293.py:4: SettingWithCopyWarning: \n",
      "A value is trying to be set on a copy of a slice from a DataFrame.\n",
      "Try using .loc[row_indexer,col_indexer] = value instead\n",
      "\n",
      "See the caveats in the documentation: https://pandas.pydata.org/pandas-docs/stable/user_guide/indexing.html#returning-a-view-versus-a-copy\n",
      "  df['maxN'] = df[['areakm2_slowNutrArea','areakm2_sMedNutriArea', 'areakm2_sHighNutriArea']].max(axis=1)\n"
     ]
    },
    {
     "name": "stdout",
     "output_type": "stream",
     "text": [
      "The number of missing soil nutrient values: 1871\n"
     ]
    }
   ],
   "source": [
    "# Fill in missing Nutrient data\n",
    "# Copy attribute of closest point\n",
    "df = dfF\n",
    "df['maxN'] = df[['areakm2_slowNutrArea','areakm2_sMedNutriArea', 'areakm2_sHighNutriArea']].max(axis=1)\n",
    "\n",
    "missing = df[df.maxN==0].shape[0]\n",
    "print('The number of missing soil nutrient values:', missing)\n",
    "if missing>0:\n",
    "    # Blocks with Nutrient areas\n",
    "    sdf2 = df.loc[df['maxN']>0, ['areakm2_slowNutrArea','areakm2_sMedNutriArea', 'areakm2_sHighNutriArea', 'x', 'y']]\n",
    "    gdf2 =  gpd.GeoDataFrame(sdf2.drop(['x', 'y'],axis=1), geometry = gpd.points_from_xy(sdf2.x, sdf2.y))\n",
    "\n",
    "    # All columns without join-attributes(s) column\n",
    "    sdf1 = df[['gid', 'x', 'y']]\n",
    "    gdf1 =  gpd.GeoDataFrame(sdf1.drop(['x', 'y'],axis=1), geometry = gpd.points_from_xy(sdf1.x, sdf1.y))\n",
    "\n",
    "    joinNearest1 = ckdnearest(gdf1, gdf2)\n",
    "\n",
    "    result1 = pd.DataFrame(joinNearest1)[['gid', 'areakm2_slowNutrArea','areakm2_sMedNutriArea', 'areakm2_sHighNutriArea']]\n",
    "    result1.columns = ['gid', 'areakm2_slowNutrArea2','areakm2_sMedNutriArea2', 'areakm2_sHighNutriArea2']\n",
    "\n",
    "    finaldf = pd.merge(df, result1, how = 'outer',on = 'gid')\n",
    "else:\n",
    "    finaldf = df"
   ]
  },
  {
   "cell_type": "code",
   "execution_count": 17,
   "id": "6aaf0760-b2b5-43cc-ab8e-ddf23dca9def",
   "metadata": {},
   "outputs": [
    {
     "name": "stdout",
     "output_type": "stream",
     "text": [
      "max rainfall:9421811875840.0\n",
      "max rainfall:9421811875840.0\n"
     ]
    }
   ],
   "source": [
    "print(f\"max rainfall:{finaldf.mean_precip.max()}\")\n",
    "while finaldf.mean_precip.max() >20000:\n",
    "    print(f\"max rainfall:{finaldf.mean_precip.max()}\")\n",
    "    finaldf = finaldf[finaldf.mean_precip<finaldf.mean_precip.max()]"
   ]
  },
  {
   "cell_type": "code",
   "execution_count": 18,
   "id": "5f0c762e-ecc3-4011-9114-ecbed2edf8fc",
   "metadata": {},
   "outputs": [
    {
     "name": "stdout",
     "output_type": "stream",
     "text": [
      "2     94785\n",
      "0     90958\n",
      "1     89660\n",
      "3     75047\n",
      "4     38208\n",
      "5      7097\n",
      "6      3709\n",
      "7      1245\n",
      "8       398\n",
      "9        25\n",
      "10        1\n",
      "Name: precipDiscrete, dtype: int64\n"
     ]
    }
   ],
   "source": [
    "# Add small value to zero precip\n",
    "finaldf.loc[finaldf.mean_precip==0, 'mean_precip'] = 0.1\n",
    "# Round of to the nearest 400\n",
    "max_round = math.ceil(max(finaldf['mean_precip']) / 400) * 400\n",
    "cut_bins = list(range(0, max_round+1, 400))\n",
    "# discretize precipitation into categories \n",
    "cut_labels = [str(item) for item in range(0, len(cut_bins)-1)]\n",
    "finaldf[\"precipDiscrete\"] = pd.cut(x = finaldf[\"mean_precip\"].astype(float), bins= cut_bins, labels = cut_labels)\n",
    "print(finaldf.precipDiscrete.value_counts())\n",
    "\n",
    "# Identify the max nutrient area\n",
    "finaldf['maxNutr'] = finaldf[['areakm2_slowNutrArea2','areakm2_sMedNutriArea2', 'areakm2_sHighNutriArea2']].idxmax(axis=1)\n",
    "\n",
    "# Get unique category based on precip bucket and max nutrient category\n",
    "finaldf['combination_LS_intensity'] = finaldf[['precipDiscrete','maxNutr']].agg(tuple, axis=1)\n",
    "finaldf['lsIntensityCat'] = finaldf['combination_LS_intensity'].factorize()[0]"
   ]
  },
  {
   "cell_type": "code",
   "execution_count": 19,
   "id": "df76966a-bfba-4654-a5b5-843f3b00a8d0",
   "metadata": {},
   "outputs": [
    {
     "name": "stdout",
     "output_type": "stream",
     "text": [
      "Livestock Intensity categories (based on unique combinations of discretised precipitation and max nutrient category): [0, 1, 2, 3, 4, 5, 6, 7, 8, 9, 10, 11, 12, 13, 14, 15, 16, 17, 18, 19, 20, 21, 22, 23, 24, 25]\n"
     ]
    },
    {
     "data": {
      "application/vnd.jupyter.widget-view+json": {
       "model_id": "80ce1f03e1344733bb2e02f33e0d1a36",
       "version_major": 2,
       "version_minor": 0
      },
      "text/plain": [
       "  0%|          | 0/26 [00:00<?, ?it/s]"
      ]
     },
     "metadata": {},
     "output_type": "display_data"
    },
    {
     "name": "stdout",
     "output_type": "stream",
     "text": [
      "The 99th percentile of summed livestock density for combination 0 is: 138.56523612695491\n",
      "The 99th percentile of summed livestock density for combination 1 is: 108.71218925191422\n",
      "The 99th percentile of summed livestock density for combination 2 is: 63.75446768454724\n",
      "The 99th percentile of summed livestock density for combination 3 is: 94.37622198099514\n",
      "The 99th percentile of summed livestock density for combination 4 is: 60.01158442261924\n",
      "The 99th percentile of summed livestock density for combination 5 is: 133.86936378691036\n",
      "The 99th percentile of summed livestock density for combination 6 is: 106.50691462595033\n",
      "The 99th percentile of summed livestock density for combination 7 is: 104.64764879866883\n",
      "The 99th percentile of summed livestock density for combination 8 is: 32.969890655048786\n",
      "The 99th percentile of summed livestock density for combination 9 is: 54.785351906176\n",
      "The 99th percentile of summed livestock density for combination 10 is: 20.36218562926556\n",
      "The 99th percentile of summed livestock density for combination 11 is: 57.642022767370165\n",
      "The 99th percentile of summed livestock density for combination 12 is: 56.769881038996274\n",
      "The 99th percentile of summed livestock density for combination 13 is: 50.975178202981446\n",
      "The 99th percentile of summed livestock density for combination 14 is: 19.09278150820082\n",
      "The 99th percentile of summed livestock density for combination 15 is: 82.47777973088974\n",
      "The 99th percentile of summed livestock density for combination 16 is: 19.488720996596037\n",
      "The 99th percentile of summed livestock density for combination 17 is: 162.51985401080572\n",
      "The 99th percentile of summed livestock density for combination 18 is: 130.23678759217873\n",
      "The 99th percentile of summed livestock density for combination 19 is: 136.59367018723435\n",
      "The 99th percentile of summed livestock density for combination 20 is: 36.8244226325399\n",
      "The 99th percentile of summed livestock density for combination 21 is: 256.36183936441324\n",
      "The 99th percentile of summed livestock density for combination 22 is: 238.99843278505244\n",
      "The 99th percentile of summed livestock density for combination 23 is: 185.2134830362295\n",
      "The 99th percentile of summed livestock density for combination 24 is: 1.1352824011829246\n",
      "The 99th percentile of summed livestock density for combination 25 is: 55.711629118592185\n"
     ]
    }
   ],
   "source": [
    "# Get unique combinations of precipitation and maxNutrient categories\n",
    "combinations = list(set(finaldf['lsIntensityCat']))\n",
    "print(\"Livestock Intensity categories (based on unique combinations of discretised precipitation and max nutrient category):\",combinations)\n",
    "\n",
    "# Compute the sum of sheep, goat and cattle density\n",
    "finaldf['lsSum'] = finaldf[['sheepDensity', 'goatDensity', 'cattleDensity']].sum(axis=1)\n",
    "\n",
    "# Scale data\n",
    "finaldf['scaled_livestockIntensity']= 0\n",
    "for combination in tqdm(combinations):\n",
    "    qq99 = finaldf.loc[(finaldf['lsIntensityCat'] == combination),'lsSum'].quantile(0.9)\n",
    "    print(f'The 99th percentile of summed livestock density for combination {combination} is: {qq99}')\n",
    "    # if there are rows\n",
    "    if finaldf.loc[(finaldf['lsIntensityCat'] == combination)&(finaldf['lsSum']<qq99), 'scaled_livestockIntensity'].shape[0]>0:\n",
    "        # apply min max scaling to all data less than 99th quantile per unique combination.\n",
    "        scaler = MinMaxScaler()\n",
    "        finaldf.loc[(finaldf['lsIntensityCat'] == combination)&(finaldf['lsSum']<qq99), 'scaled_livestockIntensity']\\\n",
    "        = scaler.fit_transform(pd.DataFrame(finaldf.loc[(finaldf['lsIntensityCat'] == combination)&(finaldf['lsSum']<qq99)\\\n",
    "                                                    , 'lsSum']))\n",
    "    else: \n",
    "        finaldf.loc[(finaldf['lsIntensityCat'] == combination)&(finaldf['lsSum']<qq99), 'scaled_livestockIntensity'] =\\\n",
    "        finaldf.loc[(finaldf['lsIntensityCat'] == combination)&(finaldf['lsSum']<qq99), 'scaled_livestockIntensity']\n",
    "    # for data greater than 99th percentile per category, equal to max value 1\n",
    "    finaldf.loc[(finaldf['lsIntensityCat'] == combination)&(finaldf['lsSum']>=qq99), 'scaled_livestockIntensity'] = 1"
   ]
  },
  {
   "cell_type": "code",
   "execution_count": 20,
   "id": "abf68bb9-924f-4dac-a702-d2db3ea5bf72",
   "metadata": {},
   "outputs": [],
   "source": [
    "# Export data\n",
    "date = datetime.today().strftime('%d%m%Y')\n",
    "outfile = f'8km_{date}.feather'\n",
    "finaldf.drop_duplicates(subset = ['x', 'y']).reset_index(drop=True).to_feather(outfile)"
   ]
  },
  {
   "cell_type": "markdown",
   "id": "6a4e45d4-9cd5-4f1c-85e2-177b05c794b5",
   "metadata": {},
   "source": [
    "## Expert Decision tree"
   ]
  },
  {
   "cell_type": "code",
   "execution_count": 22,
   "id": "d5c92bfd-0bd4-459c-b4dc-be5e860e9105",
   "metadata": {
    "tags": []
   },
   "outputs": [],
   "source": [
    "def ckdnearest_fsz(gdA, gdB, k=5):\n",
    "    \"\"\"\n",
    "    For rows with no field size data, identify the 5-closest points -> select the most common fieldSize.\n",
    "    If there are 2 most field sizes, drop the furthest point and redetermine most common field Size.\n",
    "    \n",
    "    Args:\n",
    "        gdA (pandas DataFrame): contains rows with missing data in column named 'fieldSize'\n",
    "        gdB (pandas DataFrame): contains rows with no missing data in column named 'fieldSize'\n",
    "        k (int): Determines the number of closest points considered\n",
    "    \n",
    "    Returns:\n",
    "        gdA (pandas dataframe) with filled in missing data at column named 'fieldSize2'.\n",
    "        If the 5 points are each different fieldsizes, this function will not work.\n",
    "    \"\"\"\n",
    "    # get 5-closest pts\n",
    "    nA = np.array(list(gdA.geometry.apply(lambda x: (x.x, x.y))))\n",
    "    nB = np.array(list(gdB.geometry.apply(lambda x: (x.x, x.y))))\n",
    "    btree = cKDTree(nB)\n",
    "    dist, idx = btree.query(nA, k=k)\n",
    "    \n",
    "    gdA['fieldSize2'] = np.nan\n",
    "    for row in tqdm(range(idx.shape[0])):\n",
    "        # get 5 rows\n",
    "        data = gdB.iloc[idx[row],:]\n",
    "        # get most common fieldsize value\n",
    "        if data['fieldSize'].value_counts().mode().shape[0]==1:\n",
    "            most_common = data['fieldSize'].value_counts().idxmax()\n",
    "            gdA.at[row, 'fieldSize2'] = most_common\n",
    "        # if 2 or more values are returned, drop point with greatest distance\n",
    "        else:\n",
    "            fts = pd.DataFrame(np.column_stack([dist[row], idx[row]]), columns=['dist', 'idx'])\n",
    "            # drop point with greatest distance\n",
    "            idx_i = list(fts.loc[fts['dist']<fts['dist'].max(), 'idx'])\n",
    "            data = gdB.iloc[idx_i,:]\n",
    "            # get most common value\n",
    "            most_common = data['fieldSize'].value_counts().idxmax()\n",
    "            gdA.at[row, 'fieldSize2'] = most_common\n",
    "    return gdA"
   ]
  },
  {
   "cell_type": "code",
   "execution_count": 23,
   "id": "f2453cca-3952-45c6-a2f9-70937f46f170",
   "metadata": {
    "tags": []
   },
   "outputs": [],
   "source": [
    "infile = f'8km_{date}.feather'\n",
    "df = pd.read_feather(infile).dropna().reset_index(drop=True)"
   ]
  },
  {
   "cell_type": "code",
   "execution_count": 24,
   "id": "d4bcc049-6f1b-4b60-99c3-a296ea12744d",
   "metadata": {},
   "outputs": [
    {
     "name": "stdout",
     "output_type": "stream",
     "text": [
      "The number of cells per landcover category\n"
     ]
    },
    {
     "data": {
      "text/plain": [
       "6    258417\n",
       "4     43371\n",
       "5     18916\n",
       "1      1539\n",
       "2       650\n",
       "3       161\n",
       "Name: Land_Use, dtype: int64"
      ]
     },
     "execution_count": 24,
     "metadata": {},
     "output_type": "execute_result"
    }
   ],
   "source": [
    "#1= Urban\n",
    "#2= Timber plantations\n",
    "#3= Tree Croplands\n",
    "#4= CropLands\n",
    "#5= Protected areas\n",
    "#6= Rangelands/Near-natural lands\n",
    "\n",
    "def ExpertDT(df):\n",
    "\n",
    "    #6= Rangelands/Near-natural lands\n",
    "    df['Land_Use'] = 6\n",
    "\n",
    "    #5= Protected areas\n",
    "    df.loc[df['areakm2_protArea']>0.2, 'Land_Use'] = 5\n",
    "\n",
    "    #4= CropLands\n",
    "    df.loc[df['areakm2_cropCover']>0.2, 'Land_Use'] = 4\n",
    "\n",
    "    #3= Tree Croplands\n",
    "    df.loc[df['areakm2_treeCrop']>0.2, 'Land_Use'] = 3\n",
    "\n",
    "    #2= Timber plantations\n",
    "    df.loc[df['areakm2_plantation']>0.2, 'Land_Use'] = 2\n",
    "\n",
    "    #1= Urban\n",
    "    df.loc[(df['areakm2_urban']>0.2)|\n",
    "           (df['popDensity']>1000) , 'Land_Use'] = 1\n",
    "    return df\n",
    "    \n",
    "result = ExpertDT(df)\n",
    "print('The number of cells per landcover category')\n",
    "result['Land_Use'].value_counts()"
   ]
  },
  {
   "cell_type": "code",
   "execution_count": 25,
   "id": "2b80e25b-031c-4ad2-a05d-e779d368f0a1",
   "metadata": {
    "tags": []
   },
   "outputs": [
    {
     "data": {
      "application/vnd.jupyter.widget-view+json": {
       "model_id": "eafac3058b3843658b92480713f407ce",
       "version_major": 2,
       "version_minor": 0
      },
      "text/plain": [
       "  0%|          | 0/4 [00:00<?, ?it/s]"
      ]
     },
     "metadata": {},
     "output_type": "display_data"
    },
    {
     "name": "stderr",
     "output_type": "stream",
     "text": [
      "C:\\Users\\coach\\AppData\\Local\\Temp\\ipykernel_11604\\1186489636.py:43: FutureWarning: The frame.append method is deprecated and will be removed from pandas in a future version. Use pandas.concat instead.\n",
      "  df = df.append(ee_to_geopandas(fc))\n",
      "C:\\Users\\coach\\AppData\\Local\\Temp\\ipykernel_11604\\1186489636.py:43: FutureWarning: The frame.append method is deprecated and will be removed from pandas in a future version. Use pandas.concat instead.\n",
      "  df = df.append(ee_to_geopandas(fc))\n",
      "C:\\Users\\coach\\AppData\\Local\\Temp\\ipykernel_11604\\1186489636.py:43: FutureWarning: The frame.append method is deprecated and will be removed from pandas in a future version. Use pandas.concat instead.\n",
      "  df = df.append(ee_to_geopandas(fc))\n"
     ]
    },
    {
     "name": "stdout",
     "output_type": "stream",
     "text": [
      "fill in 43532 missing field size values\n"
     ]
    },
    {
     "name": "stderr",
     "output_type": "stream",
     "text": [
      "C:\\Users\\coach\\AppData\\Local\\Temp\\ipykernel_11604\\1186489636.py:43: FutureWarning: The frame.append method is deprecated and will be removed from pandas in a future version. Use pandas.concat instead.\n",
      "  df = df.append(ee_to_geopandas(fc))\n"
     ]
    }
   ],
   "source": [
    "# FieldSize\n",
    "from geemap import ee_to_geopandas\n",
    "from tqdm.auto import tqdm\n",
    "import ee\n",
    "ee.Initialize()\n",
    "aoi = ee.FeatureCollection(\"projects/ee-geethensingh/assets/Afrotropics\")\n",
    "pts = ee.FeatureCollection(\"projects/ee-geethensingh/assets/dominant_field_sizes\")\\\n",
    "                                .filterBounds(aoi)\\\n",
    "                                .filter(ee.Filter.neq('field_size', 'NA'))\\\n",
    "                                .map(lambda x: x.set(\"fieldSize\",ee.Number.parse(x.get(\"field_size\")))\\\n",
    "                                ).select(['fieldSize', 'geometry'])\n",
    "# Define projection\n",
    "wkt = '\\\n",
    "PROJCS[\"Africa_Albers_Equal_Area_Conic\",\\\n",
    "    GEOGCS[\"GCS_WGS_1984\",\\\n",
    "    DATUM[\"WGS_1984\",\\\n",
    "    SPHEROID[\"WGS_1984\",6378137,298.257223563]],\\\n",
    "    PRIMEM[\"Greenwich\",0],\\\n",
    "    UNIT[\"Degree\",0.017453292519943295]],\\\n",
    "    PROJECTION[\"Albers_Conic_Equal_Area\"],\\\n",
    "    PARAMETER[\"False_Easting\",0],\\\n",
    "    PARAMETER[\"False_Northing\",0],\\\n",
    "    PARAMETER[\"longitude_of_center\",25],\\\n",
    "    PARAMETER[\"Standard_Parallel_1\",20],\\\n",
    "    PARAMETER[\"Standard_Parallel_2\",-23],\\\n",
    "    PARAMETER[\"latitude_of_center\",0],\\\n",
    "    UNIT[\"Meter\",1],\\\n",
    "    AUTHORITY[\"EPSG\",\"102022\"]]'\n",
    "\n",
    "def largefc_to_geopandas(featurecollection, step_size = 5000):\n",
    "    \"\"\"\n",
    "    function to convert a featurecollection with more than 5000 elements to a pandas dataframe\n",
    "    \n",
    "    featurecollection: earth engine feature collection with more than 5000 elements\n",
    "    step_size: Th enumber of elemenst to process at once. Must be less than equal to 5000\n",
    "    \n",
    "    \"\"\"\n",
    "    df = gpd.GeoDataFrame()\n",
    "    fclist = featurecollection.toList(featurecollection.size())\n",
    "    fcsize = featurecollection.size().getInfo()\n",
    "    for i in tqdm(range(0,fcsize,step_size)):\n",
    "        fc = ee.FeatureCollection(fclist.slice(i,i+step_size))\n",
    "        df = df.append(ee_to_geopandas(fc))\n",
    "    return df\n",
    "\n",
    "fieldSize = largefc_to_geopandas(pts).set_crs('EPSG:4326').to_crs(wkt)\n",
    "\n",
    "    \n",
    "# get rows with fieldsize, cropcover or treeCrop data-used for joining\n",
    "val_list = [3502, 3503, 3504, 3505, 3506]\n",
    "gdf1 = fieldSize.loc[fieldSize['fieldSize'].isin(val_list), ].reset_index(drop=True) #select all rows with valid field size data\n",
    "\n",
    "# select landcover 3 and 4 (tree crop and crop)\n",
    "dfs2 = result.loc[(result['Land_Use']==3)|(result['Land_Use']==4),['x', 'y', 'gid']].reset_index(drop=True)\n",
    "# Convert to gdf\n",
    "gdf2 = gpd.GeoDataFrame(dfs2.drop(['x', 'y'],axis=1), geometry = gpd.points_from_xy(dfs2.x, dfs2.y)).set_crs(wkt)\n",
    "\n",
    "print(f'fill in {gdf2.shape[0]} missing field size values')"
   ]
  },
  {
   "cell_type": "code",
   "execution_count": 32,
   "id": "6eb3df25-ac8f-4cb9-86c9-78c218706e11",
   "metadata": {},
   "outputs": [
    {
     "data": {
      "image/png": "[encoded data removed]",
      "text/plain": [
       "<Figure size 640x480 with 1 Axes>"
      ]
     },
     "metadata": {},
     "output_type": "display_data"
    }
   ],
   "source": [
    "# Check if datasets overlap (same projection\n",
    "ax = gdf2.to_crs(wkt).plot(color='white', edgecolor='black')\n",
    "\n",
    "# plot ``GeoDataFrame``.\n",
    "gdf1.to_crs(wkt).plot(ax=ax, color='red')\n",
    "plt.show()"
   ]
  },
  {
   "cell_type": "code",
   "execution_count": 26,
   "id": "def14264-a6f2-43f3-bb86-744dbc80b3af",
   "metadata": {
    "tags": []
   },
   "outputs": [
    {
     "data": {
      "application/vnd.jupyter.widget-view+json": {
       "model_id": "3402972b72e34c749ddd10b77738fc64",
       "version_major": 2,
       "version_minor": 0
      },
      "text/plain": [
       "  0%|          | 0/43532 [00:00<?, ?it/s]"
      ]
     },
     "metadata": {},
     "output_type": "display_data"
    }
   ],
   "source": [
    "joinNearest = ckdnearest_fsz(gdf2, gdf1, k=5)\n",
    "df1 = pd.DataFrame(joinNearest[['gid', 'fieldSize2']])\n",
    "\n",
    "finaldf = pd.merge(result, df1, how= 'outer',on = 'gid')\n",
    "finaldf['fieldSize'] = finaldf['fieldSize2'].fillna(-1).astype('int')\n",
    "\n",
    "dfF = finaldf.drop('fieldSize2', axis=1).reset_index(drop=True)"
   ]
  },
  {
   "cell_type": "code",
   "execution_count": 27,
   "id": "c5da95cd-d0a8-416c-8c66-4816ef837f2b",
   "metadata": {},
   "outputs": [],
   "source": [
    "# Add scaled fieldSize\n",
    "dfF['scaled_fieldSize'] = -1\n",
    "dfF.loc[dfF['fieldSize'] == 3502, 'scaled_fieldSize'] = 1.0\n",
    "dfF.loc[dfF['fieldSize'] == 3503, 'scaled_fieldSize'] = 0.75\n",
    "dfF.loc[dfF['fieldSize'] == 3504, 'scaled_fieldSize'] = 0.50\n",
    "dfF.loc[dfF['fieldSize'] == 3505, 'scaled_fieldSize'] = 0.25\n",
    "dfF.loc[dfF['fieldSize'] == 3506, 'scaled_fieldSize'] = 0"
   ]
  },
  {
   "cell_type": "code",
   "execution_count": 28,
   "id": "68b2586f-5588-41e8-bfb8-9b1e8ffcc73e",
   "metadata": {
    "tags": []
   },
   "outputs": [
    {
     "name": "stdout",
     "output_type": "stream",
     "text": [
      "Nfer_kgha for Tree Croplands: 3.12208\n",
      "Nfer_kgha for CropCover: 5.079019999999997\n",
      "Nfer_kgha for Rangeland: 1.8511199999999972\n",
      "popDensity for urban areas: 5051.56290512085\n"
     ]
    }
   ],
   "source": [
    "# Scale variables\n",
    "colnames = ['Nfer_kgha', 'popDensity']\n",
    "\n",
    "result = dfF\n",
    "for col in colnames:\n",
    "    # create scaled variable\n",
    "    result['scaled_'+col] = 0\n",
    "    if (col=='Nfer_kgha')&(result.loc[(result['Land_Use']==3), col].shape[0]>0):\n",
    "#         For tree croplands\n",
    "        # get 99th percentile is equal to 0.99 quantile\n",
    "        qq99 = result.loc[(result['Land_Use']==3), col].quantile(0.9)\n",
    "        print(f\"{col} for Tree Croplands: {qq99}\")\n",
    "        # apply min max scaling to all data less than 99th quantile.\n",
    "        scaler = MinMaxScaler()\n",
    "        result.loc[(result[col]<qq99)&(result['Land_Use']==3), 'scaled_'+ col] =\\\n",
    "        scaler.fit_transform(pd.DataFrame(result.loc[(result[col]<qq99)&(result['Land_Use']==3), col]))\n",
    "        # for data greater than 99th percentile, equal to max value 1\n",
    "        result.loc[(result[col]>=qq99)&(result['Land_Use']==3), 'scaled_' + col] = 1\n",
    "    if (col=='Nfer_kgha')&(result.loc[(result['Land_Use']==4), col].shape[0]>0):\n",
    "#         for croplands\n",
    "        # get 99th percentile\n",
    "        qq99 = result.loc[(result['Land_Use']==4), col].quantile(0.9)\n",
    "        print(f\"{col} for CropCover: {qq99}\")\n",
    "        # apply min max scaling to all data less than 99th quantile.\n",
    "        scaler = MinMaxScaler()\n",
    "        result.loc[(result[col]<qq99)&(result['Land_Use']==4), 'scaled_'+ col] =\\\n",
    "        scaler.fit_transform(pd.DataFrame(result.loc[(result[col]<qq99)&(result['Land_Use']==4), col]))\n",
    "        # for data greater than 99th percentile, equal to max value 1\n",
    "        result.loc[(result[col]>=qq99)&(result['Land_Use']==4), 'scaled_' + col] = 1\n",
    "    if (col=='Nfer_kgha')&(result.loc[(result['Land_Use']==6), col].shape[0]>0):\n",
    "#         for rangelands\n",
    "        # get 99th percentile\n",
    "        qq99 = result.loc[(result['Land_Use']==6), col].quantile(0.9)\n",
    "        print(f\"{col} for Rangeland: {qq99}\")\n",
    "        # apply min max scaling to all data less than 99th quantile.\n",
    "        scaler = MinMaxScaler()\n",
    "        result.loc[(result[col]<qq99)&(result['Land_Use']==6), 'scaled_'+ col] =\\\n",
    "        scaler.fit_transform(pd.DataFrame(result.loc[(result[col]<qq99)&(result['Land_Use']==6), col]))\n",
    "        # for data greater than 99th percentile, equal to max value 1\n",
    "        result.loc[(result[col]>=qq99)&(result['Land_Use']==6), 'scaled_' + col] = 1\n",
    "        \n",
    "    if col=='popDensity':\n",
    "        # get 99th percentile\n",
    "        qq99 = result.loc[result['Land_Use']==1, col].quantile(0.9)\n",
    "        print(f\"{col} for urban areas: {qq99}\")\n",
    "        # apply min max scaling to all data less than 99th quantile.\n",
    "        scaler = MinMaxScaler()\n",
    "        result.loc[(result[col]<qq99)&(result['Land_Use']==1), 'scaled_'+ col] =\\\n",
    "        scaler.fit_transform(pd.DataFrame(result.loc[(result[col]<qq99)&(result['Land_Use']==1), col]))\n",
    "        # for data greater than 99th percentile, equal to max value 1\n",
    "        result.loc[(result[col]>=qq99)&(result['Land_Use']==1), 'scaled_' + col] = 1"
   ]
  },
  {
   "cell_type": "markdown",
   "id": "c69fd099-eca7-4db4-8369-a1b5fc4f4704",
   "metadata": {},
   "source": [
    "## Land Use Intensity"
   ]
  },
  {
   "cell_type": "code",
   "execution_count": 29,
   "id": "16c195e1-79ef-4010-bb7e-f2090dc58d6a",
   "metadata": {},
   "outputs": [
    {
     "name": "stdout",
     "output_type": "stream",
     "text": [
      "Computing Intensity for Land Use 1 (urban area)\n",
      "Computing Intensity for Land Use 3 (tree_crop)\n",
      "Computing Intensity for Land Use 4 (crop cover)\n",
      "Computing Intensity for Land Use 6 (Rangelands)\n"
     ]
    }
   ],
   "source": [
    "result['intensity'] = -1\n",
    "result['scaled_intensity'] = -1\n",
    "\n",
    "#1= Urban\n",
    "# check if there are urban land use pixels\n",
    "if result.loc[(result['Land_Use']==1), 'intensity'].shape[0]>0:\n",
    "    print('Computing Intensity for Land Use 1 (urban area)')\n",
    "#     scale urban area between 0 and 1 (from 0.2 to 1)\n",
    "    scaler = MinMaxScaler()\n",
    "    result.loc[(result['Land_Use']==1), 'scaled_areakm2_urban'] = scaler.fit_transform(pd.DataFrame(result.loc[(result['Land_Use']==1)\\\n",
    "                                                                                                             , 'areakm2_urban']))\n",
    "#     assign intensity scores based on an equal weighting of scaled popDensity and scaled urban area\n",
    "    result.loc[(result['Land_Use']==1), 'intensity'] = (result['scaled_areakm2_urban']+\\\n",
    "                                                        result['scaled_popDensity'])/2\n",
    "#     scale raw intensity values between 0 and 1 within a land use\n",
    "    scaler = MinMaxScaler()\n",
    "    result.loc[(result['Land_Use']== 1), 'scaled_intensity'] = scaler.fit_transform(pd.DataFrame(result.loc[(result['Land_Use']==1)\\\n",
    "                                                                                                                   , 'intensity']))\n",
    "\n",
    "#3= Tree Croplands\n",
    "if result.loc[(result['Land_Use']==3), 'intensity'].shape[0]>0:\n",
    "    print('Computing Intensity for Land Use 3 (tree_crop)')\n",
    "    scaler = MinMaxScaler()\n",
    "    result.loc[(result['Land_Use']==3), 'scaled_areakm2_treeCrop'] = scaler.fit_transform(pd.DataFrame(result.loc[(result['Land_Use']==3)\\\n",
    "                                                                                                                  , 'areakm2_treeCrop']))\n",
    "    result.loc[(result['Land_Use']==3), 'intensity'] = (result['scaled_areakm2_treeCrop']+\\\n",
    "                                                        result['scaled_fieldSize']+\\\n",
    "                                                        result['scaled_Nfer_kgha']\\\n",
    "                                                       )/3\n",
    "    scaler = MinMaxScaler()\n",
    "    result.loc[(result['Land_Use']==3), 'scaled_intensity'] = scaler.fit_transform(pd.DataFrame(result.loc[(result['Land_Use']==3)\\\n",
    "                                                                                                                   , 'intensity']))\n",
    "\n",
    "#4 = Croplands\n",
    "if result.loc[(result['Land_Use']==4), 'intensity'].shape[0]>0:\n",
    "    print('Computing Intensity for Land Use 4 (crop cover)')\n",
    "    scaler = MinMaxScaler()\n",
    "    result.loc[(result['Land_Use']==4), 'scaled_areakm2_cropCover'] = scaler.fit_transform(pd.DataFrame(result.loc[(result['Land_Use']==4)\\\n",
    "                                                                                                                   , 'areakm2_cropCover']))\n",
    "    result.loc[(result['Land_Use']==4), 'intensity'] = (result['scaled_areakm2_cropCover']+\\\n",
    "                                                        result['scaled_fieldSize']+\\\n",
    "                                                        result['scaled_Nfer_kgha']\\\n",
    "                                                       )/3\n",
    "    scaler = MinMaxScaler()\n",
    "    result.loc[(result['Land_Use']==4), 'scaled_intensity'] = scaler.fit_transform(pd.DataFrame(result.loc[(result['Land_Use']==4)\\\n",
    "                                                                                                                   , 'intensity']))\n",
    "\n",
    "#6 = Rangelands/ Near-naturallands\n",
    "print('Computing Intensity for Land Use 6 (Rangelands)')\n",
    "if result.loc[(result['Land_Use']==6), 'intensity'].shape[0]>0:\n",
    "    result.loc[(result['Land_Use']==6), 'intensity'] = (result['scaled_livestockIntensity']+\\\n",
    "                                                        result['scaled_Nfer_kgha'])/2\n",
    "                                                                                                                   \n",
    "    scaler = MinMaxScaler()\n",
    "    result.loc[(result['Land_Use']==6), 'scaled_intensity'] = scaler.fit_transform(pd.DataFrame(result.loc[(result['Land_Use']==6)\\\n",
    "                                                                                                                   , 'intensity']))"
   ]
  },
  {
   "cell_type": "code",
   "execution_count": 30,
   "id": "c4233847-b6bd-4e76-a2a7-ed3c159ffc45",
   "metadata": {},
   "outputs": [],
   "source": [
    "# Convert to geodataframe\n",
    "gdf = gpd.GeoDataFrame(result.drop(['x', 'y','combination_LS_intensity', 'areakm2_slowNutrArea','areakm2_sMedNutriArea', 'areakm2_sHighNutriArea'], axis = 1),\n",
    "                       geometry = gpd.points_from_xy(result.x, result.y), crs= wkt).to_crs(crs= 'EPSG:4326')"
   ]
  },
  {
   "cell_type": "code",
   "execution_count": 31,
   "id": "e58aefd4-3b5f-4295-897d-d05d6fc2c1f4",
   "metadata": {},
   "outputs": [],
   "source": [
    "# Define columns for renaming\n",
    "shp_cols = {'areakm2_urban':'km2_urban',\n",
    "            'areakm2_cropCover':'km2_cropCov',\n",
    "            'areakm2_protArea':'km2_protAr',\n",
    "            'km2_plntn':'areakm2_plantation',\n",
    "            'areakm2_treeCrop':'km2_trCrp',\n",
    "            'gid':'gid',\n",
    "            'mean_precip':'mean_precip',\n",
    "            'Nfer_kgha':'mean_Nfer',\n",
    "            'popDensity':'sum_popDen',\n",
    "            'sheepDensity':'sum_shpDen',\n",
    "            'goatDensity':'sum_gtDen',\n",
    "            'cattleDensity':'sum_ctlDen',\n",
    "            'maxN':'maxSNtrAr',\n",
    "            'areakm2_slowNutrArea2':'km2_sLwNtr',\n",
    "            'areakm2_sMedNutriArea2':'km2_sMdNtr',\n",
    "            'areakm2_sHighNutriArea2':'km2_sHgNtr',\n",
    "            'precipDiscrete':'precipDisc',\n",
    "            'maxNutr':'maxSNtrCat',\n",
    "            'lsIntensityCat':'LSIntenCat',\n",
    "            'lsSum':'LSSum',\n",
    "            'scaled_livestockIntensity':'LSIntenScd',\n",
    "            'Land_Use':'Land_Use',\n",
    "            'fieldSize':'fieldSize',\n",
    "            'scaled_fieldSize':'fieldSzScd',\n",
    "            'scaled_Nfer_kgha':'NferScd',\n",
    "            'scaled_popDensity':'popDenScd',\n",
    "            'intensity':'Intensity',\n",
    "            'scaled_intensity':'SdItensity',\n",
    "            'scaled_areakm2_urban':'km2_ubn_sd',\n",
    "            'scaled_areakm2_treeCrop':'km2_trCrpS',\n",
    "            'scaled_areakm2_cropCover':'km2_crpCvS',\n",
    "            'geometry':'geometry'}"
   ]
  },
  {
   "cell_type": "code",
   "execution_count": 32,
   "id": "f2217c92-787d-46d7-9038-e0ee7e80da37",
   "metadata": {},
   "outputs": [
    {
     "data": {
      "text/plain": [
       "Index(['km2_urban', 'km2_cropCov', 'km2_protAr', 'areakm2_plantation',\n",
       "       'km2_trCrp', 'gid', 'mean_precip', 'mean_Nfer', 'sum_popDen',\n",
       "       'sum_shpDen', 'sum_gtDen', 'sum_ctlDen', 'maxSNtrAr', 'km2_sLwNtr',\n",
       "       'km2_sMdNtr', 'km2_sHgNtr', 'precipDisc', 'maxSNtrCat', 'LSIntenCat',\n",
       "       'LSSum', 'LSIntenScd', 'Land_Use', 'fieldSize', 'fieldSzScd', 'NferScd',\n",
       "       'popDenScd', 'Intensity', 'SdItensity', 'km2_ubn_sd', 'km2_trCrpS',\n",
       "       'km2_crpCvS', 'geometry'],\n",
       "      dtype='object')"
      ]
     },
     "execution_count": 32,
     "metadata": {},
     "output_type": "execute_result"
    }
   ],
   "source": [
    "# Rename columns\n",
    "gdf.rename(columns=shp_cols, inplace = True)\n",
    "gdf.columns"
   ]
  },
  {
   "cell_type": "code",
   "execution_count": 33,
   "id": "2746cd94-ec9e-48df-b463-58608ee4ae29",
   "metadata": {},
   "outputs": [
    {
     "name": "stderr",
     "output_type": "stream",
     "text": [
      "C:\\Users\\coach\\AppData\\Local\\Temp\\ipykernel_11604\\1448088867.py:1: FutureWarning: In a future version, `df.iloc[:, i] = newvals` will attempt to set the values inplace instead of always setting a new array. To retain the old behavior, use either `df[df.columns[i]] = newvals` or, if columns are non-unique, `df.isetitem(i, newvals)`\n",
      "  gdf.loc[:,'precipDisc'] = gdf.loc[:,'precipDisc'].astype('int')\n",
      "C:\\Users\\coach\\AppData\\Local\\Temp\\ipykernel_11604\\1448088867.py:2: FutureWarning: In a future version, `df.iloc[:, i] = newvals` will attempt to set the values inplace instead of always setting a new array. To retain the old behavior, use either `df[df.columns[i]] = newvals` or, if columns are non-unique, `df.isetitem(i, newvals)`\n",
      "  gdf.loc[:,'maxSNtrCat'] = gdf.loc[:,'maxSNtrCat'].astype('string')\n"
     ]
    }
   ],
   "source": [
    "# Cast to data types supported by shp\n",
    "gdf.loc[:,'precipDisc'] = gdf.loc[:,'precipDisc'].astype('int')\n",
    "gdf.loc[:,'maxSNtrCat'] = gdf.loc[:,'maxSNtrCat'].astype('string')"
   ]
  },
  {
   "cell_type": "code",
   "execution_count": 34,
   "id": "98a15c7c-f928-47cf-b2d6-819be022480f",
   "metadata": {},
   "outputs": [
    {
     "name": "stdout",
     "output_type": "stream",
     "text": [
      "C:\\Users\\coach\\myfiles\\miscellenous\\hayley\n"
     ]
    },
    {
     "name": "stderr",
     "output_type": "stream",
     "text": [
      "C:\\Users\\coach\\AppData\\Local\\Temp\\ipykernel_11604\\3378795637.py:3: UserWarning: Column names longer than 10 characters will be truncated when saved to ESRI Shapefile.\n",
      "  gdf.to_file(outfile)\n"
     ]
    }
   ],
   "source": [
    "# Export to shapefile\n",
    "print(os.getcwd())\n",
    "outfile = f\"8km_{date}.shp\"\n",
    "gdf.to_file(outfile)"
   ]
  },
  {
   "cell_type": "code",
   "execution_count": 38,
   "id": "f5390dc5-d0c6-450a-b8d6-ccc2706b16ba",
   "metadata": {},
   "outputs": [],
   "source": [
    "# Export to tif\n",
    "date = '02042023'\n",
    "input_vector = f\"8km_{date}.shp\"\n",
    "output_raster = f\"Afrotropics_8km_{date}.tif\"\n",
    "x_resolution = 0.08\n",
    "y_resolution = 0.08\n",
    "attribute_name1 = \"Land_Use\"\n",
    "attribute_name2 = \"SdItensity\"\n",
    "no_data_value = -999\n",
    "data_type = gdal.GDT_Float32\n",
    "format = \"GTiff\"\n",
    "xmin, ymin, xmax, ymax = gdf.total_bounds\n",
    "\n",
    "# Open the input vector\n",
    "ds = gdal.OpenEx(input_vector)\n",
    "layer = ds.GetLayer()\n",
    "\n",
    "# Create the output raster\n",
    "driver = gdal.GetDriverByName(format)\n",
    "raster_ds = driver.Create(output_raster, int((xmax - xmin) / x_resolution),\n",
    "                          int((ymax - ymin) / y_resolution), 2, data_type)\n",
    "raster_ds.SetGeoTransform((xmin, x_resolution, 0, ymax, 0, -y_resolution))\n",
    "\n",
    "# Set the output raster CRS to CRS:4326\n",
    "from osgeo import osr\n",
    "output_crs = osr.SpatialReference()\n",
    "output_crs.ImportFromEPSG(4326)\n",
    "\n",
    "# Set the output raster CRS\n",
    "raster_ds.SetProjection(output_crs.ExportToWkt())\n",
    "\n",
    "gdal.RasterizeLayer(raster_ds, [1], layer, options=[f\"ATTRIBUTE={attribute_name1}\", f\"NODATA= {no_data_value}\"])\n",
    "gdal.RasterizeLayer(raster_ds, [2], layer, options=[f\"ATTRIBUTE={attribute_name2}\", f\"NODATA= {no_data_value}\"])\n",
    "\n",
    "band1 = raster_ds.GetRasterBand(1)\n",
    "band1.SetNoDataValue(no_data_value)\n",
    "band1.SetDescription(\"Land Use\")\n",
    "\n",
    "band2 = raster_ds.GetRasterBand(2)\n",
    "band2.SetNoDataValue(no_data_value)\n",
    "band2.SetDescription(\"Intensity (scaled)\")\n",
    "\n",
    "raster_ds = None  # Close the file"
   ]
  }
 ],
 "metadata": {
  "kernelspec": {
   "display_name": "erty",
   "language": "python",
   "name": "erty"
  },
  "language_info": {
   "codemirror_mode": {
    "name": "ipython",
    "version": 3
   },
   "file_extension": ".py",
   "mimetype": "text/x-python",
   "name": "python",
   "nbconvert_exporter": "python",
   "pygments_lexer": "ipython3",
   "version": "3.9.12"
  }
 },
 "nbformat": 4,
 "nbformat_minor": 5
}
