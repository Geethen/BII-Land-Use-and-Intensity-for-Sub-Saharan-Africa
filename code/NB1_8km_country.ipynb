{
 "cells": [
  {
   "cell_type": "markdown",
   "id": "9c4a22f1-61fc-4cfe-93a5-8cd4596532fb",
   "metadata": {},
   "source": [
    "# NB1_8km_country\n",
    "## BII project land use and intensity\n",
    "This notebook contains the code for extracting, pre-processing, and applying the expert decision tree and computing the intensity values of six categories of land use at a 8x8 km spatial resolution for a single country. \n",
    "\n",
    "Inputs: Country boundary + numerous covariate raster layers. All data are hosted on GEE.  \n",
    "Outputs:\n",
    "1) Extracted data for a country in three csv files.\n",
    "2) A shapefile with a point for every 8x8 km cell within a country.\n",
    "3) A two-band tif file with land use and associated land use intensity.\n",
    "\n",
    "Refer to NB2_1km_Afrotropic to run the same analysis for the entire afrotropic region.  \n",
    "Refer to NB1_1km_country to run the same analysis for a single country at a 1km spatial resolution.  \n",
    "Refer to NB2_8km_Afrotropic to run the same analysis for the entire afrotropic region at an 8km spatial resolution.\n",
    "\n",
    "The Data extraction for all countries need to be executed before proceeding to the afrotropic notebooks.\n",
    "\n",
    "### High-level steps\n",
    "1. sub saharan african countries are identified (filtered)\n",
    "2. A grid is created for the country of interest\n",
    "3. All variables (Refer to list of variables.docx) required are extracted from Google Earth Engine at the aggregated 1km scale\n",
    "4. Datasets are combined and pre-processed. Includes, filling in missing data, scaling data and correcting data types.\n",
    "5. The expert decision tree is applied that outputs a land use for every point\n",
    "6. Data is scaled and the intensity scores are computed"
   ]
  },
  {
   "cell_type": "markdown",
   "id": "3992dabc-da82-411e-8942-d5a41d8a1084",
   "metadata": {},
   "source": [
    "## 1. Setup\n",
    "### 1.1. Import packages"
   ]
  },
  {
   "cell_type": "code",
   "execution_count": 4,
   "id": "b9017466-c447-4665-aec6-f760ce96787d",
   "metadata": {
    "tags": []
   },
   "outputs": [
    {
     "data": {
      "text/html": [
       "<p>To authorize access needed by Earth Engine, open the following\n",
       "        URL in a web browser and follow the instructions:</p>\n",
       "        <p><a href=https://code.earthengine.google.com/client-auth?scopes=https%3A//www.googleapis.com/auth/earthengine%20https%3A//www.googleapis.com/auth/devstorage.full_control&request_id=BKgPN9LpswMvH_bhGgJIh6jt4gw7cE2LnkWVpwxtFuE&tc=mA9TP5c6BwfzVzyuL2zHy9VqMJfIGg-wpHv99Umu7GI&cc=qlMzDxhd5-JmOX-mawPCs5l-y5bnfwOCDXkftVpzeXQ>https://code.earthengine.google.com/client-auth?scopes=https%3A//www.googleapis.com/auth/earthengine%20https%3A//www.googleapis.com/auth/devstorage.full_control&request_id=BKgPN9LpswMvH_bhGgJIh6jt4gw7cE2LnkWVpwxtFuE&tc=mA9TP5c6BwfzVzyuL2zHy9VqMJfIGg-wpHv99Umu7GI&cc=qlMzDxhd5-JmOX-mawPCs5l-y5bnfwOCDXkftVpzeXQ</a></p>\n",
       "        <p>The authorization workflow will generate a code, which you should paste in the box below.</p>\n",
       "        "
      ],
      "text/plain": [
       "<IPython.core.display.HTML object>"
      ]
     },
     "metadata": {},
     "output_type": "display_data"
    },
    {
     "name": "stdin",
     "output_type": "stream",
     "text": [
      "Enter verification code:  4/1AWtgzh6FGLNgAq17LVWKpR4SiNdP_qOBEAtSlpDHS2dZCUwk0sNEvB-4jVg\n"
     ]
    },
    {
     "name": "stdout",
     "output_type": "stream",
     "text": [
      "\n",
      "Successfully saved authorization token.\n"
     ]
    }
   ],
   "source": [
    "import os\n",
    "import geopandas as gpd\n",
    "from datetime import datetime\n",
    "\n",
    "import ee\n",
    "try:\n",
    "    ee.Initialize(opt_url='https://earthengine-highvolume.googleapis.com')\n",
    "except:\n",
    "    ee.Authenticate()\n",
    "    ee.Initialize(opt_url='https://earthengine-highvolume.googleapis.com')\n",
    "    \n",
    "import geemap\n",
    "from geemap import ee_to_geopandas\n",
    "from tqdm.auto import tqdm\n",
    "from geeml.utils import createGrid, getCountry, eeprint\n",
    "from geeml.extract import extractor\n",
    "\n",
    "from osgeo import gdal\n",
    "\n",
    "import sys\n",
    "MODULE_FULL_PATH = r'C:\\Users\\coach\\myfiles\\miscellenous\\hayley\\code'\n",
    "sys.path.insert(1, MODULE_FULL_PATH)\n",
    "from extractData import bii"
   ]
  },
  {
   "cell_type": "markdown",
   "id": "3c57764d-ef2f-4bdd-8dc2-6d79d289e77b",
   "metadata": {},
   "source": [
    "## 2. Data extraction\n",
    "There are two options to extract data. The first option is just like that shown for the 1km data. The second option is a more automated approach based of the bii.py module provided in the github repo"
   ]
  },
  {
   "cell_type": "markdown",
   "id": "be7e556e-d29d-430a-b4b9-a56a63fcf7f6",
   "metadata": {},
   "source": [
    "### Option 1: Data extraction"
   ]
  },
  {
   "cell_type": "code",
   "execution_count": 2,
   "id": "29d76aa5-fcf6-460b-8f6d-fd70f2a70ecd",
   "metadata": {},
   "outputs": [],
   "source": [
    "# get sub-saharan countries\n",
    "# https://code.earthengine.google.com/443ea31edb2f25f58a3346e7dc8c1064\n",
    "countries = ee.FeatureCollection(\"USDOS/LSIB/2017\")\n",
    "c2 = ee.FeatureCollection(\"USDOS/LSIB_SIMPLE/2017\")\n",
    "afroTropics = ee.FeatureCollection(\"projects/ee-geethensingh/assets/Afrotropics\")\n",
    "\n",
    "africa = c2.filter(ee.Filter.eq('wld_rgn', 'Africa'))\n",
    "sub = countries.filterBounds(afroTropics).aggregate_array('COUNTRY_NA')\\\n",
    ".removeAll(['Gaza Strip (disp)','Israel', 'Algeria', 'Egypt', 'Libya', 'Morocco', 'Tunisia', 'Mayotte (Fr)',\n",
    "            'Spain [Canary Is]', 'Spain [Plazas de Soberania]', 'Portugal [Madeira Is]'])\n",
    "\n",
    "sub_africa = countries.filter(ee.Filter.inList('COUNTRY_NA', sub))"
   ]
  },
  {
   "cell_type": "code",
   "execution_count": 37,
   "id": "03b38e21-0808-434a-a722-9fba7702d56e",
   "metadata": {
    "tags": []
   },
   "outputs": [
    {
     "name": "stdout",
     "output_type": "stream",
     "text": [
      "dict_keys(['Benin', 'Niger', 'Nigeria', 'Djibouti', 'Equatorial Guinea', 'Eritrea', 'Ethiopia', 'Gabon', 'Gambia, The', 'Mozambique', 'Namibia', 'Ghana', 'Guinea', 'Guinea-Bissau', 'Kenya', 'Sierra Leone', 'Koualou (disp)', 'Lesotho', 'Liberia', 'Malawi', 'Mali', 'Mauritania', 'Rwanda', 'Senegal', 'Somalia', 'South Sudan', 'Sudan', 'Swaziland', 'Tanzania', 'Togo', 'Uganda', 'Zambia', 'Zimbabwe', 'Abyei (disp)', 'Angola', 'Botswana', 'Congo, Dem Rep of the', 'Congo, Rep of the', 'Burkina Faso', 'Burundi', 'Cameroon', \"Cote d'Ivoire\", 'Central African Rep', 'Chad', 'South Africa'])\n"
     ]
    }
   ],
   "source": [
    "country_list = sub_africa.aggregate_array('COUNTRY_NA').getInfo()\n",
    "\n",
    "dd = r\"C:\\Users\\coach\\myfiles\\miscellenous\\hayley\\outputs\"\n",
    "\n",
    "config = {}\n",
    "for country in country_list:\n",
    "    csavepath = f\"{dd}/{country}\"\n",
    "    caoi = sub_africa.filter(ee.Filter.eq('COUNTRY_NA', country))\n",
    "    config[country] = {'dd':csavepath,\n",
    "                       'aoi':caoi}\n",
    "print(config.keys())"
   ]
  },
  {
   "cell_type": "code",
   "execution_count": 38,
   "id": "8d9e8e9b-d870-4858-aff0-dd56ee9faa05",
   "metadata": {},
   "outputs": [
    {
     "name": "stdout",
     "output_type": "stream",
     "text": [
      "Directory already exists. Set directory to: C:\\Users\\coach\\myfiles\\miscellenous\\hayley\\outputs\\Benin\n"
     ]
    }
   ],
   "source": [
    "country = 'Benin'\n",
    "\n",
    "# Get current date- used for saving files\n",
    "date = datetime.today().strftime('%d%m%Y')\n",
    "\n",
    "aoi = config.get(country).get('aoi')\n",
    "\n",
    "# Set path for saving data\n",
    "dd = config.get(country).get('dd')\n",
    "if not os.path.exists(dd):\n",
    "    os.makedirs(dd)\n",
    "    os.chdir(dd)\n",
    "    print(f\"Created and set directory to: {os.getcwd()}\")\n",
    "else:\n",
    "    os.chdir(dd)\n",
    "    print(f\"Directory already exists. Set directory to: {os.getcwd()}\")"
   ]
  },
  {
   "cell_type": "code",
   "execution_count": 39,
   "id": "621da6c3-4cf9-41cc-9c6d-03440a2abe1f",
   "metadata": {
    "tags": []
   },
   "outputs": [
    {
     "data": {
      "application/vnd.jupyter.widget-view+json": {
       "model_id": "d1311445d661481588044c6def1db40c",
       "version_major": 2,
       "version_minor": 0
      },
      "text/plain": [
       "Map(center=[9.6463935643749, 2.335431438085184], controls=(WidgetControl(options=['position', 'transparent_bg'…"
      ]
     },
     "metadata": {},
     "output_type": "display_data"
    }
   ],
   "source": [
    "# Sanity check that the correct country is selected\n",
    "Map = geemap.Map()\n",
    "Map.centerObject(aoi, 3)\n",
    "Map.addLayer(aoi)\n",
    "Map"
   ]
  },
  {
   "cell_type": "code",
   "execution_count": 40,
   "id": "81bca092-163d-4696-8493-3599b384552e",
   "metadata": {},
   "outputs": [],
   "source": [
    "# Define projection\n",
    "wkt = '\\\n",
    "PROJCS[\"Africa_Albers_Equal_Area_Conic\",\\\n",
    "    GEOGCS[\"GCS_WGS_1984\",\\\n",
    "    DATUM[\"WGS_1984\",\\\n",
    "    SPHEROID[\"WGS_1984\",6378137,298.257223563]],\\\n",
    "    PRIMEM[\"Greenwich\",0],\\\n",
    "    UNIT[\"Degree\",0.017453292519943295]],\\\n",
    "    PROJECTION[\"Albers_Conic_Equal_Area\"],\\\n",
    "    PARAMETER[\"False_Easting\",0],\\\n",
    "    PARAMETER[\"False_Northing\",0],\\\n",
    "    PARAMETER[\"longitude_of_center\",25],\\\n",
    "    PARAMETER[\"Standard_Parallel_1\",20],\\\n",
    "    PARAMETER[\"Standard_Parallel_2\",-23],\\\n",
    "    PARAMETER[\"latitude_of_center\",0],\\\n",
    "    UNIT[\"Meter\",1],\\\n",
    "    AUTHORITY[\"EPSG\",\"102022\"]]'\n",
    "\n",
    "# ALbers equal area for africa\n",
    "epsg_102022 = ee.Projection(wkt)\n",
    "\n",
    "grid8km, _ = createGrid(8000, aoi, crs = epsg_102022)"
   ]
  },
  {
   "cell_type": "code",
   "execution_count": 41,
   "id": "f05b6d60-8df4-4a9f-9560-b83ba0cb1632",
   "metadata": {},
   "outputs": [
    {
     "name": "stdout",
     "output_type": "stream",
     "text": [
      "The number of field points is 239\n"
     ]
    }
   ],
   "source": [
    "# Urban cover (10m>>1km) 2019\n",
    "# Set aoi as grid8km to avoid cells at boundaries having partial information. If running for a single country, may be preferred to comment this line.\n",
    "aoi = grid8km\n",
    "area = ee.Image.pixelArea().divide(1e6).clip(aoi.geometry())\n",
    "urban_cover = ee.ImageCollection(\"projects/sat-io/open-datasets/WSF/WSF_2019\").filterBounds(aoi)\\\n",
    ".mosaic().eq(255).unmask(0)\n",
    "urbanAreaImage = area.multiply(urban_cover).rename('areakm2_urban')\n",
    "\n",
    "# Crop cover (30 m)\n",
    "crop_cover = ee.ImageCollection(\"users/potapovpeter/Global_cropland_2019\").filterBounds(aoi).mosaic()\n",
    "cropAreaImage = area.multiply(crop_cover).rename('areakm2_cropCover')\n",
    "\n",
    "# Protected area\n",
    "prot_areas = ee.FeatureCollection(\"projects/ee-geethensingh/assets/WDPA_Africa_strict\").filterBounds(aoi)\n",
    "protectedAreaImage = area.clipToCollection(prot_areas).unmask(0).rename('areakm2_protArea')    \n",
    "\n",
    "# Plantation and tree crop\n",
    "result = ee.ImageCollection(\"users/liuzhujun/SDPT_NEW\").mosaic()\n",
    "plantag = ee.Image(\"users/duzhenrong/SDPT/sdpt_plantag\")\n",
    "china_plantyear = ee.ImageCollection(\"users/liuzhujun/SDPT_China\").mosaic().rename('plantyear')\n",
    "DescalesOP = ee.ImageCollection(\"users/liuzhujun/Descales\").mosaic()\n",
    "op = DescalesOP.updateMask(DescalesOP.gt(1980)).rename('plantyear')\n",
    "sdpt_name = ee.Image(\"users/duzhenrong/SDPT/sdpt_name\")\n",
    "\n",
    "china_plantyear=china_plantyear.updateMask(china_plantyear.gt(1980))\n",
    "result=result.rename('plantyear').updateMask((sdpt_name.lt(120).And(sdpt_name.gt(0))).Or(sdpt_name.gt(129))).toInt32()\n",
    "\n",
    "plantationForest=ee.ImageCollection([result.updateMask(plantag.eq(1)),china_plantyear]).mosaic().gt(0).unmask(0) \n",
    "plantationAreaImage = area.updateMask(plantationForest).rename('areakm2_plantation')\n",
    "treeCrop=result.multiply(plantag.eq(2))\n",
    "treeCrop =ee.ImageCollection([treeCrop,op]).mosaic().gt(0)  \n",
    "treeCropAreaImage = area.multiply(treeCrop).rename('areakm2_treeCrop')\n",
    "\n",
    "#Soil nutrients\n",
    "Soil_Lownutrient = ee.FeatureCollection(\"projects/ee-geethensingh/assets/Bell_1982_nutrient_map\")\\\n",
    ".filter(ee.Filter.eq('Nut_status', 'Low'))\n",
    "Soil_Mednutrient = ee.FeatureCollection(\"projects/ee-geethensingh/assets/Bell_1982_nutrient_map\")\\\n",
    ".filter(ee.Filter.eq('Nut_status', 'Medium'))\n",
    "Soil_Highnutrient = ee.FeatureCollection(\"projects/ee-geethensingh/assets/Bell_1982_nutrient_map\")\\\n",
    ".filter(ee.Filter.eq('Nut_status', 'High'))\n",
    "\n",
    "soilLowNutrientAreaImage = area.clipToCollection(Soil_Lownutrient).unmask(0).rename('areakm2_slowNutrArea')\n",
    "soilMedNutrientAreaImage = area.clipToCollection(Soil_Mednutrient).unmask(0).rename('areakm2_sMedNutriArea')\n",
    "soilHighNutrientAreaImage = area.clipToCollection(Soil_Highnutrient).unmask(0).rename('areakm2_sHighNutriArea')\n",
    "\n",
    "# Population Density\n",
    "popDensity = ee.ImageCollection(\"CIESIN/GPWv411/GPW_UNWPP-Adjusted_Population_Density\")\\\n",
    ".select('unwpp-adjusted_population_density').filterBounds(aoi).mosaic().rename('popDensity').unmask(0)\n",
    "                                       \n",
    "# Grazing Intensity\n",
    "area = ee.Image('projects/ee-geethensingh/assets/GrazingDensity/GI_8_Areakm').unmask(0)\n",
    "cattleDensity = ee.Image('projects/ee-geethensingh/assets/GrazingDensity/5_Ct_2010_Da').divide(area).rename('cattleDensity').unmask(0)\n",
    "sheepDensity = ee.Image('projects/ee-geethensingh/assets/GrazingDensity/5_Sh_2010_Da').divide(area).rename('sheepDensity').unmask(0)\n",
    "goatDensity = ee.Image('projects/ee-geethensingh/assets/GrazingDensity/5_Gt_2010_Da').divide(area).rename('goatDensity').unmask(0)\n",
    "\n",
    "# Precipitation\n",
    "years = list(range(1991,2021))\n",
    "precipitation = ee.ImageCollection(\"UCSB-CHG/CHIRPS/DAILY\").filterBounds(aoi)  \n",
    "precipitation = ee.Image(ee.ImageCollection(ee.List(years).map(lambda year: precipitation\\\n",
    ".filterDate(ee.Number(year).format(), ee.Number(year).add(1).format()).sum())).mean().rename('mm_precipitation')).unmask(0)\n",
    "\n",
    "# Nitrogen input\n",
    "proj = ee.Projection('EPSG:4326').scale(0.25,0.25)\n",
    "grid = aoi.geometry().coveringGrid(proj)\n",
    "\n",
    "nInput = ee.FeatureCollection(\"projects/ee-geethensingh/assets/Nfur_15arcmins_transformed\").filterBounds(aoi)\\\n",
    ".map(lambda x: x.set(\"Nfer_type\",ee.Algorithms.ObjectType(x.get(\"Nfer_kgha_\"))))\n",
    "nInputStr = nInput.filter(ee.Filter.eq('Nfer_type', 'String')).map(lambda x: x.set(\"Nfer_kgha_\",ee.Number.parse(x.get(\"Nfer_kgha_\")).toFloat()))\n",
    "nInputNumber = nInput.filter(ee.Filter.neq('Nfer_type', 'String')).map(lambda x: x.set(\"Nfer_kgha_\",ee.Number(x.get(\"Nfer_kgha_\")).toFloat()))\n",
    "\n",
    "nInput = nInputStr.merge(nInputNumber)\n",
    "\n",
    "def pointToGrid(ft):\n",
    "    feat = ee.Feature(ft);\n",
    "    first = nInput.filterBounds(feat.geometry()).aggregate_first('Nfer_kgha_');\n",
    "    return feat.set('Nfer_kgha_', first);\n",
    "\n",
    "nInput = grid.filterBounds(nInput).map(pointToGrid)\\\n",
    ".reduceToImage(**{'properties': ee.List([\"Nfer_kgha_\"]), 'reducer': ee.Reducer.first()})\\\n",
    ".rename('Nfer_kgha').unmask(0)\n",
    "\n",
    "# FieldSize\n",
    "nfieldpts = ee.FeatureCollection(\"projects/ee-geethensingh/assets/dominant_field_sizes\").filterBounds(aoi).size().getInfo()\n",
    "print(f\"The number of field points is {nfieldpts}\")\n",
    "if nfieldpts>0:\n",
    "    fieldSize = ee_to_geopandas(ee.FeatureCollection(\"projects/ee-geethensingh/assets/dominant_field_sizes\")\\\n",
    "                                .filterBounds(aoi)\\\n",
    "                                .filter(ee.Filter.neq('field_size', 'NA'))\\\n",
    "                                .map(lambda x: x.set(\"fieldSize\",ee.Number.parse(x.get(\"field_size\")))\\\n",
    "                                ).select(['fieldSize', 'geometry'])).set_crs('EPSG:4326').to_crs(wkt)"
   ]
  },
  {
   "cell_type": "code",
   "execution_count": null,
   "id": "ab554c31-eb9b-4032-9023-6e62cb07ae59",
   "metadata": {},
   "outputs": [],
   "source": [
    "# # Extract data\n",
    "sumCovariates = urbanAreaImage.addBands([cropAreaImage, protectedAreaImage, soilLowNutrientAreaImage,\\\n",
    "                                    soilMedNutrientAreaImage, soilHighNutrientAreaImage,\\\n",
    "                                    plantationAreaImage, treeCropAreaImage])\n",
    "\n",
    "# extract 30m datasets for 8km grid using sum reducer\n",
    "extractor(sumCovariates, aoi.geometry(), scale = 30, dd = dd, target = grid8km, crs = epsg_102022, num_threads = 25)\\\n",
    ".extractByGrid(reduce = True, reducer = ee.Reducer.sum(), gridSize = 100000, batchSize = 5000, filename = 'sum_8km.csv')\n",
    "\n",
    "coords = ee.Image.pixelCoordinates(epsg_102022)\n",
    "\n",
    "# extract coords at 8km scale using first reducer\n",
    "extractor(coords, aoi.geometry(), scale = 1000, dd = dd, target = grid8km, crs = epsg_102022, num_threads = 25)\\\n",
    ".extractByGrid(reduce = True, reducer = ee.Reducer.first(), gridSize = 100000, batchSize = 5000, filename = 'coords_8km.csv')\n",
    "\n",
    "# Extract precipitation, nitrogen Input and density variables\n",
    "meanCovariates = precipitation.addBands([nInput, popDensity,\\\n",
    "                                        sheepDensity, goatDensity,cattleDensity])\n",
    "\n",
    "extractor(meanCovariates, aoi.geometry(), scale = 1000, dd = dd, target = grid8km, crs = epsg_102022, num_threads = 25)\\\n",
    ".extractByGrid(reduce = True, reducer = ee.Reducer.mean(), gridSize = 100000, batchSize = 5000, filename = 'mean_8km.csv')\n"
   ]
  },
  {
   "cell_type": "markdown",
   "id": "6cc038f7-234c-479b-8641-cb371c25324f",
   "metadata": {},
   "source": [
    "### Option 2: Data extraction (Recommended)"
   ]
  },
  {
   "cell_type": "code",
   "execution_count": 2,
   "id": "97fae0a6-ef45-48ab-bb2b-c74914ef976c",
   "metadata": {},
   "outputs": [],
   "source": [
    "# Define projection\n",
    "wkt = '\\\n",
    "PROJCS[\"Africa_Albers_Equal_Area_Conic\",\\\n",
    "    GEOGCS[\"GCS_WGS_1984\",\\\n",
    "    DATUM[\"WGS_1984\",\\\n",
    "    SPHEROID[\"WGS_1984\",6378137,298.257223563]],\\\n",
    "    PRIMEM[\"Greenwich\",0],\\\n",
    "    UNIT[\"Degree\",0.017453292519943295]],\\\n",
    "    PROJECTION[\"Albers_Conic_Equal_Area\"],\\\n",
    "    PARAMETER[\"False_Easting\",0],\\\n",
    "    PARAMETER[\"False_Northing\",0],\\\n",
    "    PARAMETER[\"longitude_of_center\",25],\\\n",
    "    PARAMETER[\"Standard_Parallel_1\",20],\\\n",
    "    PARAMETER[\"Standard_Parallel_2\",-23],\\\n",
    "    PARAMETER[\"latitude_of_center\",0],\\\n",
    "    UNIT[\"Meter\",1],\\\n",
    "    AUTHORITY[\"EPSG\",\"102022\"]]'\n",
    "\n",
    "# ALbers equal area for africa\n",
    "epsg_102022 = ee.Projection(wkt)"
   ]
  },
  {
   "cell_type": "code",
   "execution_count": 4,
   "id": "952f097b-8676-4f03-be70-7009aa0f7ba8",
   "metadata": {
    "tags": []
   },
   "outputs": [
    {
     "data": {
      "application/vnd.jupyter.widget-view+json": {
       "model_id": "398b0b5773f34b58b3b06766a454faaa",
       "version_major": 2,
       "version_minor": 0
      },
      "text/plain": [
       "  0%|          | 0/1 [00:00<?, ?it/s]"
      ]
     },
     "metadata": {},
     "output_type": "display_data"
    },
    {
     "name": "stdout",
     "output_type": "stream",
     "text": [
      "Processing South Africa\n",
      "Directory already exists. Set directory to: C:\\Users\\coach\\myfiles\\miscellenous\\hayley\\outputs2\\South Africa\n",
      "Creating 1km grid\n",
      "There are 1178 field points\n",
      "Extracting data\n"
     ]
    },
    {
     "data": {
      "application/vnd.jupyter.widget-view+json": {
       "model_id": "062e1c1f267e40379a42f8219e802f43",
       "version_major": 2,
       "version_minor": 0
      },
      "text/plain": [
       "sum_1km.csv: |                                                                         | [  0.0%] in 00:00 (et…"
      ]
     },
     "metadata": {},
     "output_type": "display_data"
    },
    {
     "data": {
      "application/vnd.jupyter.widget-view+json": {
       "model_id": "a93e5fe85b304b17ad2ddfea0d87eeaf",
       "version_major": 2,
       "version_minor": 0
      },
      "text/plain": [
       "coords_1km.csv: |                                                                      | [  0.0%] in 00:00 (et…"
      ]
     },
     "metadata": {},
     "output_type": "display_data"
    },
    {
     "data": {
      "application/vnd.jupyter.widget-view+json": {
       "model_id": "a9fb2edfe6a742e395d5d331d722dd3e",
       "version_major": 2,
       "version_minor": 0
      },
      "text/plain": [
       "mean_1km.csv: |                                                                        | [  0.0%] in 00:00 (et…"
      ]
     },
     "metadata": {},
     "output_type": "display_data"
    }
   ],
   "source": [
    "# get country names\n",
    "countries = list(countryExtractor.config.keys())\n",
    "\n",
    "# Extract data for each country\n",
    "for country in tqdm(countries):\n",
    "    print(f\"Processing {country}\")\n",
    "    for res in [\"1km\", \"8km\"]:\n",
    "        countryExtractor = bii(country = country, mode = res, outPath = r\"C:\\Users\\coach\\myfiles\\miscellenous\\hayley\\outputs2\", proj = epsg_102022, plot = False)\n",
    "        countryExtractor.extractData(meanCovariates = True, sumCovariates = True, coords = True)"
   ]
  },
  {
   "cell_type": "markdown",
   "id": "70aa0733-c996-443f-95c3-dcd20097fbb2",
   "metadata": {},
   "source": [
    "## 3. Prepare data: 8km"
   ]
  },
  {
   "cell_type": "code",
   "execution_count": 1,
   "id": "d7d15109-ae9e-4780-b831-142d8c4b0618",
   "metadata": {},
   "outputs": [
    {
     "name": "stderr",
     "output_type": "stream",
     "text": [
      "C:\\WINDOWS\\System32\\erty\\lib\\site-packages\\geopandas\\_compat.py:123: UserWarning: The Shapely GEOS version (3.10.3-CAPI-1.16.1) is incompatible with the GEOS version PyGEOS was compiled with (3.11.1-CAPI-1.17.1). Conversions between both will be slow.\n",
      "  warnings.warn(\n"
     ]
    }
   ],
   "source": [
    "import math\n",
    "import os\n",
    "\n",
    "import pandas as pd\n",
    "import geopandas as gpd\n",
    "import matplotlib.pyplot as plt\n",
    "import numpy as np\n",
    "from sklearn.preprocessing import MinMaxScaler, RobustScaler\n",
    "from tqdm.auto import tqdm\n",
    "\n",
    "from scipy.spatial import cKDTree\n",
    "from shapely.geometry import Point"
   ]
  },
  {
   "cell_type": "code",
   "execution_count": 2,
   "id": "1e4a3273-6416-4221-ba61-1194b0206cab",
   "metadata": {},
   "outputs": [],
   "source": [
    "def ckdnearest(gdA, gdB, k=1):\n",
    "    \"\"\"\n",
    "    For grid cells with crop_cover and no data, assign field size of nearest cell.\n",
    "\n",
    "    \"\"\"\n",
    "\n",
    "    nA = np.array(list(gdA.geometry.apply(lambda x: (x.x, x.y))))\n",
    "    nB = np.array(list(gdB.geometry.apply(lambda x: (x.x, x.y))))\n",
    "    btree = cKDTree(nB)\n",
    "    dist, idx = btree.query(nA, k=k)\n",
    "    gdB_nearest = gdB.iloc[idx].drop(columns=\"geometry\").reset_index(drop=True)\n",
    "    gdf = pd.concat(\n",
    "        [\n",
    "            gdA.reset_index(drop=True),\n",
    "            gdB_nearest,\n",
    "            pd.Series(dist, name='dist')\n",
    "        ], \n",
    "        axis=1)\n",
    "\n",
    "    return gdf"
   ]
  },
  {
   "cell_type": "code",
   "execution_count": 3,
   "id": "2ef8a80d-3d3b-45c9-8345-70d1a8e77b1a",
   "metadata": {
    "collapsed": true,
    "jupyter": {
     "outputs_hidden": true
    }
   },
   "outputs": [
    {
     "ename": "FileNotFoundError",
     "evalue": "[Errno 2] No such file or directory: 'coords_8km.csv'",
     "output_type": "error",
     "traceback": [
      "\u001b[1;31m---------------------------------------------------------------------------\u001b[0m",
      "\u001b[1;31mFileNotFoundError\u001b[0m                         Traceback (most recent call last)",
      "Cell \u001b[1;32mIn [3], line 2\u001b[0m\n\u001b[0;32m      1\u001b[0m \u001b[38;5;66;03m# #Field Size data\u001b[39;00m\n\u001b[1;32m----> 2\u001b[0m df \u001b[38;5;241m=\u001b[39m \u001b[43mpd\u001b[49m\u001b[38;5;241;43m.\u001b[39;49m\u001b[43mread_csv\u001b[49m\u001b[43m(\u001b[49m\u001b[38;5;124;43mr\u001b[39;49m\u001b[38;5;124;43m\"\u001b[39;49m\u001b[38;5;124;43mcoords_8km.csv\u001b[39;49m\u001b[38;5;124;43m\"\u001b[39;49m\u001b[43m,\u001b[49m\u001b[43m \u001b[49m\u001b[43mlow_memory\u001b[49m\u001b[38;5;241;43m=\u001b[39;49m\u001b[38;5;28;43;01mFalse\u001b[39;49;00m\u001b[43m,\u001b[49m\u001b[43m \u001b[49m\u001b[43mheader\u001b[49m\u001b[43m \u001b[49m\u001b[38;5;241;43m=\u001b[39;49m\u001b[43m \u001b[49m\u001b[38;5;28;43;01mNone\u001b[39;49;00m\u001b[43m,\u001b[49m\u001b[43m \u001b[49m\u001b[43mindex_col\u001b[49m\u001b[43m \u001b[49m\u001b[38;5;241;43m=\u001b[39;49m\u001b[43m \u001b[49m\u001b[38;5;28;43;01mFalse\u001b[39;49;00m\u001b[43m,\u001b[49m\u001b[43m \u001b[49m\u001b[43mskiprows\u001b[49m\u001b[38;5;241;43m=\u001b[39;49m\u001b[38;5;241;43m1\u001b[39;49m\u001b[43m)\u001b[49m\n\u001b[0;32m      3\u001b[0m df\u001b[38;5;241m.\u001b[39mcolumns \u001b[38;5;241m=\u001b[39m [\u001b[38;5;124m'\u001b[39m\u001b[38;5;124mx\u001b[39m\u001b[38;5;124m'\u001b[39m, \u001b[38;5;124m'\u001b[39m\u001b[38;5;124my\u001b[39m\u001b[38;5;124m'\u001b[39m, \u001b[38;5;124m'\u001b[39m\u001b[38;5;124mgid\u001b[39m\u001b[38;5;124m'\u001b[39m]\n",
      "File \u001b[1;32mC:\\WINDOWS\\System32\\erty\\lib\\site-packages\\pandas\\util\\_decorators.py:211\u001b[0m, in \u001b[0;36mdeprecate_kwarg.<locals>._deprecate_kwarg.<locals>.wrapper\u001b[1;34m(*args, **kwargs)\u001b[0m\n\u001b[0;32m    209\u001b[0m     \u001b[38;5;28;01melse\u001b[39;00m:\n\u001b[0;32m    210\u001b[0m         kwargs[new_arg_name] \u001b[38;5;241m=\u001b[39m new_arg_value\n\u001b[1;32m--> 211\u001b[0m \u001b[38;5;28;01mreturn\u001b[39;00m func(\u001b[38;5;241m*\u001b[39margs, \u001b[38;5;241m*\u001b[39m\u001b[38;5;241m*\u001b[39mkwargs)\n",
      "File \u001b[1;32mC:\\WINDOWS\\System32\\erty\\lib\\site-packages\\pandas\\util\\_decorators.py:317\u001b[0m, in \u001b[0;36mdeprecate_nonkeyword_arguments.<locals>.decorate.<locals>.wrapper\u001b[1;34m(*args, **kwargs)\u001b[0m\n\u001b[0;32m    311\u001b[0m \u001b[38;5;28;01mif\u001b[39;00m \u001b[38;5;28mlen\u001b[39m(args) \u001b[38;5;241m>\u001b[39m num_allow_args:\n\u001b[0;32m    312\u001b[0m     warnings\u001b[38;5;241m.\u001b[39mwarn(\n\u001b[0;32m    313\u001b[0m         msg\u001b[38;5;241m.\u001b[39mformat(arguments\u001b[38;5;241m=\u001b[39marguments),\n\u001b[0;32m    314\u001b[0m         \u001b[38;5;167;01mFutureWarning\u001b[39;00m,\n\u001b[0;32m    315\u001b[0m         stacklevel\u001b[38;5;241m=\u001b[39mfind_stack_level(inspect\u001b[38;5;241m.\u001b[39mcurrentframe()),\n\u001b[0;32m    316\u001b[0m     )\n\u001b[1;32m--> 317\u001b[0m \u001b[38;5;28;01mreturn\u001b[39;00m func(\u001b[38;5;241m*\u001b[39margs, \u001b[38;5;241m*\u001b[39m\u001b[38;5;241m*\u001b[39mkwargs)\n",
      "File \u001b[1;32mC:\\WINDOWS\\System32\\erty\\lib\\site-packages\\pandas\\io\\parsers\\readers.py:950\u001b[0m, in \u001b[0;36mread_csv\u001b[1;34m(filepath_or_buffer, sep, delimiter, header, names, index_col, usecols, squeeze, prefix, mangle_dupe_cols, dtype, engine, converters, true_values, false_values, skipinitialspace, skiprows, skipfooter, nrows, na_values, keep_default_na, na_filter, verbose, skip_blank_lines, parse_dates, infer_datetime_format, keep_date_col, date_parser, dayfirst, cache_dates, iterator, chunksize, compression, thousands, decimal, lineterminator, quotechar, quoting, doublequote, escapechar, comment, encoding, encoding_errors, dialect, error_bad_lines, warn_bad_lines, on_bad_lines, delim_whitespace, low_memory, memory_map, float_precision, storage_options)\u001b[0m\n\u001b[0;32m    935\u001b[0m kwds_defaults \u001b[38;5;241m=\u001b[39m _refine_defaults_read(\n\u001b[0;32m    936\u001b[0m     dialect,\n\u001b[0;32m    937\u001b[0m     delimiter,\n\u001b[1;32m   (...)\u001b[0m\n\u001b[0;32m    946\u001b[0m     defaults\u001b[38;5;241m=\u001b[39m{\u001b[38;5;124m\"\u001b[39m\u001b[38;5;124mdelimiter\u001b[39m\u001b[38;5;124m\"\u001b[39m: \u001b[38;5;124m\"\u001b[39m\u001b[38;5;124m,\u001b[39m\u001b[38;5;124m\"\u001b[39m},\n\u001b[0;32m    947\u001b[0m )\n\u001b[0;32m    948\u001b[0m kwds\u001b[38;5;241m.\u001b[39mupdate(kwds_defaults)\n\u001b[1;32m--> 950\u001b[0m \u001b[38;5;28;01mreturn\u001b[39;00m \u001b[43m_read\u001b[49m\u001b[43m(\u001b[49m\u001b[43mfilepath_or_buffer\u001b[49m\u001b[43m,\u001b[49m\u001b[43m \u001b[49m\u001b[43mkwds\u001b[49m\u001b[43m)\u001b[49m\n",
      "File \u001b[1;32mC:\\WINDOWS\\System32\\erty\\lib\\site-packages\\pandas\\io\\parsers\\readers.py:605\u001b[0m, in \u001b[0;36m_read\u001b[1;34m(filepath_or_buffer, kwds)\u001b[0m\n\u001b[0;32m    602\u001b[0m _validate_names(kwds\u001b[38;5;241m.\u001b[39mget(\u001b[38;5;124m\"\u001b[39m\u001b[38;5;124mnames\u001b[39m\u001b[38;5;124m\"\u001b[39m, \u001b[38;5;28;01mNone\u001b[39;00m))\n\u001b[0;32m    604\u001b[0m \u001b[38;5;66;03m# Create the parser.\u001b[39;00m\n\u001b[1;32m--> 605\u001b[0m parser \u001b[38;5;241m=\u001b[39m TextFileReader(filepath_or_buffer, \u001b[38;5;241m*\u001b[39m\u001b[38;5;241m*\u001b[39mkwds)\n\u001b[0;32m    607\u001b[0m \u001b[38;5;28;01mif\u001b[39;00m chunksize \u001b[38;5;129;01mor\u001b[39;00m iterator:\n\u001b[0;32m    608\u001b[0m     \u001b[38;5;28;01mreturn\u001b[39;00m parser\n",
      "File \u001b[1;32mC:\\WINDOWS\\System32\\erty\\lib\\site-packages\\pandas\\io\\parsers\\readers.py:1442\u001b[0m, in \u001b[0;36mTextFileReader.__init__\u001b[1;34m(self, f, engine, **kwds)\u001b[0m\n\u001b[0;32m   1439\u001b[0m     \u001b[38;5;28mself\u001b[39m\u001b[38;5;241m.\u001b[39moptions[\u001b[38;5;124m\"\u001b[39m\u001b[38;5;124mhas_index_names\u001b[39m\u001b[38;5;124m\"\u001b[39m] \u001b[38;5;241m=\u001b[39m kwds[\u001b[38;5;124m\"\u001b[39m\u001b[38;5;124mhas_index_names\u001b[39m\u001b[38;5;124m\"\u001b[39m]\n\u001b[0;32m   1441\u001b[0m \u001b[38;5;28mself\u001b[39m\u001b[38;5;241m.\u001b[39mhandles: IOHandles \u001b[38;5;241m|\u001b[39m \u001b[38;5;28;01mNone\u001b[39;00m \u001b[38;5;241m=\u001b[39m \u001b[38;5;28;01mNone\u001b[39;00m\n\u001b[1;32m-> 1442\u001b[0m \u001b[38;5;28mself\u001b[39m\u001b[38;5;241m.\u001b[39m_engine \u001b[38;5;241m=\u001b[39m \u001b[38;5;28;43mself\u001b[39;49m\u001b[38;5;241;43m.\u001b[39;49m\u001b[43m_make_engine\u001b[49m\u001b[43m(\u001b[49m\u001b[43mf\u001b[49m\u001b[43m,\u001b[49m\u001b[43m \u001b[49m\u001b[38;5;28;43mself\u001b[39;49m\u001b[38;5;241;43m.\u001b[39;49m\u001b[43mengine\u001b[49m\u001b[43m)\u001b[49m\n",
      "File \u001b[1;32mC:\\WINDOWS\\System32\\erty\\lib\\site-packages\\pandas\\io\\parsers\\readers.py:1729\u001b[0m, in \u001b[0;36mTextFileReader._make_engine\u001b[1;34m(self, f, engine)\u001b[0m\n\u001b[0;32m   1727\u001b[0m     is_text \u001b[38;5;241m=\u001b[39m \u001b[38;5;28;01mFalse\u001b[39;00m\n\u001b[0;32m   1728\u001b[0m     mode \u001b[38;5;241m=\u001b[39m \u001b[38;5;124m\"\u001b[39m\u001b[38;5;124mrb\u001b[39m\u001b[38;5;124m\"\u001b[39m\n\u001b[1;32m-> 1729\u001b[0m \u001b[38;5;28mself\u001b[39m\u001b[38;5;241m.\u001b[39mhandles \u001b[38;5;241m=\u001b[39m \u001b[43mget_handle\u001b[49m\u001b[43m(\u001b[49m\n\u001b[0;32m   1730\u001b[0m \u001b[43m    \u001b[49m\u001b[43mf\u001b[49m\u001b[43m,\u001b[49m\n\u001b[0;32m   1731\u001b[0m \u001b[43m    \u001b[49m\u001b[43mmode\u001b[49m\u001b[43m,\u001b[49m\n\u001b[0;32m   1732\u001b[0m \u001b[43m    \u001b[49m\u001b[43mencoding\u001b[49m\u001b[38;5;241;43m=\u001b[39;49m\u001b[38;5;28;43mself\u001b[39;49m\u001b[38;5;241;43m.\u001b[39;49m\u001b[43moptions\u001b[49m\u001b[38;5;241;43m.\u001b[39;49m\u001b[43mget\u001b[49m\u001b[43m(\u001b[49m\u001b[38;5;124;43m\"\u001b[39;49m\u001b[38;5;124;43mencoding\u001b[39;49m\u001b[38;5;124;43m\"\u001b[39;49m\u001b[43m,\u001b[49m\u001b[43m \u001b[49m\u001b[38;5;28;43;01mNone\u001b[39;49;00m\u001b[43m)\u001b[49m\u001b[43m,\u001b[49m\n\u001b[0;32m   1733\u001b[0m \u001b[43m    \u001b[49m\u001b[43mcompression\u001b[49m\u001b[38;5;241;43m=\u001b[39;49m\u001b[38;5;28;43mself\u001b[39;49m\u001b[38;5;241;43m.\u001b[39;49m\u001b[43moptions\u001b[49m\u001b[38;5;241;43m.\u001b[39;49m\u001b[43mget\u001b[49m\u001b[43m(\u001b[49m\u001b[38;5;124;43m\"\u001b[39;49m\u001b[38;5;124;43mcompression\u001b[39;49m\u001b[38;5;124;43m\"\u001b[39;49m\u001b[43m,\u001b[49m\u001b[43m \u001b[49m\u001b[38;5;28;43;01mNone\u001b[39;49;00m\u001b[43m)\u001b[49m\u001b[43m,\u001b[49m\n\u001b[0;32m   1734\u001b[0m \u001b[43m    \u001b[49m\u001b[43mmemory_map\u001b[49m\u001b[38;5;241;43m=\u001b[39;49m\u001b[38;5;28;43mself\u001b[39;49m\u001b[38;5;241;43m.\u001b[39;49m\u001b[43moptions\u001b[49m\u001b[38;5;241;43m.\u001b[39;49m\u001b[43mget\u001b[49m\u001b[43m(\u001b[49m\u001b[38;5;124;43m\"\u001b[39;49m\u001b[38;5;124;43mmemory_map\u001b[39;49m\u001b[38;5;124;43m\"\u001b[39;49m\u001b[43m,\u001b[49m\u001b[43m \u001b[49m\u001b[38;5;28;43;01mFalse\u001b[39;49;00m\u001b[43m)\u001b[49m\u001b[43m,\u001b[49m\n\u001b[0;32m   1735\u001b[0m \u001b[43m    \u001b[49m\u001b[43mis_text\u001b[49m\u001b[38;5;241;43m=\u001b[39;49m\u001b[43mis_text\u001b[49m\u001b[43m,\u001b[49m\n\u001b[0;32m   1736\u001b[0m \u001b[43m    \u001b[49m\u001b[43merrors\u001b[49m\u001b[38;5;241;43m=\u001b[39;49m\u001b[38;5;28;43mself\u001b[39;49m\u001b[38;5;241;43m.\u001b[39;49m\u001b[43moptions\u001b[49m\u001b[38;5;241;43m.\u001b[39;49m\u001b[43mget\u001b[49m\u001b[43m(\u001b[49m\u001b[38;5;124;43m\"\u001b[39;49m\u001b[38;5;124;43mencoding_errors\u001b[39;49m\u001b[38;5;124;43m\"\u001b[39;49m\u001b[43m,\u001b[49m\u001b[43m \u001b[49m\u001b[38;5;124;43m\"\u001b[39;49m\u001b[38;5;124;43mstrict\u001b[39;49m\u001b[38;5;124;43m\"\u001b[39;49m\u001b[43m)\u001b[49m\u001b[43m,\u001b[49m\n\u001b[0;32m   1737\u001b[0m \u001b[43m    \u001b[49m\u001b[43mstorage_options\u001b[49m\u001b[38;5;241;43m=\u001b[39;49m\u001b[38;5;28;43mself\u001b[39;49m\u001b[38;5;241;43m.\u001b[39;49m\u001b[43moptions\u001b[49m\u001b[38;5;241;43m.\u001b[39;49m\u001b[43mget\u001b[49m\u001b[43m(\u001b[49m\u001b[38;5;124;43m\"\u001b[39;49m\u001b[38;5;124;43mstorage_options\u001b[39;49m\u001b[38;5;124;43m\"\u001b[39;49m\u001b[43m,\u001b[49m\u001b[43m \u001b[49m\u001b[38;5;28;43;01mNone\u001b[39;49;00m\u001b[43m)\u001b[49m\u001b[43m,\u001b[49m\n\u001b[0;32m   1738\u001b[0m \u001b[43m\u001b[49m\u001b[43m)\u001b[49m\n\u001b[0;32m   1739\u001b[0m \u001b[38;5;28;01massert\u001b[39;00m \u001b[38;5;28mself\u001b[39m\u001b[38;5;241m.\u001b[39mhandles \u001b[38;5;129;01mis\u001b[39;00m \u001b[38;5;129;01mnot\u001b[39;00m \u001b[38;5;28;01mNone\u001b[39;00m\n\u001b[0;32m   1740\u001b[0m f \u001b[38;5;241m=\u001b[39m \u001b[38;5;28mself\u001b[39m\u001b[38;5;241m.\u001b[39mhandles\u001b[38;5;241m.\u001b[39mhandle\n",
      "File \u001b[1;32mC:\\WINDOWS\\System32\\erty\\lib\\site-packages\\pandas\\io\\common.py:857\u001b[0m, in \u001b[0;36mget_handle\u001b[1;34m(path_or_buf, mode, encoding, compression, memory_map, is_text, errors, storage_options)\u001b[0m\n\u001b[0;32m    852\u001b[0m \u001b[38;5;28;01melif\u001b[39;00m \u001b[38;5;28misinstance\u001b[39m(handle, \u001b[38;5;28mstr\u001b[39m):\n\u001b[0;32m    853\u001b[0m     \u001b[38;5;66;03m# Check whether the filename is to be opened in binary mode.\u001b[39;00m\n\u001b[0;32m    854\u001b[0m     \u001b[38;5;66;03m# Binary mode does not support 'encoding' and 'newline'.\u001b[39;00m\n\u001b[0;32m    855\u001b[0m     \u001b[38;5;28;01mif\u001b[39;00m ioargs\u001b[38;5;241m.\u001b[39mencoding \u001b[38;5;129;01mand\u001b[39;00m \u001b[38;5;124m\"\u001b[39m\u001b[38;5;124mb\u001b[39m\u001b[38;5;124m\"\u001b[39m \u001b[38;5;129;01mnot\u001b[39;00m \u001b[38;5;129;01min\u001b[39;00m ioargs\u001b[38;5;241m.\u001b[39mmode:\n\u001b[0;32m    856\u001b[0m         \u001b[38;5;66;03m# Encoding\u001b[39;00m\n\u001b[1;32m--> 857\u001b[0m         handle \u001b[38;5;241m=\u001b[39m \u001b[38;5;28;43mopen\u001b[39;49m\u001b[43m(\u001b[49m\n\u001b[0;32m    858\u001b[0m \u001b[43m            \u001b[49m\u001b[43mhandle\u001b[49m\u001b[43m,\u001b[49m\n\u001b[0;32m    859\u001b[0m \u001b[43m            \u001b[49m\u001b[43mioargs\u001b[49m\u001b[38;5;241;43m.\u001b[39;49m\u001b[43mmode\u001b[49m\u001b[43m,\u001b[49m\n\u001b[0;32m    860\u001b[0m \u001b[43m            \u001b[49m\u001b[43mencoding\u001b[49m\u001b[38;5;241;43m=\u001b[39;49m\u001b[43mioargs\u001b[49m\u001b[38;5;241;43m.\u001b[39;49m\u001b[43mencoding\u001b[49m\u001b[43m,\u001b[49m\n\u001b[0;32m    861\u001b[0m \u001b[43m            \u001b[49m\u001b[43merrors\u001b[49m\u001b[38;5;241;43m=\u001b[39;49m\u001b[43merrors\u001b[49m\u001b[43m,\u001b[49m\n\u001b[0;32m    862\u001b[0m \u001b[43m            \u001b[49m\u001b[43mnewline\u001b[49m\u001b[38;5;241;43m=\u001b[39;49m\u001b[38;5;124;43m\"\u001b[39;49m\u001b[38;5;124;43m\"\u001b[39;49m\u001b[43m,\u001b[49m\n\u001b[0;32m    863\u001b[0m \u001b[43m        \u001b[49m\u001b[43m)\u001b[49m\n\u001b[0;32m    864\u001b[0m     \u001b[38;5;28;01melse\u001b[39;00m:\n\u001b[0;32m    865\u001b[0m         \u001b[38;5;66;03m# Binary mode\u001b[39;00m\n\u001b[0;32m    866\u001b[0m         handle \u001b[38;5;241m=\u001b[39m \u001b[38;5;28mopen\u001b[39m(handle, ioargs\u001b[38;5;241m.\u001b[39mmode)\n",
      "\u001b[1;31mFileNotFoundError\u001b[0m: [Errno 2] No such file or directory: 'coords_8km.csv'"
     ]
    }
   ],
   "source": [
    "# #Field Size data\n",
    "df = pd.read_csv(r\"coords_8km.csv\", low_memory=False, header = None, index_col = False, skiprows=1)\n",
    "df.columns = ['x', 'y', 'gid']"
   ]
  },
  {
   "cell_type": "code",
   "execution_count": 4,
   "id": "707850c7-48b8-489e-8875-5c47f57eb76e",
   "metadata": {
    "scrolled": true
   },
   "outputs": [
    {
     "ename": "FileNotFoundError",
     "evalue": "[Errno 2] No such file or directory: 'sum_8km.csv'",
     "output_type": "error",
     "traceback": [
      "\u001b[1;31m---------------------------------------------------------------------------\u001b[0m",
      "\u001b[1;31mFileNotFoundError\u001b[0m                         Traceback (most recent call last)",
      "Cell \u001b[1;32mIn [4], line 1\u001b[0m\n\u001b[1;32m----> 1\u001b[0m df1 \u001b[38;5;241m=\u001b[39m \u001b[43mpd\u001b[49m\u001b[38;5;241;43m.\u001b[39;49m\u001b[43mread_csv\u001b[49m\u001b[43m(\u001b[49m\u001b[38;5;124;43mr\u001b[39;49m\u001b[38;5;124;43m\"\u001b[39;49m\u001b[38;5;124;43msum_8km.csv\u001b[39;49m\u001b[38;5;124;43m\"\u001b[39;49m\u001b[43m,\u001b[49m\u001b[43m \u001b[49m\u001b[43mlow_memory\u001b[49m\u001b[38;5;241;43m=\u001b[39;49m\u001b[38;5;28;43;01mFalse\u001b[39;49;00m\u001b[43m,\u001b[49m\u001b[43m \u001b[49m\u001b[43mheader\u001b[49m\u001b[43m \u001b[49m\u001b[38;5;241;43m=\u001b[39;49m\u001b[43m \u001b[49m\u001b[38;5;28;43;01mNone\u001b[39;49;00m\u001b[43m,\u001b[49m\u001b[43m \u001b[49m\u001b[43mindex_col\u001b[49m\u001b[43m \u001b[49m\u001b[38;5;241;43m=\u001b[39;49m\u001b[43m \u001b[49m\u001b[38;5;28;43;01mFalse\u001b[39;49;00m\u001b[43m,\u001b[49m\u001b[43m \u001b[49m\u001b[43mskiprows\u001b[49m\u001b[38;5;241;43m=\u001b[39;49m\u001b[38;5;241;43m1\u001b[39;49m\u001b[43m)\u001b[49m\n\u001b[0;32m      2\u001b[0m df1\u001b[38;5;241m.\u001b[39mcolumns \u001b[38;5;241m=\u001b[39m [\u001b[38;5;124m'\u001b[39m\u001b[38;5;124mareakm2_urban\u001b[39m\u001b[38;5;124m'\u001b[39m,\u001b[38;5;124m'\u001b[39m\u001b[38;5;124mareakm2_cropCover\u001b[39m\u001b[38;5;124m'\u001b[39m, \u001b[38;5;124m'\u001b[39m\u001b[38;5;124mareakm2_protArea\u001b[39m\u001b[38;5;124m'\u001b[39m,\n\u001b[0;32m      3\u001b[0m        \u001b[38;5;124m'\u001b[39m\u001b[38;5;124mareakm2_slowNutrArea\u001b[39m\u001b[38;5;124m'\u001b[39m, \u001b[38;5;124m'\u001b[39m\u001b[38;5;124mareakm2_sMedNutriArea\u001b[39m\u001b[38;5;124m'\u001b[39m,\n\u001b[0;32m      4\u001b[0m        \u001b[38;5;124m'\u001b[39m\u001b[38;5;124mareakm2_sHighNutriArea\u001b[39m\u001b[38;5;124m'\u001b[39m, \u001b[38;5;124m'\u001b[39m\u001b[38;5;124mareakm2_plantation\u001b[39m\u001b[38;5;124m'\u001b[39m, \u001b[38;5;124m'\u001b[39m\u001b[38;5;124mareakm2_treeCrop\u001b[39m\u001b[38;5;124m'\u001b[39m, \u001b[38;5;124m'\u001b[39m\u001b[38;5;124mgid\u001b[39m\u001b[38;5;124m'\u001b[39m]\n\u001b[0;32m      6\u001b[0m df1\u001b[38;5;241m.\u001b[39mloc[:,[\u001b[38;5;124m'\u001b[39m\u001b[38;5;124mareakm2_urban\u001b[39m\u001b[38;5;124m'\u001b[39m, \u001b[38;5;124m'\u001b[39m\u001b[38;5;124mareakm2_cropCover\u001b[39m\u001b[38;5;124m'\u001b[39m, \u001b[38;5;124m'\u001b[39m\u001b[38;5;124mareakm2_protArea\u001b[39m\u001b[38;5;124m'\u001b[39m,\n\u001b[0;32m      7\u001b[0m        \u001b[38;5;124m'\u001b[39m\u001b[38;5;124mareakm2_slowNutrArea\u001b[39m\u001b[38;5;124m'\u001b[39m, \u001b[38;5;124m'\u001b[39m\u001b[38;5;124mareakm2_sMedNutriArea\u001b[39m\u001b[38;5;124m'\u001b[39m,\n\u001b[0;32m      8\u001b[0m        \u001b[38;5;124m'\u001b[39m\u001b[38;5;124mareakm2_sHighNutriArea\u001b[39m\u001b[38;5;124m'\u001b[39m, \u001b[38;5;124m'\u001b[39m\u001b[38;5;124mareakm2_plantation\u001b[39m\u001b[38;5;124m'\u001b[39m, \u001b[38;5;124m'\u001b[39m\u001b[38;5;124mareakm2_treeCrop\u001b[39m\u001b[38;5;124m'\u001b[39m,]] \u001b[38;5;241m=\u001b[39m \\\n\u001b[0;32m      9\u001b[0m df1\u001b[38;5;241m.\u001b[39mloc[:,[\u001b[38;5;124m'\u001b[39m\u001b[38;5;124mareakm2_urban\u001b[39m\u001b[38;5;124m'\u001b[39m,\u001b[38;5;124m'\u001b[39m\u001b[38;5;124mareakm2_cropCover\u001b[39m\u001b[38;5;124m'\u001b[39m, \u001b[38;5;124m'\u001b[39m\u001b[38;5;124mareakm2_protArea\u001b[39m\u001b[38;5;124m'\u001b[39m,\n\u001b[0;32m     10\u001b[0m        \u001b[38;5;124m'\u001b[39m\u001b[38;5;124mareakm2_slowNutrArea\u001b[39m\u001b[38;5;124m'\u001b[39m, \u001b[38;5;124m'\u001b[39m\u001b[38;5;124mareakm2_sMedNutriArea\u001b[39m\u001b[38;5;124m'\u001b[39m,\n\u001b[0;32m     11\u001b[0m        \u001b[38;5;124m'\u001b[39m\u001b[38;5;124mareakm2_sHighNutriArea\u001b[39m\u001b[38;5;124m'\u001b[39m, \u001b[38;5;124m'\u001b[39m\u001b[38;5;124mareakm2_plantation\u001b[39m\u001b[38;5;124m'\u001b[39m, \u001b[38;5;124m'\u001b[39m\u001b[38;5;124mareakm2_treeCrop\u001b[39m\u001b[38;5;124m'\u001b[39m]]\u001b[38;5;241m.\u001b[39mdivide(\u001b[38;5;241m64\u001b[39m, axis\u001b[38;5;241m=\u001b[39m\u001b[38;5;241m1\u001b[39m)\n",
      "File \u001b[1;32mC:\\WINDOWS\\System32\\erty\\lib\\site-packages\\pandas\\util\\_decorators.py:211\u001b[0m, in \u001b[0;36mdeprecate_kwarg.<locals>._deprecate_kwarg.<locals>.wrapper\u001b[1;34m(*args, **kwargs)\u001b[0m\n\u001b[0;32m    209\u001b[0m     \u001b[38;5;28;01melse\u001b[39;00m:\n\u001b[0;32m    210\u001b[0m         kwargs[new_arg_name] \u001b[38;5;241m=\u001b[39m new_arg_value\n\u001b[1;32m--> 211\u001b[0m \u001b[38;5;28;01mreturn\u001b[39;00m func(\u001b[38;5;241m*\u001b[39margs, \u001b[38;5;241m*\u001b[39m\u001b[38;5;241m*\u001b[39mkwargs)\n",
      "File \u001b[1;32mC:\\WINDOWS\\System32\\erty\\lib\\site-packages\\pandas\\util\\_decorators.py:317\u001b[0m, in \u001b[0;36mdeprecate_nonkeyword_arguments.<locals>.decorate.<locals>.wrapper\u001b[1;34m(*args, **kwargs)\u001b[0m\n\u001b[0;32m    311\u001b[0m \u001b[38;5;28;01mif\u001b[39;00m \u001b[38;5;28mlen\u001b[39m(args) \u001b[38;5;241m>\u001b[39m num_allow_args:\n\u001b[0;32m    312\u001b[0m     warnings\u001b[38;5;241m.\u001b[39mwarn(\n\u001b[0;32m    313\u001b[0m         msg\u001b[38;5;241m.\u001b[39mformat(arguments\u001b[38;5;241m=\u001b[39marguments),\n\u001b[0;32m    314\u001b[0m         \u001b[38;5;167;01mFutureWarning\u001b[39;00m,\n\u001b[0;32m    315\u001b[0m         stacklevel\u001b[38;5;241m=\u001b[39mfind_stack_level(inspect\u001b[38;5;241m.\u001b[39mcurrentframe()),\n\u001b[0;32m    316\u001b[0m     )\n\u001b[1;32m--> 317\u001b[0m \u001b[38;5;28;01mreturn\u001b[39;00m func(\u001b[38;5;241m*\u001b[39margs, \u001b[38;5;241m*\u001b[39m\u001b[38;5;241m*\u001b[39mkwargs)\n",
      "File \u001b[1;32mC:\\WINDOWS\\System32\\erty\\lib\\site-packages\\pandas\\io\\parsers\\readers.py:950\u001b[0m, in \u001b[0;36mread_csv\u001b[1;34m(filepath_or_buffer, sep, delimiter, header, names, index_col, usecols, squeeze, prefix, mangle_dupe_cols, dtype, engine, converters, true_values, false_values, skipinitialspace, skiprows, skipfooter, nrows, na_values, keep_default_na, na_filter, verbose, skip_blank_lines, parse_dates, infer_datetime_format, keep_date_col, date_parser, dayfirst, cache_dates, iterator, chunksize, compression, thousands, decimal, lineterminator, quotechar, quoting, doublequote, escapechar, comment, encoding, encoding_errors, dialect, error_bad_lines, warn_bad_lines, on_bad_lines, delim_whitespace, low_memory, memory_map, float_precision, storage_options)\u001b[0m\n\u001b[0;32m    935\u001b[0m kwds_defaults \u001b[38;5;241m=\u001b[39m _refine_defaults_read(\n\u001b[0;32m    936\u001b[0m     dialect,\n\u001b[0;32m    937\u001b[0m     delimiter,\n\u001b[1;32m   (...)\u001b[0m\n\u001b[0;32m    946\u001b[0m     defaults\u001b[38;5;241m=\u001b[39m{\u001b[38;5;124m\"\u001b[39m\u001b[38;5;124mdelimiter\u001b[39m\u001b[38;5;124m\"\u001b[39m: \u001b[38;5;124m\"\u001b[39m\u001b[38;5;124m,\u001b[39m\u001b[38;5;124m\"\u001b[39m},\n\u001b[0;32m    947\u001b[0m )\n\u001b[0;32m    948\u001b[0m kwds\u001b[38;5;241m.\u001b[39mupdate(kwds_defaults)\n\u001b[1;32m--> 950\u001b[0m \u001b[38;5;28;01mreturn\u001b[39;00m \u001b[43m_read\u001b[49m\u001b[43m(\u001b[49m\u001b[43mfilepath_or_buffer\u001b[49m\u001b[43m,\u001b[49m\u001b[43m \u001b[49m\u001b[43mkwds\u001b[49m\u001b[43m)\u001b[49m\n",
      "File \u001b[1;32mC:\\WINDOWS\\System32\\erty\\lib\\site-packages\\pandas\\io\\parsers\\readers.py:605\u001b[0m, in \u001b[0;36m_read\u001b[1;34m(filepath_or_buffer, kwds)\u001b[0m\n\u001b[0;32m    602\u001b[0m _validate_names(kwds\u001b[38;5;241m.\u001b[39mget(\u001b[38;5;124m\"\u001b[39m\u001b[38;5;124mnames\u001b[39m\u001b[38;5;124m\"\u001b[39m, \u001b[38;5;28;01mNone\u001b[39;00m))\n\u001b[0;32m    604\u001b[0m \u001b[38;5;66;03m# Create the parser.\u001b[39;00m\n\u001b[1;32m--> 605\u001b[0m parser \u001b[38;5;241m=\u001b[39m TextFileReader(filepath_or_buffer, \u001b[38;5;241m*\u001b[39m\u001b[38;5;241m*\u001b[39mkwds)\n\u001b[0;32m    607\u001b[0m \u001b[38;5;28;01mif\u001b[39;00m chunksize \u001b[38;5;129;01mor\u001b[39;00m iterator:\n\u001b[0;32m    608\u001b[0m     \u001b[38;5;28;01mreturn\u001b[39;00m parser\n",
      "File \u001b[1;32mC:\\WINDOWS\\System32\\erty\\lib\\site-packages\\pandas\\io\\parsers\\readers.py:1442\u001b[0m, in \u001b[0;36mTextFileReader.__init__\u001b[1;34m(self, f, engine, **kwds)\u001b[0m\n\u001b[0;32m   1439\u001b[0m     \u001b[38;5;28mself\u001b[39m\u001b[38;5;241m.\u001b[39moptions[\u001b[38;5;124m\"\u001b[39m\u001b[38;5;124mhas_index_names\u001b[39m\u001b[38;5;124m\"\u001b[39m] \u001b[38;5;241m=\u001b[39m kwds[\u001b[38;5;124m\"\u001b[39m\u001b[38;5;124mhas_index_names\u001b[39m\u001b[38;5;124m\"\u001b[39m]\n\u001b[0;32m   1441\u001b[0m \u001b[38;5;28mself\u001b[39m\u001b[38;5;241m.\u001b[39mhandles: IOHandles \u001b[38;5;241m|\u001b[39m \u001b[38;5;28;01mNone\u001b[39;00m \u001b[38;5;241m=\u001b[39m \u001b[38;5;28;01mNone\u001b[39;00m\n\u001b[1;32m-> 1442\u001b[0m \u001b[38;5;28mself\u001b[39m\u001b[38;5;241m.\u001b[39m_engine \u001b[38;5;241m=\u001b[39m \u001b[38;5;28;43mself\u001b[39;49m\u001b[38;5;241;43m.\u001b[39;49m\u001b[43m_make_engine\u001b[49m\u001b[43m(\u001b[49m\u001b[43mf\u001b[49m\u001b[43m,\u001b[49m\u001b[43m \u001b[49m\u001b[38;5;28;43mself\u001b[39;49m\u001b[38;5;241;43m.\u001b[39;49m\u001b[43mengine\u001b[49m\u001b[43m)\u001b[49m\n",
      "File \u001b[1;32mC:\\WINDOWS\\System32\\erty\\lib\\site-packages\\pandas\\io\\parsers\\readers.py:1729\u001b[0m, in \u001b[0;36mTextFileReader._make_engine\u001b[1;34m(self, f, engine)\u001b[0m\n\u001b[0;32m   1727\u001b[0m     is_text \u001b[38;5;241m=\u001b[39m \u001b[38;5;28;01mFalse\u001b[39;00m\n\u001b[0;32m   1728\u001b[0m     mode \u001b[38;5;241m=\u001b[39m \u001b[38;5;124m\"\u001b[39m\u001b[38;5;124mrb\u001b[39m\u001b[38;5;124m\"\u001b[39m\n\u001b[1;32m-> 1729\u001b[0m \u001b[38;5;28mself\u001b[39m\u001b[38;5;241m.\u001b[39mhandles \u001b[38;5;241m=\u001b[39m \u001b[43mget_handle\u001b[49m\u001b[43m(\u001b[49m\n\u001b[0;32m   1730\u001b[0m \u001b[43m    \u001b[49m\u001b[43mf\u001b[49m\u001b[43m,\u001b[49m\n\u001b[0;32m   1731\u001b[0m \u001b[43m    \u001b[49m\u001b[43mmode\u001b[49m\u001b[43m,\u001b[49m\n\u001b[0;32m   1732\u001b[0m \u001b[43m    \u001b[49m\u001b[43mencoding\u001b[49m\u001b[38;5;241;43m=\u001b[39;49m\u001b[38;5;28;43mself\u001b[39;49m\u001b[38;5;241;43m.\u001b[39;49m\u001b[43moptions\u001b[49m\u001b[38;5;241;43m.\u001b[39;49m\u001b[43mget\u001b[49m\u001b[43m(\u001b[49m\u001b[38;5;124;43m\"\u001b[39;49m\u001b[38;5;124;43mencoding\u001b[39;49m\u001b[38;5;124;43m\"\u001b[39;49m\u001b[43m,\u001b[49m\u001b[43m \u001b[49m\u001b[38;5;28;43;01mNone\u001b[39;49;00m\u001b[43m)\u001b[49m\u001b[43m,\u001b[49m\n\u001b[0;32m   1733\u001b[0m \u001b[43m    \u001b[49m\u001b[43mcompression\u001b[49m\u001b[38;5;241;43m=\u001b[39;49m\u001b[38;5;28;43mself\u001b[39;49m\u001b[38;5;241;43m.\u001b[39;49m\u001b[43moptions\u001b[49m\u001b[38;5;241;43m.\u001b[39;49m\u001b[43mget\u001b[49m\u001b[43m(\u001b[49m\u001b[38;5;124;43m\"\u001b[39;49m\u001b[38;5;124;43mcompression\u001b[39;49m\u001b[38;5;124;43m\"\u001b[39;49m\u001b[43m,\u001b[49m\u001b[43m \u001b[49m\u001b[38;5;28;43;01mNone\u001b[39;49;00m\u001b[43m)\u001b[49m\u001b[43m,\u001b[49m\n\u001b[0;32m   1734\u001b[0m \u001b[43m    \u001b[49m\u001b[43mmemory_map\u001b[49m\u001b[38;5;241;43m=\u001b[39;49m\u001b[38;5;28;43mself\u001b[39;49m\u001b[38;5;241;43m.\u001b[39;49m\u001b[43moptions\u001b[49m\u001b[38;5;241;43m.\u001b[39;49m\u001b[43mget\u001b[49m\u001b[43m(\u001b[49m\u001b[38;5;124;43m\"\u001b[39;49m\u001b[38;5;124;43mmemory_map\u001b[39;49m\u001b[38;5;124;43m\"\u001b[39;49m\u001b[43m,\u001b[49m\u001b[43m \u001b[49m\u001b[38;5;28;43;01mFalse\u001b[39;49;00m\u001b[43m)\u001b[49m\u001b[43m,\u001b[49m\n\u001b[0;32m   1735\u001b[0m \u001b[43m    \u001b[49m\u001b[43mis_text\u001b[49m\u001b[38;5;241;43m=\u001b[39;49m\u001b[43mis_text\u001b[49m\u001b[43m,\u001b[49m\n\u001b[0;32m   1736\u001b[0m \u001b[43m    \u001b[49m\u001b[43merrors\u001b[49m\u001b[38;5;241;43m=\u001b[39;49m\u001b[38;5;28;43mself\u001b[39;49m\u001b[38;5;241;43m.\u001b[39;49m\u001b[43moptions\u001b[49m\u001b[38;5;241;43m.\u001b[39;49m\u001b[43mget\u001b[49m\u001b[43m(\u001b[49m\u001b[38;5;124;43m\"\u001b[39;49m\u001b[38;5;124;43mencoding_errors\u001b[39;49m\u001b[38;5;124;43m\"\u001b[39;49m\u001b[43m,\u001b[49m\u001b[43m \u001b[49m\u001b[38;5;124;43m\"\u001b[39;49m\u001b[38;5;124;43mstrict\u001b[39;49m\u001b[38;5;124;43m\"\u001b[39;49m\u001b[43m)\u001b[49m\u001b[43m,\u001b[49m\n\u001b[0;32m   1737\u001b[0m \u001b[43m    \u001b[49m\u001b[43mstorage_options\u001b[49m\u001b[38;5;241;43m=\u001b[39;49m\u001b[38;5;28;43mself\u001b[39;49m\u001b[38;5;241;43m.\u001b[39;49m\u001b[43moptions\u001b[49m\u001b[38;5;241;43m.\u001b[39;49m\u001b[43mget\u001b[49m\u001b[43m(\u001b[49m\u001b[38;5;124;43m\"\u001b[39;49m\u001b[38;5;124;43mstorage_options\u001b[39;49m\u001b[38;5;124;43m\"\u001b[39;49m\u001b[43m,\u001b[49m\u001b[43m \u001b[49m\u001b[38;5;28;43;01mNone\u001b[39;49;00m\u001b[43m)\u001b[49m\u001b[43m,\u001b[49m\n\u001b[0;32m   1738\u001b[0m \u001b[43m\u001b[49m\u001b[43m)\u001b[49m\n\u001b[0;32m   1739\u001b[0m \u001b[38;5;28;01massert\u001b[39;00m \u001b[38;5;28mself\u001b[39m\u001b[38;5;241m.\u001b[39mhandles \u001b[38;5;129;01mis\u001b[39;00m \u001b[38;5;129;01mnot\u001b[39;00m \u001b[38;5;28;01mNone\u001b[39;00m\n\u001b[0;32m   1740\u001b[0m f \u001b[38;5;241m=\u001b[39m \u001b[38;5;28mself\u001b[39m\u001b[38;5;241m.\u001b[39mhandles\u001b[38;5;241m.\u001b[39mhandle\n",
      "File \u001b[1;32mC:\\WINDOWS\\System32\\erty\\lib\\site-packages\\pandas\\io\\common.py:857\u001b[0m, in \u001b[0;36mget_handle\u001b[1;34m(path_or_buf, mode, encoding, compression, memory_map, is_text, errors, storage_options)\u001b[0m\n\u001b[0;32m    852\u001b[0m \u001b[38;5;28;01melif\u001b[39;00m \u001b[38;5;28misinstance\u001b[39m(handle, \u001b[38;5;28mstr\u001b[39m):\n\u001b[0;32m    853\u001b[0m     \u001b[38;5;66;03m# Check whether the filename is to be opened in binary mode.\u001b[39;00m\n\u001b[0;32m    854\u001b[0m     \u001b[38;5;66;03m# Binary mode does not support 'encoding' and 'newline'.\u001b[39;00m\n\u001b[0;32m    855\u001b[0m     \u001b[38;5;28;01mif\u001b[39;00m ioargs\u001b[38;5;241m.\u001b[39mencoding \u001b[38;5;129;01mand\u001b[39;00m \u001b[38;5;124m\"\u001b[39m\u001b[38;5;124mb\u001b[39m\u001b[38;5;124m\"\u001b[39m \u001b[38;5;129;01mnot\u001b[39;00m \u001b[38;5;129;01min\u001b[39;00m ioargs\u001b[38;5;241m.\u001b[39mmode:\n\u001b[0;32m    856\u001b[0m         \u001b[38;5;66;03m# Encoding\u001b[39;00m\n\u001b[1;32m--> 857\u001b[0m         handle \u001b[38;5;241m=\u001b[39m \u001b[38;5;28;43mopen\u001b[39;49m\u001b[43m(\u001b[49m\n\u001b[0;32m    858\u001b[0m \u001b[43m            \u001b[49m\u001b[43mhandle\u001b[49m\u001b[43m,\u001b[49m\n\u001b[0;32m    859\u001b[0m \u001b[43m            \u001b[49m\u001b[43mioargs\u001b[49m\u001b[38;5;241;43m.\u001b[39;49m\u001b[43mmode\u001b[49m\u001b[43m,\u001b[49m\n\u001b[0;32m    860\u001b[0m \u001b[43m            \u001b[49m\u001b[43mencoding\u001b[49m\u001b[38;5;241;43m=\u001b[39;49m\u001b[43mioargs\u001b[49m\u001b[38;5;241;43m.\u001b[39;49m\u001b[43mencoding\u001b[49m\u001b[43m,\u001b[49m\n\u001b[0;32m    861\u001b[0m \u001b[43m            \u001b[49m\u001b[43merrors\u001b[49m\u001b[38;5;241;43m=\u001b[39;49m\u001b[43merrors\u001b[49m\u001b[43m,\u001b[49m\n\u001b[0;32m    862\u001b[0m \u001b[43m            \u001b[49m\u001b[43mnewline\u001b[49m\u001b[38;5;241;43m=\u001b[39;49m\u001b[38;5;124;43m\"\u001b[39;49m\u001b[38;5;124;43m\"\u001b[39;49m\u001b[43m,\u001b[49m\n\u001b[0;32m    863\u001b[0m \u001b[43m        \u001b[49m\u001b[43m)\u001b[49m\n\u001b[0;32m    864\u001b[0m     \u001b[38;5;28;01melse\u001b[39;00m:\n\u001b[0;32m    865\u001b[0m         \u001b[38;5;66;03m# Binary mode\u001b[39;00m\n\u001b[0;32m    866\u001b[0m         handle \u001b[38;5;241m=\u001b[39m \u001b[38;5;28mopen\u001b[39m(handle, ioargs\u001b[38;5;241m.\u001b[39mmode)\n",
      "\u001b[1;31mFileNotFoundError\u001b[0m: [Errno 2] No such file or directory: 'sum_8km.csv'"
     ]
    }
   ],
   "source": [
    "df1 = pd.read_csv(r\"sum_8km.csv\", low_memory=False, header = None, index_col = False, skiprows=1)\n",
    "df1.columns = ['areakm2_urban','areakm2_cropCover', 'areakm2_protArea',\n",
    "       'areakm2_slowNutrArea', 'areakm2_sMedNutriArea',\n",
    "       'areakm2_sHighNutriArea', 'areakm2_plantation', 'areakm2_treeCrop', 'gid']\n",
    "\n",
    "df1.loc[:,['areakm2_urban', 'areakm2_cropCover', 'areakm2_protArea',\n",
    "       'areakm2_slowNutrArea', 'areakm2_sMedNutriArea',\n",
    "       'areakm2_sHighNutriArea', 'areakm2_plantation', 'areakm2_treeCrop',]] = \\\n",
    "df1.loc[:,['areakm2_urban','areakm2_cropCover', 'areakm2_protArea',\n",
    "       'areakm2_slowNutrArea', 'areakm2_sMedNutriArea',\n",
    "       'areakm2_sHighNutriArea', 'areakm2_plantation', 'areakm2_treeCrop']].divide(64, axis=1)"
   ]
  },
  {
   "cell_type": "code",
   "execution_count": 46,
   "id": "38b64040-8c07-4508-9cfc-431499973e3a",
   "metadata": {},
   "outputs": [],
   "source": [
    "# Mean covariate data\n",
    "dfmean = pd.read_csv(r\"mean_8km.csv\", low_memory=False, header = None, index_col = False, skiprows=1)\n",
    "dfmean.columns = ['mean_precip','Nfer_kgha', 'popDensity', 'sheepDensity', 'goatDensity', 'cattleDensity', 'gid']\n",
    "dfmean= dfmean[dfmean['gid']!= '245,-2948']"
   ]
  },
  {
   "cell_type": "code",
   "execution_count": 47,
   "id": "1c8f9763-4324-49d2-9c24-47af99ce45e4",
   "metadata": {},
   "outputs": [],
   "source": [
    "# Merge datasets into single datset based on matching GIS column\n",
    "dfJoin = pd.merge(df1, dfmean, on= 'gid')\n",
    "dfAll = pd.merge(dfJoin, df, on= 'gid').drop_duplicates().reset_index(drop=True)"
   ]
  },
  {
   "cell_type": "code",
   "execution_count": 48,
   "id": "b6e547e0-559f-4e7a-b289-c228d6aa6ced",
   "metadata": {},
   "outputs": [
    {
     "name": "stdout",
     "output_type": "stream",
     "text": [
      "The number of missing mean_precip values: 0\n"
     ]
    }
   ],
   "source": [
    "# Fill in missing mean precipitation data\n",
    "# by copying attribute of closest point\n",
    "missing = dfAll.mean_precip.isna().sum()\n",
    "print('The number of missing mean_precip values:', missing)\n",
    "if missing>0:\n",
    "    # Blocks with mean-precip data\n",
    "    sdf2 = dfAll.loc[dfAll['mean_precip'].notna(), ['mean_precip', 'x', 'y']]\n",
    "    gdf2 =  gpd.GeoDataFrame(sdf2.drop(['x', 'y'],axis=1), geometry = gpd.points_from_xy(sdf2.x, sdf2.y))\n",
    "\n",
    "    # All columns without join-attributes(s) column\n",
    "    sdf1 = dfAll.loc[dfAll['mean_precip'].isna(), ['gid','x', 'y']]\n",
    "    gdf1 =  gpd.GeoDataFrame(sdf1.drop(['x', 'y'],axis=1), geometry = gpd.points_from_xy(sdf1.x, sdf1.y))\n",
    "\n",
    "    joinNearest1 = ckdnearest(gdf1, gdf2)\n",
    "\n",
    "    result1 = pd.DataFrame(joinNearest1)[['gid', 'mean_precip']]\n",
    "    result1.columns = ['gid', 'mean_precip2']\n",
    "\n",
    "    dfAll = pd.merge(dfAll, result1, how = 'outer',on = 'gid').drop_duplicates()\n",
    "    dfAll['mean_precip'].fillna(dfAll['mean_precip2'], inplace = True)\n",
    "    dfAll.drop('mean_precip2', axis=1, inplace=True)"
   ]
  },
  {
   "cell_type": "code",
   "execution_count": 49,
   "id": "70b5a721-886e-4c97-a8bc-985942ab3b2a",
   "metadata": {
    "tags": []
   },
   "outputs": [],
   "source": [
    "dfF = dfAll[dfAll['areakm2_treeCrop']!= '2726,-3471']\n",
    "\n",
    "# Format data types\n",
    "dfF.loc[:,'areakm2_treeCrop'] = dfF.loc[:,'areakm2_treeCrop'].astype('float64')\n",
    "dfF.loc[:,'gid'] = dfF.loc[:,'gid'].astype('string')\n",
    "dfF.loc[:,'Nfer_kgha'] = dfF.loc[:,'Nfer_kgha'].astype('float64')\n",
    "dfF.loc[:,'mean_precip'] = dfF.loc[:,'mean_precip'].astype('float32')"
   ]
  },
  {
   "cell_type": "code",
   "execution_count": 50,
   "id": "5ffbb593-3673-41aa-b4e3-6adf34ec742d",
   "metadata": {},
   "outputs": [
    {
     "name": "stdout",
     "output_type": "stream",
     "text": [
      "The number of missing soil nutrient values: 0\n"
     ]
    }
   ],
   "source": [
    "# Fill in missing Nutrient data\n",
    "# Copy attribute of closest point\n",
    "df = dfF\n",
    "df['maxN'] = df[['areakm2_slowNutrArea','areakm2_sMedNutriArea', 'areakm2_sHighNutriArea']].max(axis=1)\n",
    "\n",
    "missing = df[df.maxN==0].shape[0]\n",
    "print('The number of missing soil nutrient values:', missing)\n",
    "if missing>0:\n",
    "    # Blocks with Nutrient areas\n",
    "    sdf2 = df.loc[df['maxN']>0, ['areakm2_slowNutrArea','areakm2_sMedNutriArea', 'areakm2_sHighNutriArea', 'x', 'y']]\n",
    "    gdf2 =  gpd.GeoDataFrame(sdf2.drop(['x', 'y'],axis=1), geometry = gpd.points_from_xy(sdf2.x, sdf2.y))\n",
    "\n",
    "    # All columns without join-attributes(s) column\n",
    "    sdf1 = df[['gid', 'x', 'y']]\n",
    "    gdf1 =  gpd.GeoDataFrame(sdf1.drop(['x', 'y'],axis=1), geometry = gpd.points_from_xy(sdf1.x, sdf1.y))\n",
    "\n",
    "    joinNearest1 = ckdnearest(gdf1, gdf2)\n",
    "\n",
    "    result1 = pd.DataFrame(joinNearest1)[['gid', 'areakm2_slowNutrArea','areakm2_sMedNutriArea', 'areakm2_sHighNutriArea']]\n",
    "    result1.columns = ['gid', 'areakm2_slowNutrArea2','areakm2_sMedNutriArea2', 'areakm2_sHighNutriArea2']\n",
    "\n",
    "    finaldf = pd.merge(df, result1, how = 'outer',on = 'gid')"
   ]
  },
  {
   "cell_type": "code",
   "execution_count": 51,
   "id": "5f0c762e-ecc3-4011-9114-ecbed2edf8fc",
   "metadata": {},
   "outputs": [
    {
     "name": "stdout",
     "output_type": "stream",
     "text": [
      "2    142\n",
      "3     52\n",
      "1      9\n",
      "0      3\n",
      "Name: precipDiscrete, dtype: int64\n"
     ]
    }
   ],
   "source": [
    "# Add small value to zero precip\n",
    "finaldf.loc[finaldf.mean_precip==0, 'mean_precip'] = 0.1\n",
    "# Round of to the nearest 400\n",
    "max_round = math.ceil(max(finaldf['mean_precip']) / 400) * 400\n",
    "cut_bins = list(range(0, max_round+1, 400))\n",
    "# discretize precipitation into categories \n",
    "cut_labels = [str(item) for item in range(0, len(cut_bins)-1)]\n",
    "finaldf[\"precipDiscrete\"] = pd.cut(x = finaldf[\"mean_precip\"].astype(float), bins= cut_bins, labels = cut_labels)\n",
    "print(finaldf.precipDiscrete.value_counts())\n",
    "\n",
    "# Identify the max nutrient area\n",
    "finaldf['maxNutr'] = finaldf[['areakm2_slowNutrArea2','areakm2_sMedNutriArea2', 'areakm2_sHighNutriArea2']].idxmax(axis=1)\n",
    "\n",
    "# Get unique category based on precip bucket and max nutrient category\n",
    "finaldf['combination_LS_intensity'] = finaldf[['precipDiscrete','maxNutr']].agg(tuple, axis=1)\n",
    "finaldf['lsIntensityCat'] = finaldf['combination_LS_intensity'].factorize()[0]"
   ]
  },
  {
   "cell_type": "code",
   "execution_count": 52,
   "id": "df76966a-bfba-4654-a5b5-843f3b00a8d0",
   "metadata": {},
   "outputs": [
    {
     "name": "stdout",
     "output_type": "stream",
     "text": [
      "Livestock Intensity categories (based on unique combinations of discretised precipitation and max nutrient category): [0, 1, 2, 3]\n"
     ]
    },
    {
     "data": {
      "application/vnd.jupyter.widget-view+json": {
       "model_id": "c7bb406cf52b4561b25f26ecc1191a8f",
       "version_major": 2,
       "version_minor": 0
      },
      "text/plain": [
       "  0%|          | 0/4 [00:00<?, ?it/s]"
      ]
     },
     "metadata": {},
     "output_type": "display_data"
    },
    {
     "name": "stdout",
     "output_type": "stream",
     "text": [
      "The 99th percentile of summed livestock density for combination 0 is: 162.40787489258184\n",
      "The 99th percentile of summed livestock density for combination 1 is: 88.13850261546719\n",
      "The 99th percentile of summed livestock density for combination 2 is: 1.187025200977485\n",
      "The 99th percentile of summed livestock density for combination 3 is: 131.78977805697193\n"
     ]
    }
   ],
   "source": [
    "# Get unique combinations of precipitation and maxNutrient categories\n",
    "combinations = list(set(finaldf['lsIntensityCat']))\n",
    "print(\"Livestock Intensity categories (based on unique combinations of discretised precipitation and max nutrient category):\",combinations)\n",
    "\n",
    "# Compute the sum of sheep, goat and cattle density\n",
    "finaldf['lsSum'] = finaldf[['sheepDensity', 'goatDensity', 'cattleDensity']].sum(axis=1)\n",
    "\n",
    "# Scale data\n",
    "finaldf['scaled_livestockIntensity']= 0\n",
    "for combination in tqdm(combinations):\n",
    "    qq99 = finaldf.loc[(finaldf['lsIntensityCat'] == combination),'lsSum'].quantile(0.99)\n",
    "    print(f'The 99th percentile of summed livestock density for combination {combination} is: {qq99}')\n",
    "    # if there are rows\n",
    "    if finaldf.loc[(finaldf['lsIntensityCat'] == combination)&(finaldf['lsSum']<qq99), 'scaled_livestockIntensity'].shape[0]>0:\n",
    "        # apply min max scaling to all data less than 99th quantile per unique combination.\n",
    "        scaler = MinMaxScaler()\n",
    "        finaldf.loc[(finaldf['lsIntensityCat'] == combination)&(finaldf['lsSum']<qq99), 'scaled_livestockIntensity']\\\n",
    "        = scaler.fit_transform(pd.DataFrame(finaldf.loc[(finaldf['lsIntensityCat'] == combination)&(finaldf['lsSum']<qq99)\\\n",
    "                                                    , 'lsSum']))\n",
    "    else: \n",
    "        finaldf.loc[(finaldf['lsIntensityCat'] == combination)&(finaldf['lsSum']<qq99), 'scaled_livestockIntensity'] =\\\n",
    "        finaldf.loc[(finaldf['lsIntensityCat'] == combination)&(finaldf['lsSum']<qq99), 'scaled_livestockIntensity']\n",
    "    # for data greater than 99th percentile per category, equal to max value 1\n",
    "    finaldf.loc[(finaldf['lsIntensityCat'] == combination)&(finaldf['lsSum']>=qq99), 'scaled_livestockIntensity'] = 1"
   ]
  },
  {
   "cell_type": "code",
   "execution_count": 53,
   "id": "abf68bb9-924f-4dac-a702-d2db3ea5bf72",
   "metadata": {},
   "outputs": [],
   "source": [
    "# Export data\n",
    "outfile = f'{country}_8kmPOC_{date}.feather'\n",
    "finaldf.drop_duplicates(subset = ['x', 'y']).reset_index(drop=True).to_feather(outfile)"
   ]
  },
  {
   "cell_type": "markdown",
   "id": "aacae64d-6ec5-4875-91eb-3d1a9943a441",
   "metadata": {},
   "source": [
    "## Expert Decision tree"
   ]
  },
  {
   "cell_type": "code",
   "execution_count": 54,
   "id": "d5c92bfd-0bd4-459c-b4dc-be5e860e9105",
   "metadata": {
    "tags": []
   },
   "outputs": [],
   "source": [
    "def ckdnearest_fsz(gdA, gdB, k=5):\n",
    "    \"\"\"\n",
    "    For rows with no field size data, identify the 5-closest points -> select the most common fieldSize.\n",
    "    If there are 2 most field sizes, drop the furthest point and redetermine most common field Size.\n",
    "    \n",
    "    Args:\n",
    "        gdA (pandas DataFrame): contains rows with missing data in column named 'fieldSize'\n",
    "        gdB (pandas DataFrame): contains rows with no missing data in column named 'fieldSize'\n",
    "        k (int): Determines the number of closest points considered\n",
    "    \n",
    "    Returns:\n",
    "        gdA (pandas dataframe) with filled in missing data at column named 'fieldSize2'.\n",
    "        If the 5 points are each different fieldsizes, this function will not work.\n",
    "    \"\"\"\n",
    "    # get 5-closest pts\n",
    "    nA = np.array(list(gdA.geometry.apply(lambda x: (x.x, x.y))))\n",
    "    nB = np.array(list(gdB.geometry.apply(lambda x: (x.x, x.y))))\n",
    "    btree = cKDTree(nB)\n",
    "    dist, idx = btree.query(nA, k=k)\n",
    "    \n",
    "    gdA['fieldSize2'] = np.nan\n",
    "    for row in tqdm(range(idx.shape[0])):\n",
    "        # get 5 rows\n",
    "        data = gdB.iloc[idx[row],:]\n",
    "        # get most common fieldsize value\n",
    "        if data['fieldSize'].value_counts().mode().shape[0]==1:\n",
    "            most_common = data['fieldSize'].value_counts().idxmax()\n",
    "            gdA.at[row, 'fieldSize2'] = most_common\n",
    "        # if 2 or more values are returned, drop point with greatest distance\n",
    "        else:\n",
    "            fts = pd.DataFrame(np.column_stack([dist[row], idx[row]]), columns=['dist', 'idx'])\n",
    "            # drop point with greatest distance\n",
    "            idx_i = list(fts.loc[fts['dist']<fts['dist'].max(), 'idx'])\n",
    "            data = gdB.iloc[idx_i,:]\n",
    "            # get most common value\n",
    "            most_common = data['fieldSize'].value_counts().idxmax()\n",
    "            gdA.at[row, 'fieldSize2'] = most_common\n",
    "    return gdA"
   ]
  },
  {
   "cell_type": "code",
   "execution_count": 55,
   "id": "f2453cca-3952-45c6-a2f9-70937f46f170",
   "metadata": {
    "tags": []
   },
   "outputs": [],
   "source": [
    "infile = f'{country}_8kmPOC_{date}.feather'\n",
    "df = pd.read_feather(infile).dropna().reset_index(drop=True)"
   ]
  },
  {
   "cell_type": "code",
   "execution_count": 56,
   "id": "d4bcc049-6f1b-4b60-99c3-a296ea12744d",
   "metadata": {},
   "outputs": [
    {
     "name": "stdout",
     "output_type": "stream",
     "text": [
      "The number of cells per landcover category\n"
     ]
    },
    {
     "data": {
      "text/plain": [
       "4    149\n",
       "3      1\n",
       "Name: Land_Use, dtype: int64"
      ]
     },
     "execution_count": 56,
     "metadata": {},
     "output_type": "execute_result"
    }
   ],
   "source": [
    "#1= Urban\n",
    "#2= Timber plantations\n",
    "#3= Tree Croplands\n",
    "#4= CropLands\n",
    "#5= Protected areas\n",
    "#6= Rangelands/Near-natural lands\n",
    "\n",
    "def ExpertDT(df):\n",
    "\n",
    "    #6= Rangelands/Near-natural lands\n",
    "    df['Land_Use'] = 6\n",
    "\n",
    "    #5= Protected areas\n",
    "    df.loc[df['areakm2_protArea']>0.2, 'Land_Use'] = 5\n",
    "\n",
    "    #4= CropLands\n",
    "    df.loc[df['areakm2_cropCover']>0.2, 'Land_Use'] = 4\n",
    "\n",
    "    #3= Tree Croplands\n",
    "    df.loc[df['areakm2_treeCrop']>0.2, 'Land_Use'] = 3\n",
    "\n",
    "    #2= Timber plantations\n",
    "    df.loc[df['areakm2_plantation']>0.2, 'Land_Use'] = 2\n",
    "\n",
    "    #1= Urban\n",
    "    df.loc[(df['areakm2_urban']>0.2)|\n",
    "           (df['popDensity']>1000) , 'Land_Use'] = 1\n",
    "    return df\n",
    "    \n",
    "result = ExpertDT(df)\n",
    "print('The number of cells per landcover category')\n",
    "result['Land_Use'].value_counts()"
   ]
  },
  {
   "cell_type": "code",
   "execution_count": 57,
   "id": "2b80e25b-031c-4ad2-a05d-e779d368f0a1",
   "metadata": {},
   "outputs": [
    {
     "name": "stdout",
     "output_type": "stream",
     "text": [
      "fill in 150 missing field size values\n"
     ]
    }
   ],
   "source": [
    "# get rows with fieldsize, cropcover or treeCrop data-used for joining\n",
    "val_list = [3502, 3503, 3504, 3505, 3506]\n",
    "gdf1 = fieldSize.loc[fieldSize['fieldSize'].isin(val_list), ].reset_index(drop=True) #select all rows with valid field size data\n",
    "\n",
    "# select landcover 3 and 4 (tree crop and crop)\n",
    "dfs2 = result.loc[(result['Land_Use']==3)|(result['Land_Use']==4),['x', 'y', 'gid']].reset_index(drop=True)\n",
    "# Convert to gdf\n",
    "gdf2 = gpd.GeoDataFrame(dfs2.drop(['x', 'y'],axis=1), geometry = gpd.points_from_xy(dfs2.x, dfs2.y)).set_crs(wkt)\n",
    "\n",
    "print(f'fill in {gdf2.shape[0]} missing field size values')"
   ]
  },
  {
   "cell_type": "code",
   "execution_count": 32,
   "id": "6eb3df25-ac8f-4cb9-86c9-78c218706e11",
   "metadata": {},
   "outputs": [
    {
     "data": {
      "image/png": "[encoded data removed]",
      "text/plain": [
       "<Figure size 640x480 with 1 Axes>"
      ]
     },
     "metadata": {},
     "output_type": "display_data"
    }
   ],
   "source": [
    "# Check if datasets overlap (same projection\n",
    "ax = gdf2.to_crs(wkt).plot(color='white', edgecolor='black')\n",
    "\n",
    "# plot ``GeoDataFrame``.\n",
    "gdf1.to_crs(wkt).plot(ax=ax, color='red')\n",
    "plt.show()"
   ]
  },
  {
   "cell_type": "code",
   "execution_count": 33,
   "id": "def14264-a6f2-43f3-bb86-744dbc80b3af",
   "metadata": {
    "tags": []
   },
   "outputs": [
    {
     "data": {
      "application/vnd.jupyter.widget-view+json": {
       "model_id": "47e5eb16f1cf46bb97da55212f0ecce8",
       "version_major": 2,
       "version_minor": 0
      },
      "text/plain": [
       "  0%|          | 0/150 [00:00<?, ?it/s]"
      ]
     },
     "metadata": {},
     "output_type": "display_data"
    }
   ],
   "source": [
    "joinNearest = ckdnearest_fsz(gdf2, gdf1, k=5)\n",
    "df1 = pd.DataFrame(joinNearest[['gid', 'fieldSize2']])\n",
    "\n",
    "finaldf = pd.merge(result, df1, how= 'outer',on = 'gid')\n",
    "finaldf['fieldSize'] = finaldf['fieldSize2'].fillna(-1).astype('int')\n",
    "\n",
    "dfF = finaldf.drop('fieldSize2', axis=1).reset_index(drop=True)"
   ]
  },
  {
   "cell_type": "code",
   "execution_count": 34,
   "id": "c5da95cd-d0a8-416c-8c66-4816ef837f2b",
   "metadata": {},
   "outputs": [],
   "source": [
    "# Add scaled fieldSize\n",
    "dfF['scaled_fieldSize'] = -1\n",
    "dfF.loc[dfF['fieldSize'] == 3502, 'scaled_fieldSize'] = 1.0\n",
    "dfF.loc[dfF['fieldSize'] == 3503, 'scaled_fieldSize'] = 0.75\n",
    "dfF.loc[dfF['fieldSize'] == 3504, 'scaled_fieldSize'] = 0.50\n",
    "dfF.loc[dfF['fieldSize'] == 3505, 'scaled_fieldSize'] = 0.25\n",
    "dfF.loc[dfF['fieldSize'] == 3506, 'scaled_fieldSize'] = 0"
   ]
  },
  {
   "cell_type": "code",
   "execution_count": 36,
   "id": "68b2586f-5588-41e8-bfb8-9b1e8ffcc73e",
   "metadata": {
    "tags": []
   },
   "outputs": [
    {
     "name": "stdout",
     "output_type": "stream",
     "text": [
      "Nfer_kgha for Tree Croplands: 2.7621982794418094\n"
     ]
    },
    {
     "ename": "ValueError",
     "evalue": "Found array with 0 sample(s) (shape=(0, 1)) while a minimum of 1 is required by MinMaxScaler.",
     "output_type": "error",
     "traceback": [
      "\u001b[1;31m---------------------------------------------------------------------------\u001b[0m",
      "\u001b[1;31mValueError\u001b[0m                                Traceback (most recent call last)",
      "Cell \u001b[1;32mIn [36], line 16\u001b[0m\n\u001b[0;32m     13\u001b[0m \u001b[38;5;66;03m# apply min max scaling to all data less than 99th quantile.\u001b[39;00m\n\u001b[0;32m     14\u001b[0m scaler \u001b[38;5;241m=\u001b[39m MinMaxScaler()\n\u001b[0;32m     15\u001b[0m result\u001b[38;5;241m.\u001b[39mloc[(result[col]\u001b[38;5;241m<\u001b[39mqq99)\u001b[38;5;241m&\u001b[39m(result[\u001b[38;5;124m'\u001b[39m\u001b[38;5;124mLand_Use\u001b[39m\u001b[38;5;124m'\u001b[39m]\u001b[38;5;241m==\u001b[39m\u001b[38;5;241m3\u001b[39m), \u001b[38;5;124m'\u001b[39m\u001b[38;5;124mscaled_\u001b[39m\u001b[38;5;124m'\u001b[39m\u001b[38;5;241m+\u001b[39m col] \u001b[38;5;241m=\u001b[39m\\\n\u001b[1;32m---> 16\u001b[0m \u001b[43mscaler\u001b[49m\u001b[38;5;241;43m.\u001b[39;49m\u001b[43mfit_transform\u001b[49m\u001b[43m(\u001b[49m\u001b[43mpd\u001b[49m\u001b[38;5;241;43m.\u001b[39;49m\u001b[43mDataFrame\u001b[49m\u001b[43m(\u001b[49m\u001b[43mresult\u001b[49m\u001b[38;5;241;43m.\u001b[39;49m\u001b[43mloc\u001b[49m\u001b[43m[\u001b[49m\u001b[43m(\u001b[49m\u001b[43mresult\u001b[49m\u001b[43m[\u001b[49m\u001b[43mcol\u001b[49m\u001b[43m]\u001b[49m\u001b[38;5;241;43m<\u001b[39;49m\u001b[43mqq99\u001b[49m\u001b[43m)\u001b[49m\u001b[38;5;241;43m&\u001b[39;49m\u001b[43m(\u001b[49m\u001b[43mresult\u001b[49m\u001b[43m[\u001b[49m\u001b[38;5;124;43m'\u001b[39;49m\u001b[38;5;124;43mLand_Use\u001b[39;49m\u001b[38;5;124;43m'\u001b[39;49m\u001b[43m]\u001b[49m\u001b[38;5;241;43m==\u001b[39;49m\u001b[38;5;241;43m3\u001b[39;49m\u001b[43m)\u001b[49m\u001b[43m,\u001b[49m\u001b[43m \u001b[49m\u001b[43mcol\u001b[49m\u001b[43m]\u001b[49m\u001b[43m)\u001b[49m\u001b[43m)\u001b[49m\n\u001b[0;32m     17\u001b[0m \u001b[38;5;66;03m# for data greater than 99th percentile, equal to max value 1\u001b[39;00m\n\u001b[0;32m     18\u001b[0m result\u001b[38;5;241m.\u001b[39mloc[(result[col]\u001b[38;5;241m>\u001b[39m\u001b[38;5;241m=\u001b[39mqq99)\u001b[38;5;241m&\u001b[39m(result[\u001b[38;5;124m'\u001b[39m\u001b[38;5;124mLand_Use\u001b[39m\u001b[38;5;124m'\u001b[39m]\u001b[38;5;241m==\u001b[39m\u001b[38;5;241m3\u001b[39m), \u001b[38;5;124m'\u001b[39m\u001b[38;5;124mscaled_\u001b[39m\u001b[38;5;124m'\u001b[39m \u001b[38;5;241m+\u001b[39m col] \u001b[38;5;241m=\u001b[39m \u001b[38;5;241m1\u001b[39m\n",
      "File \u001b[1;32mC:\\WINDOWS\\System32\\erty\\lib\\site-packages\\sklearn\\utils\\_set_output.py:142\u001b[0m, in \u001b[0;36m_wrap_method_output.<locals>.wrapped\u001b[1;34m(self, X, *args, **kwargs)\u001b[0m\n\u001b[0;32m    140\u001b[0m \u001b[38;5;129m@wraps\u001b[39m(f)\n\u001b[0;32m    141\u001b[0m \u001b[38;5;28;01mdef\u001b[39;00m \u001b[38;5;21mwrapped\u001b[39m(\u001b[38;5;28mself\u001b[39m, X, \u001b[38;5;241m*\u001b[39margs, \u001b[38;5;241m*\u001b[39m\u001b[38;5;241m*\u001b[39mkwargs):\n\u001b[1;32m--> 142\u001b[0m     data_to_wrap \u001b[38;5;241m=\u001b[39m f(\u001b[38;5;28mself\u001b[39m, X, \u001b[38;5;241m*\u001b[39margs, \u001b[38;5;241m*\u001b[39m\u001b[38;5;241m*\u001b[39mkwargs)\n\u001b[0;32m    143\u001b[0m     \u001b[38;5;28;01mif\u001b[39;00m \u001b[38;5;28misinstance\u001b[39m(data_to_wrap, \u001b[38;5;28mtuple\u001b[39m):\n\u001b[0;32m    144\u001b[0m         \u001b[38;5;66;03m# only wrap the first output for cross decomposition\u001b[39;00m\n\u001b[0;32m    145\u001b[0m         \u001b[38;5;28;01mreturn\u001b[39;00m (\n\u001b[0;32m    146\u001b[0m             _wrap_data_with_container(method, data_to_wrap[\u001b[38;5;241m0\u001b[39m], X, \u001b[38;5;28mself\u001b[39m),\n\u001b[0;32m    147\u001b[0m             \u001b[38;5;241m*\u001b[39mdata_to_wrap[\u001b[38;5;241m1\u001b[39m:],\n\u001b[0;32m    148\u001b[0m         )\n",
      "File \u001b[1;32mC:\\WINDOWS\\System32\\erty\\lib\\site-packages\\sklearn\\base.py:859\u001b[0m, in \u001b[0;36mTransformerMixin.fit_transform\u001b[1;34m(self, X, y, **fit_params)\u001b[0m\n\u001b[0;32m    855\u001b[0m \u001b[38;5;66;03m# non-optimized default implementation; override when a better\u001b[39;00m\n\u001b[0;32m    856\u001b[0m \u001b[38;5;66;03m# method is possible for a given clustering algorithm\u001b[39;00m\n\u001b[0;32m    857\u001b[0m \u001b[38;5;28;01mif\u001b[39;00m y \u001b[38;5;129;01mis\u001b[39;00m \u001b[38;5;28;01mNone\u001b[39;00m:\n\u001b[0;32m    858\u001b[0m     \u001b[38;5;66;03m# fit method of arity 1 (unsupervised transformation)\u001b[39;00m\n\u001b[1;32m--> 859\u001b[0m     \u001b[38;5;28;01mreturn\u001b[39;00m \u001b[38;5;28mself\u001b[39m\u001b[38;5;241m.\u001b[39mfit(X, \u001b[38;5;241m*\u001b[39m\u001b[38;5;241m*\u001b[39mfit_params)\u001b[38;5;241m.\u001b[39mtransform(X)\n\u001b[0;32m    860\u001b[0m \u001b[38;5;28;01melse\u001b[39;00m:\n\u001b[0;32m    861\u001b[0m     \u001b[38;5;66;03m# fit method of arity 2 (supervised transformation)\u001b[39;00m\n\u001b[0;32m    862\u001b[0m     \u001b[38;5;28;01mreturn\u001b[39;00m \u001b[38;5;28mself\u001b[39m\u001b[38;5;241m.\u001b[39mfit(X, y, \u001b[38;5;241m*\u001b[39m\u001b[38;5;241m*\u001b[39mfit_params)\u001b[38;5;241m.\u001b[39mtransform(X)\n",
      "File \u001b[1;32mC:\\WINDOWS\\System32\\erty\\lib\\site-packages\\sklearn\\preprocessing\\_data.py:427\u001b[0m, in \u001b[0;36mMinMaxScaler.fit\u001b[1;34m(self, X, y)\u001b[0m\n\u001b[0;32m    425\u001b[0m \u001b[38;5;66;03m# Reset internal state before fitting\u001b[39;00m\n\u001b[0;32m    426\u001b[0m \u001b[38;5;28mself\u001b[39m\u001b[38;5;241m.\u001b[39m_reset()\n\u001b[1;32m--> 427\u001b[0m \u001b[38;5;28;01mreturn\u001b[39;00m \u001b[38;5;28;43mself\u001b[39;49m\u001b[38;5;241;43m.\u001b[39;49m\u001b[43mpartial_fit\u001b[49m\u001b[43m(\u001b[49m\u001b[43mX\u001b[49m\u001b[43m,\u001b[49m\u001b[43m \u001b[49m\u001b[43my\u001b[49m\u001b[43m)\u001b[49m\n",
      "File \u001b[1;32mC:\\WINDOWS\\System32\\erty\\lib\\site-packages\\sklearn\\preprocessing\\_data.py:466\u001b[0m, in \u001b[0;36mMinMaxScaler.partial_fit\u001b[1;34m(self, X, y)\u001b[0m\n\u001b[0;32m    460\u001b[0m     \u001b[38;5;28;01mraise\u001b[39;00m \u001b[38;5;167;01mTypeError\u001b[39;00m(\n\u001b[0;32m    461\u001b[0m         \u001b[38;5;124m\"\u001b[39m\u001b[38;5;124mMinMaxScaler does not support sparse input. \u001b[39m\u001b[38;5;124m\"\u001b[39m\n\u001b[0;32m    462\u001b[0m         \u001b[38;5;124m\"\u001b[39m\u001b[38;5;124mConsider using MaxAbsScaler instead.\u001b[39m\u001b[38;5;124m\"\u001b[39m\n\u001b[0;32m    463\u001b[0m     )\n\u001b[0;32m    465\u001b[0m first_pass \u001b[38;5;241m=\u001b[39m \u001b[38;5;129;01mnot\u001b[39;00m \u001b[38;5;28mhasattr\u001b[39m(\u001b[38;5;28mself\u001b[39m, \u001b[38;5;124m\"\u001b[39m\u001b[38;5;124mn_samples_seen_\u001b[39m\u001b[38;5;124m\"\u001b[39m)\n\u001b[1;32m--> 466\u001b[0m X \u001b[38;5;241m=\u001b[39m \u001b[38;5;28;43mself\u001b[39;49m\u001b[38;5;241;43m.\u001b[39;49m\u001b[43m_validate_data\u001b[49m\u001b[43m(\u001b[49m\n\u001b[0;32m    467\u001b[0m \u001b[43m    \u001b[49m\u001b[43mX\u001b[49m\u001b[43m,\u001b[49m\n\u001b[0;32m    468\u001b[0m \u001b[43m    \u001b[49m\u001b[43mreset\u001b[49m\u001b[38;5;241;43m=\u001b[39;49m\u001b[43mfirst_pass\u001b[49m\u001b[43m,\u001b[49m\n\u001b[0;32m    469\u001b[0m \u001b[43m    \u001b[49m\u001b[43mdtype\u001b[49m\u001b[38;5;241;43m=\u001b[39;49m\u001b[43mFLOAT_DTYPES\u001b[49m\u001b[43m,\u001b[49m\n\u001b[0;32m    470\u001b[0m \u001b[43m    \u001b[49m\u001b[43mforce_all_finite\u001b[49m\u001b[38;5;241;43m=\u001b[39;49m\u001b[38;5;124;43m\"\u001b[39;49m\u001b[38;5;124;43mallow-nan\u001b[39;49m\u001b[38;5;124;43m\"\u001b[39;49m\u001b[43m,\u001b[49m\n\u001b[0;32m    471\u001b[0m \u001b[43m\u001b[49m\u001b[43m)\u001b[49m\n\u001b[0;32m    473\u001b[0m data_min \u001b[38;5;241m=\u001b[39m np\u001b[38;5;241m.\u001b[39mnanmin(X, axis\u001b[38;5;241m=\u001b[39m\u001b[38;5;241m0\u001b[39m)\n\u001b[0;32m    474\u001b[0m data_max \u001b[38;5;241m=\u001b[39m np\u001b[38;5;241m.\u001b[39mnanmax(X, axis\u001b[38;5;241m=\u001b[39m\u001b[38;5;241m0\u001b[39m)\n",
      "File \u001b[1;32mC:\\WINDOWS\\System32\\erty\\lib\\site-packages\\sklearn\\base.py:546\u001b[0m, in \u001b[0;36mBaseEstimator._validate_data\u001b[1;34m(self, X, y, reset, validate_separately, **check_params)\u001b[0m\n\u001b[0;32m    544\u001b[0m     \u001b[38;5;28;01mraise\u001b[39;00m \u001b[38;5;167;01mValueError\u001b[39;00m(\u001b[38;5;124m\"\u001b[39m\u001b[38;5;124mValidation should be done on X, y or both.\u001b[39m\u001b[38;5;124m\"\u001b[39m)\n\u001b[0;32m    545\u001b[0m \u001b[38;5;28;01melif\u001b[39;00m \u001b[38;5;129;01mnot\u001b[39;00m no_val_X \u001b[38;5;129;01mand\u001b[39;00m no_val_y:\n\u001b[1;32m--> 546\u001b[0m     X \u001b[38;5;241m=\u001b[39m check_array(X, input_name\u001b[38;5;241m=\u001b[39m\u001b[38;5;124m\"\u001b[39m\u001b[38;5;124mX\u001b[39m\u001b[38;5;124m\"\u001b[39m, \u001b[38;5;241m*\u001b[39m\u001b[38;5;241m*\u001b[39mcheck_params)\n\u001b[0;32m    547\u001b[0m     out \u001b[38;5;241m=\u001b[39m X\n\u001b[0;32m    548\u001b[0m \u001b[38;5;28;01melif\u001b[39;00m no_val_X \u001b[38;5;129;01mand\u001b[39;00m \u001b[38;5;129;01mnot\u001b[39;00m no_val_y:\n",
      "File \u001b[1;32mC:\\WINDOWS\\System32\\erty\\lib\\site-packages\\sklearn\\utils\\validation.py:931\u001b[0m, in \u001b[0;36mcheck_array\u001b[1;34m(array, accept_sparse, accept_large_sparse, dtype, order, copy, force_all_finite, ensure_2d, allow_nd, ensure_min_samples, ensure_min_features, estimator, input_name)\u001b[0m\n\u001b[0;32m    929\u001b[0m     n_samples \u001b[38;5;241m=\u001b[39m _num_samples(array)\n\u001b[0;32m    930\u001b[0m     \u001b[38;5;28;01mif\u001b[39;00m n_samples \u001b[38;5;241m<\u001b[39m ensure_min_samples:\n\u001b[1;32m--> 931\u001b[0m         \u001b[38;5;28;01mraise\u001b[39;00m \u001b[38;5;167;01mValueError\u001b[39;00m(\n\u001b[0;32m    932\u001b[0m             \u001b[38;5;124m\"\u001b[39m\u001b[38;5;124mFound array with \u001b[39m\u001b[38;5;132;01m%d\u001b[39;00m\u001b[38;5;124m sample(s) (shape=\u001b[39m\u001b[38;5;132;01m%s\u001b[39;00m\u001b[38;5;124m) while a\u001b[39m\u001b[38;5;124m\"\u001b[39m\n\u001b[0;32m    933\u001b[0m             \u001b[38;5;124m\"\u001b[39m\u001b[38;5;124m minimum of \u001b[39m\u001b[38;5;132;01m%d\u001b[39;00m\u001b[38;5;124m is required\u001b[39m\u001b[38;5;132;01m%s\u001b[39;00m\u001b[38;5;124m.\u001b[39m\u001b[38;5;124m\"\u001b[39m\n\u001b[0;32m    934\u001b[0m             \u001b[38;5;241m%\u001b[39m (n_samples, array\u001b[38;5;241m.\u001b[39mshape, ensure_min_samples, context)\n\u001b[0;32m    935\u001b[0m         )\n\u001b[0;32m    937\u001b[0m \u001b[38;5;28;01mif\u001b[39;00m ensure_min_features \u001b[38;5;241m>\u001b[39m \u001b[38;5;241m0\u001b[39m \u001b[38;5;129;01mand\u001b[39;00m array\u001b[38;5;241m.\u001b[39mndim \u001b[38;5;241m==\u001b[39m \u001b[38;5;241m2\u001b[39m:\n\u001b[0;32m    938\u001b[0m     n_features \u001b[38;5;241m=\u001b[39m array\u001b[38;5;241m.\u001b[39mshape[\u001b[38;5;241m1\u001b[39m]\n",
      "\u001b[1;31mValueError\u001b[0m: Found array with 0 sample(s) (shape=(0, 1)) while a minimum of 1 is required by MinMaxScaler."
     ]
    }
   ],
   "source": [
    "# Scale variables\n",
    "colnames = ['Nfer_kgha', 'popDensity']\n",
    "\n",
    "result = dfF\n",
    "for col in colnames:\n",
    "    # create scaled variable\n",
    "    result['scaled_'+col] = 0\n",
    "    if (col=='Nfer_kgha')&(result.loc[(result['Land_Use']==3), col].shape[0]>0):\n",
    "#         For tree croplands\n",
    "        # get 99th percentile is equal to 0.99 quantile\n",
    "        qq99 = result.loc[(result['Land_Use']==3), col].quantile(0.99)\n",
    "        print(f\"{col} for Tree Croplands: {qq99}\")\n",
    "        # apply min max scaling to all data less than 99th quantile.\n",
    "        scaler = MinMaxScaler()\n",
    "        result.loc[(result[col]<qq99)&(result['Land_Use']==3), 'scaled_'+ col] =\\\n",
    "        scaler.fit_transform(pd.DataFrame(result.loc[(result[col]<qq99)&(result['Land_Use']==3), col]))\n",
    "        # for data greater than 99th percentile, equal to max value 1\n",
    "        result.loc[(result[col]>=qq99)&(result['Land_Use']==3), 'scaled_' + col] = 1\n",
    "    if (col=='Nfer_kgha')&(result.loc[(result['Land_Use']==4), col].shape[0]>0):\n",
    "#         for croplands\n",
    "        # get 99th percentile\n",
    "        qq99 = result.loc[(result['Land_Use']==4), col].quantile(0.99)\n",
    "        print(f\"{col} for CropCover: {qq99}\")\n",
    "        # apply min max scaling to all data less than 99th quantile.\n",
    "        scaler = MinMaxScaler()\n",
    "        result.loc[(result[col]<qq99)&(result['Land_Use']==4), 'scaled_'+ col] =\\\n",
    "        scaler.fit_transform(pd.DataFrame(result.loc[(result[col]<qq99)&(result['Land_Use']==4), col]))\n",
    "        # for data greater than 99th percentile, equal to max value 1\n",
    "        result.loc[(result[col]>=qq99)&(result['Land_Use']==4), 'scaled_' + col] = 1\n",
    "    if (col=='Nfer_kgha')&(result.loc[(result['Land_Use']==6), col].shape[0]>0):\n",
    "#         for rangelands\n",
    "        # get 99th percentile\n",
    "        qq99 = result.loc[(result['Land_Use']==6), col].quantile(0.99)\n",
    "        print(f\"{col} for Rangeland: {qq99}\")\n",
    "        # apply min max scaling to all data less than 99th quantile.\n",
    "        scaler = MinMaxScaler()\n",
    "        result.loc[(result[col]<qq99)&(result['Land_Use']==6), 'scaled_'+ col] =\\\n",
    "        scaler.fit_transform(pd.DataFrame(result.loc[(result[col]<qq99)&(result['Land_Use']==6), col]))\n",
    "        # for data greater than 99th percentile, equal to max value 1\n",
    "        result.loc[(result[col]>=qq99)&(result['Land_Use']==6), 'scaled_' + col] = 1\n",
    "        \n",
    "    if col=='popDensity':\n",
    "        # get 99th percentile\n",
    "        qq99 = result.loc[result['Land_Use']==1, col].quantile(0.99)\n",
    "        print(f\"{col} for urban areas: {qq99}\")\n",
    "        # apply min max scaling to all data less than 99th quantile.\n",
    "        scaler = MinMaxScaler()\n",
    "        result.loc[(result[col]<qq99)&(result['Land_Use']==1), 'scaled_'+ col] =\\\n",
    "        scaler.fit_transform(pd.DataFrame(result.loc[(result[col]<qq99)&(result['Land_Use']==1), col]))\n",
    "        # for data greater than 99th percentile, equal to max value 1\n",
    "        result.loc[(result[col]>=qq99)&(result['Land_Use']==1), 'scaled_' + col] = 1"
   ]
  },
  {
   "cell_type": "markdown",
   "id": "fca544e8-cf9a-4bec-a144-4431850d9d2e",
   "metadata": {},
   "source": [
    "## Land Use Intensity"
   ]
  },
  {
   "cell_type": "code",
   "execution_count": 58,
   "id": "16c195e1-79ef-4010-bb7e-f2090dc58d6a",
   "metadata": {},
   "outputs": [
    {
     "name": "stdout",
     "output_type": "stream",
     "text": [
      "Computing Intensity for Land Use 1 (urban area)\n",
      "Computing Intensity for Land Use 3 (tree_crop)\n",
      "Computing Intensity for Land Use 4 (crop cover)\n",
      "Computing Intensity for Land Use 6 (Rangelands)\n"
     ]
    }
   ],
   "source": [
    "result['intensity'] = -1\n",
    "result['scaled_intensity'] = -1\n",
    "\n",
    "#1= Urban\n",
    "# check if there are urban land use pixels\n",
    "if result.loc[(result['Land_Use']==1), 'intensity'].shape[0]>0:\n",
    "    print('Computing Intensity for Land Use 1 (urban area)')\n",
    "#     scale urban area between 0 and 1 (from 0.2 to 1)\n",
    "    scaler = MinMaxScaler()\n",
    "    result.loc[(result['Land_Use']==1), 'scaled_areakm2_urban'] = scaler.fit_transform(pd.DataFrame(result.loc[(result['Land_Use']==1)\\\n",
    "                                                                                                             , 'areakm2_urban']))\n",
    "#     assign intensity scores based on an equal weighting of scaled popDensity and scaled urban area\n",
    "    result.loc[(result['Land_Use']==1), 'intensity'] = (result['scaled_areakm2_urban']+\\\n",
    "                                                        result['scaled_popDensity'])/2\n",
    "#     scale raw intensity values between 0 and 1 within a land use\n",
    "    scaler = MinMaxScaler()\n",
    "    result.loc[(result['Land_Use']== 1), 'scaled_intensity'] = scaler.fit_transform(pd.DataFrame(result.loc[(result['Land_Use']==1)\\\n",
    "                                                                                                                   , 'intensity']))\n",
    "\n",
    "#3= Tree Croplands\n",
    "if result.loc[(result['Land_Use']==3), 'intensity'].shape[0]>0:\n",
    "    print('Computing Intensity for Land Use 3 (tree_crop)')\n",
    "    scaler = MinMaxScaler()\n",
    "    result.loc[(result['Land_Use']==3), 'scaled_areakm2_treeCrop'] = scaler.fit_transform(pd.DataFrame(result.loc[(result['Land_Use']==3)\\\n",
    "                                                                                                                  , 'areakm2_treeCrop']))\n",
    "    result.loc[(result['Land_Use']==3), 'intensity'] = (result['scaled_areakm2_treeCrop']+\\\n",
    "                                                        result['scaled_fieldSize']+\\\n",
    "                                                        result['scaled_Nfer_kgha']\\\n",
    "                                                       )/3\n",
    "    scaler = MinMaxScaler()\n",
    "    result.loc[(result['Land_Use']==3), 'scaled_intensity'] = scaler.fit_transform(pd.DataFrame(result.loc[(result['Land_Use']==3)\\\n",
    "                                                                                                                   , 'intensity']))\n",
    "\n",
    "#4 = Croplands\n",
    "if result.loc[(result['Land_Use']==4), 'intensity'].shape[0]>0:\n",
    "    print('Computing Intensity for Land Use 4 (crop cover)')\n",
    "    scaler = MinMaxScaler()\n",
    "    result.loc[(result['Land_Use']==4), 'scaled_areakm2_cropCover'] = scaler.fit_transform(pd.DataFrame(result.loc[(result['Land_Use']==4)\\\n",
    "                                                                                                                   , 'areakm2_cropCover']))\n",
    "    result.loc[(result['Land_Use']==4), 'intensity'] = (result['scaled_areakm2_cropCover']+\\\n",
    "                                                        result['scaled_fieldSize']+\\\n",
    "                                                        result['scaled_Nfer_kgha']\\\n",
    "                                                       )/3\n",
    "    scaler = MinMaxScaler()\n",
    "    result.loc[(result['Land_Use']==4), 'scaled_intensity'] = scaler.fit_transform(pd.DataFrame(result.loc[(result['Land_Use']==4)\\\n",
    "                                                                                                                   , 'intensity']))\n",
    "\n",
    "#6 = Rangelands/ Near-naturallands\n",
    "print('Computing Intensity for Land Use 6 (Rangelands)')\n",
    "if result.loc[(result['Land_Use']==6), 'intensity'].shape[0]>0:\n",
    "    result.loc[(result['Land_Use']==6), 'intensity'] = (result['scaled_livestockIntensity']+\\\n",
    "                                                        result['scaled_Nfer_kgha'])/2\n",
    "                                                                                                                   \n",
    "    scaler = MinMaxScaler()\n",
    "    result.loc[(result['Land_Use']==6), 'scaled_intensity'] = scaler.fit_transform(pd.DataFrame(result.loc[(result['Land_Use']==6)\\\n",
    "                                                                                                                   , 'intensity']))\n",
    "\n",
    "    \n",
    "# result = result.fillna(-1)"
   ]
  },
  {
   "cell_type": "code",
   "execution_count": 59,
   "id": "c4233847-b6bd-4e76-a2a7-ed3c159ffc45",
   "metadata": {},
   "outputs": [],
   "source": [
    "# Convert to geodataframe\n",
    "gdf = gpd.GeoDataFrame(result.drop(['x', 'y','combination_LS_intensity', 'areakm2_slowNutrArea','areakm2_sMedNutriArea', 'areakm2_sHighNutriArea'], axis = 1),\n",
    "                       geometry = gpd.points_from_xy(result.x, result.y), crs= wkt).to_crs(crs= 'EPSG:4326')"
   ]
  },
  {
   "cell_type": "code",
   "execution_count": 60,
   "id": "e58aefd4-3b5f-4295-897d-d05d6fc2c1f4",
   "metadata": {},
   "outputs": [],
   "source": [
    "# Define columns for renaming\n",
    "shp_cols = {'areakm2_urban':'km2_urban',\n",
    "            'areakm2_cropCover':'km2_cropCov',\n",
    "            'areakm2_protArea':'km2_protAr',\n",
    "            'km2_plntn':'areakm2_plantation',\n",
    "            'areakm2_treeCrop':'km2_trCrp',\n",
    "            'gid':'gid',\n",
    "            'mean_precip':'mean_precip',\n",
    "            'Nfer_kgha':'mean_Nfer',\n",
    "            'popDensity':'sum_popDen',\n",
    "            'sheepDensity':'sum_shpDen',\n",
    "            'goatDensity':'sum_gtDen',\n",
    "            'cattleDensity':'sum_ctlDen',\n",
    "            'maxN':'maxSNtrAr',\n",
    "            'areakm2_slowNutrArea2':'km2_sLwNtr',\n",
    "            'areakm2_sMedNutriArea2':'km2_sMdNtr',\n",
    "            'areakm2_sHighNutriArea2':'km2_sHgNtr',\n",
    "            'precipDiscrete':'precipDisc',\n",
    "            'maxNutr':'maxSNtrCat',\n",
    "            'lsIntensityCat':'LSIntenCat',\n",
    "            'lsSum':'LSSum',\n",
    "            'scaled_livestockIntensity':'LSIntenScd',\n",
    "            'Land_Use':'Land_Use',\n",
    "            'fieldSize':'fieldSize',\n",
    "            'scaled_fieldSize':'fieldSzScd',\n",
    "            'scaled_Nfer_kgha':'NferScd',\n",
    "            'scaled_popDensity':'popDenScd',\n",
    "            'intensity':'Intensity',\n",
    "            'scaled_intensity':'SdItensity',\n",
    "            'scaled_areakm2_urban':'km2_ubn_sd',\n",
    "            'scaled_areakm2_treeCrop':'km2_trCrpS',\n",
    "            'scaled_areakm2_cropCover':'km2_crpCvS',\n",
    "            'geometry':'geometry'}"
   ]
  },
  {
   "cell_type": "code",
   "execution_count": 61,
   "id": "f2217c92-787d-46d7-9038-e0ee7e80da37",
   "metadata": {},
   "outputs": [
    {
     "data": {
      "text/plain": [
       "Index(['km2_urban', 'km2_cropCov', 'km2_protAr', 'areakm2_plantation',\n",
       "       'km2_trCrp', 'gid', 'mean_precip', 'mean_Nfer', 'sum_popDen',\n",
       "       'sum_shpDen', 'sum_gtDen', 'sum_ctlDen', 'maxSNtrAr', 'km2_sLwNtr',\n",
       "       'km2_sMdNtr', 'km2_sHgNtr', 'precipDisc', 'maxSNtrCat', 'LSIntenCat',\n",
       "       'LSSum', 'LSIntenScd', 'Land_Use', 'fieldSize', 'fieldSzScd', 'NferScd',\n",
       "       'popDenScd', 'Intensity', 'SdItensity', 'km2_ubn_sd', 'km2_trCrpS',\n",
       "       'km2_crpCvS', 'geometry'],\n",
       "      dtype='object')"
      ]
     },
     "execution_count": 61,
     "metadata": {},
     "output_type": "execute_result"
    }
   ],
   "source": [
    "# Rename columns\n",
    "gdf.rename(columns=shp_cols, inplace = True)\n",
    "gdf.columns"
   ]
  },
  {
   "cell_type": "code",
   "execution_count": 62,
   "id": "2746cd94-ec9e-48df-b463-58608ee4ae29",
   "metadata": {},
   "outputs": [],
   "source": [
    "# Set data types\n",
    "gdf.loc[:,'precipDisc'] = gdf.loc[:,'precipDisc'].astype('int')\n",
    "gdf.loc[:,'maxSNtrCat'] = gdf.loc[:,'maxSNtrCat'].astype('string')"
   ]
  },
  {
   "cell_type": "code",
   "execution_count": 33,
   "id": "98a15c7c-f928-47cf-b2d6-819be022480f",
   "metadata": {},
   "outputs": [
    {
     "name": "stdout",
     "output_type": "stream",
     "text": [
      "C:\\Users\\coach\\myfiles\\miscellenous\\hayley\\outputs\\Angola\n"
     ]
    }
   ],
   "source": [
    "# Export as shapefile\n",
    "print(os.getcwd())\n",
    "outfile = f\"{country}_8km_{date}.shp\"\n",
    "gdf.to_file(outfile)"
   ]
  },
  {
   "cell_type": "code",
   "execution_count": 63,
   "id": "4590b8e4-2b5d-48b0-a2c6-c61b56e743d9",
   "metadata": {},
   "outputs": [],
   "source": [
    "# Export to tif\n",
    "input_vector = f\"{country}_8km_{date}.shp\"\n",
    "output_raster = f\"{country}_8km_{date}.tif\"\n",
    "x_resolution = 0.08\n",
    "y_resolution = 0.08\n",
    "attribute_name1 = \"Land_Use\"\n",
    "attribute_name2 = \"SdItensity\"\n",
    "no_data_value = 0\n",
    "data_type = gdal.GDT_Float32\n",
    "format = \"GTiff\"\n",
    "xmin, ymin, xmax, ymax = gdf.total_bounds\n",
    "\n",
    "# Open the input vector\n",
    "ds = gdal.OpenEx(input_vector)\n",
    "layer = ds.GetLayer()\n",
    "\n",
    "# Create the output raster\n",
    "driver = gdal.GetDriverByName(format)\n",
    "raster_ds = driver.Create(output_raster, int((xmax - xmin) / x_resolution),\n",
    "                          int((ymax - ymin) / y_resolution), 2, data_type)\n",
    "raster_ds.SetGeoTransform((xmin, x_resolution, 0, ymax, 0, -y_resolution))\n",
    "\n",
    "gdal.RasterizeLayer(raster_ds, [1], layer, options=[f\"ATTRIBUTE={attribute_name1}\"])\n",
    "gdal.RasterizeLayer(raster_ds, [2], layer, options=[f\"ATTRIBUTE={attribute_name2}\"])\n",
    "\n",
    "band1 = raster_ds.GetRasterBand(1)\n",
    "band1.SetNoDataValue(no_data_value)\n",
    "band1.SetDescription(\"Land Use\")\n",
    "\n",
    "band2 = raster_ds.GetRasterBand(2)\n",
    "band2.SetNoDataValue(no_data_value)\n",
    "band2.SetDescription(\"Intensity (scaled)\")\n",
    "\n",
    "raster_ds = None  # Close the file"
   ]
  }
 ],
 "metadata": {
  "kernelspec": {
   "display_name": "erty",
   "language": "python",
   "name": "erty"
  },
  "language_info": {
   "codemirror_mode": {
    "name": "ipython",
    "version": 3
   },
   "file_extension": ".py",
   "mimetype": "text/x-python",
   "name": "python",
   "nbconvert_exporter": "python",
   "pygments_lexer": "ipython3",
   "version": "3.9.12"
  },
  "toc-autonumbering": false,
  "toc-showcode": false
 },
 "nbformat": 4,
 "nbformat_minor": 5
}
