{
 "cells": [
  {
   "cell_type": "markdown",
   "id": "4eee31b3-4e0b-45c5-bfe6-62e73b3da1db",
   "metadata": {},
   "source": [
    "# BII project land use and intensity\n",
    "This notebook contains the code for extracting, pre-processing, and applying the expert decsion tree and computing the intensity values of six categories of land use at a 1x1 km spatial resolution. \n",
    "\n",
    "Output: A shapefile with a point for every 1x1 km cell within a country.\n",
    "\n",
    "### High-level steps\n",
    "1. sub saharan african countries are identified (filtered)\n",
    "2. A grid is created for the country of interest (specified by user)\n",
    "3. All variables (Refer to list of variables.docx) required are extracted from Google Earth Engine at the aggregated 1km scale\n",
    "4. Datasets are combined and pre-processed. Includes, filling in missing data, scaling data and correcting data types.\n",
    "5. The expert decision tree is applied that outputs a land use for every point\n",
    "6. Data is scaled and the intensity scores are computed"
   ]
  },
  {
   "cell_type": "markdown",
   "id": "fa07fcc9-b983-4c60-a3ad-040b7516bfe8",
   "metadata": {},
   "source": [
    "## Setup"
   ]
  },
  {
   "cell_type": "code",
   "execution_count": 1,
   "id": "b9017466-c447-4665-aec6-f760ce96787d",
   "metadata": {
    "tags": []
   },
   "outputs": [],
   "source": [
    "import os\n",
    "from datetime import datetime\n",
    "\n",
    "import ee\n",
    "# ee.Authenticate()\n",
    "ee.Initialize(opt_url='https://earthengine-highvolume.googleapis.com')\n",
    "import geemap, eerepr\n",
    "from tqdm.auto import tqdm\n",
    "from geeml.utils import createGrid, getCountry, eeprint\n",
    "from geeml.extract import extractor"
   ]
  },
  {
   "cell_type": "code",
   "execution_count": 2,
   "id": "29d76aa5-fcf6-460b-8f6d-fd70f2a70ecd",
   "metadata": {},
   "outputs": [],
   "source": [
    "# get sub-saharan countries\n",
    "# https://code.earthengine.google.com/443ea31edb2f25f58a3346e7dc8c1064\n",
    "countries = ee.FeatureCollection(\"USDOS/LSIB/2017\")\n",
    "c2 = ee.FeatureCollection(\"USDOS/LSIB_SIMPLE/2017\")\n",
    "\n",
    "africa = c2.filter(ee.Filter.eq('wld_rgn', 'Africa'))\n",
    "sub = countries.filterBounds(africa).aggregate_array('COUNTRY_NA')\\\n",
    ".removeAll(['Algeria', 'Egypt', 'Libya', 'Morocco', 'Tunisia', 'Mayotte (Fr)', 'Spain [Canary Is]', 'Spain [Plazas de Soberania]', 'Portugal [Madeira Is]'])\n",
    "\n",
    "sub_africa = countries.filter(ee.Filter.inList('COUNTRY_NA', sub))"
   ]
  },
  {
   "cell_type": "code",
   "execution_count": 3,
   "id": "03b38e21-0808-434a-a722-9fba7702d56e",
   "metadata": {
    "tags": []
   },
   "outputs": [
    {
     "name": "stdout",
     "output_type": "stream",
     "text": [
      "dict_keys(['Benin', 'Niger', 'Nigeria', 'Djibouti', 'Equatorial Guinea', 'Eritrea', 'Ethiopia', 'Gabon', 'Gambia, The', 'Mozambique', 'Namibia', 'Gaza Strip (disp)', 'Ghana', 'Guinea', 'Guinea-Bissau', 'Kenya', 'Sierra Leone', 'Koualou (disp)', 'Lesotho', 'Liberia', 'Madagascar', 'Malawi', 'Mali', 'Mauritania', 'Rwanda', 'Sao Tome & Principe', 'Senegal', 'Somalia', 'South Sudan', 'Sudan', 'Swaziland', 'Tanzania', 'Togo', 'Uganda', 'Western Sahara (disp)', 'Zambia', 'Zimbabwe', 'Israel', 'Abyei (disp)', 'Angola', 'Botswana', 'Comoros', 'Congo, Dem Rep of the', 'Congo, Rep of the', 'Burkina Faso', 'Burundi', 'Cabo Verde', 'Cameroon', \"Cote d'Ivoire\", 'Central African Rep', 'Chad', 'South Africa'])\n"
     ]
    }
   ],
   "source": [
    "country_list = sub_africa.aggregate_array('COUNTRY_NA').getInfo()\n",
    "\n",
    "dd = r\"C:\\Users\\coach\\myfiles\\miscellenous\\hayley\\outputs\"\n",
    "\n",
    "config = {}\n",
    "for country in country_list:\n",
    "    csavepath = f\"{dd}/{country}\"\n",
    "    caoi = sub_africa.filter(ee.Filter.eq('COUNTRY_NA', country))\n",
    "    config[country] = {'dd':csavepath,\n",
    "                       'aoi':caoi}\n",
    "print(config.keys())"
   ]
  },
  {
   "cell_type": "code",
   "execution_count": 4,
   "id": "8d9e8e9b-d870-4858-aff0-dd56ee9faa05",
   "metadata": {},
   "outputs": [
    {
     "name": "stdout",
     "output_type": "stream",
     "text": [
      "C:\\Users\\coach\\myfiles\\miscellenous\\hayley\\outputs\\South Africa\n"
     ]
    }
   ],
   "source": [
    "country = 'South Africa'\n",
    "\n",
    "# Get current date- used for saving files\n",
    "date = datetime.today().strftime('%d%m%Y')\n",
    "\n",
    "aoi = config.get(country).get('aoi')\n",
    "\n",
    "# Set path for saving data\n",
    "dd = config.get(country).get('dd')\n",
    "if not os.path.exists(dd):\n",
    "    os.makedirs(dd)\n",
    "    os.chdir(dd)\n",
    "else:\n",
    "    os.chdir(dd)\n",
    "    \n",
    "print(os.getcwd())"
   ]
  },
  {
   "cell_type": "code",
   "execution_count": 5,
   "id": "621da6c3-4cf9-41cc-9c6d-03440a2abe1f",
   "metadata": {
    "tags": []
   },
   "outputs": [
    {
     "data": {
      "application/vnd.jupyter.widget-view+json": {
       "model_id": "e418f96dbf614fa48682fefbf5c9fc0c",
       "version_major": 2,
       "version_minor": 0
      },
      "text/plain": [
       "Map(center=[-28.97574975972159, 25.201998135703736], controls=(WidgetControl(options=['position', 'transparent…"
      ]
     },
     "metadata": {},
     "output_type": "display_data"
    }
   ],
   "source": [
    "# Sanity check that the correct country is selected\n",
    "Map = geemap.Map()\n",
    "Map.centerObject(aoi, 3)\n",
    "Map.addLayer(aoi)\n",
    "Map"
   ]
  },
  {
   "cell_type": "markdown",
   "id": "1e02a099-a364-4192-8dac-bd1cdc1a2f4f",
   "metadata": {},
   "source": [
    "## Data extraction"
   ]
  },
  {
   "cell_type": "code",
   "execution_count": 6,
   "id": "81bca092-163d-4696-8493-3599b384552e",
   "metadata": {},
   "outputs": [],
   "source": [
    "# Define projection\n",
    "wkt = '\\\n",
    "PROJCS[\"Africa_Albers_Equal_Area_Conic\",\\\n",
    "    GEOGCS[\"GCS_WGS_1984\",\\\n",
    "    DATUM[\"WGS_1984\",\\\n",
    "    SPHEROID[\"WGS_1984\",6378137,298.257223563]],\\\n",
    "    PRIMEM[\"Greenwich\",0],\\\n",
    "    UNIT[\"Degree\",0.017453292519943295]],\\\n",
    "    PROJECTION[\"Albers_Conic_Equal_Area\"],\\\n",
    "    PARAMETER[\"False_Easting\",0],\\\n",
    "    PARAMETER[\"False_Northing\",0],\\\n",
    "    PARAMETER[\"longitude_of_center\",25],\\\n",
    "    PARAMETER[\"Standard_Parallel_1\",20],\\\n",
    "    PARAMETER[\"Standard_Parallel_2\",-23],\\\n",
    "    PARAMETER[\"latitude_of_center\",0],\\\n",
    "    UNIT[\"Meter\",1],\\\n",
    "    AUTHORITY[\"EPSG\",\"102022\"]]'\n",
    "\n",
    "# ALbers equal area for africa\n",
    "epsg_102022 = ee.Projection(wkt)\n",
    "\n",
    "grid1km, _ = createGrid(1000, aoi, crs = epsg_102022)\n",
    "grid8km, _ = createGrid(8000, aoi, crs = epsg_102022)\n",
    "grid1kmr, _ = createGrid(1000, aoi, vect= False, crs = epsg_102022)\n",
    "# Create a 8km raster with unique id\n",
    "grid8kmr, _ = createGrid(8000, aoi, vect = False, crs = epsg_102022)"
   ]
  },
  {
   "cell_type": "code",
   "execution_count": 7,
   "id": "f05b6d60-8df4-4a9f-9560-b83ba0cb1632",
   "metadata": {},
   "outputs": [],
   "source": [
    "# Urban cover (10m>>1km) 2019\n",
    "area = ee.Image.pixelArea().divide(1e6).clip(aoi.geometry().buffer(5000))\n",
    "urban_cover = ee.ImageCollection(\"projects/sat-io/open-datasets/WSF/WSF_2019\").filterBounds(aoi)\\\n",
    ".mosaic().eq(255).unmask(0)\n",
    "urbanAreaImage = area.multiply(urban_cover).rename('areakm2_urban')\n",
    "\n",
    "# Crop cover (30 m)\n",
    "crop_cover = ee.ImageCollection(\"users/potapovpeter/Global_cropland_2019\").filterBounds(aoi).mosaic()\n",
    "cropAreaImage = area.multiply(crop_cover).rename('areakm2_cropCover')\n",
    "\n",
    "# Protected area\n",
    "prot_areas = ee.FeatureCollection(\"projects/ee-geethensingh/assets/WDPA_Africa_strict\").filterBounds(aoi)\n",
    "protectedAreaImage = area.clipToCollection(prot_areas).unmask(0).rename('areakm2_protArea')    \n",
    "\n",
    "# Plantation and tree crop\n",
    "result = ee.ImageCollection(\"users/liuzhujun/SDPT_NEW\").mosaic()\n",
    "plantag = ee.Image(\"users/duzhenrong/SDPT/sdpt_plantag\")\n",
    "china_plantyear = ee.ImageCollection(\"users/liuzhujun/SDPT_China\").mosaic().rename('plantyear')\n",
    "DescalesOP = ee.ImageCollection(\"users/liuzhujun/Descales\").mosaic()\n",
    "op = DescalesOP.updateMask(DescalesOP.gt(1980)).rename('plantyear')\n",
    "sdpt_name = ee.Image(\"users/duzhenrong/SDPT/sdpt_name\")\n",
    "\n",
    "china_plantyear=china_plantyear.updateMask(china_plantyear.gt(1980))\n",
    "result=result.rename('plantyear').updateMask((sdpt_name.lt(120).And(sdpt_name.gt(0))).Or(sdpt_name.gt(129))).toInt32()\n",
    "\n",
    "plantationForest=ee.ImageCollection([result.updateMask(plantag.eq(1)),china_plantyear]).mosaic().gt(0).unmask(0) \n",
    "plantationAreaImage = area.updateMask(plantationForest).rename('areakm2_plantation')\n",
    "treeCrop=result.multiply(plantag.eq(2))\n",
    "treeCrop =ee.ImageCollection([treeCrop,op]).mosaic().gt(0)  \n",
    "treeCropAreaImage = area.multiply(treeCrop).rename('areakm2_treeCrop')\n",
    "\n",
    "#Soil nutrients\n",
    "Soil_Lownutrient = ee.FeatureCollection(\"projects/ee-geethensingh/assets/Bell_1982_nutrient_map\")\\\n",
    ".filter(ee.Filter.eq('Nut_status', 'Low'))\n",
    "Soil_Mednutrient = ee.FeatureCollection(\"projects/ee-geethensingh/assets/Bell_1982_nutrient_map\")\\\n",
    ".filter(ee.Filter.eq('Nut_status', 'Medium'))\n",
    "Soil_Highnutrient = ee.FeatureCollection(\"projects/ee-geethensingh/assets/Bell_1982_nutrient_map\")\\\n",
    ".filter(ee.Filter.eq('Nut_status', 'High'))\n",
    "\n",
    "soilLowNutrientAreaImage = area.clipToCollection(Soil_Lownutrient).unmask(0).rename('areakm2_slowNutrArea')\n",
    "soilMedNutrientAreaImage = area.clipToCollection(Soil_Mednutrient).unmask(0).rename('areakm2_sMedNutriArea')\n",
    "soilHighNutrientAreaImage = area.clipToCollection(Soil_Highnutrient).unmask(0).rename('areakm2_sHighNutriArea')\n",
    "\n",
    "# Population Density\n",
    "popDensity = ee.ImageCollection(\"CIESIN/GPWv411/GPW_UNWPP-Adjusted_Population_Density\")\\\n",
    ".select('unwpp-adjusted_population_density').filterBounds(aoi).mosaic().rename('popDensity').unmask(0)\n",
    "                                       \n",
    "# Grazing Intensity\n",
    "area = ee.Image('projects/ee-geethensingh/assets/GrazingDensity/GI_8_Areakm').unmask(0)\n",
    "cattleDensity = ee.Image('projects/ee-geethensingh/assets/GrazingDensity/5_Ct_2010_Da').divide(area).rename('cattleDensity').unmask(0)\n",
    "sheepDensity = ee.Image('projects/ee-geethensingh/assets/GrazingDensity/5_Sh_2010_Da').divide(area).rename('sheepDensity').unmask(0)\n",
    "goatDensity = ee.Image('projects/ee-geethensingh/assets/GrazingDensity/5_Gt_2010_Da').divide(area).rename('goatDensity').unmask(0)\n",
    "\n",
    "# Precipitation\n",
    "years = list(range(1991,2021))\n",
    "precipitation = ee.ImageCollection(\"UCSB-CHG/CHIRPS/DAILY\").filterBounds(aoi)  \n",
    "precipitation = ee.Image(ee.ImageCollection(ee.List(years).map(lambda year: precipitation\\\n",
    ".filterDate(ee.Number(year).format(), ee.Number(year).add(1).format()).sum())).mean().rename('mm_precipitation')).unmask(0)\n",
    "\n",
    "# Nitrogen input\n",
    "proj = ee.Projection('EPSG:4326').scale(0.25,0.25)\n",
    "grid = aoi.geometry().coveringGrid(proj)\n",
    "\n",
    "nInput = ee.FeatureCollection(\"projects/ee-geethensingh/assets/Nfur_15arcmins_transformed\").filterBounds(aoi)\\\n",
    ".map(lambda x: x.set(\"Nfer_type\",ee.Algorithms.ObjectType(x.get(\"Nfer_kgha_\"))))\n",
    "nInputStr = nInput.filter(ee.Filter.eq('Nfer_type', 'String')).map(lambda x: x.set(\"Nfer_kgha_\",ee.Number.parse(x.get(\"Nfer_kgha_\")).toFloat()))\n",
    "nInputNumber = nInput.filter(ee.Filter.neq('Nfer_type', 'String')).map(lambda x: x.set(\"Nfer_kgha_\",ee.Number(x.get(\"Nfer_kgha_\")).toFloat()))\n",
    "\n",
    "nInput = nInputStr.merge(nInputNumber)\n",
    "\n",
    "def pointToGrid(ft):\n",
    "    feat = ee.Feature(ft);\n",
    "    first = nInput.filterBounds(feat.geometry()).aggregate_first('Nfer_kgha_');\n",
    "    return feat.set('Nfer_kgha_', first);\n",
    "\n",
    "nInput = grid.filterBounds(nInput).map(pointToGrid)\\\n",
    ".reduceToImage(**{'properties': ee.List([\"Nfer_kgha_\"]), 'reducer': ee.Reducer.first()})\\\n",
    ".rename('Nfer_kgha').unmask(0)\n",
    "\n",
    "# FieldSize\n",
    "fieldSize = ee.FeatureCollection(\"projects/ee-geethensingh/assets/dominant_field_sizes\").filterBounds(aoi)\\\n",
    ".filter(ee.Filter.neq('field_size', 'NA')).map(lambda x: x.set(\"field_size_\",ee.Number.parse(x.get(\"field_size\"))))\n",
    "\n",
    "def maxSize(ft):\n",
    "    feat = ee.Feature(ft);\n",
    "    max_ = fieldSize.filterBounds(feat.geometry()).aggregate_max('field_size_');\n",
    "    return feat.set('max_fieldSize', max_);\n",
    "\n",
    "fieldSize = grid1km.filterBounds(fieldSize).map(maxSize).reduceToImage(**{\n",
    "  'properties': ['max_fieldSize'],\n",
    "  'reducer': ee.Reducer.first()\n",
    "}).rename('fieldSize');"
   ]
  },
  {
   "cell_type": "code",
   "execution_count": 13,
   "id": "ab554c31-eb9b-4032-9023-6e62cb07ae59",
   "metadata": {},
   "outputs": [
    {
     "data": {
      "application/vnd.jupyter.widget-view+json": {
       "model_id": "03024f8216a94cdda61761626b84d283",
       "version_major": 2,
       "version_minor": 0
      },
      "text/plain": [
       "sum_8km.csv: |                                                                         | [  0.0%] in 00:00 (et…"
      ]
     },
     "metadata": {},
     "output_type": "display_data"
    }
   ],
   "source": [
    "# Get current date- used for saving files\n",
    "date = datetime.today().strftime('%d%m%Y')\n",
    "\n",
    "# # Extract data\n",
    "sumCovariates = urbanAreaImage.addBands([cropAreaImage, protectedAreaImage, soilLowNutrientAreaImage,\\\n",
    "                                    soilMedNutrientAreaImage, soilHighNutrientAreaImage,\\\n",
    "                                    plantationAreaImage, treeCropAreaImage])\n",
    "\n",
    "# Extract 30m datatsets for 1km grid using sum reducer\n",
    "extractor(sumCovariates, aoi.geometry(), scale = 30, dd = dd, target = grid8km, crs = epsg_102022, num_threads = 25)\\\n",
    ".extractByGrid(reduce = True, reducer = ee.Reducer.sum(), gridSize = 100000, batchSize = 4500, filename = 'sum_8km.csv')\n",
    "\n",
    "fieldSize = ee.Image.pixelCoordinates(epsg_102022).addBands([fieldSize, grid1kmr.rename('id1km'), grid8kmr.rename('id8km')])\n",
    "\n",
    "# extract field size and unique id's at 1km scale using 1km grid using first reducer\n",
    "dd = os.getcwd()\n",
    "\n",
    "# extract field size and unique id's at 1km scale for 8km grid using first reducer\n",
    "extractor(fieldSize, aoi.geometry(), scale = 1000, dd = dd, target = grid8km, crs = epsg_102022, num_threads = 25)\\\n",
    ".extractByGrid(reduce = True, reducer = ee.Reducer.first(), gridSize = 100000, batchSize = 4500, filename = 'fieldSize_8km.csv')\n",
    "\n",
    "# Extract precipitation and nitrogen Input\n",
    "meanCovariates = precipitation.addBands([nInput, popDensity,\\\n",
    "                                        sheepDensity, goatDensity,cattleDensity])\n",
    "\n",
    "extractor(meanCovariates, aoi.geometry(), scale = 1000, dd = dd, target = grid8km, crs = epsg_102022, num_threads = 25)\\\n",
    ".extractByGrid(reduce = True, reducer = ee.Reducer.mean(), gridSize = 100000, batchSize = 4500, filename = 'mean_8km.csv')"
   ]
  },
  {
   "cell_type": "markdown",
   "id": "70aa0733-c996-443f-95c3-dcd20097fbb2",
   "metadata": {},
   "source": [
    "## Prepare data\n",
    "## 8km"
   ]
  },
  {
   "cell_type": "code",
   "execution_count": 8,
   "id": "d7d15109-ae9e-4780-b831-142d8c4b0618",
   "metadata": {},
   "outputs": [],
   "source": [
    "# For grid cells with crop_cover and no data, assign field size of nearest cell.\n",
    "import math\n",
    "import os\n",
    "\n",
    "import pandas as pd\n",
    "import geopandas as gpd\n",
    "import matplotlib.pyplot as plt\n",
    "import numpy as np\n",
    "from sklearn.preprocessing import MinMaxScaler, RobustScaler\n",
    "from tqdm.auto import tqdm\n",
    "\n",
    "from scipy.spatial import cKDTree\n",
    "from shapely.geometry import Point"
   ]
  },
  {
   "cell_type": "code",
   "execution_count": 9,
   "id": "1e4a3273-6416-4221-ba61-1194b0206cab",
   "metadata": {},
   "outputs": [],
   "source": [
    "def ckdnearest(gdA, gdB):\n",
    "\n",
    "    nA = np.array(list(gdA.geometry.apply(lambda x: (x.x, x.y))))\n",
    "    nB = np.array(list(gdB.geometry.apply(lambda x: (x.x, x.y))))\n",
    "    btree = cKDTree(nB)\n",
    "    dist, idx = btree.query(nA, k=1)\n",
    "    gdB_nearest = gdB.iloc[idx].drop(columns=\"geometry\").reset_index(drop=True)\n",
    "    gdf = pd.concat(\n",
    "        [\n",
    "            gdA.reset_index(drop=True),\n",
    "            gdB_nearest,\n",
    "            pd.Series(dist, name='dist')\n",
    "        ], \n",
    "        axis=1)\n",
    "\n",
    "    return gdf"
   ]
  },
  {
   "cell_type": "code",
   "execution_count": 2,
   "id": "2ef8a80d-3d3b-45c9-8345-70d1a8e77b1a",
   "metadata": {},
   "outputs": [
    {
     "ename": "NameError",
     "evalue": "name 'pd' is not defined",
     "output_type": "error",
     "traceback": [
      "\u001b[1;31m---------------------------------------------------------------------------\u001b[0m",
      "\u001b[1;31mNameError\u001b[0m                                 Traceback (most recent call last)",
      "Cell \u001b[1;32mIn [2], line 2\u001b[0m\n\u001b[0;32m      1\u001b[0m \u001b[38;5;66;03m# #Field Size data\u001b[39;00m\n\u001b[1;32m----> 2\u001b[0m df \u001b[38;5;241m=\u001b[39m \u001b[43mpd\u001b[49m\u001b[38;5;241m.\u001b[39mread_csv(\u001b[38;5;124mr\u001b[39m\u001b[38;5;124m\"\u001b[39m\u001b[38;5;124mfieldSize_8km.csv\u001b[39m\u001b[38;5;124m\"\u001b[39m, low_memory\u001b[38;5;241m=\u001b[39m\u001b[38;5;28;01mFalse\u001b[39;00m, header \u001b[38;5;241m=\u001b[39m \u001b[38;5;28;01mNone\u001b[39;00m, index_col \u001b[38;5;241m=\u001b[39m \u001b[38;5;28;01mFalse\u001b[39;00m, skiprows\u001b[38;5;241m=\u001b[39m\u001b[38;5;241m1\u001b[39m)\n\u001b[0;32m      3\u001b[0m df\u001b[38;5;241m.\u001b[39mcolumns \u001b[38;5;241m=\u001b[39m [\u001b[38;5;124m'\u001b[39m\u001b[38;5;124mx\u001b[39m\u001b[38;5;124m'\u001b[39m, \u001b[38;5;124m'\u001b[39m\u001b[38;5;124my\u001b[39m\u001b[38;5;124m'\u001b[39m, \u001b[38;5;124m'\u001b[39m\u001b[38;5;124mfieldSize\u001b[39m\u001b[38;5;124m'\u001b[39m, \u001b[38;5;124m'\u001b[39m\u001b[38;5;124mid1km\u001b[39m\u001b[38;5;124m'\u001b[39m, \u001b[38;5;124m'\u001b[39m\u001b[38;5;124mid8km\u001b[39m\u001b[38;5;124m'\u001b[39m, \u001b[38;5;124m'\u001b[39m\u001b[38;5;124mgid\u001b[39m\u001b[38;5;124m'\u001b[39m]\n",
      "\u001b[1;31mNameError\u001b[0m: name 'pd' is not defined"
     ]
    }
   ],
   "source": [
    "# #Field Size data\n",
    "df = pd.read_csv(r\"fieldSize_8km.csv\", low_memory=False, header = None, index_col = False, skiprows=1)\n",
    "df.columns = ['x', 'y', 'fieldSize', 'id1km', 'id8km', 'gid']"
   ]
  },
  {
   "cell_type": "code",
   "execution_count": 3,
   "id": "be40b258-93b1-4223-b8e8-804bbdf1a37a",
   "metadata": {},
   "outputs": [
    {
     "ename": "NameError",
     "evalue": "name 'pd' is not defined",
     "output_type": "error",
     "traceback": [
      "\u001b[1;31m---------------------------------------------------------------------------\u001b[0m",
      "\u001b[1;31mNameError\u001b[0m                                 Traceback (most recent call last)",
      "Cell \u001b[1;32mIn [3], line 1\u001b[0m\n\u001b[1;32m----> 1\u001b[0m df1 \u001b[38;5;241m=\u001b[39m \u001b[43mpd\u001b[49m\u001b[38;5;241m.\u001b[39mread_csv(\u001b[38;5;124mr\u001b[39m\u001b[38;5;124m\"\u001b[39m\u001b[38;5;124msum_8km.csv\u001b[39m\u001b[38;5;124m\"\u001b[39m, low_memory\u001b[38;5;241m=\u001b[39m\u001b[38;5;28;01mFalse\u001b[39;00m, header \u001b[38;5;241m=\u001b[39m \u001b[38;5;28;01mNone\u001b[39;00m, index_col \u001b[38;5;241m=\u001b[39m \u001b[38;5;28;01mFalse\u001b[39;00m, skiprows\u001b[38;5;241m=\u001b[39m\u001b[38;5;241m1\u001b[39m)\n\u001b[0;32m      2\u001b[0m df1\u001b[38;5;241m.\u001b[39mcolumns \u001b[38;5;241m=\u001b[39m [\u001b[38;5;124m'\u001b[39m\u001b[38;5;124mareakm2_urban\u001b[39m\u001b[38;5;124m'\u001b[39m,\u001b[38;5;124m'\u001b[39m\u001b[38;5;124mareakm2_cropCover\u001b[39m\u001b[38;5;124m'\u001b[39m, \u001b[38;5;124m'\u001b[39m\u001b[38;5;124mareakm2_protArea\u001b[39m\u001b[38;5;124m'\u001b[39m,\n\u001b[0;32m      3\u001b[0m        \u001b[38;5;124m'\u001b[39m\u001b[38;5;124mareakm2_slowNutrArea\u001b[39m\u001b[38;5;124m'\u001b[39m, \u001b[38;5;124m'\u001b[39m\u001b[38;5;124mareakm2_sMedNutriArea\u001b[39m\u001b[38;5;124m'\u001b[39m,\n\u001b[0;32m      4\u001b[0m        \u001b[38;5;124m'\u001b[39m\u001b[38;5;124mareakm2_sHighNutriArea\u001b[39m\u001b[38;5;124m'\u001b[39m, \u001b[38;5;124m'\u001b[39m\u001b[38;5;124mareakm2_plantation\u001b[39m\u001b[38;5;124m'\u001b[39m, \u001b[38;5;124m'\u001b[39m\u001b[38;5;124mareakm2_treeCrop\u001b[39m\u001b[38;5;124m'\u001b[39m, \u001b[38;5;124m'\u001b[39m\u001b[38;5;124mgid\u001b[39m\u001b[38;5;124m'\u001b[39m]\n\u001b[0;32m      6\u001b[0m df1\u001b[38;5;241m.\u001b[39mloc[:,[\u001b[38;5;124m'\u001b[39m\u001b[38;5;124mareakm2_urban\u001b[39m\u001b[38;5;124m'\u001b[39m, \u001b[38;5;124m'\u001b[39m\u001b[38;5;124mareakm2_cropCover\u001b[39m\u001b[38;5;124m'\u001b[39m, \u001b[38;5;124m'\u001b[39m\u001b[38;5;124mareakm2_protArea\u001b[39m\u001b[38;5;124m'\u001b[39m,\n\u001b[0;32m      7\u001b[0m        \u001b[38;5;124m'\u001b[39m\u001b[38;5;124mareakm2_slowNutrArea\u001b[39m\u001b[38;5;124m'\u001b[39m, \u001b[38;5;124m'\u001b[39m\u001b[38;5;124mareakm2_sMedNutriArea\u001b[39m\u001b[38;5;124m'\u001b[39m,\n\u001b[0;32m      8\u001b[0m        \u001b[38;5;124m'\u001b[39m\u001b[38;5;124mareakm2_sHighNutriArea\u001b[39m\u001b[38;5;124m'\u001b[39m, \u001b[38;5;124m'\u001b[39m\u001b[38;5;124mareakm2_plantation\u001b[39m\u001b[38;5;124m'\u001b[39m, \u001b[38;5;124m'\u001b[39m\u001b[38;5;124mareakm2_treeCrop\u001b[39m\u001b[38;5;124m'\u001b[39m,]] \u001b[38;5;241m=\u001b[39m \\\n\u001b[0;32m      9\u001b[0m df1\u001b[38;5;241m.\u001b[39mloc[:,[\u001b[38;5;124m'\u001b[39m\u001b[38;5;124mareakm2_urban\u001b[39m\u001b[38;5;124m'\u001b[39m,\u001b[38;5;124m'\u001b[39m\u001b[38;5;124mareakm2_cropCover\u001b[39m\u001b[38;5;124m'\u001b[39m, \u001b[38;5;124m'\u001b[39m\u001b[38;5;124mareakm2_protArea\u001b[39m\u001b[38;5;124m'\u001b[39m,\n\u001b[0;32m     10\u001b[0m        \u001b[38;5;124m'\u001b[39m\u001b[38;5;124mareakm2_slowNutrArea\u001b[39m\u001b[38;5;124m'\u001b[39m, \u001b[38;5;124m'\u001b[39m\u001b[38;5;124mareakm2_sMedNutriArea\u001b[39m\u001b[38;5;124m'\u001b[39m,\n\u001b[0;32m     11\u001b[0m        \u001b[38;5;124m'\u001b[39m\u001b[38;5;124mareakm2_sHighNutriArea\u001b[39m\u001b[38;5;124m'\u001b[39m, \u001b[38;5;124m'\u001b[39m\u001b[38;5;124mareakm2_plantation\u001b[39m\u001b[38;5;124m'\u001b[39m, \u001b[38;5;124m'\u001b[39m\u001b[38;5;124mareakm2_treeCrop\u001b[39m\u001b[38;5;124m'\u001b[39m]]\u001b[38;5;241m.\u001b[39mdivide(\u001b[38;5;241m64\u001b[39m, axis\u001b[38;5;241m=\u001b[39m\u001b[38;5;241m1\u001b[39m)\n",
      "\u001b[1;31mNameError\u001b[0m: name 'pd' is not defined"
     ]
    }
   ],
   "source": [
    "df1 = pd.read_csv(r\"sum_8km.csv\", low_memory=False, header = None, index_col = False, skiprows=1)\n",
    "df1.columns = ['areakm2_urban','areakm2_cropCover', 'areakm2_protArea',\n",
    "       'areakm2_slowNutrArea', 'areakm2_sMedNutriArea',\n",
    "       'areakm2_sHighNutriArea', 'areakm2_plantation', 'areakm2_treeCrop', 'gid']\n",
    "\n",
    "df1.loc[:,['areakm2_urban', 'areakm2_cropCover', 'areakm2_protArea',\n",
    "       'areakm2_slowNutrArea', 'areakm2_sMedNutriArea',\n",
    "       'areakm2_sHighNutriArea', 'areakm2_plantation', 'areakm2_treeCrop',]] = \\\n",
    "df1.loc[:,['areakm2_urban','areakm2_cropCover', 'areakm2_protArea',\n",
    "       'areakm2_slowNutrArea', 'areakm2_sMedNutriArea',\n",
    "       'areakm2_sHighNutriArea', 'areakm2_plantation', 'areakm2_treeCrop']].divide(64, axis=1)"
   ]
  },
  {
   "cell_type": "code",
   "execution_count": 18,
   "id": "38b64040-8c07-4508-9cfc-431499973e3a",
   "metadata": {},
   "outputs": [],
   "source": [
    "# Mean covariate data\n",
    "dfmean = pd.read_csv(r\"mean_8km.csv\", low_memory=False, header = None, index_col = False, skiprows=1)\n",
    "dfmean.columns = ['mean_precip','Nfer_kgha', 'popDensity', 'sheepDensity', 'goatDensity', 'cattleDensity', 'gid']\n",
    "dfmean= dfmean[dfmean['gid']!= '245,-2948']"
   ]
  },
  {
   "cell_type": "code",
   "execution_count": 19,
   "id": "1c8f9763-4324-49d2-9c24-47af99ce45e4",
   "metadata": {},
   "outputs": [],
   "source": [
    "# Merge datasets into single datset based on matching GIS column\n",
    "dfJoin = pd.merge(df1, dfmean, on= 'gid')\n",
    "dfAll = pd.merge(dfJoin, df, on= 'gid').drop_duplicates().reset_index(drop=True)"
   ]
  },
  {
   "cell_type": "code",
   "execution_count": 20,
   "id": "b6e547e0-559f-4e7a-b289-c228d6aa6ced",
   "metadata": {},
   "outputs": [
    {
     "name": "stdout",
     "output_type": "stream",
     "text": [
      "The number of missing mean_precip values: 0\n"
     ]
    }
   ],
   "source": [
    "# Fill in missing mean precipitation data\n",
    "# by copying attribute of closest point\n",
    "missing = dfAll.mean_precip.isna().sum()\n",
    "print('The number of missing mean_precip values:', missing)\n",
    "if missing>0:\n",
    "    # Blocks with mean-precip data\n",
    "    sdf2 = dfAll.loc[dfAll['mean_precip'].notna(), ['mean_precip', 'x', 'y']]\n",
    "    gdf2 =  gpd.GeoDataFrame(sdf2.drop(['x', 'y'],axis=1), geometry = gpd.points_from_xy(sdf2.x, sdf2.y))\n",
    "\n",
    "    # All columns without join-attributes(s) column\n",
    "    sdf1 = dfAll.loc[dfAll['mean_precip'].isna(), ['gid','x', 'y']]\n",
    "    gdf1 =  gpd.GeoDataFrame(sdf1.drop(['x', 'y'],axis=1), geometry = gpd.points_from_xy(sdf1.x, sdf1.y))\n",
    "\n",
    "    joinNearest1 = ckdnearest(gdf1, gdf2)\n",
    "\n",
    "    result1 = pd.DataFrame(joinNearest1)[['gid', 'mean_precip']]\n",
    "    result1.columns = ['gid', 'mean_precip2']\n",
    "\n",
    "    dfAll = pd.merge(dfAll, result1, how = 'outer',on = 'gid').drop_duplicates()\n",
    "    dfAll['mean_precip'].fillna(dfAll['mean_precip2'], inplace = True)\n",
    "    dfAll.drop('mean_precip2', axis=1, inplace=True)"
   ]
  },
  {
   "cell_type": "code",
   "execution_count": 22,
   "id": "f1d6aea7-8e2e-458f-a4fe-3830b8a3baa9",
   "metadata": {
    "tags": []
   },
   "outputs": [],
   "source": [
    "# get rows with fieldsize, cropcover or treeCrop data-used for joining\n",
    "dfAlls = dfAll.dropna(subset = ['fieldSize']).loc[dfAll['fieldSize']!= 3507,:] #drop all rows with 3507 (no fields)- they will also be filled in\n",
    "dfs1 = dfAlls.loc[(dfAlls['areakm2_cropCover']>0)|(dfAlls['areakm2_treeCrop']>0), ['x', 'y', 'fieldSize']]\n",
    "\n",
    "# all rows without fieldsize column (including rows with fieldsize data)\n",
    "dfs2 = dfAll.loc[:,['x', 'y', 'gid']]\n",
    "\n",
    "# Convert to geodataframe\n",
    "# with fieldsize\n",
    "gdf1 = gpd.GeoDataFrame(dfs1.drop(['x', 'y'],axis=1), geometry = gpd.points_from_xy(dfs1.x, dfs1.y))\n",
    "\n",
    "# all data with Missing fieldsize data\n",
    "gdf2 = gpd.GeoDataFrame(dfs2.drop(['x', 'y'],axis=1), geometry = gpd.points_from_xy(dfs2.x, dfs2.y))"
   ]
  },
  {
   "cell_type": "code",
   "execution_count": 23,
   "id": "def14264-a6f2-43f3-bb86-744dbc80b3af",
   "metadata": {},
   "outputs": [],
   "source": [
    "joinNearest = ckdnearest(gdf2, gdf1)\n",
    "result = pd.DataFrame(joinNearest[['gid', 'fieldSize']])\n",
    "result.columns = ['gid', 'fieldSize2']\n",
    "\n",
    "finaldf = pd.merge(dfAll, result, how= 'outer',on = 'gid')#.drop_duplicates()\n",
    "finaldf['fieldSize'] = finaldf['fieldSize2'].astype('int')\n",
    "\n",
    "dfF = finaldf.drop('fieldSize2', axis=1).reset_index(drop=True)"
   ]
  },
  {
   "cell_type": "code",
   "execution_count": 24,
   "id": "70b5a721-886e-4c97-a8bc-985942ab3b2a",
   "metadata": {
    "tags": []
   },
   "outputs": [],
   "source": [
    "dfF.loc[:,'id8km'] = dfF.loc[:,'id8km'].fillna(0)\n",
    "dfF.loc[:,'id1km'] = dfF.loc[:,'id1km'].fillna(0)\n",
    "dfF = dfF[dfF['areakm2_treeCrop']!= '2726,-3471']\n",
    "\n",
    "# Format data types\n",
    "dfF.loc[:,'areakm2_treeCrop'] = dfF.loc[:,'areakm2_treeCrop'].astype('float64')\n",
    "dfF.loc[:,'gid'] = dfF.loc[:,'gid'].astype('string')\n",
    "dfF.loc[:,'id8km'] = dfF.loc[:,'id8km'].astype('int64')\n",
    "dfF.loc[:,'Nfer_kgha'] = dfF.loc[:,'Nfer_kgha'].astype('float64')\n",
    "dfF.loc[:,'mean_precip'] = dfF.loc[:,'mean_precip'].astype('float32')\n",
    "\n",
    "# Add scaled fieldSize\n",
    "dfF['scaled_fieldSize'] = -1\n",
    "dfF.loc[dfF['fieldSize'] == 3502, 'scaled_fieldSize'] = 1.0\n",
    "dfF.loc[dfF['fieldSize'] == 3503, 'scaled_fieldSize'] = 0.75\n",
    "dfF.loc[dfF['fieldSize'] == 3504, 'scaled_fieldSize'] = 0.50\n",
    "dfF.loc[dfF['fieldSize'] == 3505, 'scaled_fieldSize'] = 0.25\n",
    "dfF.loc[dfF['fieldSize'] == 3506, 'scaled_fieldSize'] = 0"
   ]
  },
  {
   "cell_type": "code",
   "execution_count": 25,
   "id": "5ffbb593-3673-41aa-b4e3-6adf34ec742d",
   "metadata": {},
   "outputs": [
    {
     "name": "stdout",
     "output_type": "stream",
     "text": [
      "The number of missing soil nutrient values: 166\n"
     ]
    }
   ],
   "source": [
    "# Fill in missing Nutrient data\n",
    "# Copy attribute of closest point\n",
    "df = dfF\n",
    "df['maxN'] = df[['areakm2_slowNutrArea','areakm2_sMedNutriArea', 'areakm2_sHighNutriArea']].max(axis=1)\n",
    "\n",
    "missing = df[df.maxN==0].shape[0]\n",
    "print('The number of missing soil nutrient values:', missing)\n",
    "if missing>0:\n",
    "    # Blocks with Nutrient areas\n",
    "    sdf2 = df.loc[df['maxN']>0, ['areakm2_slowNutrArea','areakm2_sMedNutriArea', 'areakm2_sHighNutriArea', 'x', 'y']]\n",
    "    gdf2 =  gpd.GeoDataFrame(sdf2.drop(['x', 'y'],axis=1), geometry = gpd.points_from_xy(sdf2.x, sdf2.y))\n",
    "\n",
    "    # All columns without join-attributes(s) column\n",
    "    sdf1 = df[['gid', 'x', 'y']]\n",
    "    gdf1 =  gpd.GeoDataFrame(sdf1.drop(['x', 'y'],axis=1), geometry = gpd.points_from_xy(sdf1.x, sdf1.y))\n",
    "\n",
    "    joinNearest1 = ckdnearest(gdf1, gdf2)\n",
    "\n",
    "    result1 = pd.DataFrame(joinNearest1)[['gid', 'areakm2_slowNutrArea','areakm2_sMedNutriArea', 'areakm2_sHighNutriArea']]\n",
    "    result1.columns = ['gid', 'areakm2_slowNutrArea2','areakm2_sMedNutriArea2', 'areakm2_sHighNutriArea2']\n",
    "\n",
    "    finaldf = pd.merge(df, result1, how = 'outer',on = 'gid')"
   ]
  },
  {
   "cell_type": "code",
   "execution_count": 26,
   "id": "abf68bb9-924f-4dac-a702-d2db3ea5bf72",
   "metadata": {},
   "outputs": [],
   "source": [
    "# Export data\n",
    "outfile = f'{country}_POC8km_{date}.feather'\n",
    "finaldf.drop_duplicates(subset = ['x', 'y']).reset_index(drop=True).to_feather(outfile)"
   ]
  },
  {
   "cell_type": "code",
   "execution_count": 27,
   "id": "a57529eb-78d6-452b-bb4f-e02a61f756c5",
   "metadata": {
    "collapsed": true,
    "jupyter": {
     "outputs_hidden": true
    },
    "tags": []
   },
   "outputs": [
    {
     "ename": "NameError",
     "evalue": "name 'gdf' is not defined",
     "output_type": "error",
     "traceback": [
      "\u001b[1;31m---------------------------------------------------------------------------\u001b[0m",
      "\u001b[1;31mNameError\u001b[0m                                 Traceback (most recent call last)",
      "Cell \u001b[1;32mIn [27], line 8\u001b[0m\n\u001b[0;32m      4\u001b[0m ax \u001b[38;5;241m=\u001b[39m world[world\u001b[38;5;241m.\u001b[39mcontinent \u001b[38;5;241m==\u001b[39m \u001b[38;5;124m'\u001b[39m\u001b[38;5;124mSouth Africa\u001b[39m\u001b[38;5;124m'\u001b[39m]\u001b[38;5;241m.\u001b[39mplot(\n\u001b[0;32m      5\u001b[0m     color\u001b[38;5;241m=\u001b[39m\u001b[38;5;124m'\u001b[39m\u001b[38;5;124mwhite\u001b[39m\u001b[38;5;124m'\u001b[39m, edgecolor\u001b[38;5;241m=\u001b[39m\u001b[38;5;124m'\u001b[39m\u001b[38;5;124mblack\u001b[39m\u001b[38;5;124m'\u001b[39m)\n\u001b[0;32m      7\u001b[0m \u001b[38;5;66;03m# plot ``GeoDataFrame``.\u001b[39;00m\n\u001b[1;32m----> 8\u001b[0m \u001b[43mgdf\u001b[49m\u001b[38;5;241m.\u001b[39mplot(ax\u001b[38;5;241m=\u001b[39max, color\u001b[38;5;241m=\u001b[39m\u001b[38;5;124m'\u001b[39m\u001b[38;5;124mred\u001b[39m\u001b[38;5;124m'\u001b[39m)\n\u001b[0;32m      9\u001b[0m plt\u001b[38;5;241m.\u001b[39mshow()\n",
      "\u001b[1;31mNameError\u001b[0m: name 'gdf' is not defined"
     ]
    },
    {
     "name": "stdout",
     "output_type": "stream",
     "text": [
      "Error in callback <function _draw_all_if_interactive at 0x00000267EF97BF70> (for post_execute):\n"
     ]
    },
    {
     "ename": "ValueError",
     "evalue": "cannot convert float NaN to integer",
     "output_type": "error",
     "traceback": [
      "\u001b[1;31m---------------------------------------------------------------------------\u001b[0m",
      "\u001b[1;31mValueError\u001b[0m                                Traceback (most recent call last)",
      "File \u001b[1;32mC:\\WINDOWS\\System32\\erty\\lib\\site-packages\\matplotlib\\pyplot.py:119\u001b[0m, in \u001b[0;36m_draw_all_if_interactive\u001b[1;34m()\u001b[0m\n\u001b[0;32m    117\u001b[0m \u001b[38;5;28;01mdef\u001b[39;00m \u001b[38;5;21m_draw_all_if_interactive\u001b[39m():\n\u001b[0;32m    118\u001b[0m     \u001b[38;5;28;01mif\u001b[39;00m matplotlib\u001b[38;5;241m.\u001b[39mis_interactive():\n\u001b[1;32m--> 119\u001b[0m         \u001b[43mdraw_all\u001b[49m\u001b[43m(\u001b[49m\u001b[43m)\u001b[49m\n",
      "File \u001b[1;32mC:\\WINDOWS\\System32\\erty\\lib\\site-packages\\matplotlib\\_pylab_helpers.py:132\u001b[0m, in \u001b[0;36mGcf.draw_all\u001b[1;34m(cls, force)\u001b[0m\n\u001b[0;32m    130\u001b[0m \u001b[38;5;28;01mfor\u001b[39;00m manager \u001b[38;5;129;01min\u001b[39;00m \u001b[38;5;28mcls\u001b[39m\u001b[38;5;241m.\u001b[39mget_all_fig_managers():\n\u001b[0;32m    131\u001b[0m     \u001b[38;5;28;01mif\u001b[39;00m force \u001b[38;5;129;01mor\u001b[39;00m manager\u001b[38;5;241m.\u001b[39mcanvas\u001b[38;5;241m.\u001b[39mfigure\u001b[38;5;241m.\u001b[39mstale:\n\u001b[1;32m--> 132\u001b[0m         \u001b[43mmanager\u001b[49m\u001b[38;5;241;43m.\u001b[39;49m\u001b[43mcanvas\u001b[49m\u001b[38;5;241;43m.\u001b[39;49m\u001b[43mdraw_idle\u001b[49m\u001b[43m(\u001b[49m\u001b[43m)\u001b[49m\n",
      "File \u001b[1;32mC:\\WINDOWS\\System32\\erty\\lib\\site-packages\\matplotlib\\backend_bases.py:2054\u001b[0m, in \u001b[0;36mFigureCanvasBase.draw_idle\u001b[1;34m(self, *args, **kwargs)\u001b[0m\n\u001b[0;32m   2052\u001b[0m \u001b[38;5;28;01mif\u001b[39;00m \u001b[38;5;129;01mnot\u001b[39;00m \u001b[38;5;28mself\u001b[39m\u001b[38;5;241m.\u001b[39m_is_idle_drawing:\n\u001b[0;32m   2053\u001b[0m     \u001b[38;5;28;01mwith\u001b[39;00m \u001b[38;5;28mself\u001b[39m\u001b[38;5;241m.\u001b[39m_idle_draw_cntx():\n\u001b[1;32m-> 2054\u001b[0m         \u001b[38;5;28mself\u001b[39m\u001b[38;5;241m.\u001b[39mdraw(\u001b[38;5;241m*\u001b[39margs, \u001b[38;5;241m*\u001b[39m\u001b[38;5;241m*\u001b[39mkwargs)\n",
      "File \u001b[1;32mC:\\WINDOWS\\System32\\erty\\lib\\site-packages\\matplotlib\\backends\\backend_agg.py:408\u001b[0m, in \u001b[0;36mFigureCanvasAgg.draw\u001b[1;34m(self)\u001b[0m\n\u001b[0;32m    404\u001b[0m \u001b[38;5;66;03m# Acquire a lock on the shared font cache.\u001b[39;00m\n\u001b[0;32m    405\u001b[0m \u001b[38;5;28;01mwith\u001b[39;00m RendererAgg\u001b[38;5;241m.\u001b[39mlock, \\\n\u001b[0;32m    406\u001b[0m      (\u001b[38;5;28mself\u001b[39m\u001b[38;5;241m.\u001b[39mtoolbar\u001b[38;5;241m.\u001b[39m_wait_cursor_for_draw_cm() \u001b[38;5;28;01mif\u001b[39;00m \u001b[38;5;28mself\u001b[39m\u001b[38;5;241m.\u001b[39mtoolbar\n\u001b[0;32m    407\u001b[0m       \u001b[38;5;28;01melse\u001b[39;00m nullcontext()):\n\u001b[1;32m--> 408\u001b[0m     \u001b[38;5;28;43mself\u001b[39;49m\u001b[38;5;241;43m.\u001b[39;49m\u001b[43mfigure\u001b[49m\u001b[38;5;241;43m.\u001b[39;49m\u001b[43mdraw\u001b[49m\u001b[43m(\u001b[49m\u001b[38;5;28;43mself\u001b[39;49m\u001b[38;5;241;43m.\u001b[39;49m\u001b[43mrenderer\u001b[49m\u001b[43m)\u001b[49m\n\u001b[0;32m    409\u001b[0m     \u001b[38;5;66;03m# A GUI class may be need to update a window using this draw, so\u001b[39;00m\n\u001b[0;32m    410\u001b[0m     \u001b[38;5;66;03m# don't forget to call the superclass.\u001b[39;00m\n\u001b[0;32m    411\u001b[0m     \u001b[38;5;28msuper\u001b[39m()\u001b[38;5;241m.\u001b[39mdraw()\n",
      "File \u001b[1;32mC:\\WINDOWS\\System32\\erty\\lib\\site-packages\\matplotlib\\artist.py:74\u001b[0m, in \u001b[0;36m_finalize_rasterization.<locals>.draw_wrapper\u001b[1;34m(artist, renderer, *args, **kwargs)\u001b[0m\n\u001b[0;32m     72\u001b[0m \u001b[38;5;129m@wraps\u001b[39m(draw)\n\u001b[0;32m     73\u001b[0m \u001b[38;5;28;01mdef\u001b[39;00m \u001b[38;5;21mdraw_wrapper\u001b[39m(artist, renderer, \u001b[38;5;241m*\u001b[39margs, \u001b[38;5;241m*\u001b[39m\u001b[38;5;241m*\u001b[39mkwargs):\n\u001b[1;32m---> 74\u001b[0m     result \u001b[38;5;241m=\u001b[39m draw(artist, renderer, \u001b[38;5;241m*\u001b[39margs, \u001b[38;5;241m*\u001b[39m\u001b[38;5;241m*\u001b[39mkwargs)\n\u001b[0;32m     75\u001b[0m     \u001b[38;5;28;01mif\u001b[39;00m renderer\u001b[38;5;241m.\u001b[39m_rasterizing:\n\u001b[0;32m     76\u001b[0m         renderer\u001b[38;5;241m.\u001b[39mstop_rasterizing()\n",
      "File \u001b[1;32mC:\\WINDOWS\\System32\\erty\\lib\\site-packages\\matplotlib\\artist.py:51\u001b[0m, in \u001b[0;36mallow_rasterization.<locals>.draw_wrapper\u001b[1;34m(artist, renderer)\u001b[0m\n\u001b[0;32m     48\u001b[0m     \u001b[38;5;28;01mif\u001b[39;00m artist\u001b[38;5;241m.\u001b[39mget_agg_filter() \u001b[38;5;129;01mis\u001b[39;00m \u001b[38;5;129;01mnot\u001b[39;00m \u001b[38;5;28;01mNone\u001b[39;00m:\n\u001b[0;32m     49\u001b[0m         renderer\u001b[38;5;241m.\u001b[39mstart_filter()\n\u001b[1;32m---> 51\u001b[0m     \u001b[38;5;28;01mreturn\u001b[39;00m \u001b[43mdraw\u001b[49m\u001b[43m(\u001b[49m\u001b[43martist\u001b[49m\u001b[43m,\u001b[49m\u001b[43m \u001b[49m\u001b[43mrenderer\u001b[49m\u001b[43m)\u001b[49m\n\u001b[0;32m     52\u001b[0m \u001b[38;5;28;01mfinally\u001b[39;00m:\n\u001b[0;32m     53\u001b[0m     \u001b[38;5;28;01mif\u001b[39;00m artist\u001b[38;5;241m.\u001b[39mget_agg_filter() \u001b[38;5;129;01mis\u001b[39;00m \u001b[38;5;129;01mnot\u001b[39;00m \u001b[38;5;28;01mNone\u001b[39;00m:\n",
      "File \u001b[1;32mC:\\WINDOWS\\System32\\erty\\lib\\site-packages\\matplotlib\\figure.py:3069\u001b[0m, in \u001b[0;36mFigure.draw\u001b[1;34m(self, renderer)\u001b[0m\n\u001b[0;32m   3066\u001b[0m         \u001b[38;5;66;03m# ValueError can occur when resizing a window.\u001b[39;00m\n\u001b[0;32m   3068\u001b[0m \u001b[38;5;28mself\u001b[39m\u001b[38;5;241m.\u001b[39mpatch\u001b[38;5;241m.\u001b[39mdraw(renderer)\n\u001b[1;32m-> 3069\u001b[0m \u001b[43mmimage\u001b[49m\u001b[38;5;241;43m.\u001b[39;49m\u001b[43m_draw_list_compositing_images\u001b[49m\u001b[43m(\u001b[49m\n\u001b[0;32m   3070\u001b[0m \u001b[43m    \u001b[49m\u001b[43mrenderer\u001b[49m\u001b[43m,\u001b[49m\u001b[43m \u001b[49m\u001b[38;5;28;43mself\u001b[39;49m\u001b[43m,\u001b[49m\u001b[43m \u001b[49m\u001b[43martists\u001b[49m\u001b[43m,\u001b[49m\u001b[43m \u001b[49m\u001b[38;5;28;43mself\u001b[39;49m\u001b[38;5;241;43m.\u001b[39;49m\u001b[43msuppressComposite\u001b[49m\u001b[43m)\u001b[49m\n\u001b[0;32m   3072\u001b[0m \u001b[38;5;28;01mfor\u001b[39;00m sfig \u001b[38;5;129;01min\u001b[39;00m \u001b[38;5;28mself\u001b[39m\u001b[38;5;241m.\u001b[39msubfigs:\n\u001b[0;32m   3073\u001b[0m     sfig\u001b[38;5;241m.\u001b[39mdraw(renderer)\n",
      "File \u001b[1;32mC:\\WINDOWS\\System32\\erty\\lib\\site-packages\\matplotlib\\image.py:131\u001b[0m, in \u001b[0;36m_draw_list_compositing_images\u001b[1;34m(renderer, parent, artists, suppress_composite)\u001b[0m\n\u001b[0;32m    129\u001b[0m \u001b[38;5;28;01mif\u001b[39;00m not_composite \u001b[38;5;129;01mor\u001b[39;00m \u001b[38;5;129;01mnot\u001b[39;00m has_images:\n\u001b[0;32m    130\u001b[0m     \u001b[38;5;28;01mfor\u001b[39;00m a \u001b[38;5;129;01min\u001b[39;00m artists:\n\u001b[1;32m--> 131\u001b[0m         \u001b[43ma\u001b[49m\u001b[38;5;241;43m.\u001b[39;49m\u001b[43mdraw\u001b[49m\u001b[43m(\u001b[49m\u001b[43mrenderer\u001b[49m\u001b[43m)\u001b[49m\n\u001b[0;32m    132\u001b[0m \u001b[38;5;28;01melse\u001b[39;00m:\n\u001b[0;32m    133\u001b[0m     \u001b[38;5;66;03m# Composite any adjacent images together\u001b[39;00m\n\u001b[0;32m    134\u001b[0m     image_group \u001b[38;5;241m=\u001b[39m []\n",
      "File \u001b[1;32mC:\\WINDOWS\\System32\\erty\\lib\\site-packages\\matplotlib\\artist.py:51\u001b[0m, in \u001b[0;36mallow_rasterization.<locals>.draw_wrapper\u001b[1;34m(artist, renderer)\u001b[0m\n\u001b[0;32m     48\u001b[0m     \u001b[38;5;28;01mif\u001b[39;00m artist\u001b[38;5;241m.\u001b[39mget_agg_filter() \u001b[38;5;129;01mis\u001b[39;00m \u001b[38;5;129;01mnot\u001b[39;00m \u001b[38;5;28;01mNone\u001b[39;00m:\n\u001b[0;32m     49\u001b[0m         renderer\u001b[38;5;241m.\u001b[39mstart_filter()\n\u001b[1;32m---> 51\u001b[0m     \u001b[38;5;28;01mreturn\u001b[39;00m \u001b[43mdraw\u001b[49m\u001b[43m(\u001b[49m\u001b[43martist\u001b[49m\u001b[43m,\u001b[49m\u001b[43m \u001b[49m\u001b[43mrenderer\u001b[49m\u001b[43m)\u001b[49m\n\u001b[0;32m     52\u001b[0m \u001b[38;5;28;01mfinally\u001b[39;00m:\n\u001b[0;32m     53\u001b[0m     \u001b[38;5;28;01mif\u001b[39;00m artist\u001b[38;5;241m.\u001b[39mget_agg_filter() \u001b[38;5;129;01mis\u001b[39;00m \u001b[38;5;129;01mnot\u001b[39;00m \u001b[38;5;28;01mNone\u001b[39;00m:\n",
      "File \u001b[1;32mC:\\WINDOWS\\System32\\erty\\lib\\site-packages\\matplotlib\\axes\\_base.py:3106\u001b[0m, in \u001b[0;36m_AxesBase.draw\u001b[1;34m(self, renderer)\u001b[0m\n\u001b[0;32m   3103\u001b[0m         a\u001b[38;5;241m.\u001b[39mdraw(renderer)\n\u001b[0;32m   3104\u001b[0m     renderer\u001b[38;5;241m.\u001b[39mstop_rasterizing()\n\u001b[1;32m-> 3106\u001b[0m \u001b[43mmimage\u001b[49m\u001b[38;5;241;43m.\u001b[39;49m\u001b[43m_draw_list_compositing_images\u001b[49m\u001b[43m(\u001b[49m\n\u001b[0;32m   3107\u001b[0m \u001b[43m    \u001b[49m\u001b[43mrenderer\u001b[49m\u001b[43m,\u001b[49m\u001b[43m \u001b[49m\u001b[38;5;28;43mself\u001b[39;49m\u001b[43m,\u001b[49m\u001b[43m \u001b[49m\u001b[43martists\u001b[49m\u001b[43m,\u001b[49m\u001b[43m \u001b[49m\u001b[38;5;28;43mself\u001b[39;49m\u001b[38;5;241;43m.\u001b[39;49m\u001b[43mfigure\u001b[49m\u001b[38;5;241;43m.\u001b[39;49m\u001b[43msuppressComposite\u001b[49m\u001b[43m)\u001b[49m\n\u001b[0;32m   3109\u001b[0m renderer\u001b[38;5;241m.\u001b[39mclose_group(\u001b[38;5;124m'\u001b[39m\u001b[38;5;124maxes\u001b[39m\u001b[38;5;124m'\u001b[39m)\n\u001b[0;32m   3110\u001b[0m \u001b[38;5;28mself\u001b[39m\u001b[38;5;241m.\u001b[39mstale \u001b[38;5;241m=\u001b[39m \u001b[38;5;28;01mFalse\u001b[39;00m\n",
      "File \u001b[1;32mC:\\WINDOWS\\System32\\erty\\lib\\site-packages\\matplotlib\\image.py:131\u001b[0m, in \u001b[0;36m_draw_list_compositing_images\u001b[1;34m(renderer, parent, artists, suppress_composite)\u001b[0m\n\u001b[0;32m    129\u001b[0m \u001b[38;5;28;01mif\u001b[39;00m not_composite \u001b[38;5;129;01mor\u001b[39;00m \u001b[38;5;129;01mnot\u001b[39;00m has_images:\n\u001b[0;32m    130\u001b[0m     \u001b[38;5;28;01mfor\u001b[39;00m a \u001b[38;5;129;01min\u001b[39;00m artists:\n\u001b[1;32m--> 131\u001b[0m         \u001b[43ma\u001b[49m\u001b[38;5;241;43m.\u001b[39;49m\u001b[43mdraw\u001b[49m\u001b[43m(\u001b[49m\u001b[43mrenderer\u001b[49m\u001b[43m)\u001b[49m\n\u001b[0;32m    132\u001b[0m \u001b[38;5;28;01melse\u001b[39;00m:\n\u001b[0;32m    133\u001b[0m     \u001b[38;5;66;03m# Composite any adjacent images together\u001b[39;00m\n\u001b[0;32m    134\u001b[0m     image_group \u001b[38;5;241m=\u001b[39m []\n",
      "File \u001b[1;32mC:\\WINDOWS\\System32\\erty\\lib\\site-packages\\matplotlib\\artist.py:51\u001b[0m, in \u001b[0;36mallow_rasterization.<locals>.draw_wrapper\u001b[1;34m(artist, renderer)\u001b[0m\n\u001b[0;32m     48\u001b[0m     \u001b[38;5;28;01mif\u001b[39;00m artist\u001b[38;5;241m.\u001b[39mget_agg_filter() \u001b[38;5;129;01mis\u001b[39;00m \u001b[38;5;129;01mnot\u001b[39;00m \u001b[38;5;28;01mNone\u001b[39;00m:\n\u001b[0;32m     49\u001b[0m         renderer\u001b[38;5;241m.\u001b[39mstart_filter()\n\u001b[1;32m---> 51\u001b[0m     \u001b[38;5;28;01mreturn\u001b[39;00m \u001b[43mdraw\u001b[49m\u001b[43m(\u001b[49m\u001b[43martist\u001b[49m\u001b[43m,\u001b[49m\u001b[43m \u001b[49m\u001b[43mrenderer\u001b[49m\u001b[43m)\u001b[49m\n\u001b[0;32m     52\u001b[0m \u001b[38;5;28;01mfinally\u001b[39;00m:\n\u001b[0;32m     53\u001b[0m     \u001b[38;5;28;01mif\u001b[39;00m artist\u001b[38;5;241m.\u001b[39mget_agg_filter() \u001b[38;5;129;01mis\u001b[39;00m \u001b[38;5;129;01mnot\u001b[39;00m \u001b[38;5;28;01mNone\u001b[39;00m:\n",
      "File \u001b[1;32mC:\\WINDOWS\\System32\\erty\\lib\\site-packages\\matplotlib\\axis.py:1304\u001b[0m, in \u001b[0;36mAxis.draw\u001b[1;34m(self, renderer, *args, **kwargs)\u001b[0m\n\u001b[0;32m   1301\u001b[0m     \u001b[38;5;28;01mreturn\u001b[39;00m\n\u001b[0;32m   1302\u001b[0m renderer\u001b[38;5;241m.\u001b[39mopen_group(\u001b[38;5;18m__name__\u001b[39m, gid\u001b[38;5;241m=\u001b[39m\u001b[38;5;28mself\u001b[39m\u001b[38;5;241m.\u001b[39mget_gid())\n\u001b[1;32m-> 1304\u001b[0m ticks_to_draw \u001b[38;5;241m=\u001b[39m \u001b[38;5;28;43mself\u001b[39;49m\u001b[38;5;241;43m.\u001b[39;49m\u001b[43m_update_ticks\u001b[49m\u001b[43m(\u001b[49m\u001b[43m)\u001b[49m\n\u001b[0;32m   1305\u001b[0m tlb1, tlb2 \u001b[38;5;241m=\u001b[39m \u001b[38;5;28mself\u001b[39m\u001b[38;5;241m.\u001b[39m_get_ticklabel_bboxes(ticks_to_draw, renderer)\n\u001b[0;32m   1307\u001b[0m \u001b[38;5;28;01mfor\u001b[39;00m tick \u001b[38;5;129;01min\u001b[39;00m ticks_to_draw:\n",
      "File \u001b[1;32mC:\\WINDOWS\\System32\\erty\\lib\\site-packages\\matplotlib\\axis.py:1190\u001b[0m, in \u001b[0;36mAxis._update_ticks\u001b[1;34m(self)\u001b[0m\n\u001b[0;32m   1185\u001b[0m \u001b[38;5;28;01mdef\u001b[39;00m \u001b[38;5;21m_update_ticks\u001b[39m(\u001b[38;5;28mself\u001b[39m):\n\u001b[0;32m   1186\u001b[0m     \u001b[38;5;124;03m\"\"\"\u001b[39;00m\n\u001b[0;32m   1187\u001b[0m \u001b[38;5;124;03m    Update ticks (position and labels) using the current data interval of\u001b[39;00m\n\u001b[0;32m   1188\u001b[0m \u001b[38;5;124;03m    the axes.  Return the list of ticks that will be drawn.\u001b[39;00m\n\u001b[0;32m   1189\u001b[0m \u001b[38;5;124;03m    \"\"\"\u001b[39;00m\n\u001b[1;32m-> 1190\u001b[0m     major_locs \u001b[38;5;241m=\u001b[39m \u001b[38;5;28;43mself\u001b[39;49m\u001b[38;5;241;43m.\u001b[39;49m\u001b[43mget_majorticklocs\u001b[49m\u001b[43m(\u001b[49m\u001b[43m)\u001b[49m\n\u001b[0;32m   1191\u001b[0m     major_labels \u001b[38;5;241m=\u001b[39m \u001b[38;5;28mself\u001b[39m\u001b[38;5;241m.\u001b[39mmajor\u001b[38;5;241m.\u001b[39mformatter\u001b[38;5;241m.\u001b[39mformat_ticks(major_locs)\n\u001b[0;32m   1192\u001b[0m     major_ticks \u001b[38;5;241m=\u001b[39m \u001b[38;5;28mself\u001b[39m\u001b[38;5;241m.\u001b[39mget_major_ticks(\u001b[38;5;28mlen\u001b[39m(major_locs))\n",
      "File \u001b[1;32mC:\\WINDOWS\\System32\\erty\\lib\\site-packages\\matplotlib\\axis.py:1416\u001b[0m, in \u001b[0;36mAxis.get_majorticklocs\u001b[1;34m(self)\u001b[0m\n\u001b[0;32m   1414\u001b[0m \u001b[38;5;28;01mdef\u001b[39;00m \u001b[38;5;21mget_majorticklocs\u001b[39m(\u001b[38;5;28mself\u001b[39m):\n\u001b[0;32m   1415\u001b[0m     \u001b[38;5;124;03m\"\"\"Return this Axis' major tick locations in data coordinates.\"\"\"\u001b[39;00m\n\u001b[1;32m-> 1416\u001b[0m     \u001b[38;5;28;01mreturn\u001b[39;00m \u001b[38;5;28;43mself\u001b[39;49m\u001b[38;5;241;43m.\u001b[39;49m\u001b[43mmajor\u001b[49m\u001b[38;5;241;43m.\u001b[39;49m\u001b[43mlocator\u001b[49m\u001b[43m(\u001b[49m\u001b[43m)\u001b[49m\n",
      "File \u001b[1;32mC:\\WINDOWS\\System32\\erty\\lib\\site-packages\\matplotlib\\ticker.py:2143\u001b[0m, in \u001b[0;36mMaxNLocator.__call__\u001b[1;34m(self)\u001b[0m\n\u001b[0;32m   2141\u001b[0m \u001b[38;5;28;01mdef\u001b[39;00m \u001b[38;5;21m__call__\u001b[39m(\u001b[38;5;28mself\u001b[39m):\n\u001b[0;32m   2142\u001b[0m     vmin, vmax \u001b[38;5;241m=\u001b[39m \u001b[38;5;28mself\u001b[39m\u001b[38;5;241m.\u001b[39maxis\u001b[38;5;241m.\u001b[39mget_view_interval()\n\u001b[1;32m-> 2143\u001b[0m     \u001b[38;5;28;01mreturn\u001b[39;00m \u001b[38;5;28;43mself\u001b[39;49m\u001b[38;5;241;43m.\u001b[39;49m\u001b[43mtick_values\u001b[49m\u001b[43m(\u001b[49m\u001b[43mvmin\u001b[49m\u001b[43m,\u001b[49m\u001b[43m \u001b[49m\u001b[43mvmax\u001b[49m\u001b[43m)\u001b[49m\n",
      "File \u001b[1;32mC:\\WINDOWS\\System32\\erty\\lib\\site-packages\\matplotlib\\ticker.py:2151\u001b[0m, in \u001b[0;36mMaxNLocator.tick_values\u001b[1;34m(self, vmin, vmax)\u001b[0m\n\u001b[0;32m   2148\u001b[0m     vmin \u001b[38;5;241m=\u001b[39m \u001b[38;5;241m-\u001b[39mvmax\n\u001b[0;32m   2149\u001b[0m vmin, vmax \u001b[38;5;241m=\u001b[39m mtransforms\u001b[38;5;241m.\u001b[39mnonsingular(\n\u001b[0;32m   2150\u001b[0m     vmin, vmax, expander\u001b[38;5;241m=\u001b[39m\u001b[38;5;241m1e-13\u001b[39m, tiny\u001b[38;5;241m=\u001b[39m\u001b[38;5;241m1e-14\u001b[39m)\n\u001b[1;32m-> 2151\u001b[0m locs \u001b[38;5;241m=\u001b[39m \u001b[38;5;28;43mself\u001b[39;49m\u001b[38;5;241;43m.\u001b[39;49m\u001b[43m_raw_ticks\u001b[49m\u001b[43m(\u001b[49m\u001b[43mvmin\u001b[49m\u001b[43m,\u001b[49m\u001b[43m \u001b[49m\u001b[43mvmax\u001b[49m\u001b[43m)\u001b[49m\n\u001b[0;32m   2153\u001b[0m prune \u001b[38;5;241m=\u001b[39m \u001b[38;5;28mself\u001b[39m\u001b[38;5;241m.\u001b[39m_prune\n\u001b[0;32m   2154\u001b[0m \u001b[38;5;28;01mif\u001b[39;00m prune \u001b[38;5;241m==\u001b[39m \u001b[38;5;124m'\u001b[39m\u001b[38;5;124mlower\u001b[39m\u001b[38;5;124m'\u001b[39m:\n",
      "File \u001b[1;32mC:\\WINDOWS\\System32\\erty\\lib\\site-packages\\matplotlib\\ticker.py:2090\u001b[0m, in \u001b[0;36mMaxNLocator._raw_ticks\u001b[1;34m(self, vmin, vmax)\u001b[0m\n\u001b[0;32m   2088\u001b[0m \u001b[38;5;28;01mif\u001b[39;00m \u001b[38;5;28mself\u001b[39m\u001b[38;5;241m.\u001b[39m_nbins \u001b[38;5;241m==\u001b[39m \u001b[38;5;124m'\u001b[39m\u001b[38;5;124mauto\u001b[39m\u001b[38;5;124m'\u001b[39m:\n\u001b[0;32m   2089\u001b[0m     \u001b[38;5;28;01mif\u001b[39;00m \u001b[38;5;28mself\u001b[39m\u001b[38;5;241m.\u001b[39maxis \u001b[38;5;129;01mis\u001b[39;00m \u001b[38;5;129;01mnot\u001b[39;00m \u001b[38;5;28;01mNone\u001b[39;00m:\n\u001b[1;32m-> 2090\u001b[0m         nbins \u001b[38;5;241m=\u001b[39m np\u001b[38;5;241m.\u001b[39mclip(\u001b[38;5;28;43mself\u001b[39;49m\u001b[38;5;241;43m.\u001b[39;49m\u001b[43maxis\u001b[49m\u001b[38;5;241;43m.\u001b[39;49m\u001b[43mget_tick_space\u001b[49m\u001b[43m(\u001b[49m\u001b[43m)\u001b[49m,\n\u001b[0;32m   2091\u001b[0m                         \u001b[38;5;28mmax\u001b[39m(\u001b[38;5;241m1\u001b[39m, \u001b[38;5;28mself\u001b[39m\u001b[38;5;241m.\u001b[39m_min_n_ticks \u001b[38;5;241m-\u001b[39m \u001b[38;5;241m1\u001b[39m), \u001b[38;5;241m9\u001b[39m)\n\u001b[0;32m   2092\u001b[0m     \u001b[38;5;28;01melse\u001b[39;00m:\n\u001b[0;32m   2093\u001b[0m         nbins \u001b[38;5;241m=\u001b[39m \u001b[38;5;241m9\u001b[39m\n",
      "File \u001b[1;32mC:\\WINDOWS\\System32\\erty\\lib\\site-packages\\matplotlib\\axis.py:2430\u001b[0m, in \u001b[0;36mXAxis.get_tick_space\u001b[1;34m(self)\u001b[0m\n\u001b[0;32m   2428\u001b[0m size \u001b[38;5;241m=\u001b[39m \u001b[38;5;28mself\u001b[39m\u001b[38;5;241m.\u001b[39m_get_tick_label_size(\u001b[38;5;124m'\u001b[39m\u001b[38;5;124mx\u001b[39m\u001b[38;5;124m'\u001b[39m) \u001b[38;5;241m*\u001b[39m \u001b[38;5;241m3\u001b[39m\n\u001b[0;32m   2429\u001b[0m \u001b[38;5;28;01mif\u001b[39;00m size \u001b[38;5;241m>\u001b[39m \u001b[38;5;241m0\u001b[39m:\n\u001b[1;32m-> 2430\u001b[0m     \u001b[38;5;28;01mreturn\u001b[39;00m \u001b[38;5;28;43mint\u001b[39;49m\u001b[43m(\u001b[49m\u001b[43mnp\u001b[49m\u001b[38;5;241;43m.\u001b[39;49m\u001b[43mfloor\u001b[49m\u001b[43m(\u001b[49m\u001b[43mlength\u001b[49m\u001b[43m \u001b[49m\u001b[38;5;241;43m/\u001b[39;49m\u001b[43m \u001b[49m\u001b[43msize\u001b[49m\u001b[43m)\u001b[49m\u001b[43m)\u001b[49m\n\u001b[0;32m   2431\u001b[0m \u001b[38;5;28;01melse\u001b[39;00m:\n\u001b[0;32m   2432\u001b[0m     \u001b[38;5;28;01mreturn\u001b[39;00m \u001b[38;5;241m2\u001b[39m\u001b[38;5;241m*\u001b[39m\u001b[38;5;241m*\u001b[39m\u001b[38;5;241m31\u001b[39m \u001b[38;5;241m-\u001b[39m \u001b[38;5;241m1\u001b[39m\n",
      "\u001b[1;31mValueError\u001b[0m: cannot convert float NaN to integer"
     ]
    },
    {
     "ename": "ValueError",
     "evalue": "cannot convert float NaN to integer",
     "output_type": "error",
     "traceback": [
      "\u001b[1;31m---------------------------------------------------------------------------\u001b[0m",
      "\u001b[1;31mValueError\u001b[0m                                Traceback (most recent call last)",
      "File \u001b[1;32mC:\\WINDOWS\\System32\\erty\\lib\\site-packages\\IPython\\core\\formatters.py:339\u001b[0m, in \u001b[0;36mBaseFormatter.__call__\u001b[1;34m(self, obj)\u001b[0m\n\u001b[0;32m    337\u001b[0m     \u001b[38;5;28;01mpass\u001b[39;00m\n\u001b[0;32m    338\u001b[0m \u001b[38;5;28;01melse\u001b[39;00m:\n\u001b[1;32m--> 339\u001b[0m     \u001b[38;5;28;01mreturn\u001b[39;00m \u001b[43mprinter\u001b[49m\u001b[43m(\u001b[49m\u001b[43mobj\u001b[49m\u001b[43m)\u001b[49m\n\u001b[0;32m    340\u001b[0m \u001b[38;5;66;03m# Finally look for special method names\u001b[39;00m\n\u001b[0;32m    341\u001b[0m method \u001b[38;5;241m=\u001b[39m get_real_method(obj, \u001b[38;5;28mself\u001b[39m\u001b[38;5;241m.\u001b[39mprint_method)\n",
      "File \u001b[1;32mC:\\WINDOWS\\System32\\erty\\lib\\site-packages\\IPython\\core\\pylabtools.py:151\u001b[0m, in \u001b[0;36mprint_figure\u001b[1;34m(fig, fmt, bbox_inches, base64, **kwargs)\u001b[0m\n\u001b[0;32m    148\u001b[0m     \u001b[38;5;28;01mfrom\u001b[39;00m \u001b[38;5;21;01mmatplotlib\u001b[39;00m\u001b[38;5;21;01m.\u001b[39;00m\u001b[38;5;21;01mbackend_bases\u001b[39;00m \u001b[38;5;28;01mimport\u001b[39;00m FigureCanvasBase\n\u001b[0;32m    149\u001b[0m     FigureCanvasBase(fig)\n\u001b[1;32m--> 151\u001b[0m fig\u001b[38;5;241m.\u001b[39mcanvas\u001b[38;5;241m.\u001b[39mprint_figure(bytes_io, \u001b[38;5;241m*\u001b[39m\u001b[38;5;241m*\u001b[39mkw)\n\u001b[0;32m    152\u001b[0m data \u001b[38;5;241m=\u001b[39m bytes_io\u001b[38;5;241m.\u001b[39mgetvalue()\n\u001b[0;32m    153\u001b[0m \u001b[38;5;28;01mif\u001b[39;00m fmt \u001b[38;5;241m==\u001b[39m \u001b[38;5;124m'\u001b[39m\u001b[38;5;124msvg\u001b[39m\u001b[38;5;124m'\u001b[39m:\n",
      "File \u001b[1;32mC:\\WINDOWS\\System32\\erty\\lib\\site-packages\\matplotlib\\backend_bases.py:2314\u001b[0m, in \u001b[0;36mFigureCanvasBase.print_figure\u001b[1;34m(self, filename, dpi, facecolor, edgecolor, orientation, format, bbox_inches, pad_inches, bbox_extra_artists, backend, **kwargs)\u001b[0m\n\u001b[0;32m   2308\u001b[0m     renderer \u001b[38;5;241m=\u001b[39m _get_renderer(\n\u001b[0;32m   2309\u001b[0m         \u001b[38;5;28mself\u001b[39m\u001b[38;5;241m.\u001b[39mfigure,\n\u001b[0;32m   2310\u001b[0m         functools\u001b[38;5;241m.\u001b[39mpartial(\n\u001b[0;32m   2311\u001b[0m             print_method, orientation\u001b[38;5;241m=\u001b[39morientation)\n\u001b[0;32m   2312\u001b[0m     )\n\u001b[0;32m   2313\u001b[0m     \u001b[38;5;28;01mwith\u001b[39;00m \u001b[38;5;28mgetattr\u001b[39m(renderer, \u001b[38;5;124m\"\u001b[39m\u001b[38;5;124m_draw_disabled\u001b[39m\u001b[38;5;124m\"\u001b[39m, nullcontext)():\n\u001b[1;32m-> 2314\u001b[0m         \u001b[38;5;28;43mself\u001b[39;49m\u001b[38;5;241;43m.\u001b[39;49m\u001b[43mfigure\u001b[49m\u001b[38;5;241;43m.\u001b[39;49m\u001b[43mdraw\u001b[49m\u001b[43m(\u001b[49m\u001b[43mrenderer\u001b[49m\u001b[43m)\u001b[49m\n\u001b[0;32m   2316\u001b[0m \u001b[38;5;28;01mif\u001b[39;00m bbox_inches:\n\u001b[0;32m   2317\u001b[0m     \u001b[38;5;28;01mif\u001b[39;00m bbox_inches \u001b[38;5;241m==\u001b[39m \u001b[38;5;124m\"\u001b[39m\u001b[38;5;124mtight\u001b[39m\u001b[38;5;124m\"\u001b[39m:\n",
      "File \u001b[1;32mC:\\WINDOWS\\System32\\erty\\lib\\site-packages\\matplotlib\\artist.py:74\u001b[0m, in \u001b[0;36m_finalize_rasterization.<locals>.draw_wrapper\u001b[1;34m(artist, renderer, *args, **kwargs)\u001b[0m\n\u001b[0;32m     72\u001b[0m \u001b[38;5;129m@wraps\u001b[39m(draw)\n\u001b[0;32m     73\u001b[0m \u001b[38;5;28;01mdef\u001b[39;00m \u001b[38;5;21mdraw_wrapper\u001b[39m(artist, renderer, \u001b[38;5;241m*\u001b[39margs, \u001b[38;5;241m*\u001b[39m\u001b[38;5;241m*\u001b[39mkwargs):\n\u001b[1;32m---> 74\u001b[0m     result \u001b[38;5;241m=\u001b[39m draw(artist, renderer, \u001b[38;5;241m*\u001b[39margs, \u001b[38;5;241m*\u001b[39m\u001b[38;5;241m*\u001b[39mkwargs)\n\u001b[0;32m     75\u001b[0m     \u001b[38;5;28;01mif\u001b[39;00m renderer\u001b[38;5;241m.\u001b[39m_rasterizing:\n\u001b[0;32m     76\u001b[0m         renderer\u001b[38;5;241m.\u001b[39mstop_rasterizing()\n",
      "File \u001b[1;32mC:\\WINDOWS\\System32\\erty\\lib\\site-packages\\matplotlib\\artist.py:51\u001b[0m, in \u001b[0;36mallow_rasterization.<locals>.draw_wrapper\u001b[1;34m(artist, renderer)\u001b[0m\n\u001b[0;32m     48\u001b[0m     \u001b[38;5;28;01mif\u001b[39;00m artist\u001b[38;5;241m.\u001b[39mget_agg_filter() \u001b[38;5;129;01mis\u001b[39;00m \u001b[38;5;129;01mnot\u001b[39;00m \u001b[38;5;28;01mNone\u001b[39;00m:\n\u001b[0;32m     49\u001b[0m         renderer\u001b[38;5;241m.\u001b[39mstart_filter()\n\u001b[1;32m---> 51\u001b[0m     \u001b[38;5;28;01mreturn\u001b[39;00m \u001b[43mdraw\u001b[49m\u001b[43m(\u001b[49m\u001b[43martist\u001b[49m\u001b[43m,\u001b[49m\u001b[43m \u001b[49m\u001b[43mrenderer\u001b[49m\u001b[43m)\u001b[49m\n\u001b[0;32m     52\u001b[0m \u001b[38;5;28;01mfinally\u001b[39;00m:\n\u001b[0;32m     53\u001b[0m     \u001b[38;5;28;01mif\u001b[39;00m artist\u001b[38;5;241m.\u001b[39mget_agg_filter() \u001b[38;5;129;01mis\u001b[39;00m \u001b[38;5;129;01mnot\u001b[39;00m \u001b[38;5;28;01mNone\u001b[39;00m:\n",
      "File \u001b[1;32mC:\\WINDOWS\\System32\\erty\\lib\\site-packages\\matplotlib\\figure.py:3069\u001b[0m, in \u001b[0;36mFigure.draw\u001b[1;34m(self, renderer)\u001b[0m\n\u001b[0;32m   3066\u001b[0m         \u001b[38;5;66;03m# ValueError can occur when resizing a window.\u001b[39;00m\n\u001b[0;32m   3068\u001b[0m \u001b[38;5;28mself\u001b[39m\u001b[38;5;241m.\u001b[39mpatch\u001b[38;5;241m.\u001b[39mdraw(renderer)\n\u001b[1;32m-> 3069\u001b[0m \u001b[43mmimage\u001b[49m\u001b[38;5;241;43m.\u001b[39;49m\u001b[43m_draw_list_compositing_images\u001b[49m\u001b[43m(\u001b[49m\n\u001b[0;32m   3070\u001b[0m \u001b[43m    \u001b[49m\u001b[43mrenderer\u001b[49m\u001b[43m,\u001b[49m\u001b[43m \u001b[49m\u001b[38;5;28;43mself\u001b[39;49m\u001b[43m,\u001b[49m\u001b[43m \u001b[49m\u001b[43martists\u001b[49m\u001b[43m,\u001b[49m\u001b[43m \u001b[49m\u001b[38;5;28;43mself\u001b[39;49m\u001b[38;5;241;43m.\u001b[39;49m\u001b[43msuppressComposite\u001b[49m\u001b[43m)\u001b[49m\n\u001b[0;32m   3072\u001b[0m \u001b[38;5;28;01mfor\u001b[39;00m sfig \u001b[38;5;129;01min\u001b[39;00m \u001b[38;5;28mself\u001b[39m\u001b[38;5;241m.\u001b[39msubfigs:\n\u001b[0;32m   3073\u001b[0m     sfig\u001b[38;5;241m.\u001b[39mdraw(renderer)\n",
      "File \u001b[1;32mC:\\WINDOWS\\System32\\erty\\lib\\site-packages\\matplotlib\\image.py:131\u001b[0m, in \u001b[0;36m_draw_list_compositing_images\u001b[1;34m(renderer, parent, artists, suppress_composite)\u001b[0m\n\u001b[0;32m    129\u001b[0m \u001b[38;5;28;01mif\u001b[39;00m not_composite \u001b[38;5;129;01mor\u001b[39;00m \u001b[38;5;129;01mnot\u001b[39;00m has_images:\n\u001b[0;32m    130\u001b[0m     \u001b[38;5;28;01mfor\u001b[39;00m a \u001b[38;5;129;01min\u001b[39;00m artists:\n\u001b[1;32m--> 131\u001b[0m         \u001b[43ma\u001b[49m\u001b[38;5;241;43m.\u001b[39;49m\u001b[43mdraw\u001b[49m\u001b[43m(\u001b[49m\u001b[43mrenderer\u001b[49m\u001b[43m)\u001b[49m\n\u001b[0;32m    132\u001b[0m \u001b[38;5;28;01melse\u001b[39;00m:\n\u001b[0;32m    133\u001b[0m     \u001b[38;5;66;03m# Composite any adjacent images together\u001b[39;00m\n\u001b[0;32m    134\u001b[0m     image_group \u001b[38;5;241m=\u001b[39m []\n",
      "File \u001b[1;32mC:\\WINDOWS\\System32\\erty\\lib\\site-packages\\matplotlib\\artist.py:51\u001b[0m, in \u001b[0;36mallow_rasterization.<locals>.draw_wrapper\u001b[1;34m(artist, renderer)\u001b[0m\n\u001b[0;32m     48\u001b[0m     \u001b[38;5;28;01mif\u001b[39;00m artist\u001b[38;5;241m.\u001b[39mget_agg_filter() \u001b[38;5;129;01mis\u001b[39;00m \u001b[38;5;129;01mnot\u001b[39;00m \u001b[38;5;28;01mNone\u001b[39;00m:\n\u001b[0;32m     49\u001b[0m         renderer\u001b[38;5;241m.\u001b[39mstart_filter()\n\u001b[1;32m---> 51\u001b[0m     \u001b[38;5;28;01mreturn\u001b[39;00m \u001b[43mdraw\u001b[49m\u001b[43m(\u001b[49m\u001b[43martist\u001b[49m\u001b[43m,\u001b[49m\u001b[43m \u001b[49m\u001b[43mrenderer\u001b[49m\u001b[43m)\u001b[49m\n\u001b[0;32m     52\u001b[0m \u001b[38;5;28;01mfinally\u001b[39;00m:\n\u001b[0;32m     53\u001b[0m     \u001b[38;5;28;01mif\u001b[39;00m artist\u001b[38;5;241m.\u001b[39mget_agg_filter() \u001b[38;5;129;01mis\u001b[39;00m \u001b[38;5;129;01mnot\u001b[39;00m \u001b[38;5;28;01mNone\u001b[39;00m:\n",
      "File \u001b[1;32mC:\\WINDOWS\\System32\\erty\\lib\\site-packages\\matplotlib\\axes\\_base.py:3106\u001b[0m, in \u001b[0;36m_AxesBase.draw\u001b[1;34m(self, renderer)\u001b[0m\n\u001b[0;32m   3103\u001b[0m         a\u001b[38;5;241m.\u001b[39mdraw(renderer)\n\u001b[0;32m   3104\u001b[0m     renderer\u001b[38;5;241m.\u001b[39mstop_rasterizing()\n\u001b[1;32m-> 3106\u001b[0m \u001b[43mmimage\u001b[49m\u001b[38;5;241;43m.\u001b[39;49m\u001b[43m_draw_list_compositing_images\u001b[49m\u001b[43m(\u001b[49m\n\u001b[0;32m   3107\u001b[0m \u001b[43m    \u001b[49m\u001b[43mrenderer\u001b[49m\u001b[43m,\u001b[49m\u001b[43m \u001b[49m\u001b[38;5;28;43mself\u001b[39;49m\u001b[43m,\u001b[49m\u001b[43m \u001b[49m\u001b[43martists\u001b[49m\u001b[43m,\u001b[49m\u001b[43m \u001b[49m\u001b[38;5;28;43mself\u001b[39;49m\u001b[38;5;241;43m.\u001b[39;49m\u001b[43mfigure\u001b[49m\u001b[38;5;241;43m.\u001b[39;49m\u001b[43msuppressComposite\u001b[49m\u001b[43m)\u001b[49m\n\u001b[0;32m   3109\u001b[0m renderer\u001b[38;5;241m.\u001b[39mclose_group(\u001b[38;5;124m'\u001b[39m\u001b[38;5;124maxes\u001b[39m\u001b[38;5;124m'\u001b[39m)\n\u001b[0;32m   3110\u001b[0m \u001b[38;5;28mself\u001b[39m\u001b[38;5;241m.\u001b[39mstale \u001b[38;5;241m=\u001b[39m \u001b[38;5;28;01mFalse\u001b[39;00m\n",
      "File \u001b[1;32mC:\\WINDOWS\\System32\\erty\\lib\\site-packages\\matplotlib\\image.py:131\u001b[0m, in \u001b[0;36m_draw_list_compositing_images\u001b[1;34m(renderer, parent, artists, suppress_composite)\u001b[0m\n\u001b[0;32m    129\u001b[0m \u001b[38;5;28;01mif\u001b[39;00m not_composite \u001b[38;5;129;01mor\u001b[39;00m \u001b[38;5;129;01mnot\u001b[39;00m has_images:\n\u001b[0;32m    130\u001b[0m     \u001b[38;5;28;01mfor\u001b[39;00m a \u001b[38;5;129;01min\u001b[39;00m artists:\n\u001b[1;32m--> 131\u001b[0m         \u001b[43ma\u001b[49m\u001b[38;5;241;43m.\u001b[39;49m\u001b[43mdraw\u001b[49m\u001b[43m(\u001b[49m\u001b[43mrenderer\u001b[49m\u001b[43m)\u001b[49m\n\u001b[0;32m    132\u001b[0m \u001b[38;5;28;01melse\u001b[39;00m:\n\u001b[0;32m    133\u001b[0m     \u001b[38;5;66;03m# Composite any adjacent images together\u001b[39;00m\n\u001b[0;32m    134\u001b[0m     image_group \u001b[38;5;241m=\u001b[39m []\n",
      "File \u001b[1;32mC:\\WINDOWS\\System32\\erty\\lib\\site-packages\\matplotlib\\artist.py:51\u001b[0m, in \u001b[0;36mallow_rasterization.<locals>.draw_wrapper\u001b[1;34m(artist, renderer)\u001b[0m\n\u001b[0;32m     48\u001b[0m     \u001b[38;5;28;01mif\u001b[39;00m artist\u001b[38;5;241m.\u001b[39mget_agg_filter() \u001b[38;5;129;01mis\u001b[39;00m \u001b[38;5;129;01mnot\u001b[39;00m \u001b[38;5;28;01mNone\u001b[39;00m:\n\u001b[0;32m     49\u001b[0m         renderer\u001b[38;5;241m.\u001b[39mstart_filter()\n\u001b[1;32m---> 51\u001b[0m     \u001b[38;5;28;01mreturn\u001b[39;00m \u001b[43mdraw\u001b[49m\u001b[43m(\u001b[49m\u001b[43martist\u001b[49m\u001b[43m,\u001b[49m\u001b[43m \u001b[49m\u001b[43mrenderer\u001b[49m\u001b[43m)\u001b[49m\n\u001b[0;32m     52\u001b[0m \u001b[38;5;28;01mfinally\u001b[39;00m:\n\u001b[0;32m     53\u001b[0m     \u001b[38;5;28;01mif\u001b[39;00m artist\u001b[38;5;241m.\u001b[39mget_agg_filter() \u001b[38;5;129;01mis\u001b[39;00m \u001b[38;5;129;01mnot\u001b[39;00m \u001b[38;5;28;01mNone\u001b[39;00m:\n",
      "File \u001b[1;32mC:\\WINDOWS\\System32\\erty\\lib\\site-packages\\matplotlib\\axis.py:1304\u001b[0m, in \u001b[0;36mAxis.draw\u001b[1;34m(self, renderer, *args, **kwargs)\u001b[0m\n\u001b[0;32m   1301\u001b[0m     \u001b[38;5;28;01mreturn\u001b[39;00m\n\u001b[0;32m   1302\u001b[0m renderer\u001b[38;5;241m.\u001b[39mopen_group(\u001b[38;5;18m__name__\u001b[39m, gid\u001b[38;5;241m=\u001b[39m\u001b[38;5;28mself\u001b[39m\u001b[38;5;241m.\u001b[39mget_gid())\n\u001b[1;32m-> 1304\u001b[0m ticks_to_draw \u001b[38;5;241m=\u001b[39m \u001b[38;5;28;43mself\u001b[39;49m\u001b[38;5;241;43m.\u001b[39;49m\u001b[43m_update_ticks\u001b[49m\u001b[43m(\u001b[49m\u001b[43m)\u001b[49m\n\u001b[0;32m   1305\u001b[0m tlb1, tlb2 \u001b[38;5;241m=\u001b[39m \u001b[38;5;28mself\u001b[39m\u001b[38;5;241m.\u001b[39m_get_ticklabel_bboxes(ticks_to_draw, renderer)\n\u001b[0;32m   1307\u001b[0m \u001b[38;5;28;01mfor\u001b[39;00m tick \u001b[38;5;129;01min\u001b[39;00m ticks_to_draw:\n",
      "File \u001b[1;32mC:\\WINDOWS\\System32\\erty\\lib\\site-packages\\matplotlib\\axis.py:1190\u001b[0m, in \u001b[0;36mAxis._update_ticks\u001b[1;34m(self)\u001b[0m\n\u001b[0;32m   1185\u001b[0m \u001b[38;5;28;01mdef\u001b[39;00m \u001b[38;5;21m_update_ticks\u001b[39m(\u001b[38;5;28mself\u001b[39m):\n\u001b[0;32m   1186\u001b[0m     \u001b[38;5;124;03m\"\"\"\u001b[39;00m\n\u001b[0;32m   1187\u001b[0m \u001b[38;5;124;03m    Update ticks (position and labels) using the current data interval of\u001b[39;00m\n\u001b[0;32m   1188\u001b[0m \u001b[38;5;124;03m    the axes.  Return the list of ticks that will be drawn.\u001b[39;00m\n\u001b[0;32m   1189\u001b[0m \u001b[38;5;124;03m    \"\"\"\u001b[39;00m\n\u001b[1;32m-> 1190\u001b[0m     major_locs \u001b[38;5;241m=\u001b[39m \u001b[38;5;28;43mself\u001b[39;49m\u001b[38;5;241;43m.\u001b[39;49m\u001b[43mget_majorticklocs\u001b[49m\u001b[43m(\u001b[49m\u001b[43m)\u001b[49m\n\u001b[0;32m   1191\u001b[0m     major_labels \u001b[38;5;241m=\u001b[39m \u001b[38;5;28mself\u001b[39m\u001b[38;5;241m.\u001b[39mmajor\u001b[38;5;241m.\u001b[39mformatter\u001b[38;5;241m.\u001b[39mformat_ticks(major_locs)\n\u001b[0;32m   1192\u001b[0m     major_ticks \u001b[38;5;241m=\u001b[39m \u001b[38;5;28mself\u001b[39m\u001b[38;5;241m.\u001b[39mget_major_ticks(\u001b[38;5;28mlen\u001b[39m(major_locs))\n",
      "File \u001b[1;32mC:\\WINDOWS\\System32\\erty\\lib\\site-packages\\matplotlib\\axis.py:1416\u001b[0m, in \u001b[0;36mAxis.get_majorticklocs\u001b[1;34m(self)\u001b[0m\n\u001b[0;32m   1414\u001b[0m \u001b[38;5;28;01mdef\u001b[39;00m \u001b[38;5;21mget_majorticklocs\u001b[39m(\u001b[38;5;28mself\u001b[39m):\n\u001b[0;32m   1415\u001b[0m     \u001b[38;5;124;03m\"\"\"Return this Axis' major tick locations in data coordinates.\"\"\"\u001b[39;00m\n\u001b[1;32m-> 1416\u001b[0m     \u001b[38;5;28;01mreturn\u001b[39;00m \u001b[38;5;28;43mself\u001b[39;49m\u001b[38;5;241;43m.\u001b[39;49m\u001b[43mmajor\u001b[49m\u001b[38;5;241;43m.\u001b[39;49m\u001b[43mlocator\u001b[49m\u001b[43m(\u001b[49m\u001b[43m)\u001b[49m\n",
      "File \u001b[1;32mC:\\WINDOWS\\System32\\erty\\lib\\site-packages\\matplotlib\\ticker.py:2143\u001b[0m, in \u001b[0;36mMaxNLocator.__call__\u001b[1;34m(self)\u001b[0m\n\u001b[0;32m   2141\u001b[0m \u001b[38;5;28;01mdef\u001b[39;00m \u001b[38;5;21m__call__\u001b[39m(\u001b[38;5;28mself\u001b[39m):\n\u001b[0;32m   2142\u001b[0m     vmin, vmax \u001b[38;5;241m=\u001b[39m \u001b[38;5;28mself\u001b[39m\u001b[38;5;241m.\u001b[39maxis\u001b[38;5;241m.\u001b[39mget_view_interval()\n\u001b[1;32m-> 2143\u001b[0m     \u001b[38;5;28;01mreturn\u001b[39;00m \u001b[38;5;28;43mself\u001b[39;49m\u001b[38;5;241;43m.\u001b[39;49m\u001b[43mtick_values\u001b[49m\u001b[43m(\u001b[49m\u001b[43mvmin\u001b[49m\u001b[43m,\u001b[49m\u001b[43m \u001b[49m\u001b[43mvmax\u001b[49m\u001b[43m)\u001b[49m\n",
      "File \u001b[1;32mC:\\WINDOWS\\System32\\erty\\lib\\site-packages\\matplotlib\\ticker.py:2151\u001b[0m, in \u001b[0;36mMaxNLocator.tick_values\u001b[1;34m(self, vmin, vmax)\u001b[0m\n\u001b[0;32m   2148\u001b[0m     vmin \u001b[38;5;241m=\u001b[39m \u001b[38;5;241m-\u001b[39mvmax\n\u001b[0;32m   2149\u001b[0m vmin, vmax \u001b[38;5;241m=\u001b[39m mtransforms\u001b[38;5;241m.\u001b[39mnonsingular(\n\u001b[0;32m   2150\u001b[0m     vmin, vmax, expander\u001b[38;5;241m=\u001b[39m\u001b[38;5;241m1e-13\u001b[39m, tiny\u001b[38;5;241m=\u001b[39m\u001b[38;5;241m1e-14\u001b[39m)\n\u001b[1;32m-> 2151\u001b[0m locs \u001b[38;5;241m=\u001b[39m \u001b[38;5;28;43mself\u001b[39;49m\u001b[38;5;241;43m.\u001b[39;49m\u001b[43m_raw_ticks\u001b[49m\u001b[43m(\u001b[49m\u001b[43mvmin\u001b[49m\u001b[43m,\u001b[49m\u001b[43m \u001b[49m\u001b[43mvmax\u001b[49m\u001b[43m)\u001b[49m\n\u001b[0;32m   2153\u001b[0m prune \u001b[38;5;241m=\u001b[39m \u001b[38;5;28mself\u001b[39m\u001b[38;5;241m.\u001b[39m_prune\n\u001b[0;32m   2154\u001b[0m \u001b[38;5;28;01mif\u001b[39;00m prune \u001b[38;5;241m==\u001b[39m \u001b[38;5;124m'\u001b[39m\u001b[38;5;124mlower\u001b[39m\u001b[38;5;124m'\u001b[39m:\n",
      "File \u001b[1;32mC:\\WINDOWS\\System32\\erty\\lib\\site-packages\\matplotlib\\ticker.py:2090\u001b[0m, in \u001b[0;36mMaxNLocator._raw_ticks\u001b[1;34m(self, vmin, vmax)\u001b[0m\n\u001b[0;32m   2088\u001b[0m \u001b[38;5;28;01mif\u001b[39;00m \u001b[38;5;28mself\u001b[39m\u001b[38;5;241m.\u001b[39m_nbins \u001b[38;5;241m==\u001b[39m \u001b[38;5;124m'\u001b[39m\u001b[38;5;124mauto\u001b[39m\u001b[38;5;124m'\u001b[39m:\n\u001b[0;32m   2089\u001b[0m     \u001b[38;5;28;01mif\u001b[39;00m \u001b[38;5;28mself\u001b[39m\u001b[38;5;241m.\u001b[39maxis \u001b[38;5;129;01mis\u001b[39;00m \u001b[38;5;129;01mnot\u001b[39;00m \u001b[38;5;28;01mNone\u001b[39;00m:\n\u001b[1;32m-> 2090\u001b[0m         nbins \u001b[38;5;241m=\u001b[39m np\u001b[38;5;241m.\u001b[39mclip(\u001b[38;5;28;43mself\u001b[39;49m\u001b[38;5;241;43m.\u001b[39;49m\u001b[43maxis\u001b[49m\u001b[38;5;241;43m.\u001b[39;49m\u001b[43mget_tick_space\u001b[49m\u001b[43m(\u001b[49m\u001b[43m)\u001b[49m,\n\u001b[0;32m   2091\u001b[0m                         \u001b[38;5;28mmax\u001b[39m(\u001b[38;5;241m1\u001b[39m, \u001b[38;5;28mself\u001b[39m\u001b[38;5;241m.\u001b[39m_min_n_ticks \u001b[38;5;241m-\u001b[39m \u001b[38;5;241m1\u001b[39m), \u001b[38;5;241m9\u001b[39m)\n\u001b[0;32m   2092\u001b[0m     \u001b[38;5;28;01melse\u001b[39;00m:\n\u001b[0;32m   2093\u001b[0m         nbins \u001b[38;5;241m=\u001b[39m \u001b[38;5;241m9\u001b[39m\n",
      "File \u001b[1;32mC:\\WINDOWS\\System32\\erty\\lib\\site-packages\\matplotlib\\axis.py:2430\u001b[0m, in \u001b[0;36mXAxis.get_tick_space\u001b[1;34m(self)\u001b[0m\n\u001b[0;32m   2428\u001b[0m size \u001b[38;5;241m=\u001b[39m \u001b[38;5;28mself\u001b[39m\u001b[38;5;241m.\u001b[39m_get_tick_label_size(\u001b[38;5;124m'\u001b[39m\u001b[38;5;124mx\u001b[39m\u001b[38;5;124m'\u001b[39m) \u001b[38;5;241m*\u001b[39m \u001b[38;5;241m3\u001b[39m\n\u001b[0;32m   2429\u001b[0m \u001b[38;5;28;01mif\u001b[39;00m size \u001b[38;5;241m>\u001b[39m \u001b[38;5;241m0\u001b[39m:\n\u001b[1;32m-> 2430\u001b[0m     \u001b[38;5;28;01mreturn\u001b[39;00m \u001b[38;5;28;43mint\u001b[39;49m\u001b[43m(\u001b[49m\u001b[43mnp\u001b[49m\u001b[38;5;241;43m.\u001b[39;49m\u001b[43mfloor\u001b[49m\u001b[43m(\u001b[49m\u001b[43mlength\u001b[49m\u001b[43m \u001b[49m\u001b[38;5;241;43m/\u001b[39;49m\u001b[43m \u001b[49m\u001b[43msize\u001b[49m\u001b[43m)\u001b[49m\u001b[43m)\u001b[49m\n\u001b[0;32m   2431\u001b[0m \u001b[38;5;28;01melse\u001b[39;00m:\n\u001b[0;32m   2432\u001b[0m     \u001b[38;5;28;01mreturn\u001b[39;00m \u001b[38;5;241m2\u001b[39m\u001b[38;5;241m*\u001b[39m\u001b[38;5;241m*\u001b[39m\u001b[38;5;241m31\u001b[39m \u001b[38;5;241m-\u001b[39m \u001b[38;5;241m1\u001b[39m\n",
      "\u001b[1;31mValueError\u001b[0m: cannot convert float NaN to integer"
     ]
    },
    {
     "data": {
      "text/plain": [
       "<Figure size 640x480 with 1 Axes>"
      ]
     },
     "metadata": {},
     "output_type": "display_data"
    }
   ],
   "source": [
    "world = gpd.read_file(gpd.datasets.get_path('naturalearth_lowres'))\n",
    "\n",
    "# We restrict to South Africa.\n",
    "ax = world[world.continent == 'South Africa'].plot(\n",
    "    color='white', edgecolor='black')\n",
    "\n",
    "# plot ``GeoDataFrame``.\n",
    "gdf.plot(ax=ax, color='red')\n",
    "plt.show()"
   ]
  },
  {
   "cell_type": "markdown",
   "id": "aacae64d-6ec5-4875-91eb-3d1a9943a441",
   "metadata": {},
   "source": [
    "## Decision tree"
   ]
  },
  {
   "cell_type": "code",
   "execution_count": 28,
   "id": "f2453cca-3952-45c6-a2f9-70937f46f170",
   "metadata": {
    "tags": []
   },
   "outputs": [],
   "source": [
    "infile = f'{country}_POC8km_{date}.feather'\n",
    "df = pd.read_feather(infile).dropna().reset_index(drop=True)"
   ]
  },
  {
   "cell_type": "code",
   "execution_count": 29,
   "id": "5f0c762e-ecc3-4011-9114-ecbed2edf8fc",
   "metadata": {},
   "outputs": [
    {
     "name": "stdout",
     "output_type": "stream",
     "text": [
      "0    9868\n",
      "1    9784\n",
      "2    1613\n",
      "3      19\n",
      "Name: precipDiscrete, dtype: int64\n"
     ]
    }
   ],
   "source": [
    "# Add small value to zero precip\n",
    "finaldf.loc[finaldf.mean_precip==0, 'mean_precip'] = 0.1\n",
    "# Round of to the nearest 400\n",
    "max_round = math.ceil(max(finaldf['mean_precip']) / 400) * 400\n",
    "cut_bins = list(range(0, max_round+1, 400))\n",
    "# discretize precipitation into categories \n",
    "cut_labels = [str(item) for item in range(0, len(cut_bins)-1)]\n",
    "finaldf[\"precipDiscrete\"] = pd.cut(x = finaldf[\"mean_precip\"].astype(float), bins= cut_bins, labels = cut_labels)\n",
    "print(finaldf.precipDiscrete.value_counts())\n",
    "\n",
    "# Identify the max nutrient area\n",
    "finaldf['maxNutr'] = finaldf[['areakm2_slowNutrArea2','areakm2_sMedNutriArea2', 'areakm2_sHighNutriArea2']].idxmax(axis=1)\n",
    "\n",
    "# Get unique category based on precip bucket and max nutrient category\n",
    "finaldf['combination_LS_intensity'] = finaldf[['precipDiscrete','maxNutr']].agg(tuple, axis=1)\n",
    "finaldf['lsIntensityCat'] = finaldf['combination_LS_intensity'].factorize()[0]"
   ]
  },
  {
   "cell_type": "code",
   "execution_count": 30,
   "id": "df76966a-bfba-4654-a5b5-843f3b00a8d0",
   "metadata": {},
   "outputs": [
    {
     "name": "stdout",
     "output_type": "stream",
     "text": [
      "Livestock Intensity categories (based on unique combinations of discretised precipitation and max nutrient category): [0, 1, 2, 3, 4, 5, 6, 7, 8, 9]\n"
     ]
    },
    {
     "data": {
      "application/vnd.jupyter.widget-view+json": {
       "model_id": "5000405f2e9e46b8b794e32833b9128d",
       "version_major": 2,
       "version_minor": 0
      },
      "text/plain": [
       "  0%|          | 0/10 [00:00<?, ?it/s]"
      ]
     },
     "metadata": {},
     "output_type": "display_data"
    },
    {
     "name": "stdout",
     "output_type": "stream",
     "text": [
      "The 99th percentile of summed livestock density for combination 0 is: 103.67832862073757\n",
      "The 99th percentile of summed livestock density for combination 1 is: 69.2884541893889\n",
      "The 99th percentile of summed livestock density for combination 2 is: 79.37977554708509\n",
      "The 99th percentile of summed livestock density for combination 3 is: 117.9206346486749\n",
      "The 99th percentile of summed livestock density for combination 4 is: 47.717644535872246\n",
      "The 99th percentile of summed livestock density for combination 5 is: 96.0613099268859\n",
      "The 99th percentile of summed livestock density for combination 6 is: 48.70347388194258\n",
      "The 99th percentile of summed livestock density for combination 7 is: 45.76831654559165\n",
      "The 99th percentile of summed livestock density for combination 8 is: 6.185529984767002\n",
      "The 99th percentile of summed livestock density for combination 9 is: 31.441007057791957\n"
     ]
    }
   ],
   "source": [
    "# Get unique combinations of precipitation and maxNutrient categories\n",
    "combinations = list(set(finaldf['lsIntensityCat']))\n",
    "print(\"Livestock Intensity categories (based on unique combinations of discretised precipitation and max nutrient category):\",combinations)\n",
    "\n",
    "# Compute the sum of sheep, goat and cattle density\n",
    "finaldf['lsSum'] = finaldf[['sheepDensity', 'goatDensity', 'cattleDensity']].sum(axis=1)\n",
    "\n",
    "# Scale data\n",
    "finaldf['scaled_livestockIntensity']= 0\n",
    "for combination in tqdm(combinations):\n",
    "    qq99 = finaldf.loc[(finaldf['lsIntensityCat'] == combination),'lsSum'].quantile(0.99)\n",
    "    print(f'The 99th percentile of summed livestock density for combination {combination} is: {qq99}')\n",
    "    # apply min max scaling to all data less than 99th quantile per unique combination.\n",
    "    scaler = MinMaxScaler()\n",
    "    finaldf.loc[(finaldf['lsIntensityCat'] == combination)&(finaldf['lsSum']<qq99), 'scaled_livestockIntensity']\\\n",
    "    = scaler.fit_transform(pd.DataFrame(finaldf.loc[(finaldf['lsIntensityCat'] == combination)&(finaldf['lsSum']<qq99)\\\n",
    "                                                    , 'lsSum']))\n",
    "    # for data greater than 99th percentile per category, equal to max value 1\n",
    "    finaldf.loc[(finaldf['lsIntensityCat'] == combination)&(finaldf['lsSum']>=qq99), 'scaled_livestockIntensity'] = 1"
   ]
  },
  {
   "cell_type": "code",
   "execution_count": 34,
   "id": "d4bcc049-6f1b-4b60-99c3-a296ea12744d",
   "metadata": {},
   "outputs": [
    {
     "name": "stdout",
     "output_type": "stream",
     "text": [
      "The number of cells per landcover category\n"
     ]
    },
    {
     "data": {
      "text/plain": [
       "6    16190\n",
       "4     2270\n",
       "5     2136\n",
       "2      459\n",
       "1      191\n",
       "3       38\n",
       "Name: Land_Use, dtype: int64"
      ]
     },
     "execution_count": 34,
     "metadata": {},
     "output_type": "execute_result"
    }
   ],
   "source": [
    "#1= Urban\n",
    "#2= Timber plantations\n",
    "#3= Tree Croplands\n",
    "#4= CropLands\n",
    "#5= Protected areas\n",
    "#6= Rangelands/Near-natural lands\n",
    "\n",
    "def ExpertDT(df):\n",
    "\n",
    "    #6= Rangelands/Near-natural lands\n",
    "    df['Land_Use'] = 6\n",
    "\n",
    "    #5= Protected areas\n",
    "    df.loc[df['areakm2_protArea']>0.2, 'Land_Use'] = 5\n",
    "\n",
    "    #4= CropLands\n",
    "    df.loc[df['areakm2_cropCover']>0.2, 'Land_Use'] = 4\n",
    "\n",
    "    #3= Tree Croplands\n",
    "    df.loc[df['areakm2_treeCrop']>0.2, 'Land_Use'] = 3\n",
    "\n",
    "    #2= Timber plantations\n",
    "    df.loc[df['areakm2_plantation']>0.2, 'Land_Use'] = 2\n",
    "\n",
    "    #1= Urban\n",
    "    df.loc[(df['areakm2_urban']>0.2)|\n",
    "           (df['popDensity']>1000) , 'Land_Use'] = 1\n",
    "    return df\n",
    "    \n",
    "result = ExpertDT(finaldf)\n",
    "print('The number of cells per landcover category')\n",
    "result['Land_Use'].value_counts()"
   ]
  },
  {
   "cell_type": "code",
   "execution_count": 33,
   "id": "68b2586f-5588-41e8-bfb8-9b1e8ffcc73e",
   "metadata": {
    "tags": []
   },
   "outputs": [
    {
     "name": "stdout",
     "output_type": "stream",
     "text": [
      "Nfer_kgha: 42.362289600001006\n",
      "popDensity: 10105.014133521889\n"
     ]
    }
   ],
   "source": [
    "# Scale variables\n",
    "colnames = ['Nfer_kgha', 'popDensity']\n",
    "\n",
    "for col in colnames:\n",
    "    # create scaled variable\n",
    "    result['scaled_'+col] = result[col]\n",
    "    if col=='Nfer_kgha':\n",
    "#         For tree croplands\n",
    "        # get 99th percentile is equal to 0.99 quantile\n",
    "        qq99 = result.loc[(result['Land_Use']==3), col].quantile(0.99)\n",
    "        print(f\"{col} for Tree Croplands: {qq99}\")\n",
    "        # apply min max scaling to all data less than 99th quantile.\n",
    "        scaler = MinMaxScaler()\n",
    "        result.loc[(result[col]<qq99)&(result['Land_Use']==3), 'scaled_'+ col] =\\\n",
    "        scaler.fit_transform(pd.DataFrame(result.loc[(result[col]<qq99)&(result['Land_Use']==3), col]))\n",
    "        # for data greater than 99th percentile, equal to max value 1\n",
    "        result.loc[(result[col]>=qq99)&(result['Land_Use']==3), 'scaled_' + col] = 1\n",
    "#         for croplands\n",
    "        # get 99th percentile\n",
    "        qq99 = result.loc[(result['Land_Use']==4), col].quantile(0.99)\n",
    "        print(f\"{col} for CropCover: {qq99}\")\n",
    "        # apply min max scaling to all data less than 99th quantile.\n",
    "        scaler = MinMaxScaler()\n",
    "        result.loc[(result[col]<qq99)&(result['Land_Use']==4), 'scaled_'+ col] =\\\n",
    "        scaler.fit_transform(pd.DataFrame(result.loc[(result[col]<qq99)&(result['Land_Use']==4), col]))\n",
    "        # for data greater than 99th percentile, equal to max value 1\n",
    "        result.loc[(result[col]>=qq99)&(result['Land_Use']==4), 'scaled_' + col] = 1\n",
    "        \n",
    "    if col=='popDensity':\n",
    "        # get 99th percentile\n",
    "        qq99 = result.loc[result['Land_Use']==1, col].quantile(0.99)\n",
    "        print(f\"{col} for urban areas: {qq99}\")\n",
    "        # apply min max scaling to all data less than 99th quantile.\n",
    "        scaler = MinMaxScaler()\n",
    "        result.loc[(result[col]<qq99)&(result['Land_Use']==1), 'scaled_'+ col] =\\\n",
    "        scaler.fit_transform(pd.DataFrame(result.loc[(result[col]<qq99)&(result['Land_Use']==1), col]))\n",
    "        # for data greater than 99th percentile, equal to max value 1\n",
    "        result.loc[(result[col]<qq99)&(result['Land_Use']==1), 'scaled_' + col] = 1"
   ]
  },
  {
   "cell_type": "markdown",
   "id": "fca544e8-cf9a-4bec-a144-4431850d9d2e",
   "metadata": {},
   "source": [
    "## Intensity"
   ]
  },
  {
   "cell_type": "code",
   "execution_count": 35,
   "id": "16c195e1-79ef-4010-bb7e-f2090dc58d6a",
   "metadata": {},
   "outputs": [],
   "source": [
    "result['intensity'] = -1\n",
    "\n",
    "#1= Urban\n",
    "# check if there are urban land use pixels\n",
    "if result.loc[(result['Land_Use']==1), 'intensity'].shape[0]>0:\n",
    "#     scale urban area between 0 and 1 (from 0.2 to 1)\n",
    "    scaler = MinMaxScaler()\n",
    "    result.loc[(result['Land_Use']==1), 'scaled_areakm2_urban'] = scaler.fit_transform(pd.DataFrame(result.loc[(result['Land_Use']==1)\\\n",
    "                                                                                                             , 'areakm2_urban']))\n",
    "#     assign intensity scores based on an equal weighting of scaled popDensity and scaled urban area\n",
    "    result.loc[(result['Land_Use']==1), 'intensity'] = (result['scaled_areakm2_urban']+\\\n",
    "                                                        result['scaled_popDensity'])/2\n",
    "#     scale raw intensity values between 0 and 1 within a land use\n",
    "    scaler = MinMaxScaler()\n",
    "    result.loc[(result['Land_Use']== 1), 'scaled_intensity'] = scaler.fit_transform(pd.DataFrame(result.loc[(result['Land_Use']==1)\\\n",
    "                                                                                                                   , 'intensity']))\n",
    "\n",
    "#3= Tree Croplands\n",
    "if result.loc[(result['Land_Use']==3), 'intensity'].shape[0]>0:\n",
    "    scaler = MinMaxScaler()\n",
    "    result.loc[(result['Land_Use']==3), 'scaled_areakm2_treeCrop'] = scaler.fit_transform(pd.DataFrame(result.loc[(result['Land_Use']==3)\\\n",
    "                                                                                                                  , 'areakm2_treeCrop']))\n",
    "    result.loc[(result['Land_Use']==3), 'intensity'] = (result['scaled_areakm2_treeCrop']+\\\n",
    "                                                        result['scaled_fieldSize']+\\\n",
    "                                                        result['scaled_Nfer_kgha']\\\n",
    "                                                       )/3\n",
    "    scaler = MinMaxScaler()\n",
    "    result.loc[(result['Land_Use']==3), 'scaled_intensity'] = scaler.fit_transform(pd.DataFrame(result.loc[(result['Land_Use']==3)\\\n",
    "                                                                                                                   , 'intensity']))\n",
    "\n",
    "#4 = Croplands\n",
    "if result.loc[(result['Land_Use']==4), 'intensity'].shape[0]>0:\n",
    "    scaler = MinMaxScaler()\n",
    "    result.loc[(result['Land_Use']==4), 'scaled_areakm2_cropCover'] = scaler.fit_transform(pd.DataFrame(result.loc[(result['Land_Use']==4)\\\n",
    "                                                                                                                   , 'areakm2_cropCover']))\n",
    "    result.loc[(result['Land_Use']==4), 'intensity'] = (result['scaled_areakm2_cropCover']+\\\n",
    "                                                        result['scaled_fieldSize']+\\\n",
    "                                                        result['scaled_Nfer_kgha']\\\n",
    "                                                       )/3\n",
    "    scaler = MinMaxScaler()\n",
    "    result.loc[(result['Land_Use']==4), 'scaled_intensity'] = scaler.fit_transform(pd.DataFrame(result.loc[(result['Land_Use']==4)\\\n",
    "                                                                                                                   , 'intensity']))\n",
    "\n",
    "#6 = Rangelands/ Near-naturallands\n",
    "if result.loc[(result['Land_Use']==6), 'intensity'].shape[0]>0:\n",
    "    result.loc[(result['Land_Use']==6), 'intensity'] = (result['scaled_livestockIntensity']+\\\n",
    "                                                        result['scaled_Nfer_kgha'])/2"
   ]
  },
  {
   "cell_type": "code",
   "execution_count": 36,
   "id": "c4233847-b6bd-4e76-a2a7-ed3c159ffc45",
   "metadata": {},
   "outputs": [],
   "source": [
    "gdf = gpd.GeoDataFrame(result.drop(['x', 'y','combination_LS_intensity'], axis = 1), geometry = gpd.points_from_xy(result.x, result.y), crs= 'EPSG:4326')"
   ]
  },
  {
   "cell_type": "code",
   "execution_count": 37,
   "id": "917a0d9f-92dc-4dd6-af53-f3bfa1c4f878",
   "metadata": {},
   "outputs": [],
   "source": [
    "gdf.drop(['areakm2_slowNutrArea','areakm2_sMedNutriArea', 'areakm2_sHighNutriArea'], axis=1, inplace=True)"
   ]
  },
  {
   "cell_type": "code",
   "execution_count": 38,
   "id": "f2217c92-787d-46d7-9038-e0ee7e80da37",
   "metadata": {},
   "outputs": [
    {
     "data": {
      "text/plain": [
       "Index(['areakm2_urban', 'areakm2_cropCover', 'areakm2_protArea',\n",
       "       'areakm2_plantation', 'areakm2_treeCrop', 'gid', 'mean_precip',\n",
       "       'Nfer_kgha', 'popDensity', 'sheepDensity', 'goatDensity',\n",
       "       'cattleDensity', 'fieldSize', 'id1km', 'id8km', 'scaled_fieldSize',\n",
       "       'maxN', 'areakm2_slowNutrArea2', 'areakm2_sMedNutriArea2',\n",
       "       'areakm2_sHighNutriArea2', 'precipDiscrete', 'maxNutr',\n",
       "       'lsIntensityCat', 'lsSum', 'scaled_livestockIntensity',\n",
       "       'scaled_Nfer_kgha', 'scaled_popDensity', 'Land_Use', 'intensity',\n",
       "       'scaled_areakm2_urban', 'scaled_areakm2_treeCrop',\n",
       "       'scaled_areakm2_cropCover', 'geometry'],\n",
       "      dtype='object')"
      ]
     },
     "execution_count": 38,
     "metadata": {},
     "output_type": "execute_result"
    }
   ],
   "source": [
    "gdf.columns"
   ]
  },
  {
   "cell_type": "code",
   "execution_count": 39,
   "id": "cdffc10c-9242-45fd-9b6f-244fec6d0735",
   "metadata": {},
   "outputs": [],
   "source": [
    "gdf.columns = ['km2_urban',\n",
    " 'km2_cropCov',\n",
    " 'km2_protAr',\n",
    " 'km2_plntn',\n",
    " 'km2_trCrp',\n",
    " 'gid',\n",
    " 'mean_precip',\n",
    " 'mean_Nfer',\n",
    " 'sum_popDen',\n",
    " 'sum_shpDen',\n",
    " 'sum_gtDen',\n",
    " 'sum_ctlDen',        \n",
    " 'fieldSize',\n",
    " 'id1km',\n",
    " 'id8km',\n",
    " 'fieldSzScd',\n",
    " 'maxSNtrAr',      \n",
    " 'km2_sLwNtr',\n",
    " 'km2_sMdNtr',\n",
    " 'km2_sHgNtr',\n",
    " 'precipDisc',\n",
    " 'maxSNtrCat',\n",
    " 'LSIntenCat',\n",
    " 'LSSum',\n",
    " 'LSIntenScd',\n",
    " 'NferScd',\n",
    " 'popDenScd',     \n",
    " 'Land_Use',\n",
    " 'Intensity',\n",
    " 'km2_ubn_sd',\n",
    " 'km2_trCrp_s',\n",
    " 'km2_crpCv_s',\n",
    " 'geometry']"
   ]
  },
  {
   "cell_type": "code",
   "execution_count": 40,
   "id": "2746cd94-ec9e-48df-b463-58608ee4ae29",
   "metadata": {},
   "outputs": [],
   "source": [
    "gdf.loc[:,'precipDisc'] = gdf.loc[:,'precipDisc'].astype('int')\n",
    "gdf.loc[:,'maxSNtrCat'] = gdf.loc[:,'maxSNtrCat'].astype('string')"
   ]
  },
  {
   "cell_type": "code",
   "execution_count": 41,
   "id": "98a15c7c-f928-47cf-b2d6-819be022480f",
   "metadata": {},
   "outputs": [
    {
     "name": "stdout",
     "output_type": "stream",
     "text": [
      "C:\\Users\\coach\\myfiles\\miscellenous\\hayley\\outputs\\South Africa\n"
     ]
    }
   ],
   "source": [
    "print(os.getcwd())\n",
    "outfile = f\"{country}_8km_{date}.shp\"\n",
    "gdf.to_file(outfile)"
   ]
  },
  {
   "cell_type": "code",
   "execution_count": null,
   "id": "bdda1122-7af3-42d3-ad33-fae4ca841df2",
   "metadata": {},
   "outputs": [],
   "source": []
  }
 ],
 "metadata": {
  "kernelspec": {
   "display_name": "erty",
   "language": "python",
   "name": "erty"
  },
  "language_info": {
   "codemirror_mode": {
    "name": "ipython",
    "version": 3
   },
   "file_extension": ".py",
   "mimetype": "text/x-python",
   "name": "python",
   "nbconvert_exporter": "python",
   "pygments_lexer": "ipython3",
   "version": "3.9.12"
  },
  "toc-autonumbering": false,
  "toc-showcode": false
 },
 "nbformat": 4,
 "nbformat_minor": 5
}
