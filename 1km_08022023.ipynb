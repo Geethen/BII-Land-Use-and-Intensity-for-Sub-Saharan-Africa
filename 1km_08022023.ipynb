{
 "cells": [
  {
   "cell_type": "markdown",
   "id": "4eee31b3-4e0b-45c5-bfe6-62e73b3da1db",
   "metadata": {},
   "source": [
    "# BII project land use and intensity\n",
    "This notebook contains the code for extracting, pre-processing, and applying the expert decsion tree and computing the intensity values of six categories of land use at a 1x1 km spatial resolution. \n",
    "\n",
    "Output: A shapefile with a point for every 1x1 km cell within a country.\n",
    "\n",
    "### High-level steps\n",
    "1. sub saharan african countries are identified (filtered)\n",
    "2. A grid is created for the country of interest\n",
    "3. All variables (Refer to list of variables.docx) required are extracted from Google Earth Engine at the aggregated 1km scale\n",
    "4. Datasets are combined and pre-processed. Includes, filling in missing data, scaling data and correcting data types.\n",
    "5. The expert decision tree is applied that outputs a land use for every point\n",
    "6. Data is scaled and the intensity scores are computed"
   ]
  },
  {
   "cell_type": "markdown",
   "id": "fa07fcc9-b983-4c60-a3ad-040b7516bfe8",
   "metadata": {},
   "source": [
    "## Setup"
   ]
  },
  {
   "cell_type": "code",
   "execution_count": 1,
   "id": "b9017466-c447-4665-aec6-f760ce96787d",
   "metadata": {
    "tags": []
   },
   "outputs": [],
   "source": [
    "import os\n",
    "from datetime import datetime\n",
    "\n",
    "import ee\n",
    "# ee.Authenticate()\n",
    "ee.Initialize(opt_url='https://earthengine-highvolume.googleapis.com')\n",
    "import geemap, eerepr\n",
    "from geemap import ee_to_geopandas\n",
    "from tqdm.auto import tqdm\n",
    "from geeml.utils import createGrid, getCountry, eeprint\n",
    "from geeml.extract import extractor\n",
    "\n",
    "from osgeo import gdal"
   ]
  },
  {
   "cell_type": "code",
   "execution_count": 2,
   "id": "29d76aa5-fcf6-460b-8f6d-fd70f2a70ecd",
   "metadata": {},
   "outputs": [],
   "source": [
    "# get sub-saharan countries\n",
    "# https://code.earthengine.google.com/443ea31edb2f25f58a3346e7dc8c1064\n",
    "countries = ee.FeatureCollection(\"USDOS/LSIB/2017\")\n",
    "c2 = ee.FeatureCollection(\"USDOS/LSIB_SIMPLE/2017\")\n",
    "\n",
    "africa = c2.filter(ee.Filter.eq('wld_rgn', 'Africa'))\n",
    "sub = countries.filterBounds(africa).aggregate_array('COUNTRY_NA')\\\n",
    ".removeAll(['Algeria', 'Egypt', 'Libya', 'Morocco', 'Tunisia', 'Mayotte (Fr)', 'Spain [Canary Is]', 'Spain [Plazas de Soberania]', 'Portugal [Madeira Is]'])\n",
    "\n",
    "sub_africa = countries.filter(ee.Filter.inList('COUNTRY_NA', sub))"
   ]
  },
  {
   "cell_type": "code",
   "execution_count": 3,
   "id": "03b38e21-0808-434a-a722-9fba7702d56e",
   "metadata": {
    "tags": []
   },
   "outputs": [
    {
     "name": "stdout",
     "output_type": "stream",
     "text": [
      "dict_keys(['Benin', 'Niger', 'Nigeria', 'Djibouti', 'Equatorial Guinea', 'Eritrea', 'Ethiopia', 'Gabon', 'Gambia, The', 'Mozambique', 'Namibia', 'Gaza Strip (disp)', 'Ghana', 'Guinea', 'Guinea-Bissau', 'Kenya', 'Sierra Leone', 'Koualou (disp)', 'Lesotho', 'Liberia', 'Madagascar', 'Malawi', 'Mali', 'Mauritania', 'Rwanda', 'Sao Tome & Principe', 'Senegal', 'Somalia', 'South Sudan', 'Sudan', 'Swaziland', 'Tanzania', 'Togo', 'Uganda', 'Western Sahara (disp)', 'Zambia', 'Zimbabwe', 'Israel', 'Abyei (disp)', 'Angola', 'Botswana', 'Comoros', 'Congo, Dem Rep of the', 'Congo, Rep of the', 'Burkina Faso', 'Burundi', 'Cabo Verde', 'Cameroon', \"Cote d'Ivoire\", 'Central African Rep', 'Chad', 'South Africa'])\n"
     ]
    }
   ],
   "source": [
    "country_list = sub_africa.aggregate_array('COUNTRY_NA').getInfo()\n",
    "\n",
    "dd = r\"C:\\Users\\coach\\myfiles\\miscellenous\\hayley\\outputs\"\n",
    "\n",
    "config = {}\n",
    "for country in country_list:\n",
    "    csavepath = f\"{dd}/{country}\"\n",
    "    caoi = sub_africa.filter(ee.Filter.eq('COUNTRY_NA', country))\n",
    "    config[country] = {'dd':csavepath,\n",
    "                       'aoi':caoi}\n",
    "print(config.keys())"
   ]
  },
  {
   "cell_type": "code",
   "execution_count": 70,
   "id": "8d9e8e9b-d870-4858-aff0-dd56ee9faa05",
   "metadata": {},
   "outputs": [
    {
     "name": "stdout",
     "output_type": "stream",
     "text": [
      "C:\\Users\\coach\\myfiles\\miscellenous\\hayley\\outputs\\South Africa\n"
     ]
    }
   ],
   "source": [
    "country = 'South Africa'\n",
    "\n",
    "# Get current date- used for saving files\n",
    "date = datetime.today().strftime('%d%m%Y')\n",
    "\n",
    "aoi = config.get(country).get('aoi')\n",
    "\n",
    "# Set path for saving data\n",
    "dd = config.get(country).get('dd')\n",
    "if not os.path.exists(dd):\n",
    "    os.makedirs(dd)\n",
    "    os.chdir(dd)\n",
    "else:\n",
    "    os.chdir(dd)\n",
    "    \n",
    "print(os.getcwd())"
   ]
  },
  {
   "cell_type": "code",
   "execution_count": 71,
   "id": "621da6c3-4cf9-41cc-9c6d-03440a2abe1f",
   "metadata": {
    "tags": []
   },
   "outputs": [
    {
     "data": {
      "application/vnd.jupyter.widget-view+json": {
       "model_id": "c7645c6e0da44204ad51939dac711cdc",
       "version_major": 2,
       "version_minor": 0
      },
      "text/plain": [
       "Map(center=[-28.97574975972159, 25.201998135703736], controls=(WidgetControl(options=['position', 'transparent…"
      ]
     },
     "metadata": {},
     "output_type": "display_data"
    }
   ],
   "source": [
    "# Sanity check that the correct country is selected\n",
    "Map = geemap.Map()\n",
    "Map.centerObject(aoi, 3)\n",
    "Map.addLayer(aoi)\n",
    "Map"
   ]
  },
  {
   "cell_type": "markdown",
   "id": "1e02a099-a364-4192-8dac-bd1cdc1a2f4f",
   "metadata": {},
   "source": [
    "## Data extraction"
   ]
  },
  {
   "cell_type": "code",
   "execution_count": 72,
   "id": "81bca092-163d-4696-8493-3599b384552e",
   "metadata": {},
   "outputs": [],
   "source": [
    "# Define projection\n",
    "wkt = '\\\n",
    "PROJCS[\"Africa_Albers_Equal_Area_Conic\",\\\n",
    "    GEOGCS[\"GCS_WGS_1984\",\\\n",
    "    DATUM[\"WGS_1984\",\\\n",
    "    SPHEROID[\"WGS_1984\",6378137,298.257223563]],\\\n",
    "    PRIMEM[\"Greenwich\",0],\\\n",
    "    UNIT[\"Degree\",0.017453292519943295]],\\\n",
    "    PROJECTION[\"Albers_Conic_Equal_Area\"],\\\n",
    "    PARAMETER[\"False_Easting\",0],\\\n",
    "    PARAMETER[\"False_Northing\",0],\\\n",
    "    PARAMETER[\"longitude_of_center\",25],\\\n",
    "    PARAMETER[\"Standard_Parallel_1\",20],\\\n",
    "    PARAMETER[\"Standard_Parallel_2\",-23],\\\n",
    "    PARAMETER[\"latitude_of_center\",0],\\\n",
    "    UNIT[\"Meter\",1],\\\n",
    "    AUTHORITY[\"EPSG\",\"102022\"]]'\n",
    "\n",
    "# ALbers equal area for africa\n",
    "epsg_102022 = ee.Projection(wkt)\n",
    "\n",
    "grid1km, _ = createGrid(1000, aoi, crs = epsg_102022)\n",
    "grid8km, _ = createGrid(8000, aoi, crs = epsg_102022)"
   ]
  },
  {
   "cell_type": "code",
   "execution_count": 73,
   "id": "f05b6d60-8df4-4a9f-9560-b83ba0cb1632",
   "metadata": {},
   "outputs": [],
   "source": [
    "# Urban cover (10m>>1km) 2019\n",
    "area = ee.Image.pixelArea().divide(1e6).clip(aoi.geometry().buffer(5000))\n",
    "urban_cover = ee.ImageCollection(\"projects/sat-io/open-datasets/WSF/WSF_2019\").filterBounds(aoi)\\\n",
    ".mosaic().eq(255).unmask(0)\n",
    "urbanAreaImage = area.multiply(urban_cover).rename('areakm2_urban')\n",
    "\n",
    "# Crop cover (30 m)\n",
    "crop_cover = ee.ImageCollection(\"users/potapovpeter/Global_cropland_2019\").filterBounds(aoi).mosaic()\n",
    "cropAreaImage = area.multiply(crop_cover).rename('areakm2_cropCover')\n",
    "\n",
    "# Protected area\n",
    "prot_areas = ee.FeatureCollection(\"projects/ee-geethensingh/assets/WDPA_Africa_strict\").filterBounds(aoi)\n",
    "protectedAreaImage = area.clipToCollection(prot_areas).unmask(0).rename('areakm2_protArea')    \n",
    "\n",
    "# Plantation and tree crop\n",
    "result = ee.ImageCollection(\"users/liuzhujun/SDPT_NEW\").mosaic()\n",
    "plantag = ee.Image(\"users/duzhenrong/SDPT/sdpt_plantag\")\n",
    "china_plantyear = ee.ImageCollection(\"users/liuzhujun/SDPT_China\").mosaic().rename('plantyear')\n",
    "DescalesOP = ee.ImageCollection(\"users/liuzhujun/Descales\").mosaic()\n",
    "op = DescalesOP.updateMask(DescalesOP.gt(1980)).rename('plantyear')\n",
    "sdpt_name = ee.Image(\"users/duzhenrong/SDPT/sdpt_name\")\n",
    "\n",
    "china_plantyear=china_plantyear.updateMask(china_plantyear.gt(1980))\n",
    "result=result.rename('plantyear').updateMask((sdpt_name.lt(120).And(sdpt_name.gt(0))).Or(sdpt_name.gt(129))).toInt32()\n",
    "\n",
    "plantationForest=ee.ImageCollection([result.updateMask(plantag.eq(1)),china_plantyear]).mosaic().gt(0).unmask(0) \n",
    "plantationAreaImage = area.updateMask(plantationForest).rename('areakm2_plantation')\n",
    "treeCrop=result.multiply(plantag.eq(2))\n",
    "treeCrop =ee.ImageCollection([treeCrop,op]).mosaic().gt(0)  \n",
    "treeCropAreaImage = area.multiply(treeCrop).rename('areakm2_treeCrop')\n",
    "\n",
    "#Soil nutrients\n",
    "Soil_Lownutrient = ee.FeatureCollection(\"projects/ee-geethensingh/assets/Bell_1982_nutrient_map\")\\\n",
    ".filter(ee.Filter.eq('Nut_status', 'Low'))\n",
    "Soil_Mednutrient = ee.FeatureCollection(\"projects/ee-geethensingh/assets/Bell_1982_nutrient_map\")\\\n",
    ".filter(ee.Filter.eq('Nut_status', 'Medium'))\n",
    "Soil_Highnutrient = ee.FeatureCollection(\"projects/ee-geethensingh/assets/Bell_1982_nutrient_map\")\\\n",
    ".filter(ee.Filter.eq('Nut_status', 'High'))\n",
    "\n",
    "soilLowNutrientAreaImage = area.clipToCollection(Soil_Lownutrient).unmask(0).rename('areakm2_slowNutrArea')\n",
    "soilMedNutrientAreaImage = area.clipToCollection(Soil_Mednutrient).unmask(0).rename('areakm2_sMedNutriArea')\n",
    "soilHighNutrientAreaImage = area.clipToCollection(Soil_Highnutrient).unmask(0).rename('areakm2_sHighNutriArea')\n",
    "\n",
    "# Population Density\n",
    "popDensity = ee.ImageCollection(\"CIESIN/GPWv411/GPW_UNWPP-Adjusted_Population_Density\")\\\n",
    ".select('unwpp-adjusted_population_density').filterBounds(aoi).mosaic().rename('popDensity').unmask(0)\n",
    "                                       \n",
    "# Grazing Intensity\n",
    "area = ee.Image('projects/ee-geethensingh/assets/GrazingDensity/GI_8_Areakm').unmask(0)\n",
    "cattleDensity = ee.Image('projects/ee-geethensingh/assets/GrazingDensity/5_Ct_2010_Da').divide(area).rename('cattleDensity').unmask(0)\n",
    "sheepDensity = ee.Image('projects/ee-geethensingh/assets/GrazingDensity/5_Sh_2010_Da').divide(area).rename('sheepDensity').unmask(0)\n",
    "goatDensity = ee.Image('projects/ee-geethensingh/assets/GrazingDensity/5_Gt_2010_Da').divide(area).rename('goatDensity').unmask(0)\n",
    "\n",
    "# Precipitation\n",
    "years = list(range(1991,2021))\n",
    "precipitation = ee.ImageCollection(\"UCSB-CHG/CHIRPS/DAILY\").filterBounds(aoi)  \n",
    "precipitation = ee.Image(ee.ImageCollection(ee.List(years).map(lambda year: precipitation\\\n",
    ".filterDate(ee.Number(year).format(), ee.Number(year).add(1).format()).sum())).mean().rename('mm_precipitation')).unmask(0)\n",
    "\n",
    "# Nitrogen input\n",
    "proj = ee.Projection('EPSG:4326').scale(0.25,0.25)\n",
    "grid = aoi.geometry().coveringGrid(proj)\n",
    "\n",
    "nInput = ee.FeatureCollection(\"projects/ee-geethensingh/assets/Nfur_15arcmins_transformed\").filterBounds(aoi)\\\n",
    ".map(lambda x: x.set(\"Nfer_type\",ee.Algorithms.ObjectType(x.get(\"Nfer_kgha_\"))))\n",
    "nInputStr = nInput.filter(ee.Filter.eq('Nfer_type', 'String')).map(lambda x: x.set(\"Nfer_kgha_\",ee.Number.parse(x.get(\"Nfer_kgha_\")).toFloat()))\n",
    "nInputNumber = nInput.filter(ee.Filter.neq('Nfer_type', 'String')).map(lambda x: x.set(\"Nfer_kgha_\",ee.Number(x.get(\"Nfer_kgha_\")).toFloat()))\n",
    "\n",
    "nInput = nInputStr.merge(nInputNumber)\n",
    "\n",
    "def pointToGrid(ft):\n",
    "    feat = ee.Feature(ft);\n",
    "    first = nInput.filterBounds(feat.geometry()).aggregate_first('Nfer_kgha_');\n",
    "    return feat.set('Nfer_kgha_', first);\n",
    "\n",
    "nInput = grid.filterBounds(nInput).map(pointToGrid)\\\n",
    ".reduceToImage(**{'properties': ee.List([\"Nfer_kgha_\"]), 'reducer': ee.Reducer.first()})\\\n",
    ".rename('Nfer_kgha').unmask(0)\n",
    "\n",
    "# FieldSize\n",
    "fieldSize = ee_to_geopandas(ee.FeatureCollection(\"projects/ee-geethensingh/assets/dominant_field_sizes\")\\\n",
    "                            .filterBounds(aoi)\\\n",
    "                            .filter(ee.Filter.neq('field_size', 'NA'))\\\n",
    "                            .map(lambda x: x.set(\"fieldSize\",ee.Number.parse(x.get(\"field_size\")))\\\n",
    "                            ).select(['fieldSize', 'geometry'])).set_crs('EPSG:4326').to_crs(wkt)"
   ]
  },
  {
   "cell_type": "code",
   "execution_count": null,
   "id": "ab554c31-eb9b-4032-9023-6e62cb07ae59",
   "metadata": {},
   "outputs": [
    {
     "data": {
      "application/vnd.jupyter.widget-view+json": {
       "model_id": "53fdd2a229964daf84bc135da2f5aed8",
       "version_major": 2,
       "version_minor": 0
      },
      "text/plain": [
       "sum_1km.csv: |                                                                         | [  0.0%] in 00:00 (et…"
      ]
     },
     "metadata": {},
     "output_type": "display_data"
    }
   ],
   "source": [
    "# # Extract data\n",
    "sumCovariates = urbanAreaImage.addBands([cropAreaImage, protectedAreaImage, soilLowNutrientAreaImage,\\\n",
    "                                    soilMedNutrientAreaImage, soilHighNutrientAreaImage,\\\n",
    "                                    plantationAreaImage, treeCropAreaImage])\n",
    "# extract 30m datasets for 1km grid using sum reducer\n",
    "extractor(sumCovariates, aoi.geometry(), scale = 30, dd = dd, target = grid1km, crs = epsg_102022, num_threads = 25)\\\n",
    ".extractByGrid(reduce = True, reducer = ee.Reducer.sum(), gridSize = 100000, batchSize = 5000, filename = 'sum_1km.csv')\n",
    "\n",
    "coords = ee.Image.pixelCoordinates(epsg_102022)\n",
    "\n",
    "# extract field size and unique id's at 1km scale using 1km grid using first reducer\n",
    "extractor(coords, aoi.geometry(), scale = 1000, dd = dd, target = grid1km, crs = epsg_102022, num_threads = 25)\\\n",
    ".extractByGrid(reduce = True, reducer = ee.Reducer.first(), gridSize = 100000, batchSize = 5000, filename = 'coords_1km.csv')\n",
    "\n",
    "# Extract precipitation and nitrogen Input\n",
    "meanCovariates = precipitation.addBands([nInput, popDensity,\\\n",
    "                                        sheepDensity, goatDensity,cattleDensity])\n",
    "\n",
    "extractor(meanCovariates, aoi.geometry(), scale = 1000, dd = dd, target = grid1km, crs = epsg_102022, num_threads = 25)\\\n",
    ".extractByGrid(reduce = True, reducer = ee.Reducer.mean(), gridSize = 100000, batchSize = 5000, filename = 'mean_1km.csv')\n"
   ]
  },
  {
   "cell_type": "markdown",
   "id": "70aa0733-c996-443f-95c3-dcd20097fbb2",
   "metadata": {},
   "source": [
    "## Prepare data\n",
    "## 1km"
   ]
  },
  {
   "cell_type": "code",
   "execution_count": 74,
   "id": "d7d15109-ae9e-4780-b831-142d8c4b0618",
   "metadata": {},
   "outputs": [],
   "source": [
    "# For grid cells with crop_cover and no data, assign field size of nearest cell.\n",
    "import math\n",
    "import os\n",
    "\n",
    "import pandas as pd\n",
    "import geopandas as gpd\n",
    "import matplotlib.pyplot as plt\n",
    "import numpy as np\n",
    "from sklearn.preprocessing import MinMaxScaler, RobustScaler\n",
    "from tqdm.auto import tqdm\n",
    "\n",
    "from scipy.spatial import cKDTree\n",
    "from shapely.geometry import Point"
   ]
  },
  {
   "cell_type": "code",
   "execution_count": 75,
   "id": "1e4a3273-6416-4221-ba61-1194b0206cab",
   "metadata": {},
   "outputs": [],
   "source": [
    "def ckdnearest(gdA, gdB, k=1):\n",
    "\n",
    "    nA = np.array(list(gdA.geometry.apply(lambda x: (x.x, x.y))))\n",
    "    nB = np.array(list(gdB.geometry.apply(lambda x: (x.x, x.y))))\n",
    "    btree = cKDTree(nB)\n",
    "    dist, idx = btree.query(nA, k=k)\n",
    "    gdB_nearest = gdB.iloc[idx].drop(columns=\"geometry\").reset_index(drop=True)\n",
    "    gdf = pd.concat(\n",
    "        [\n",
    "            gdA.reset_index(drop=True),\n",
    "            gdB_nearest,\n",
    "            pd.Series(dist, name='dist')\n",
    "        ], \n",
    "        axis=1)\n",
    "\n",
    "    return gdf"
   ]
  },
  {
   "cell_type": "code",
   "execution_count": 76,
   "id": "2ef8a80d-3d3b-45c9-8345-70d1a8e77b1a",
   "metadata": {},
   "outputs": [],
   "source": [
    "# #Field Size data\n",
    "df = pd.read_csv(r\"coords_1km.csv\", low_memory=False, header = None, index_col = False, skiprows=1)\n",
    "df.columns = ['x', 'y', 'gid']"
   ]
  },
  {
   "cell_type": "code",
   "execution_count": 77,
   "id": "be40b258-93b1-4223-b8e8-804bbdf1a37a",
   "metadata": {},
   "outputs": [],
   "source": [
    "df1 = pd.read_csv(r\"sum_1km.csv\", low_memory=False, header = None, index_col = False, skiprows=1)\n",
    "df1.columns = ['areakm2_urban','areakm2_cropCover', 'areakm2_protArea',\n",
    "       'areakm2_slowNutrArea', 'areakm2_sMedNutriArea',\n",
    "       'areakm2_sHighNutriArea', 'areakm2_plantation', 'areakm2_treeCrop', 'gid']"
   ]
  },
  {
   "cell_type": "code",
   "execution_count": 78,
   "id": "38b64040-8c07-4508-9cfc-431499973e3a",
   "metadata": {},
   "outputs": [],
   "source": [
    "# Mean covariate data\n",
    "dfmean = pd.read_csv(r\"mean_1km.csv\", low_memory=False, header = None, index_col = False, skiprows=1)\n",
    "dfmean.columns = ['mean_precip','Nfer_kgha', 'popDensity', 'sheepDensity', 'goatDensity', 'cattleDensity', 'gid']\n",
    "dfmean= dfmean[dfmean['gid']!= '245,-2948']"
   ]
  },
  {
   "cell_type": "code",
   "execution_count": 79,
   "id": "1c8f9763-4324-49d2-9c24-47af99ce45e4",
   "metadata": {},
   "outputs": [],
   "source": [
    "# Merge datasets into single datset based on matching GIS column\n",
    "dfJoin = pd.merge(df1, dfmean, on= 'gid')\n",
    "dfAll = pd.merge(dfJoin, df, on= 'gid').drop_duplicates().reset_index(drop=True)"
   ]
  },
  {
   "cell_type": "code",
   "execution_count": 80,
   "id": "b6e547e0-559f-4e7a-b289-c228d6aa6ced",
   "metadata": {},
   "outputs": [
    {
     "name": "stdout",
     "output_type": "stream",
     "text": [
      "The number of missing mean_precip values: 0\n"
     ]
    }
   ],
   "source": [
    "# Fill in missing mean precipitation data\n",
    "# by copying attribute of closest point\n",
    "missing = dfAll.mean_precip.isna().sum()\n",
    "print('The number of missing mean_precip values:', missing)\n",
    "if missing>0:\n",
    "    # Blocks with mean-precip data\n",
    "    sdf2 = dfAll.loc[dfAll['mean_precip'].notna(), ['mean_precip', 'x', 'y']]\n",
    "    gdf2 =  gpd.GeoDataFrame(sdf2.drop(['x', 'y'],axis=1), geometry = gpd.points_from_xy(sdf2.x, sdf2.y))\n",
    "\n",
    "    # All columns without join-attributes(s) column\n",
    "    sdf1 = dfAll.loc[dfAll['mean_precip'].isna(), ['gid','x', 'y']]\n",
    "    gdf1 =  gpd.GeoDataFrame(sdf1.drop(['x', 'y'],axis=1), geometry = gpd.points_from_xy(sdf1.x, sdf1.y))\n",
    "\n",
    "    joinNearest1 = ckdnearest(gdf1, gdf2)\n",
    "\n",
    "    result1 = pd.DataFrame(joinNearest1)[['gid', 'mean_precip']]\n",
    "    result1.columns = ['gid', 'mean_precip2']\n",
    "\n",
    "    dfAll = pd.merge(dfAll, result1, how = 'outer',on = 'gid').drop_duplicates()\n",
    "    dfAll['mean_precip'].fillna(dfAll['mean_precip2'], inplace = True)\n",
    "    dfAll.drop('mean_precip2', axis=1, inplace=True)"
   ]
  },
  {
   "cell_type": "code",
   "execution_count": 81,
   "id": "70b5a721-886e-4c97-a8bc-985942ab3b2a",
   "metadata": {
    "tags": []
   },
   "outputs": [],
   "source": [
    "dfF = dfAll[dfAll['areakm2_treeCrop']!= '2726,-3471']\n",
    "\n",
    "# Format data types\n",
    "dfF.loc[:,'areakm2_treeCrop'] = dfF.loc[:,'areakm2_treeCrop'].astype('float64')\n",
    "dfF.loc[:,'gid'] = dfF.loc[:,'gid'].astype('string')\n",
    "dfF.loc[:,'Nfer_kgha'] = dfF.loc[:,'Nfer_kgha'].astype('float64')\n",
    "dfF.loc[:,'mean_precip'] = dfF.loc[:,'mean_precip'].astype('float32')"
   ]
  },
  {
   "cell_type": "code",
   "execution_count": 82,
   "id": "5ffbb593-3673-41aa-b4e3-6adf34ec742d",
   "metadata": {},
   "outputs": [
    {
     "name": "stdout",
     "output_type": "stream",
     "text": [
      "The number of missing soil nutrient values: 8804\n"
     ]
    }
   ],
   "source": [
    "# Fill in missing Nutrient data\n",
    "# Copy attribute of closest point\n",
    "df = dfF\n",
    "df['maxN'] = df[['areakm2_slowNutrArea','areakm2_sMedNutriArea', 'areakm2_sHighNutriArea']].max(axis=1)\n",
    "\n",
    "missing = df[df.maxN==0].shape[0]\n",
    "print('The number of missing soil nutrient values:', missing)\n",
    "if missing>0:\n",
    "    # Blocks with Nutrient areas\n",
    "    sdf2 = df.loc[df['maxN']>0, ['areakm2_slowNutrArea','areakm2_sMedNutriArea', 'areakm2_sHighNutriArea', 'x', 'y']]\n",
    "    gdf2 =  gpd.GeoDataFrame(sdf2.drop(['x', 'y'],axis=1), geometry = gpd.points_from_xy(sdf2.x, sdf2.y))\n",
    "\n",
    "    # All columns without join-attributes(s) column\n",
    "    sdf1 = df[['gid', 'x', 'y']]\n",
    "    gdf1 =  gpd.GeoDataFrame(sdf1.drop(['x', 'y'],axis=1), geometry = gpd.points_from_xy(sdf1.x, sdf1.y))\n",
    "\n",
    "    joinNearest1 = ckdnearest(gdf1, gdf2)\n",
    "\n",
    "    result1 = pd.DataFrame(joinNearest1)[['gid', 'areakm2_slowNutrArea','areakm2_sMedNutriArea', 'areakm2_sHighNutriArea']]\n",
    "    result1.columns = ['gid', 'areakm2_slowNutrArea2','areakm2_sMedNutriArea2', 'areakm2_sHighNutriArea2']\n",
    "\n",
    "    finaldf = pd.merge(df, result1, how = 'outer',on = 'gid')"
   ]
  },
  {
   "cell_type": "code",
   "execution_count": 83,
   "id": "5f0c762e-ecc3-4011-9114-ecbed2edf8fc",
   "metadata": {},
   "outputs": [
    {
     "name": "stdout",
     "output_type": "stream",
     "text": [
      "1    569218\n",
      "0    564672\n",
      "2     89023\n",
      "3      1581\n",
      "Name: precipDiscrete, dtype: int64\n"
     ]
    }
   ],
   "source": [
    "# Add small value to zero precip\n",
    "finaldf.loc[finaldf.mean_precip==0, 'mean_precip'] = 0.1\n",
    "# Round of to the nearest 400\n",
    "max_round = math.ceil(max(finaldf['mean_precip']) / 400) * 400\n",
    "cut_bins = list(range(0, max_round+1, 400))\n",
    "# discretize precipitation into categories \n",
    "cut_labels = [str(item) for item in range(0, len(cut_bins)-1)]\n",
    "finaldf[\"precipDiscrete\"] = pd.cut(x = finaldf[\"mean_precip\"].astype(float), bins= cut_bins, labels = cut_labels)\n",
    "print(finaldf.precipDiscrete.value_counts())\n",
    "\n",
    "# Identify the max nutrient area\n",
    "finaldf['maxNutr'] = finaldf[['areakm2_slowNutrArea2','areakm2_sMedNutriArea2', 'areakm2_sHighNutriArea2']].idxmax(axis=1)\n",
    "\n",
    "# Get unique category based on precip bucket and max nutrient category\n",
    "finaldf['combination_LS_intensity'] = finaldf[['precipDiscrete','maxNutr']].agg(tuple, axis=1)\n",
    "finaldf['lsIntensityCat'] = finaldf['combination_LS_intensity'].factorize()[0]"
   ]
  },
  {
   "cell_type": "code",
   "execution_count": 84,
   "id": "df76966a-bfba-4654-a5b5-843f3b00a8d0",
   "metadata": {},
   "outputs": [
    {
     "name": "stdout",
     "output_type": "stream",
     "text": [
      "Livestock Intensity categories (based on unique combinations of discretised precipitation and max nutrient category): [0, 1, 2, 3, 4, 5, 6, 7, 8, 9]\n"
     ]
    },
    {
     "data": {
      "application/vnd.jupyter.widget-view+json": {
       "model_id": "a65356ddc8da40b5a5a44fdeb422a80e",
       "version_major": 2,
       "version_minor": 0
      },
      "text/plain": [
       "  0%|          | 0/10 [00:00<?, ?it/s]"
      ]
     },
     "metadata": {},
     "output_type": "display_data"
    },
    {
     "name": "stdout",
     "output_type": "stream",
     "text": [
      "The 99th percentile of summed livestock density for combination 0 is: 68.50616715916733\n",
      "The 99th percentile of summed livestock density for combination 1 is: 107.79063468785598\n",
      "The 99th percentile of summed livestock density for combination 2 is: 80.87864234479447\n",
      "The 99th percentile of summed livestock density for combination 3 is: 62.895745183213094\n",
      "The 99th percentile of summed livestock density for combination 4 is: 117.32404186970409\n",
      "The 99th percentile of summed livestock density for combination 5 is: 89.86606409744698\n",
      "The 99th percentile of summed livestock density for combination 6 is: 53.86634956167717\n",
      "The 99th percentile of summed livestock density for combination 7 is: 33.217511940317536\n",
      "The 99th percentile of summed livestock density for combination 8 is: 52.06253627836344\n",
      "The 99th percentile of summed livestock density for combination 9 is: 32.500158993272485\n"
     ]
    }
   ],
   "source": [
    "# Get unique combinations of precipitation and maxNutrient categories\n",
    "combinations = list(set(finaldf['lsIntensityCat']))\n",
    "print(\"Livestock Intensity categories (based on unique combinations of discretised precipitation and max nutrient category):\",combinations)\n",
    "\n",
    "# Compute the sum of sheep, goat and cattle density\n",
    "finaldf['lsSum'] = finaldf[['sheepDensity', 'goatDensity', 'cattleDensity']].sum(axis=1)\n",
    "\n",
    "# Scale data\n",
    "finaldf['scaled_livestockIntensity']= 0\n",
    "for combination in tqdm(combinations):\n",
    "    qq99 = finaldf.loc[(finaldf['lsIntensityCat'] == combination),'lsSum'].quantile(0.99)\n",
    "    print(f'The 99th percentile of summed livestock density for combination {combination} is: {qq99}')\n",
    "    # if there are rows\n",
    "    if finaldf.loc[(finaldf['lsIntensityCat'] == combination)&(finaldf['lsSum']<qq99), 'scaled_livestockIntensity'].shape[0]>0:\n",
    "        # apply min max scaling to all data less than 99th quantile per unique combination.\n",
    "        scaler = MinMaxScaler()\n",
    "        finaldf.loc[(finaldf['lsIntensityCat'] == combination)&(finaldf['lsSum']<qq99), 'scaled_livestockIntensity']\\\n",
    "        = scaler.fit_transform(pd.DataFrame(finaldf.loc[(finaldf['lsIntensityCat'] == combination)&(finaldf['lsSum']<qq99)\\\n",
    "                                                    , 'lsSum']))\n",
    "    else: \n",
    "        finaldf.loc[(finaldf['lsIntensityCat'] == combination)&(finaldf['lsSum']<qq99), 'scaled_livestockIntensity'] =\\\n",
    "        finaldf.loc[(finaldf['lsIntensityCat'] == combination)&(finaldf['lsSum']<qq99), 'scaled_livestockIntensity']\n",
    "    # for data greater than 99th percentile per category, equal to max value 1\n",
    "    finaldf.loc[(finaldf['lsIntensityCat'] == combination)&(finaldf['lsSum']>=qq99), 'scaled_livestockIntensity'] = 1"
   ]
  },
  {
   "cell_type": "code",
   "execution_count": 85,
   "id": "abf68bb9-924f-4dac-a702-d2db3ea5bf72",
   "metadata": {},
   "outputs": [],
   "source": [
    "# Export data\n",
    "outfile = f'{country}_POC_{date}.feather'\n",
    "finaldf.drop_duplicates(subset = ['x', 'y']).reset_index(drop=True).to_feather(outfile)"
   ]
  },
  {
   "cell_type": "markdown",
   "id": "aacae64d-6ec5-4875-91eb-3d1a9943a441",
   "metadata": {},
   "source": [
    "## Decision tree"
   ]
  },
  {
   "cell_type": "code",
   "execution_count": 86,
   "id": "d5c92bfd-0bd4-459c-b4dc-be5e860e9105",
   "metadata": {
    "tags": []
   },
   "outputs": [],
   "source": [
    "def ckdnearest_fsz(gdA, gdB, k=5):\n",
    "    \"\"\"\n",
    "    For rows with no field size data, identify the 5-closest points -> select the most common fieldSize.\n",
    "    If there are 2 most field sizes, drop the furthest point and redetermine most common field Size.\n",
    "    \n",
    "    Args:\n",
    "        gdA (pandas DataFrame): contains rows with missing data in column named 'fieldSize'\n",
    "        gdB (pandas DataFrame): contains rows with no missing data in column named 'fieldSize'\n",
    "        k (int): Determines the number of closest points considered\n",
    "    \n",
    "    Returns:\n",
    "        gdA (pandas dataframe) with filled in missing data at column named 'fieldSize2'.\n",
    "        If the 5 points are each different fieldsizes, this function will not work.\n",
    "    \"\"\"\n",
    "    # get 5-closest pts\n",
    "    nA = np.array(list(gdA.geometry.apply(lambda x: (x.x, x.y))))\n",
    "    nB = np.array(list(gdB.geometry.apply(lambda x: (x.x, x.y))))\n",
    "    btree = cKDTree(nB)\n",
    "    dist, idx = btree.query(nA, k=k)\n",
    "    \n",
    "    gdA['fieldSize2'] = np.nan\n",
    "    for row in tqdm(range(idx.shape[0])):\n",
    "        # get 5 rows\n",
    "        data = gdB.iloc[idx[row],:]\n",
    "        # get most common fieldsize value\n",
    "        if data['fieldSize'].value_counts().mode().shape[0]==1:\n",
    "            most_common = data['fieldSize'].value_counts().idxmax()\n",
    "            gdA.at[row, 'fieldSize2'] = most_common\n",
    "        # if 2 or more values are returned, drop point with greatest distance\n",
    "        else:\n",
    "            fts = pd.DataFrame(np.column_stack([dist[row], idx[row]]), columns=['dist', 'idx'])\n",
    "            # drop point with greatest distance\n",
    "            idx_i = list(fts.loc[fts['dist']<fts['dist'].max(), 'idx'])\n",
    "            data = gdB.iloc[idx_i,:]\n",
    "            # get most common value\n",
    "            most_common = data['fieldSize'].value_counts().idxmax()\n",
    "            gdA.at[row, 'fieldSize2'] = most_common\n",
    "    return gdA"
   ]
  },
  {
   "cell_type": "code",
   "execution_count": 87,
   "id": "f2453cca-3952-45c6-a2f9-70937f46f170",
   "metadata": {
    "tags": []
   },
   "outputs": [],
   "source": [
    "infile = f'{country}_POC_{date}.feather'\n",
    "df = pd.read_feather(infile).dropna().reset_index(drop=True)"
   ]
  },
  {
   "cell_type": "code",
   "execution_count": 88,
   "id": "d4bcc049-6f1b-4b60-99c3-a296ea12744d",
   "metadata": {},
   "outputs": [
    {
     "name": "stdout",
     "output_type": "stream",
     "text": [
      "The number of cells per landcover category\n"
     ]
    },
    {
     "data": {
      "text/plain": [
       "6    972326\n",
       "4    117572\n",
       "5     86370\n",
       "2     25632\n",
       "1     17032\n",
       "3      5562\n",
       "Name: Land_Use, dtype: int64"
      ]
     },
     "execution_count": 88,
     "metadata": {},
     "output_type": "execute_result"
    }
   ],
   "source": [
    "#1= Urban\n",
    "#2= Timber plantations\n",
    "#3= Tree Croplands\n",
    "#4= CropLands\n",
    "#5= Protected areas\n",
    "#6= Rangelands/Near-natural lands\n",
    "\n",
    "def ExpertDT(df):\n",
    "\n",
    "    #6= Rangelands/Near-natural lands\n",
    "    df['Land_Use'] = 6\n",
    "\n",
    "    #5= Protected areas\n",
    "    df.loc[df['areakm2_protArea']>0.2, 'Land_Use'] = 5\n",
    "\n",
    "    #4= CropLands\n",
    "    df.loc[df['areakm2_cropCover']>0.2, 'Land_Use'] = 4\n",
    "\n",
    "    #3= Tree Croplands\n",
    "    df.loc[df['areakm2_treeCrop']>0.2, 'Land_Use'] = 3\n",
    "\n",
    "    #2= Timber plantations\n",
    "    df.loc[df['areakm2_plantation']>0.2, 'Land_Use'] = 2\n",
    "\n",
    "    #1= Urban\n",
    "    df.loc[(df['areakm2_urban']>0.2)|\n",
    "           (df['popDensity']>1000) , 'Land_Use'] = 1\n",
    "    return df\n",
    "    \n",
    "result = ExpertDT(df)\n",
    "print('The number of cells per landcover category')\n",
    "result['Land_Use'].value_counts()"
   ]
  },
  {
   "cell_type": "code",
   "execution_count": 89,
   "id": "2b80e25b-031c-4ad2-a05d-e779d368f0a1",
   "metadata": {},
   "outputs": [
    {
     "name": "stdout",
     "output_type": "stream",
     "text": [
      "fill in 123134 missing field size values\n"
     ]
    }
   ],
   "source": [
    "# get rows with fieldsize, cropcover or treeCrop data-used for joining\n",
    "val_list = [3502, 3503, 3504, 3505, 3506]\n",
    "gdf1 = fieldSize.loc[fieldSize['fieldSize'].isin(val_list), ].reset_index(drop=True) #select all rows with valid field size data\n",
    "\n",
    "# select landcover 3 and 4 (tree crop and crop)\n",
    "dfs2 = result.loc[(result['Land_Use']==3)|(result['Land_Use']==4),['x', 'y', 'gid']].reset_index(drop=True)\n",
    "# Convert to gdf\n",
    "gdf2 = gpd.GeoDataFrame(dfs2.drop(['x', 'y'],axis=1), geometry = gpd.points_from_xy(dfs2.x, dfs2.y)).set_crs(wkt)\n",
    "\n",
    "print(f'fill in {gdf2.shape[0]} missing field size values')"
   ]
  },
  {
   "cell_type": "code",
   "execution_count": 90,
   "id": "9febfd23-73da-4a15-864f-7f39e26c82fe",
   "metadata": {},
   "outputs": [
    {
     "data": {
      "image/png": "[encoded data removed]",
      "text/plain": [
       "<Figure size 640x480 with 1 Axes>"
      ]
     },
     "metadata": {},
     "output_type": "display_data"
    }
   ],
   "source": [
    "# Check if datasets overlap (same projection\n",
    "ax = gdf2.to_crs(wkt).plot(color='white', edgecolor='black')\n",
    "\n",
    "# plot ``GeoDataFrame``.\n",
    "gdf1.to_crs(wkt).plot(ax=ax, color='red')\n",
    "plt.show()"
   ]
  },
  {
   "cell_type": "code",
   "execution_count": 91,
   "id": "def14264-a6f2-43f3-bb86-744dbc80b3af",
   "metadata": {
    "tags": []
   },
   "outputs": [
    {
     "data": {
      "application/vnd.jupyter.widget-view+json": {
       "model_id": "9be7041fbf644bf683652ded9bdfcef7",
       "version_major": 2,
       "version_minor": 0
      },
      "text/plain": [
       "  0%|          | 0/123134 [00:00<?, ?it/s]"
      ]
     },
     "metadata": {},
     "output_type": "display_data"
    }
   ],
   "source": [
    "joinNearest = ckdnearest_fsz(gdf2, gdf1, k=5)\n",
    "df1 = pd.DataFrame(joinNearest[['gid', 'fieldSize2']])\n",
    "\n",
    "finaldf = pd.merge(result, df1, how= 'outer',on = 'gid')\n",
    "finaldf['fieldSize'] = finaldf['fieldSize2'].fillna(-1).astype('int')\n",
    "\n",
    "dfF = finaldf.drop('fieldSize2', axis=1).reset_index(drop=True)"
   ]
  },
  {
   "cell_type": "code",
   "execution_count": 92,
   "id": "c5da95cd-d0a8-416c-8c66-4816ef837f2b",
   "metadata": {},
   "outputs": [],
   "source": [
    "# Add scaled fieldSize\n",
    "dfF['scaled_fieldSize'] = -1\n",
    "dfF.loc[dfF['fieldSize'] == 3502, 'scaled_fieldSize'] = 1.0\n",
    "dfF.loc[dfF['fieldSize'] == 3503, 'scaled_fieldSize'] = 0.75\n",
    "dfF.loc[dfF['fieldSize'] == 3504, 'scaled_fieldSize'] = 0.50\n",
    "dfF.loc[dfF['fieldSize'] == 3505, 'scaled_fieldSize'] = 0.25\n",
    "dfF.loc[dfF['fieldSize'] == 3506, 'scaled_fieldSize'] = 0"
   ]
  },
  {
   "cell_type": "code",
   "execution_count": 93,
   "id": "68b2586f-5588-41e8-bfb8-9b1e8ffcc73e",
   "metadata": {
    "tags": []
   },
   "outputs": [
    {
     "name": "stdout",
     "output_type": "stream",
     "text": [
      "Nfer_kgha for Tree Croplands: 18.512\n",
      "Nfer_kgha for CropCover: 31.28\n",
      "Nfer_kgha for Rangeland: 19.7136\n",
      "popDensity for urban areas: 15616.674990234374\n"
     ]
    }
   ],
   "source": [
    "# Scale variables\n",
    "colnames = ['Nfer_kgha', 'popDensity']\n",
    "\n",
    "result = dfF\n",
    "for col in colnames:\n",
    "    # create scaled variable\n",
    "    result['scaled_'+col] = 0\n",
    "    if (col=='Nfer_kgha')&(result.loc[(result['Land_Use']==3), col].shape[0]>0):\n",
    "#         For tree croplands\n",
    "        # get 99th percentile is equal to 0.99 quantile\n",
    "        qq99 = result.loc[(result['Land_Use']==3), col].quantile(0.99)\n",
    "        print(f\"{col} for Tree Croplands: {qq99}\")\n",
    "        # apply min max scaling to all data less than 99th quantile.\n",
    "        scaler = MinMaxScaler()\n",
    "        result.loc[(result[col]<qq99)&(result['Land_Use']==3), 'scaled_'+ col] =\\\n",
    "        scaler.fit_transform(pd.DataFrame(result.loc[(result[col]<qq99)&(result['Land_Use']==3), col]))\n",
    "        # for data greater than 99th percentile, equal to max value 1\n",
    "        result.loc[(result[col]>=qq99)&(result['Land_Use']==3), 'scaled_' + col] = 1\n",
    "    if (col=='Nfer_kgha')&(result.loc[(result['Land_Use']==4), col].shape[0]>0):\n",
    "#         for croplands\n",
    "        # get 99th percentile\n",
    "        qq99 = result.loc[(result['Land_Use']==4), col].quantile(0.99)\n",
    "        print(f\"{col} for CropCover: {qq99}\")\n",
    "        # apply min max scaling to all data less than 99th quantile.\n",
    "        scaler = MinMaxScaler()\n",
    "        result.loc[(result[col]<qq99)&(result['Land_Use']==4), 'scaled_'+ col] =\\\n",
    "        scaler.fit_transform(pd.DataFrame(result.loc[(result[col]<qq99)&(result['Land_Use']==4), col]))\n",
    "        # for data greater than 99th percentile, equal to max value 1\n",
    "        result.loc[(result[col]>=qq99)&(result['Land_Use']==4), 'scaled_' + col] = 1\n",
    "    if (col=='Nfer_kgha')&(result.loc[(result['Land_Use']==6), col].shape[0]>0):\n",
    "#         for rangelands\n",
    "        # get 99th percentile\n",
    "        qq99 = result.loc[(result['Land_Use']==6), col].quantile(0.99)\n",
    "        print(f\"{col} for Rangeland: {qq99}\")\n",
    "        # apply min max scaling to all data less than 99th quantile.\n",
    "        scaler = MinMaxScaler()\n",
    "        result.loc[(result[col]<qq99)&(result['Land_Use']==6), 'scaled_'+ col] =\\\n",
    "        scaler.fit_transform(pd.DataFrame(result.loc[(result[col]<qq99)&(result['Land_Use']==6), col]))\n",
    "        # for data greater than 99th percentile, equal to max value 1\n",
    "        result.loc[(result[col]>=qq99)&(result['Land_Use']==6), 'scaled_' + col] = 1\n",
    "        \n",
    "    if col=='popDensity':\n",
    "        # get 99th percentile\n",
    "        qq99 = result.loc[result['Land_Use']==1, col].quantile(0.99)\n",
    "        print(f\"{col} for urban areas: {qq99}\")\n",
    "        # apply min max scaling to all data less than 99th quantile.\n",
    "        scaler = MinMaxScaler()\n",
    "        result.loc[(result[col]<qq99)&(result['Land_Use']==1), 'scaled_'+ col] =\\\n",
    "        scaler.fit_transform(pd.DataFrame(result.loc[(result[col]<qq99)&(result['Land_Use']==1), col]))\n",
    "        # for data greater than 99th percentile, equal to max value 1\n",
    "        result.loc[(result[col]>=qq99)&(result['Land_Use']==1), 'scaled_' + col] = 1"
   ]
  },
  {
   "cell_type": "markdown",
   "id": "fca544e8-cf9a-4bec-a144-4431850d9d2e",
   "metadata": {},
   "source": [
    "## Intensity"
   ]
  },
  {
   "cell_type": "code",
   "execution_count": 94,
   "id": "16c195e1-79ef-4010-bb7e-f2090dc58d6a",
   "metadata": {},
   "outputs": [
    {
     "name": "stdout",
     "output_type": "stream",
     "text": [
      "Computing Intensity for Land Use 1 (urban area)\n",
      "Computing Intensity for Land Use 3 (tree_crop)\n",
      "Computing Intensity for Land Use 4 (crop cover)\n",
      "Computing Intensity for Land Use 6 (Rangelands)\n"
     ]
    }
   ],
   "source": [
    "result['intensity'] = -1\n",
    "result['scaled_intensity'] = -1\n",
    "\n",
    "#1= Urban\n",
    "# check if there are urban land use pixels\n",
    "if result.loc[(result['Land_Use']==1), 'intensity'].shape[0]>0:\n",
    "    print('Computing Intensity for Land Use 1 (urban area)')\n",
    "#     scale urban area between 0 and 1 (from 0.2 to 1)\n",
    "    scaler = MinMaxScaler()\n",
    "    result.loc[(result['Land_Use']==1), 'scaled_areakm2_urban'] = scaler.fit_transform(pd.DataFrame(result.loc[(result['Land_Use']==1)\\\n",
    "                                                                                                             , 'areakm2_urban']))\n",
    "#     assign intensity scores based on an equal weighting of scaled popDensity and scaled urban area\n",
    "    result.loc[(result['Land_Use']==1), 'intensity'] = (result['scaled_areakm2_urban']+\\\n",
    "                                                        result['scaled_popDensity'])/2\n",
    "#     scale raw intensity values between 0 and 1 within a land use\n",
    "    scaler = MinMaxScaler()\n",
    "    result.loc[(result['Land_Use']== 1), 'scaled_intensity'] = scaler.fit_transform(pd.DataFrame(result.loc[(result['Land_Use']==1)\\\n",
    "                                                                                                                   , 'intensity']))\n",
    "\n",
    "#3= Tree Croplands\n",
    "if result.loc[(result['Land_Use']==3), 'intensity'].shape[0]>0:\n",
    "    print('Computing Intensity for Land Use 3 (tree_crop)')\n",
    "    scaler = MinMaxScaler()\n",
    "    result.loc[(result['Land_Use']==3), 'scaled_areakm2_treeCrop'] = scaler.fit_transform(pd.DataFrame(result.loc[(result['Land_Use']==3)\\\n",
    "                                                                                                                  , 'areakm2_treeCrop']))\n",
    "    result.loc[(result['Land_Use']==3), 'intensity'] = (result['scaled_areakm2_treeCrop']+\\\n",
    "                                                        result['scaled_fieldSize']+\\\n",
    "                                                        result['scaled_Nfer_kgha']\\\n",
    "                                                       )/3\n",
    "    scaler = MinMaxScaler()\n",
    "    result.loc[(result['Land_Use']==3), 'scaled_intensity'] = scaler.fit_transform(pd.DataFrame(result.loc[(result['Land_Use']==3)\\\n",
    "                                                                                                                   , 'intensity']))\n",
    "\n",
    "#4 = Croplands\n",
    "if result.loc[(result['Land_Use']==4), 'intensity'].shape[0]>0:\n",
    "    print('Computing Intensity for Land Use 4 (crop cover)')\n",
    "    scaler = MinMaxScaler()\n",
    "    result.loc[(result['Land_Use']==4), 'scaled_areakm2_cropCover'] = scaler.fit_transform(pd.DataFrame(result.loc[(result['Land_Use']==4)\\\n",
    "                                                                                                                   , 'areakm2_cropCover']))\n",
    "    result.loc[(result['Land_Use']==4), 'intensity'] = (result['scaled_areakm2_cropCover']+\\\n",
    "                                                        result['scaled_fieldSize']+\\\n",
    "                                                        result['scaled_Nfer_kgha']\\\n",
    "                                                       )/3\n",
    "    scaler = MinMaxScaler()\n",
    "    result.loc[(result['Land_Use']==4), 'scaled_intensity'] = scaler.fit_transform(pd.DataFrame(result.loc[(result['Land_Use']==4)\\\n",
    "                                                                                                                   , 'intensity']))\n",
    "\n",
    "#6 = Rangelands/ Near-naturallands\n",
    "print('Computing Intensity for Land Use 6 (Rangelands)')\n",
    "if result.loc[(result['Land_Use']==6), 'intensity'].shape[0]>0:\n",
    "    result.loc[(result['Land_Use']==6), 'intensity'] = (result['scaled_livestockIntensity']+\\\n",
    "                                                        result['scaled_Nfer_kgha'])/2\n",
    "                                                                                                                   \n",
    "    scaler = MinMaxScaler()\n",
    "    result.loc[(result['Land_Use']==6), 'scaled_intensity'] = scaler.fit_transform(pd.DataFrame(result.loc[(result['Land_Use']==6)\\\n",
    "                                                                                                                   , 'intensity']))\n",
    "\n",
    "    \n",
    "# result = result.fillna(-1)"
   ]
  },
  {
   "cell_type": "code",
   "execution_count": 95,
   "id": "bebe60c1-4e1d-4dcc-89f3-ef3244edc653",
   "metadata": {},
   "outputs": [],
   "source": [
    "gdf = gpd.GeoDataFrame(result.drop(['x', 'y','combination_LS_intensity', 'areakm2_slowNutrArea','areakm2_sMedNutriArea', 'areakm2_sHighNutriArea'], axis = 1),\n",
    "                       geometry = gpd.points_from_xy(result.x, result.y), crs= wkt).to_crs(crs= 'EPSG:4326')"
   ]
  },
  {
   "cell_type": "code",
   "execution_count": 96,
   "id": "3dce06e1-5ceb-4305-9b2e-6ac6f1df0967",
   "metadata": {},
   "outputs": [],
   "source": [
    "shp_cols = {'areakm2_urban':'km2_urban',\n",
    "            'areakm2_cropCover':'km2_cropCov',\n",
    "            'areakm2_protArea':'km2_protAr',\n",
    "            'km2_plntn':'areakm2_plantation',\n",
    "            'areakm2_treeCrop':'km2_trCrp',\n",
    "            'gid':'gid',\n",
    "            'mean_precip':'mean_precip',\n",
    "            'Nfer_kgha':'mean_Nfer',\n",
    "            'popDensity':'sum_popDen',\n",
    "            'sheepDensity':'sum_shpDen',\n",
    "            'goatDensity':'sum_gtDen',\n",
    "            'cattleDensity':'sum_ctlDen',\n",
    "            'maxN':'maxSNtrAr',\n",
    "            'areakm2_slowNutrArea2':'km2_sLwNtr',\n",
    "            'areakm2_sMedNutriArea2':'km2_sMdNtr',\n",
    "            'areakm2_sHighNutriArea2':'km2_sHgNtr',\n",
    "            'precipDiscrete':'precipDisc',\n",
    "            'maxNutr':'maxSNtrCat',\n",
    "            'lsIntensityCat':'LSIntenCat',\n",
    "            'lsSum':'LSSum',\n",
    "            'scaled_livestockIntensity':'LSIntenScd',\n",
    "            'Land_Use':'Land_Use',\n",
    "            'fieldSize':'fieldSize',\n",
    "            'scaled_fieldSize':'fieldSzScd',\n",
    "            'scaled_Nfer_kgha':'NferScd',\n",
    "            'scaled_popDensity':'popDenScd',\n",
    "            'intensity':'Intensity',\n",
    "            'scaled_intensity':'SdItensity',\n",
    "            'scaled_areakm2_urban':'km2_ubn_sd',\n",
    "            'scaled_areakm2_treeCrop':'km2_trCrpS',\n",
    "            'scaled_areakm2_cropCover':'km2_crpCvS',\n",
    "            'geometry':'geometry'}"
   ]
  },
  {
   "cell_type": "code",
   "execution_count": 97,
   "id": "a0b42bf6-7e37-49c1-8442-c25a7a3318da",
   "metadata": {},
   "outputs": [
    {
     "data": {
      "text/plain": [
       "Index(['km2_urban', 'km2_cropCov', 'km2_protAr', 'areakm2_plantation',\n",
       "       'km2_trCrp', 'gid', 'mean_precip', 'mean_Nfer', 'sum_popDen',\n",
       "       'sum_shpDen', 'sum_gtDen', 'sum_ctlDen', 'maxSNtrAr', 'km2_sLwNtr',\n",
       "       'km2_sMdNtr', 'km2_sHgNtr', 'precipDisc', 'maxSNtrCat', 'LSIntenCat',\n",
       "       'LSSum', 'LSIntenScd', 'Land_Use', 'fieldSize', 'fieldSzScd', 'NferScd',\n",
       "       'popDenScd', 'Intensity', 'SdItensity', 'km2_ubn_sd', 'km2_trCrpS',\n",
       "       'km2_crpCvS', 'geometry'],\n",
       "      dtype='object')"
      ]
     },
     "execution_count": 97,
     "metadata": {},
     "output_type": "execute_result"
    }
   ],
   "source": [
    "gdf.rename(columns=shp_cols, inplace = True)\n",
    "gdf.columns"
   ]
  },
  {
   "cell_type": "code",
   "execution_count": 98,
   "id": "2746cd94-ec9e-48df-b463-58608ee4ae29",
   "metadata": {},
   "outputs": [],
   "source": [
    "gdf.loc[:,'precipDisc'] = gdf.loc[:,'precipDisc'].astype('int')\n",
    "gdf.loc[:,'maxSNtrCat'] = gdf.loc[:,'maxSNtrCat'].astype('string')"
   ]
  },
  {
   "cell_type": "code",
   "execution_count": 67,
   "id": "98a15c7c-f928-47cf-b2d6-819be022480f",
   "metadata": {},
   "outputs": [
    {
     "name": "stdout",
     "output_type": "stream",
     "text": [
      "C:\\Users\\coach\\myfiles\\miscellenous\\hayley\\outputs\\Nigeria\n"
     ]
    }
   ],
   "source": [
    "print(os.getcwd())\n",
    "outfile = f\"{country}_1km_{date}.shp\"\n",
    "gdf.to_file(outfile)"
   ]
  },
  {
   "cell_type": "code",
   "execution_count": 99,
   "id": "6c088962-a130-4b97-89a5-7e49a44ad28c",
   "metadata": {},
   "outputs": [],
   "source": [
    "input_vector = f\"{country}_1km_{date}.shp\"\n",
    "output_raster = f\"{country}_1km_{date}.tif\"\n",
    "x_resolution = 0.01\n",
    "y_resolution = 0.01\n",
    "attribute_name1 = \"Land_Use\"\n",
    "attribute_name2 = \"SdItensity\"\n",
    "no_data_value = 0\n",
    "data_type = gdal.GDT_Float32\n",
    "format = \"GTiff\"\n",
    "xmin, ymin, xmax, ymax = gdf.total_bounds\n",
    "\n",
    "# Open the input vector\n",
    "ds = gdal.OpenEx(input_vector)\n",
    "layer = ds.GetLayer()\n",
    "\n",
    "# Create the output raster\n",
    "driver = gdal.GetDriverByName(format)\n",
    "raster_ds = driver.Create(output_raster, int((xmax - xmin) / x_resolution),\n",
    "                          int((ymax - ymin) / y_resolution), 2, data_type)\n",
    "raster_ds.SetGeoTransform((xmin, x_resolution, 0, ymax, 0, -y_resolution))\n",
    "\n",
    "gdal.RasterizeLayer(raster_ds, [1], layer, options=[f\"ATTRIBUTE={attribute_name1}\"])\n",
    "gdal.RasterizeLayer(raster_ds, [2], layer, options=[f\"ATTRIBUTE={attribute_name2}\"])\n",
    "\n",
    "band1 = raster_ds.GetRasterBand(1)\n",
    "band1.SetNoDataValue(no_data_value)\n",
    "band1.SetDescription(\"Land Use\")\n",
    "\n",
    "band2 = raster_ds.GetRasterBand(2)\n",
    "band2.SetNoDataValue(no_data_value)\n",
    "band2.SetDescription(\"Intensity (scaled)\")\n",
    "\n",
    "raster_ds = None  # Close the file"
   ]
  },
  {
   "cell_type": "markdown",
   "id": "2acb27c2-112b-4e0f-b6da-eb735c664b26",
   "metadata": {},
   "source": [
    "# wishlist\n",
    "1. automate checks\n",
    "2. given a country and a task or set of tasks, execute code.\n",
    "\n",
    "t1. extract data  \n",
    "t2. decision tree + intensity scores  \n",
    "visulise options  \n",
    "save options  \n"
   ]
  }
 ],
 "metadata": {
  "kernelspec": {
   "display_name": "erty",
   "language": "python",
   "name": "erty"
  },
  "language_info": {
   "codemirror_mode": {
    "name": "ipython",
    "version": 3
   },
   "file_extension": ".py",
   "mimetype": "text/x-python",
   "name": "python",
   "nbconvert_exporter": "python",
   "pygments_lexer": "ipython3",
   "version": "3.9.12"
  },
  "toc-autonumbering": false,
  "toc-showcode": false
 },
 "nbformat": 4,
 "nbformat_minor": 5
}
