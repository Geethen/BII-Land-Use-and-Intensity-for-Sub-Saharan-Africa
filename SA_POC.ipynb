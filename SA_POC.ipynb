{
 "cells": [
  {
   "cell_type": "markdown",
   "id": "4eee31b3-4e0b-45c5-bfe6-62e73b3da1db",
   "metadata": {},
   "source": [
    "# BII project land use and intensity\n",
    "This notebook contains the code for pre-processing the variables in to the required format and the subsequent extraction of the data.\n",
    "\n",
    "1. Step 1: A 1km and 8km grid is defined.\n",
    "2. Step 2: Each variable is imported, filtered and scaled. If area is required, converted to area per catgeory per 1x1 km cell. If mean variable is required, the mean value per variable per 1x1 km block is obtained.\n",
    "3. Step 3: GEEML is used to extract the 1x1km data for each 1x1km grid cell.\n",
    "4. Step 4: The Expert decision tree is applied for each 1x1km cell in python.\n",
    "5. Step 5: The intensity scores are derived by first noralising all variables and thereafter, weighting them equally (1/#vars)"
   ]
  },
  {
   "cell_type": "code",
   "execution_count": 1,
   "id": "b9017466-c447-4665-aec6-f760ce96787d",
   "metadata": {
    "tags": []
   },
   "outputs": [],
   "source": [
    "# define 1km grid\n",
    "import ee\n",
    "# ee.Authenticate()\n",
    "ee.Initialize(opt_url='https://earthengine-highvolume.googleapis.com')\n",
    "import geemap\n",
    "from tqdm.auto import tqdm\n",
    "from geeml.utils import createGrid, getCountry, eeprint\n",
    "from geeml.extract import extractor"
   ]
  },
  {
   "cell_type": "code",
   "execution_count": 2,
   "id": "81bca092-163d-4696-8493-3599b384552e",
   "metadata": {},
   "outputs": [],
   "source": [
    "poi = ee.Geometry.Point([24.934,-28.679])\n",
    "SA = getCountry(poi)\n",
    "aoi =  SA\n",
    "\n",
    "grid1km, _ = createGrid(1000, aoi)\n",
    "grid1kmr, _ = createGrid(1000, aoi, vect= False)\n",
    "# Create a 8km raster with unique id\n",
    "grid8km, _ = createGrid(8000, aoi, vect = False)"
   ]
  },
  {
   "cell_type": "code",
   "execution_count": 3,
   "id": "f05b6d60-8df4-4a9f-9560-b83ba0cb1632",
   "metadata": {},
   "outputs": [],
   "source": [
    "# Urban cover (10m>250m>1km) 2019\n",
    "area = ee.Image.pixelArea().divide(1e6).clip(aoi.geometry().buffer(5000))\n",
    "urban_cover = ee.ImageCollection(\"projects/sat-io/open-datasets/WSF/WSF_2019\").filterBounds(aoi)\\\n",
    ".mosaic().eq(255).unmask(0)\n",
    "urbanAreaImage = area.multiply(urban_cover).rename('areakm2_urban')\n",
    "\n",
    "# Highly irrigated areas (9276km) 2019\n",
    "irrigated = ee.Image(\"users/deepakna/global_irrigation_maps/2015\").selfMask().rename('irrigation')\n",
    "irrigatedMed = area.multiply(irrigated.eq(1).unmask(0)).rename('areakm2_irrigatedMed')\n",
    "irrigatedHigh = area.multiply(irrigated.eq(2).unmask(0)).rename('areakm2_irrigatedHigh')\n",
    "\n",
    "# Crop cover (30 m)\n",
    "crop_cover = ee.ImageCollection(\"users/potapovpeter/Global_cropland_2019\").filterBounds(aoi).mosaic()\n",
    "cropAreaImage = area.multiply(crop_cover).rename('areakm2_cropCover')\n",
    "\n",
    "# Protected area\n",
    "prot_areas = ee.FeatureCollection(\"projects/ee-geethensingh/assets/WDPA_Africa_strict\").filterBounds(aoi)\n",
    "protectedAreaImage = area.clipToCollection(prot_areas).unmask(0).rename('areakm2_protArea')    \n",
    "\n",
    "# Plantation and tree crop\n",
    "result = ee.ImageCollection(\"users/liuzhujun/SDPT_NEW\").mosaic()\n",
    "plantag = ee.Image(\"users/duzhenrong/SDPT/sdpt_plantag\")\n",
    "china_plantyear = ee.ImageCollection(\"users/liuzhujun/SDPT_China\").mosaic().rename('plantyear')\n",
    "DescalesOP = ee.ImageCollection(\"users/liuzhujun/Descales\").mosaic()\n",
    "op = DescalesOP.updateMask(DescalesOP.gt(1980)).rename('plantyear')\n",
    "sdpt_name = ee.Image(\"users/duzhenrong/SDPT/sdpt_name\")\n",
    "\n",
    "china_plantyear=china_plantyear.updateMask(china_plantyear.gt(1980))\n",
    "result=result.rename('plantyear').updateMask((sdpt_name.lt(120).And(sdpt_name.gt(0))).Or(sdpt_name.gt(129))).toInt32()\n",
    "\n",
    "plantationForest=ee.ImageCollection([result.updateMask(plantag.eq(1)),china_plantyear]).mosaic().gt(0).unmask(0) \n",
    "plantationAreaImage = area.updateMask(plantationForest).rename('areakm2_plantation')\n",
    "treeCrop=result.multiply(plantag.eq(2))\n",
    "treeCrop =ee.ImageCollection([treeCrop,op]).mosaic().gt(0)  \n",
    "treeCropAreaImage = area.multiply(treeCrop).rename('areakm2_treeCrop')\n",
    "\n",
    "#Soil nutrients\n",
    "Soil_Lownutrient = ee.FeatureCollection(\"projects/ee-geethensingh/assets/Bell_1982_nutrient_map\")\\\n",
    ".filter(ee.Filter.eq('Nut_status', 'Low'))\n",
    "Soil_Mednutrient = ee.FeatureCollection(\"projects/ee-geethensingh/assets/Bell_1982_nutrient_map\")\\\n",
    ".filter(ee.Filter.eq('Nut_status', 'Medium'))\n",
    "Soil_Highnutrient = ee.FeatureCollection(\"projects/ee-geethensingh/assets/Bell_1982_nutrient_map\")\\\n",
    ".filter(ee.Filter.eq('Nut_status', 'High'))\n",
    "\n",
    "soilLowNutrientAreaImage = area.clipToCollection(Soil_Lownutrient).unmask(0).rename('areakm2_slowNutrArea')\n",
    "soilMedNutrientAreaImage = area.clipToCollection(Soil_Mednutrient).unmask(0).rename('areakm2_sMedNutriArea')\n",
    "soilHighNutrientAreaImage = area.clipToCollection(Soil_Highnutrient).unmask(0).rename('areakm2_sHighNutriArea')\n",
    "\n",
    "# Population Density\n",
    "popDensity = ee.ImageCollection(\"CIESIN/GPWv411/GPW_UNWPP-Adjusted_Population_Density\")\\\n",
    ".select('unwpp-adjusted_population_density').filterBounds(aoi).mosaic().rename('popDensity').unmask(0)\n",
    "                                       \n",
    "# Grazing Intensity\n",
    "cattleDensity = ee.Image('projects/ee-geethensingh/assets/GrazingDensity/5_Ct_2010_Da').rename('cattleDensity').unmask(0)\n",
    "sheepDensity = ee.Image('projects/ee-geethensingh/assets/GrazingDensity/5_Sh_2010_Da').rename('sheepDensity').unmask(0)\n",
    "goatDensity = ee.Image('projects/ee-geethensingh/assets/GrazingDensity/5_Gt_2010_Da').rename('goatDensity').unmask(0)\n",
    "\n",
    "# Sand Content\n",
    "sandContent = ee.Image(\"projects/sat-io/open-datasets/iSDAsoil_Africa_30m/sand_content\").select('b1')\\\n",
    ".rename('perc_sandContent')\n",
    "\n",
    "# Precipitation\n",
    "years = list(range(1991,2021))\n",
    "precipitation = ee.ImageCollection(\"UCSB-CHG/CHIRPS/DAILY\").filterBounds(aoi)  \n",
    "precipitation = ee.Image(ee.ImageCollection(ee.List(years).map(lambda year: precipitation\\\n",
    ".filterDate(ee.Number(year).format(), ee.Number(year).add(1).format()).sum())).mean().rename('mm_precipitation')).unmask(0)  "
   ]
  },
  {
   "cell_type": "code",
   "execution_count": 4,
   "id": "79b38a74-a927-40f9-a028-147be07d8e41",
   "metadata": {},
   "outputs": [],
   "source": [
    "# Nitrogen input\n",
    "proj = ee.Projection('EPSG:4326').scale(0.25,0.25)\n",
    "grid = aoi.geometry().coveringGrid(proj)\n",
    "\n",
    "nInput = ee.FeatureCollection(\"projects/ee-geethensingh/assets/Nfur_15arcmins\").filterBounds(aoi)\\\n",
    ".map(lambda x: x.set(\"Nfer_type\",ee.Algorithms.ObjectType(x.get(\"Nfer_kgha_\"))))\n",
    "nInputStr = nInput.filter(ee.Filter.eq('Nfer_type', 'String')).map(lambda x: x.set(\"Nfer_kgha_\",ee.Number.parse(x.get(\"Nfer_kgha_\")).toFloat()))\n",
    "nInputNumber = nInput.filter(ee.Filter.neq('Nfer_type', 'String')).map(lambda x: x.set(\"Nfer_kgha_\",ee.Number(x.get(\"Nfer_kgha_\")).toFloat()))\n",
    "\n",
    "nInput = nInputStr.merge(nInputNumber)\n",
    "\n",
    "def pointToGrid(ft):\n",
    "    feat = ee.Feature(ft);\n",
    "    first = nInput.filterBounds(feat.geometry()).aggregate_first('Nfer_kgha_');\n",
    "    return feat.set('Nfer_kgha_', first);\n",
    "\n",
    "nInput = grid.filterBounds(nInput).map(pointToGrid)\\\n",
    ".reduceToImage(**{'properties': ee.List([\"Nfer_kgha_\"]), 'reducer': ee.Reducer.first()})\\\n",
    ".rename('Nfer_kgha')"
   ]
  },
  {
   "cell_type": "code",
   "execution_count": 4,
   "id": "73ea4067-702c-442f-b4cc-13eb7a30fe60",
   "metadata": {
    "tags": []
   },
   "outputs": [
    {
     "data": {
      "application/vnd.jupyter.widget-view+json": {
       "model_id": "9eb408ab047948359ec6ada4adde1893",
       "version_major": 2,
       "version_minor": 0
      },
      "text/plain": [
       "sum3_1km.csv: |                                                                        | [  0.0%] in 00:00 (et…"
      ]
     },
     "metadata": {},
     "output_type": "display_data"
    }
   ],
   "source": [
    "dd = r\"C:\\Users\\coach\\myfiles\\miscellenous\\hayley\\outputs\"\n",
    "\n",
    "sumCovariates = urbanAreaImage.addBands([irrigatedMed, irrigatedHigh, cropAreaImage,\\\n",
    "                                        protectedAreaImage, soilLowNutrientAreaImage,\\\n",
    "                                        soilMedNutrientAreaImage, soilHighNutrientAreaImage,\\\n",
    "                                        plantationAreaImage, treeCropAreaImage, popDensity,\\\n",
    "                                        sheepDensity, goatDensity,cattleDensity])\n",
    "\n",
    "extractor(sumCovariates, aoi.geometry(), scale = 1000, dd = dd, target = grid1km, crs = 'EPSG:4326', num_threads = 25)\\\n",
    ".extractByGrid(reduce = True, reducer = ee.Reducer.sum(), gridSize = 100000, batchSize = 2500, filename = 'sum3_1km.csv')"
   ]
  },
  {
   "cell_type": "code",
   "execution_count": 46,
   "id": "32ae5b70-36eb-4bb5-ad2a-2ae2444670e5",
   "metadata": {
    "collapsed": true,
    "jupyter": {
     "outputs_hidden": true,
     "source_hidden": true
    },
    "tags": []
   },
   "outputs": [
    {
     "data": {
      "application/vnd.jupyter.widget-view+json": {
       "model_id": "4e00baed3c2a46e9a88a6de1080aeddc",
       "version_major": 2,
       "version_minor": 0
      },
      "text/plain": [
       "fieldSize_1km.csv: |                                                                   | [  0.0%] in 00:00 (et…"
      ]
     },
     "metadata": {},
     "output_type": "display_data"
    }
   ],
   "source": [
    "fieldSize = ee.FeatureCollection(\"projects/ee-geethensingh/assets/dominant_field_sizes\").filterBounds(aoi)\\\n",
    ".filter(ee.Filter.neq('field_size', 'NA')).map(lambda x: x.set(\"field_size_\",ee.Number.parse(x.get(\"field_size\"))))\n",
    "\n",
    "def maxSize(ft):\n",
    "    feat = ee.Feature(ft);\n",
    "    max_ = fieldSize.filterBounds(feat.geometry()).aggregate_max('field_size_');\n",
    "    return feat.set('max_fieldSize', max_);\n",
    "\n",
    "fieldSize = grid1km.filterBounds(fieldSize).map(maxSize).reduceToImage(**{\n",
    "  'properties': ['max_fieldSize'],\n",
    "  'reducer': ee.Reducer.first()\n",
    "}).rename('fieldSize');\n",
    "\n",
    "fieldSize = ee.Image.pixelCoordinates('EPSG:4326').addBands([fieldSize, grid1kmr.rename('id1km'), grid8km.rename('id8km')])\n",
    "\n",
    "dd = r\"C:\\Users\\coach\\myfiles\\miscellenous\\hayley\\outputs\"\n",
    "extractor(fieldSize, aoi.geometry(), scale = 1000, dd = dd, target = grid1kmr, crs = 'EPSG:4326', num_threads = 25)\\\n",
    ".extractPoints(gridSize = 100000, batchSize = 2500, filename = 'fieldSize_1km.csv')"
   ]
  },
  {
   "cell_type": "code",
   "execution_count": 67,
   "id": "b8e8e6fb-f00e-443d-876d-21952fbe7730",
   "metadata": {},
   "outputs": [
    {
     "data": {
      "application/vnd.jupyter.widget-view+json": {
       "model_id": "a269eae8aeb44bb8964fb8f392fa004f",
       "version_major": 2,
       "version_minor": 0
      },
      "text/plain": [
       "fieldSize2_1km.csv: |                                                                  | [  0.0%] in 00:00 (et…"
      ]
     },
     "metadata": {},
     "output_type": "display_data"
    }
   ],
   "source": [
    "fieldSize = ee.FeatureCollection(\"projects/ee-geethensingh/assets/dominant_field_sizes\").filterBounds(aoi)\\\n",
    ".filter(ee.Filter.neq('field_size', 'NA')).map(lambda x: x.set(\"field_size_\",ee.Number.parse(x.get(\"field_size\"))))\n",
    "\n",
    "def maxSize(ft):\n",
    "    feat = ee.Feature(ft);\n",
    "    max_ = fieldSize.filterBounds(feat.geometry()).aggregate_max('field_size_');\n",
    "    return feat.set('max_fieldSize', max_);\n",
    "\n",
    "fieldSize = grid1km.filterBounds(fieldSize).map(maxSize).reduceToImage(**{\n",
    "  'properties': ['max_fieldSize'],\n",
    "  'reducer': ee.Reducer.first()\n",
    "}).rename('fieldSize');\n",
    "\n",
    "fieldSize = ee.Image.pixelCoordinates('EPSG:4326').addBands([fieldSize, grid1kmr.rename('id1km'), grid8km.rename('id8km')])\n",
    "\n",
    "dd = r\"C:\\Users\\coach\\myfiles\\miscellenous\\hayley\\outputs\"\n",
    "extractor(fieldSize, aoi.geometry(), scale = 1000, dd = dd, target = grid1km, crs = 'EPSG:4326', num_threads = 25)\\\n",
    ".extractByGrid(reduce = True, reducer = ee.Reducer.first(), gridSize = 100000, batchSize = 2500, filename = 'fieldSize2_1km.csv')"
   ]
  },
  {
   "cell_type": "code",
   "execution_count": 6,
   "id": "aa786951-f777-47d6-8c35-2f52f17a4513",
   "metadata": {
    "tags": []
   },
   "outputs": [
    {
     "data": {
      "application/vnd.jupyter.widget-view+json": {
       "model_id": "b5c3e4daa224414d91ed5cce5cef4503",
       "version_major": 2,
       "version_minor": 0
      },
      "text/plain": [
       "mean2_1km.csv: |                                                                       | [  0.0%] in 00:00 (et…"
      ]
     },
     "metadata": {},
     "output_type": "display_data"
    }
   ],
   "source": [
    "dd = r\"C:\\Users\\coach\\myfiles\\miscellenous\\hayley\\outputs\"\n",
    "\n",
    "precipitation = ee.Image('projects/ee-geethensingh/assets/Hayley/SA_mean_precip')\n",
    "sandContent = ee.Image('projects/ee-geethensingh/assets/Hayley/SA_mean_sandContent')\n",
    "meanCovariates = precipitation.addBands([sandContent, nInput])\n",
    "\n",
    "extractor(meanCovariates, aoi.geometry(), scale = 1000, dd = dd, target = grid1km, crs = 'EPSG:4326', num_threads = 25)\\\n",
    ".extractByGrid(reduce = True, reducer = ee.Reducer.mean(), gridSize = 100000, batchSize = 2500, filename = 'mean2_1km.csv')"
   ]
  },
  {
   "cell_type": "code",
   "execution_count": 47,
   "id": "d89d42a9-c011-4686-9245-2e2456e02d9f",
   "metadata": {
    "collapsed": true,
    "jupyter": {
     "outputs_hidden": true,
     "source_hidden": true
    },
    "tags": []
   },
   "outputs": [
    {
     "data": {
      "application/vnd.jupyter.widget-view+json": {
       "model_id": "213c4783e9244ee2bb62becf02feb467",
       "version_major": 2,
       "version_minor": 0
      },
      "text/plain": [
       "median_1km.csv: |                                                                      | [  0.0%] in 00:00 (et…"
      ]
     },
     "metadata": {},
     "output_type": "display_data"
    }
   ],
   "source": [
    "dd = r\"C:\\Users\\coach\\myfiles\\miscellenous\\hayley\\outputs\"\n",
    "\n",
    "firstCovariates = grid8km.rename('id8km').addBands([grid1kmr.rename('id1km')])\n",
    "\n",
    "extractor(firstCovariates, aoi.geometry(), scale = 1000, dd = dd, target = grid1km, crs = 'EPSG:4326', num_threads = 25)\\\n",
    ".extractByGrid(reduce = True, reducer = ee.Reducer.median(), gridSize = 100000, batchSize = 2500, filename = 'median_1km.csv')"
   ]
  },
  {
   "cell_type": "markdown",
   "id": "70aa0733-c996-443f-95c3-dcd20097fbb2",
   "metadata": {},
   "source": [
    "## Prepare data"
   ]
  },
  {
   "cell_type": "code",
   "execution_count": 191,
   "id": "d7d15109-ae9e-4780-b831-142d8c4b0618",
   "metadata": {},
   "outputs": [
    {
     "name": "stdout",
     "output_type": "stream",
     "text": [
      "C:\\Users\\coach\\myfiles\\miscellenous\\hayley\\outputs\n"
     ]
    }
   ],
   "source": [
    "# For grid cells with crop_cover and no data, assign field size of nearest cell.\n",
    "import pandas as pd\n",
    "import geopandas as gpd\n",
    "import matplotlib.pyplot as plt\n",
    "import os\n",
    "\n",
    "os.chdir(r\"C:\\Users\\coach\\myfiles\\miscellenous\\hayley\\outputs\")\n",
    "print(os.getcwd())\n",
    "\n",
    "# #Field Size data\n",
    "df = pd.read_csv(r\"fieldSize2_1km.csv\", low_memory=False, header = None, index_col = False, skiprows=1)\n",
    "df.columns = ['x', 'y', 'fieldSize', 'id1km', 'id8km', 'gid']"
   ]
  },
  {
   "cell_type": "code",
   "execution_count": 192,
   "id": "1dd5e680-39d0-4dfa-99d8-e7f93635ca0f",
   "metadata": {},
   "outputs": [],
   "source": [
    "df1 = pd.read_csv(r\"sum3_1km.csv\", low_memory=False, header = None, index_col = False, skiprows=1)\n",
    "df1.columns = ['areakm2_urban', 'areakm2_irrigatedMed',\n",
    "       'areakm2_irrigatedHigh', 'areakm2_cropCover', 'areakm2_protArea',\n",
    "       'areakm2_slowNutrArea', 'areakm2_sMedNutriArea',\n",
    "       'areakm2_sHighNutriArea', 'areakm2_plantation', 'areakm2_treeCrop',\n",
    "       'popDensity', 'sheepDensity', 'goatDensity', 'cattleDensity', 'gid']"
   ]
  },
  {
   "cell_type": "code",
   "execution_count": 193,
   "id": "38b64040-8c07-4508-9cfc-431499973e3a",
   "metadata": {},
   "outputs": [],
   "source": [
    "# Mean covaraite data\n",
    "dfmean = pd.read_csv(r\"mean2_1km.csv\", low_memory=False, header = None, index_col = False, skiprows=1)\n",
    "dfmean.columns = ['mean_precip' ,'mean_sandContent', 'Nfer_kgha', 'gid']"
   ]
  },
  {
   "cell_type": "code",
   "execution_count": 194,
   "id": "1c8f9763-4324-49d2-9c24-47af99ce45e4",
   "metadata": {},
   "outputs": [],
   "source": [
    "dfJoin = pd.merge(df1, dfmean, on= 'gid')\n",
    "dfAll = pd.merge(dfJoin, df, on= 'gid').drop_duplicates().reset_index(drop=True)"
   ]
  },
  {
   "cell_type": "code",
   "execution_count": 214,
   "id": "f1d6aea7-8e2e-458f-a4fe-3830b8a3baa9",
   "metadata": {
    "tags": []
   },
   "outputs": [],
   "source": [
    "dfs1 = dfAll.loc[dfAll['areakm2_cropCover']>0, ['x', 'y', 'fieldSize', 'gid']]\n",
    "dfs2 = dfs1.dropna()[['x', 'y', 'fieldSize']]\n",
    "dfs3 = dfs1[['x', 'y', 'gid']]"
   ]
  },
  {
   "cell_type": "code",
   "execution_count": 215,
   "id": "423572fd-cc73-406e-9826-80073a77d3a0",
   "metadata": {},
   "outputs": [],
   "source": [
    "gdf2 = gpd.GeoDataFrame(dfs2.drop(['x', 'y'],axis=1), geometry = gpd.points_from_xy(dfs2.x, dfs2.y))\n",
    "gdf3 = gpd.GeoDataFrame(dfs3.drop(['x', 'y'],axis=1), geometry = gpd.points_from_xy(dfs3.x, dfs3.y))"
   ]
  },
  {
   "cell_type": "code",
   "execution_count": 216,
   "id": "1e4a3273-6416-4221-ba61-1194b0206cab",
   "metadata": {},
   "outputs": [],
   "source": [
    "import geopandas as gpd\n",
    "import numpy as np\n",
    "import pandas as pd\n",
    "\n",
    "from scipy.spatial import cKDTree\n",
    "from shapely.geometry import Point\n",
    "\n",
    "def ckdnearest(gdA, gdB):\n",
    "\n",
    "    nA = np.array(list(gdA.geometry.apply(lambda x: (x.x, x.y))))\n",
    "    nB = np.array(list(gdB.geometry.apply(lambda x: (x.x, x.y))))\n",
    "    btree = cKDTree(nB)\n",
    "    dist, idx = btree.query(nA, k=1)\n",
    "    gdB_nearest = gdB.iloc[idx].drop(columns=\"geometry\").reset_index(drop=True)\n",
    "    gdf = pd.concat(\n",
    "        [\n",
    "            gdA.reset_index(drop=True),\n",
    "            gdB_nearest,\n",
    "            pd.Series(dist, name='dist')\n",
    "        ], \n",
    "        axis=1)\n",
    "\n",
    "    return gdf\n",
    "\n",
    "joinNearest = ckdnearest(gdf3, gdf2)"
   ]
  },
  {
   "cell_type": "code",
   "execution_count": 223,
   "id": "def14264-a6f2-43f3-bb86-744dbc80b3af",
   "metadata": {},
   "outputs": [],
   "source": [
    "result = pd.DataFrame(joinNearest)[['gid', 'fieldSize']]\n",
    "result.columns = ['gid', 'fieldSize2']"
   ]
  },
  {
   "cell_type": "code",
   "execution_count": 232,
   "id": "d62559ab-28b9-4243-9117-6618e20f0633",
   "metadata": {},
   "outputs": [
    {
     "name": "stdout",
     "output_type": "stream",
     "text": [
      "(131189, 2)\n"
     ]
    }
   ],
   "source": [
    "dfAll.shape\n",
    "print(result.shape)"
   ]
  },
  {
   "cell_type": "code",
   "execution_count": 298,
   "id": "70b5a721-886e-4c97-a8bc-985942ab3b2a",
   "metadata": {
    "collapsed": true,
    "jupyter": {
     "outputs_hidden": true
    },
    "tags": []
   },
   "outputs": [
    {
     "name": "stderr",
     "output_type": "stream",
     "text": [
      "C:\\Users\\coach\\AppData\\Local\\Temp\\ipykernel_15432\\3180726161.py:10: FutureWarning: In a future version, `df.iloc[:, i] = newvals` will attempt to set the values inplace instead of always setting a new array. To retain the old behavior, use either `df[df.columns[i]] = newvals` or, if columns are non-unique, `df.isetitem(i, newvals)`\n",
      "  dfF.loc[:,'areakm2_treeCrop'] = dfF.loc[:,'areakm2_treeCrop'].astype('float64')\n",
      "C:\\Users\\coach\\AppData\\Local\\Temp\\ipykernel_15432\\3180726161.py:11: FutureWarning: In a future version, `df.iloc[:, i] = newvals` will attempt to set the values inplace instead of always setting a new array. To retain the old behavior, use either `df[df.columns[i]] = newvals` or, if columns are non-unique, `df.isetitem(i, newvals)`\n",
      "  dfF.loc[:,'gid'] = dfF.loc[:,'gid'].astype('string')\n",
      "C:\\Users\\coach\\AppData\\Local\\Temp\\ipykernel_15432\\3180726161.py:12: FutureWarning: In a future version, `df.iloc[:, i] = newvals` will attempt to set the values inplace instead of always setting a new array. To retain the old behavior, use either `df[df.columns[i]] = newvals` or, if columns are non-unique, `df.isetitem(i, newvals)`\n",
      "  dfF.loc[:,'id8km'] = dfF.loc[:,'id8km'].astype('int64')\n",
      "C:\\Users\\coach\\AppData\\Local\\Temp\\ipykernel_15432\\3180726161.py:13: FutureWarning: In a future version, `df.iloc[:, i] = newvals` will attempt to set the values inplace instead of always setting a new array. To retain the old behavior, use either `df[df.columns[i]] = newvals` or, if columns are non-unique, `df.isetitem(i, newvals)`\n",
      "  dfF.loc[:,'Nfer_kgha'] = dfF.loc[:,'Nfer_kgha'].astype('float64')\n"
     ]
    }
   ],
   "source": [
    "finaldf = pd.merge(dfAll, result, how= 'outer',on = 'gid').drop_duplicates()\n",
    "finaldf['fieldSize2'] = finaldf['fieldSize2'].fillna(0)\n",
    "finaldf['fieldSize'] = finaldf['fieldSize2'].astype('int')\n",
    "\n",
    "dfF = finaldf.drop('fieldSize2', axis=1).reset_index(drop=True)\n",
    "dfF.loc[392282,'areakm2_treeCrop'] = 0\n",
    "dfF.loc[:,'id8km'] = dfF.loc[:,'id8km'].fillna(0)\n",
    "dfF.loc[:,'id1km'] = dfF.loc[:,'id1km'].fillna(0)\n",
    "dfF = dfF[dfF['areakm2_treeCrop']!= '2726,-3471']\n",
    "dfF.loc[:,'areakm2_treeCrop'] = dfF.loc[:,'areakm2_treeCrop'].astype('float64')\n",
    "dfF.loc[:,'gid'] = dfF.loc[:,'gid'].astype('string')\n",
    "dfF.loc[:,'id8km'] = dfF.loc[:,'id8km'].astype('int64')\n",
    "dfF.loc[:,'Nfer_kgha'] = dfF.loc[:,'Nfer_kgha'].astype('float64')\n",
    "dfF.reset_index(drop=True).to_feather('SA_POC_03112022.feather')"
   ]
  },
  {
   "cell_type": "code",
   "execution_count": 4,
   "id": "a57529eb-78d6-452b-bb4f-e02a61f756c5",
   "metadata": {
    "collapsed": true,
    "jupyter": {
     "outputs_hidden": true
    },
    "tags": []
   },
   "outputs": [
    {
     "name": "stderr",
     "output_type": "stream",
     "text": [
      "C:\\WINDOWS\\System32\\erty\\lib\\site-packages\\geopandas\\plotting.py:693: UserWarning: The GeoDataFrame you are attempting to plot is empty. Nothing has been displayed.\n",
      "  warnings.warn(\n"
     ]
    },
    {
     "data": {
      "image/png": "[encoded data removed]",
      "text/plain": [
       "<Figure size 640x480 with 1 Axes>"
      ]
     },
     "metadata": {},
     "output_type": "display_data"
    }
   ],
   "source": [
    "world = gpd.read_file(gpd.datasets.get_path('naturalearth_lowres'))\n",
    "\n",
    "# We restrict to South Africa.\n",
    "ax = world[world.continent == 'South Africa'].plot(\n",
    "    color='white', edgecolor='black')\n",
    "\n",
    "# plot ``GeoDataFrame``.\n",
    "gdf.plot(ax=ax, color='red')\n",
    "plt.show()"
   ]
  },
  {
   "cell_type": "markdown",
   "id": "aacae64d-6ec5-4875-91eb-3d1a9943a441",
   "metadata": {},
   "source": [
    "## Decision tree"
   ]
  },
  {
   "cell_type": "code",
   "execution_count": 1,
   "id": "f2453cca-3952-45c6-a2f9-70937f46f170",
   "metadata": {
    "tags": []
   },
   "outputs": [],
   "source": [
    "import pandas as pd\n",
    "from sklearn.preprocessing import MinMaxScaler\n",
    "import geopandas as gpd\n",
    "\n",
    "filename = r\"C:\\Users\\coach\\myfiles\\miscellenous\\hayley\\outputs\\SA_POC_03112022.feather\"\n",
    "df = pd.read_feather(filename)"
   ]
  },
  {
   "cell_type": "code",
   "execution_count": 2,
   "id": "68b2586f-5588-41e8-bfb8-9b1e8ffcc73e",
   "metadata": {
    "tags": []
   },
   "outputs": [
    {
     "name": "stdout",
     "output_type": "stream",
     "text": [
      "['areakm2_urban', 'areakm2_irrigatedMed', 'areakm2_irrigatedHigh', 'areakm2_cropCover', 'areakm2_protArea', 'areakm2_slowNutrArea', 'areakm2_sMedNutriArea', 'areakm2_sHighNutriArea', 'areakm2_plantation', 'areakm2_treeCrop', 'popDensity', 'sheepDensity', 'goatDensity', 'cattleDensity', 'mean_precip', 'mean_sandContent', 'Nfer_kgha']\n"
     ]
    },
    {
     "data": {
      "text/html": [
       "<div>\n",
       "<style scoped>\n",
       "    .dataframe tbody tr th:only-of-type {\n",
       "        vertical-align: middle;\n",
       "    }\n",
       "\n",
       "    .dataframe tbody tr th {\n",
       "        vertical-align: top;\n",
       "    }\n",
       "\n",
       "    .dataframe thead th {\n",
       "        text-align: right;\n",
       "    }\n",
       "</style>\n",
       "<table border=\"1\" class=\"dataframe\">\n",
       "  <thead>\n",
       "    <tr style=\"text-align: right;\">\n",
       "      <th></th>\n",
       "      <th>areakm2_urban</th>\n",
       "      <th>areakm2_irrigatedMed</th>\n",
       "      <th>areakm2_irrigatedHigh</th>\n",
       "      <th>areakm2_cropCover</th>\n",
       "      <th>areakm2_protArea</th>\n",
       "      <th>areakm2_slowNutrArea</th>\n",
       "      <th>areakm2_sMedNutriArea</th>\n",
       "      <th>areakm2_sHighNutriArea</th>\n",
       "      <th>areakm2_plantation</th>\n",
       "      <th>areakm2_treeCrop</th>\n",
       "      <th>...</th>\n",
       "      <th>scaled_areakm2_sHighNutriArea</th>\n",
       "      <th>scaled_areakm2_plantation</th>\n",
       "      <th>scaled_areakm2_treeCrop</th>\n",
       "      <th>scaled_popDensity</th>\n",
       "      <th>scaled_sheepDensity</th>\n",
       "      <th>scaled_goatDensity</th>\n",
       "      <th>scaled_cattleDensity</th>\n",
       "      <th>scaled_mean_precip</th>\n",
       "      <th>scaled_mean_sandContent</th>\n",
       "      <th>scaled_Nfer_kgha</th>\n",
       "    </tr>\n",
       "  </thead>\n",
       "  <tbody>\n",
       "    <tr>\n",
       "      <th>0</th>\n",
       "      <td>0.000000</td>\n",
       "      <td>0.0</td>\n",
       "      <td>0</td>\n",
       "      <td>0.000000</td>\n",
       "      <td>0.187803</td>\n",
       "      <td>0.0</td>\n",
       "      <td>0.000000</td>\n",
       "      <td>0.0</td>\n",
       "      <td>0.0</td>\n",
       "      <td>0.0</td>\n",
       "      <td>...</td>\n",
       "      <td>0.0</td>\n",
       "      <td>0.0</td>\n",
       "      <td>0.0</td>\n",
       "      <td>0.000121</td>\n",
       "      <td>0.106703</td>\n",
       "      <td>0.128683</td>\n",
       "      <td>0.195052</td>\n",
       "      <td>0.382256</td>\n",
       "      <td>0.644739</td>\n",
       "      <td>NaN</td>\n",
       "    </tr>\n",
       "    <tr>\n",
       "      <th>1</th>\n",
       "      <td>0.000000</td>\n",
       "      <td>0.0</td>\n",
       "      <td>0</td>\n",
       "      <td>0.000000</td>\n",
       "      <td>0.676740</td>\n",
       "      <td>0.0</td>\n",
       "      <td>0.000000</td>\n",
       "      <td>0.0</td>\n",
       "      <td>0.0</td>\n",
       "      <td>0.0</td>\n",
       "      <td>...</td>\n",
       "      <td>0.0</td>\n",
       "      <td>0.0</td>\n",
       "      <td>0.0</td>\n",
       "      <td>0.000121</td>\n",
       "      <td>0.106703</td>\n",
       "      <td>0.128683</td>\n",
       "      <td>0.195052</td>\n",
       "      <td>0.382256</td>\n",
       "      <td>0.677911</td>\n",
       "      <td>NaN</td>\n",
       "    </tr>\n",
       "    <tr>\n",
       "      <th>2</th>\n",
       "      <td>0.000000</td>\n",
       "      <td>0.0</td>\n",
       "      <td>0</td>\n",
       "      <td>0.000000</td>\n",
       "      <td>0.556934</td>\n",
       "      <td>0.0</td>\n",
       "      <td>0.000000</td>\n",
       "      <td>0.0</td>\n",
       "      <td>0.0</td>\n",
       "      <td>0.0</td>\n",
       "      <td>...</td>\n",
       "      <td>0.0</td>\n",
       "      <td>0.0</td>\n",
       "      <td>0.0</td>\n",
       "      <td>0.000121</td>\n",
       "      <td>0.106703</td>\n",
       "      <td>0.128683</td>\n",
       "      <td>0.195052</td>\n",
       "      <td>0.366147</td>\n",
       "      <td>0.642009</td>\n",
       "      <td>NaN</td>\n",
       "    </tr>\n",
       "    <tr>\n",
       "      <th>3</th>\n",
       "      <td>0.000000</td>\n",
       "      <td>0.0</td>\n",
       "      <td>0</td>\n",
       "      <td>0.825688</td>\n",
       "      <td>0.000000</td>\n",
       "      <td>0.0</td>\n",
       "      <td>0.000000</td>\n",
       "      <td>0.0</td>\n",
       "      <td>0.0</td>\n",
       "      <td>0.0</td>\n",
       "      <td>...</td>\n",
       "      <td>0.0</td>\n",
       "      <td>0.0</td>\n",
       "      <td>0.0</td>\n",
       "      <td>0.000099</td>\n",
       "      <td>0.106703</td>\n",
       "      <td>0.128683</td>\n",
       "      <td>0.195052</td>\n",
       "      <td>0.350039</td>\n",
       "      <td>0.718940</td>\n",
       "      <td>NaN</td>\n",
       "    </tr>\n",
       "    <tr>\n",
       "      <th>4</th>\n",
       "      <td>0.003238</td>\n",
       "      <td>0.0</td>\n",
       "      <td>0</td>\n",
       "      <td>0.825688</td>\n",
       "      <td>0.000000</td>\n",
       "      <td>0.0</td>\n",
       "      <td>0.000000</td>\n",
       "      <td>0.0</td>\n",
       "      <td>0.0</td>\n",
       "      <td>0.0</td>\n",
       "      <td>...</td>\n",
       "      <td>0.0</td>\n",
       "      <td>0.0</td>\n",
       "      <td>0.0</td>\n",
       "      <td>0.000098</td>\n",
       "      <td>0.106703</td>\n",
       "      <td>0.128683</td>\n",
       "      <td>0.195052</td>\n",
       "      <td>0.350039</td>\n",
       "      <td>0.730394</td>\n",
       "      <td>NaN</td>\n",
       "    </tr>\n",
       "    <tr>\n",
       "      <th>...</th>\n",
       "      <td>...</td>\n",
       "      <td>...</td>\n",
       "      <td>...</td>\n",
       "      <td>...</td>\n",
       "      <td>...</td>\n",
       "      <td>...</td>\n",
       "      <td>...</td>\n",
       "      <td>...</td>\n",
       "      <td>...</td>\n",
       "      <td>...</td>\n",
       "      <td>...</td>\n",
       "      <td>...</td>\n",
       "      <td>...</td>\n",
       "      <td>...</td>\n",
       "      <td>...</td>\n",
       "      <td>...</td>\n",
       "      <td>...</td>\n",
       "      <td>...</td>\n",
       "      <td>...</td>\n",
       "      <td>...</td>\n",
       "      <td>...</td>\n",
       "    </tr>\n",
       "    <tr>\n",
       "      <th>1406816</th>\n",
       "      <td>0.000000</td>\n",
       "      <td>0.0</td>\n",
       "      <td>0</td>\n",
       "      <td>0.000000</td>\n",
       "      <td>0.000000</td>\n",
       "      <td>0.0</td>\n",
       "      <td>0.919741</td>\n",
       "      <td>0.0</td>\n",
       "      <td>0.0</td>\n",
       "      <td>0.0</td>\n",
       "      <td>...</td>\n",
       "      <td>0.0</td>\n",
       "      <td>0.0</td>\n",
       "      <td>0.0</td>\n",
       "      <td>0.000019</td>\n",
       "      <td>0.015653</td>\n",
       "      <td>0.085360</td>\n",
       "      <td>0.081163</td>\n",
       "      <td>0.178120</td>\n",
       "      <td>0.882570</td>\n",
       "      <td>0.063361</td>\n",
       "    </tr>\n",
       "    <tr>\n",
       "      <th>1406817</th>\n",
       "      <td>0.000000</td>\n",
       "      <td>0.0</td>\n",
       "      <td>0</td>\n",
       "      <td>0.000000</td>\n",
       "      <td>0.000000</td>\n",
       "      <td>0.0</td>\n",
       "      <td>0.919741</td>\n",
       "      <td>0.0</td>\n",
       "      <td>0.0</td>\n",
       "      <td>0.0</td>\n",
       "      <td>...</td>\n",
       "      <td>0.0</td>\n",
       "      <td>0.0</td>\n",
       "      <td>0.0</td>\n",
       "      <td>0.000019</td>\n",
       "      <td>0.015653</td>\n",
       "      <td>0.085360</td>\n",
       "      <td>0.081163</td>\n",
       "      <td>0.175626</td>\n",
       "      <td>0.884133</td>\n",
       "      <td>0.063361</td>\n",
       "    </tr>\n",
       "    <tr>\n",
       "      <th>1406818</th>\n",
       "      <td>0.003607</td>\n",
       "      <td>0.0</td>\n",
       "      <td>0</td>\n",
       "      <td>0.000000</td>\n",
       "      <td>0.000000</td>\n",
       "      <td>0.0</td>\n",
       "      <td>0.919741</td>\n",
       "      <td>0.0</td>\n",
       "      <td>0.0</td>\n",
       "      <td>0.0</td>\n",
       "      <td>...</td>\n",
       "      <td>0.0</td>\n",
       "      <td>0.0</td>\n",
       "      <td>0.0</td>\n",
       "      <td>0.000019</td>\n",
       "      <td>0.015653</td>\n",
       "      <td>0.085360</td>\n",
       "      <td>0.081163</td>\n",
       "      <td>0.175626</td>\n",
       "      <td>0.883045</td>\n",
       "      <td>0.063361</td>\n",
       "    </tr>\n",
       "    <tr>\n",
       "      <th>1406819</th>\n",
       "      <td>0.010820</td>\n",
       "      <td>0.0</td>\n",
       "      <td>0</td>\n",
       "      <td>0.000000</td>\n",
       "      <td>0.000000</td>\n",
       "      <td>0.0</td>\n",
       "      <td>0.919741</td>\n",
       "      <td>0.0</td>\n",
       "      <td>0.0</td>\n",
       "      <td>0.0</td>\n",
       "      <td>...</td>\n",
       "      <td>0.0</td>\n",
       "      <td>0.0</td>\n",
       "      <td>0.0</td>\n",
       "      <td>0.000019</td>\n",
       "      <td>0.015653</td>\n",
       "      <td>0.085360</td>\n",
       "      <td>0.081163</td>\n",
       "      <td>0.175626</td>\n",
       "      <td>0.880486</td>\n",
       "      <td>0.063361</td>\n",
       "    </tr>\n",
       "    <tr>\n",
       "      <th>1406820</th>\n",
       "      <td>0.000000</td>\n",
       "      <td>0.0</td>\n",
       "      <td>0</td>\n",
       "      <td>0.000000</td>\n",
       "      <td>0.000000</td>\n",
       "      <td>0.0</td>\n",
       "      <td>0.919741</td>\n",
       "      <td>0.0</td>\n",
       "      <td>0.0</td>\n",
       "      <td>0.0</td>\n",
       "      <td>...</td>\n",
       "      <td>0.0</td>\n",
       "      <td>0.0</td>\n",
       "      <td>0.0</td>\n",
       "      <td>0.000019</td>\n",
       "      <td>0.015653</td>\n",
       "      <td>0.085360</td>\n",
       "      <td>0.081163</td>\n",
       "      <td>0.175626</td>\n",
       "      <td>0.885159</td>\n",
       "      <td>0.063361</td>\n",
       "    </tr>\n",
       "  </tbody>\n",
       "</table>\n",
       "<p>1406821 rows × 40 columns</p>\n",
       "</div>"
      ],
      "text/plain": [
       "         areakm2_urban  areakm2_irrigatedMed  areakm2_irrigatedHigh  \\\n",
       "0             0.000000                   0.0                      0   \n",
       "1             0.000000                   0.0                      0   \n",
       "2             0.000000                   0.0                      0   \n",
       "3             0.000000                   0.0                      0   \n",
       "4             0.003238                   0.0                      0   \n",
       "...                ...                   ...                    ...   \n",
       "1406816       0.000000                   0.0                      0   \n",
       "1406817       0.000000                   0.0                      0   \n",
       "1406818       0.003607                   0.0                      0   \n",
       "1406819       0.010820                   0.0                      0   \n",
       "1406820       0.000000                   0.0                      0   \n",
       "\n",
       "         areakm2_cropCover  areakm2_protArea  areakm2_slowNutrArea  \\\n",
       "0                 0.000000          0.187803                   0.0   \n",
       "1                 0.000000          0.676740                   0.0   \n",
       "2                 0.000000          0.556934                   0.0   \n",
       "3                 0.825688          0.000000                   0.0   \n",
       "4                 0.825688          0.000000                   0.0   \n",
       "...                    ...               ...                   ...   \n",
       "1406816           0.000000          0.000000                   0.0   \n",
       "1406817           0.000000          0.000000                   0.0   \n",
       "1406818           0.000000          0.000000                   0.0   \n",
       "1406819           0.000000          0.000000                   0.0   \n",
       "1406820           0.000000          0.000000                   0.0   \n",
       "\n",
       "         areakm2_sMedNutriArea  areakm2_sHighNutriArea  areakm2_plantation  \\\n",
       "0                     0.000000                     0.0                 0.0   \n",
       "1                     0.000000                     0.0                 0.0   \n",
       "2                     0.000000                     0.0                 0.0   \n",
       "3                     0.000000                     0.0                 0.0   \n",
       "4                     0.000000                     0.0                 0.0   \n",
       "...                        ...                     ...                 ...   \n",
       "1406816               0.919741                     0.0                 0.0   \n",
       "1406817               0.919741                     0.0                 0.0   \n",
       "1406818               0.919741                     0.0                 0.0   \n",
       "1406819               0.919741                     0.0                 0.0   \n",
       "1406820               0.919741                     0.0                 0.0   \n",
       "\n",
       "         areakm2_treeCrop  ...  scaled_areakm2_sHighNutriArea  \\\n",
       "0                     0.0  ...                            0.0   \n",
       "1                     0.0  ...                            0.0   \n",
       "2                     0.0  ...                            0.0   \n",
       "3                     0.0  ...                            0.0   \n",
       "4                     0.0  ...                            0.0   \n",
       "...                   ...  ...                            ...   \n",
       "1406816               0.0  ...                            0.0   \n",
       "1406817               0.0  ...                            0.0   \n",
       "1406818               0.0  ...                            0.0   \n",
       "1406819               0.0  ...                            0.0   \n",
       "1406820               0.0  ...                            0.0   \n",
       "\n",
       "         scaled_areakm2_plantation  scaled_areakm2_treeCrop  \\\n",
       "0                              0.0                      0.0   \n",
       "1                              0.0                      0.0   \n",
       "2                              0.0                      0.0   \n",
       "3                              0.0                      0.0   \n",
       "4                              0.0                      0.0   \n",
       "...                            ...                      ...   \n",
       "1406816                        0.0                      0.0   \n",
       "1406817                        0.0                      0.0   \n",
       "1406818                        0.0                      0.0   \n",
       "1406819                        0.0                      0.0   \n",
       "1406820                        0.0                      0.0   \n",
       "\n",
       "         scaled_popDensity scaled_sheepDensity  scaled_goatDensity  \\\n",
       "0                 0.000121            0.106703            0.128683   \n",
       "1                 0.000121            0.106703            0.128683   \n",
       "2                 0.000121            0.106703            0.128683   \n",
       "3                 0.000099            0.106703            0.128683   \n",
       "4                 0.000098            0.106703            0.128683   \n",
       "...                    ...                 ...                 ...   \n",
       "1406816           0.000019            0.015653            0.085360   \n",
       "1406817           0.000019            0.015653            0.085360   \n",
       "1406818           0.000019            0.015653            0.085360   \n",
       "1406819           0.000019            0.015653            0.085360   \n",
       "1406820           0.000019            0.015653            0.085360   \n",
       "\n",
       "         scaled_cattleDensity  scaled_mean_precip  scaled_mean_sandContent  \\\n",
       "0                    0.195052            0.382256                 0.644739   \n",
       "1                    0.195052            0.382256                 0.677911   \n",
       "2                    0.195052            0.366147                 0.642009   \n",
       "3                    0.195052            0.350039                 0.718940   \n",
       "4                    0.195052            0.350039                 0.730394   \n",
       "...                       ...                 ...                      ...   \n",
       "1406816              0.081163            0.178120                 0.882570   \n",
       "1406817              0.081163            0.175626                 0.884133   \n",
       "1406818              0.081163            0.175626                 0.883045   \n",
       "1406819              0.081163            0.175626                 0.880486   \n",
       "1406820              0.081163            0.175626                 0.885159   \n",
       "\n",
       "         scaled_Nfer_kgha  \n",
       "0                     NaN  \n",
       "1                     NaN  \n",
       "2                     NaN  \n",
       "3                     NaN  \n",
       "4                     NaN  \n",
       "...                   ...  \n",
       "1406816          0.063361  \n",
       "1406817          0.063361  \n",
       "1406818          0.063361  \n",
       "1406819          0.063361  \n",
       "1406820          0.063361  \n",
       "\n",
       "[1406821 rows x 40 columns]"
      ]
     },
     "execution_count": 2,
     "metadata": {},
     "output_type": "execute_result"
    }
   ],
   "source": [
    "scaler = MinMaxScaler()\n",
    "colnames = list(df.drop(['gid', 'x', 'y', 'fieldSize', 'id1km', 'id8km'],axis=1))\n",
    "print(colnames)\n",
    "df_scaled = pd.DataFrame(scaler.fit_transform(df.drop(['gid', 'x', 'y', 'fieldSize', 'id1km', 'id8km'],axis=1)),columns = colnames)\n",
    "# df_scaled.columns = colnames\n",
    "df2 = pd.concat([df, df_scaled.add_prefix('scaled_')], axis=1)\n",
    "df2"
   ]
  },
  {
   "cell_type": "code",
   "execution_count": 3,
   "id": "d4bcc049-6f1b-4b60-99c3-a296ea12744d",
   "metadata": {},
   "outputs": [],
   "source": [
    "#1= Urban\n",
    "#2= Non agricultural settlements\n",
    "#3= Agricultural settlements\n",
    "#4= Timber plantations\n",
    "#5= Tree Croplands\n",
    "#6= CropLands\n",
    "#7= Protected areas\n",
    "#8= Rangelands/Near-natural lands\n",
    "\n",
    "def ExpertDT(df):\n",
    "\n",
    "    #8= Rangelands/Near-natural lands\n",
    "    df['Land_Use'] = 8\n",
    "\n",
    "    #7= Protected areas\n",
    "    df.loc[df['areakm2_protArea']>0.5, 'Land_Use'] = 7\n",
    "\n",
    "    #6= CropLands\n",
    "    df.loc[df['areakm2_cropCover']>0.2, 'Land_Use'] = 6\n",
    "\n",
    "    #5= Tree Croplands\n",
    "    df.loc[df['areakm2_treeCrop']>0.2, 'Land_Use'] = 5\n",
    "\n",
    "    #4= Timber plantations\n",
    "    df.loc[df['areakm2_plantation']>0.2, 'Land_Use'] = 4\n",
    "\n",
    "    #3= Agricultural settlements\n",
    "    df.loc[(df['popDensity']>100)&\\\n",
    "       (df['areakm2_cropCover']>=0.05) & (df['areakm2_cropCover']<=0.2) &\\\n",
    "       (df['areakm2_treeCrop']>=0.05) & (df['areakm2_treeCrop']<=0.2) &\\\n",
    "       (df['areakm2_plantation']>=0.05) & (df['areakm2_plantation']<=0.2) &\\\n",
    "       (df['scaled_cattleDensity']>= 0.2), 'Land_Use'] = 3\n",
    "\n",
    "    #2= Non agricultural settlements\n",
    "    df.loc[(df['popDensity']>100)&\\\n",
    "       (df['areakm2_cropCover']<0.05) &\\\n",
    "       (df['areakm2_treeCrop']<0.05) &\\\n",
    "       (df['areakm2_plantation']<0.05)&\\\n",
    "       (df['scaled_cattleDensity']>= 0.2), 'Land_Use'] = 2\n",
    "    #1= Urban\n",
    "    df.loc[(df['areakm2_urban']>0.2)&\n",
    "        (df['popDensity']>1500) , 'Land_Use'] = 1\n",
    "    return df\n",
    "    \n",
    "result = ExpertDT(df2)"
   ]
  },
  {
   "cell_type": "code",
   "execution_count": 4,
   "id": "060bd28e-d0af-469f-b2cb-0b252a137c88",
   "metadata": {},
   "outputs": [
    {
     "data": {
      "text/plain": [
       "8    1103954\n",
       "6     126502\n",
       "7      86715\n",
       "2      40107\n",
       "4      34222\n",
       "5       7800\n",
       "1       7521\n",
       "Name: Land_Use, dtype: int64"
      ]
     },
     "execution_count": 4,
     "metadata": {},
     "output_type": "execute_result"
    }
   ],
   "source": [
    "result['Land_Use'].value_counts()"
   ]
  },
  {
   "cell_type": "code",
   "execution_count": 7,
   "id": "6ca1a767-85db-4f17-bffb-445db50b66ad",
   "metadata": {},
   "outputs": [
    {
     "data": {
      "text/plain": [
       "<AxesSubplot: ylabel='Frequency'>"
      ]
     },
     "execution_count": 7,
     "metadata": {},
     "output_type": "execute_result"
    },
    {
     "data": {
      "image/png": "[encoded data removed]",
      "text/plain": [
       "<Figure size 640x480 with 1 Axes>"
      ]
     },
     "metadata": {},
     "output_type": "display_data"
    }
   ],
   "source": [
    "result['Land_Use'].plot.hist()"
   ]
  },
  {
   "cell_type": "code",
   "execution_count": 5,
   "id": "709cdbb2-7c5a-45ba-8247-c52fd2f57904",
   "metadata": {},
   "outputs": [
    {
     "data": {
      "text/plain": [
       "Index(['areakm2_urban', 'areakm2_irrigatedMed', 'areakm2_irrigatedHigh',\n",
       "       'areakm2_cropCover', 'areakm2_protArea', 'areakm2_slowNutrArea',\n",
       "       'areakm2_sMedNutriArea', 'areakm2_sHighNutriArea', 'areakm2_plantation',\n",
       "       'areakm2_treeCrop', 'popDensity', 'sheepDensity', 'goatDensity',\n",
       "       'cattleDensity', 'gid', 'mean_precip', 'mean_sandContent', 'Nfer_kgha',\n",
       "       'x', 'y', 'fieldSize', 'id1km', 'id8km', 'scaled_areakm2_urban',\n",
       "       'scaled_areakm2_irrigatedMed', 'scaled_areakm2_irrigatedHigh',\n",
       "       'scaled_areakm2_cropCover', 'scaled_areakm2_protArea',\n",
       "       'scaled_areakm2_slowNutrArea', 'scaled_areakm2_sMedNutriArea',\n",
       "       'scaled_areakm2_sHighNutriArea', 'scaled_areakm2_plantation',\n",
       "       'scaled_areakm2_treeCrop', 'scaled_popDensity', 'scaled_sheepDensity',\n",
       "       'scaled_goatDensity', 'scaled_cattleDensity', 'scaled_mean_precip',\n",
       "       'scaled_mean_sandContent', 'scaled_Nfer_kgha', 'Land_Use'],\n",
       "      dtype='object')"
      ]
     },
     "execution_count": 5,
     "metadata": {},
     "output_type": "execute_result"
    }
   ],
   "source": [
    "result.columns"
   ]
  },
  {
   "cell_type": "markdown",
   "id": "fca544e8-cf9a-4bec-a144-4431850d9d2e",
   "metadata": {},
   "source": [
    "## Intensity"
   ]
  },
  {
   "cell_type": "code",
   "execution_count": 10,
   "id": "16c195e1-79ef-4010-bb7e-f2090dc58d6a",
   "metadata": {},
   "outputs": [],
   "source": [
    "result['intensity'] = -1\n",
    "\n",
    "#1= Urban\n",
    "result.loc[(result['Land_Use']==1), 'intensity'] = (result['scaled_areakm2_urban']+result['scaled_popDensity'])/2\n",
    "\n",
    "#2= Non agricultural settlements\n",
    "result.loc[(result['Land_Use']==2), 'intensity'] = (result['scaled_cattleDensity']+\\\n",
    "                                                    result['scaled_popDensity']+\\\n",
    "                                                    result['scaled_areakm2_cropCover']+\\\n",
    "                                                    result['scaled_areakm2_treeCrop']+\\\n",
    "                                                    result['scaled_areakm2_plantation']\\\n",
    "                                                   )/5\n",
    "\n",
    "#3= Agricultural settlements\n",
    "result.loc[(result['Land_Use']==3), 'intensity'] = (result['scaled_cattleDensity']+\\\n",
    "                                                    (1-result['scaled_popDensity'])+\\\n",
    "                                                    result['scaled_areakm2_cropCover']+\\\n",
    "                                                    result['scaled_areakm2_treeCrop']+\\\n",
    "                                                    result['scaled_areakm2_plantation']\\\n",
    "                                                   )/5\n",
    "\n",
    "#5= Tree Croplands\n",
    "result.loc[(result['Land_Use']==5), 'intensity'] = (result['scaled_areakm2_treeCrop']+\\\n",
    "                                                    result['scaled_Nfer_kgha']\\\n",
    "                                                   )/2\n",
    "\n",
    "#6 = Croplands\n",
    "result.loc[(result['Land_Use']==6), 'intensity'] = (result['scaled_areakm2_cropCover']+\\\n",
    "                                                    result['scaled_areakm2_irrigatedMed']+\\\n",
    "                                                    result['scaled_areakm2_irrigatedHigh']+\\\n",
    "                                                    result['scaled_Nfer_kgha']\\\n",
    "                                                   )/4\n",
    "\n",
    "#8 = Rangelands/ Near-naturallands\n",
    "result.loc[(result['Land_Use']==8), 'intensity'] = (result['scaled_mean_sandContent']+\\\n",
    "                                                    result['scaled_mean_precip']+\\\n",
    "                                                    result['scaled_areakm2_slowNutrArea']+\\\n",
    "                                                    result['scaled_areakm2_sMedNutriArea']+\\\n",
    "                                                    result['scaled_areakm2_sHighNutriArea']\\\n",
    "                                                   )/5"
   ]
  },
  {
   "cell_type": "code",
   "execution_count": 11,
   "id": "1abcf014-3346-4b2c-ad53-031d2e03f06b",
   "metadata": {},
   "outputs": [
    {
     "data": {
      "text/plain": [
       "<AxesSubplot: ylabel='Frequency'>"
      ]
     },
     "execution_count": 11,
     "metadata": {},
     "output_type": "execute_result"
    },
    {
     "data": {
      "image/png": "[encoded data removed]",
      "text/plain": [
       "<Figure size 640x480 with 1 Axes>"
      ]
     },
     "metadata": {},
     "output_type": "display_data"
    }
   ],
   "source": [
    "result.intensity.plot.hist()"
   ]
  },
  {
   "cell_type": "code",
   "execution_count": 323,
   "id": "6287b02a-f11e-4ed9-8730-7ff15a4feeac",
   "metadata": {},
   "outputs": [],
   "source": [
    "featherFile = r\"C:\\Users\\coach\\myfiles\\miscellenous\\hayley\\outputs\\SA_POC_wr_03112022.feather\"\n",
    "result.to_feather(featherFile)"
   ]
  },
  {
   "cell_type": "code",
   "execution_count": 14,
   "id": "c4233847-b6bd-4e76-a2a7-ed3c159ffc45",
   "metadata": {},
   "outputs": [],
   "source": [
    "gdf = gpd.GeoDataFrame(result[['gid','Land_Use','intensity']], geometry = gpd.points_from_xy(result.x, result.y), crs= 'EPSG:4326')"
   ]
  },
  {
   "cell_type": "code",
   "execution_count": 18,
   "id": "98a15c7c-f928-47cf-b2d6-819be022480f",
   "metadata": {},
   "outputs": [],
   "source": [
    "gdf.to_file(\"SA_pts_result.shp\")"
   ]
  },
  {
   "cell_type": "code",
   "execution_count": null,
   "id": "22e90f01-e307-4166-85c3-762c1ed22bfe",
   "metadata": {},
   "outputs": [],
   "source": []
  },
  {
   "cell_type": "code",
   "execution_count": 20,
   "id": "e3c95ee2-e87e-47e1-8b01-3e6ea059b885",
   "metadata": {},
   "outputs": [],
   "source": [
    "# convert to FeatureCollection using one line of code\n",
    "fc = ee.FeatureCollection('projects/ee-geethensingh/assets/Hayley/SA_pts_result')"
   ]
  },
  {
   "cell_type": "code",
   "execution_count": 24,
   "id": "f816979e-c9db-454b-a4b3-2e56f5b29846",
   "metadata": {},
   "outputs": [
    {
     "data": {
      "text/html": [
       "<div id=\"fd5782be-7864-4005-b6f7-026ad6a41eff\" style=\"height: auto; width:100%;\"></div>"
      ],
      "text/plain": [
       "<IPython.core.display.HTML object>"
      ]
     },
     "metadata": {},
     "output_type": "display_data"
    },
    {
     "data": {
      "text/html": [
       "\n",
       "        <script src=\"/static/components/requirejs/require.js\"></script> <!-- Needed in Colab -->\n",
       "        <script>\n",
       "            require([\"https://rawgit.com/caldwell/renderjson/master/renderjson.js\"], function() {\n",
       "              renderjson.set_show_to_level(1)\n",
       "              document.getElementById('fd5782be-7864-4005-b6f7-026ad6a41eff').appendChild(renderjson(['intensity', 'gid', 'Land_Use', 'system:index']))\n",
       "            });\n",
       "        </script>\n",
       "    "
      ],
      "text/plain": [
       "<IPython.core.display.HTML object>"
      ]
     },
     "metadata": {},
     "output_type": "display_data"
    }
   ],
   "source": [
    "eeprint(fc.first().propertyNames())"
   ]
  },
  {
   "cell_type": "code",
   "execution_count": 30,
   "id": "33acc8fb-40bc-42c9-b6df-674ec4fa7467",
   "metadata": {},
   "outputs": [],
   "source": [
    "# Convert regular spaced points to ee.Image\n",
    "proj = ee.Projection('EPSG:4326')\n",
    "grid = aoi.geometry().coveringGrid(proj, 1000)\n",
    "\n",
    "def pointToGrid(ft):\n",
    "    feat = ee.Feature(ft);\n",
    "    first = fc.filterBounds(feat.geometry())\n",
    "    return feat.set(\"intensity\", first.get(\"intensity\"));\n",
    "\n",
    "outfile = grid.map(pointToGrid)\\\n",
    ".reduceToImage(**{'properties': ee.List(['intensity']), 'reducer': ee.Reducer.first()})"
   ]
  },
  {
   "cell_type": "code",
   "execution_count": 31,
   "id": "f0d787f8-331b-4436-a9cf-a582a419f79a",
   "metadata": {},
   "outputs": [
    {
     "data": {
      "text/html": [
       "<div id=\"e9941961-07f3-4be2-b02c-0cfd9a90bbc8\" style=\"height: auto; width:100%;\"></div>"
      ],
      "text/plain": [
       "<IPython.core.display.HTML object>"
      ]
     },
     "metadata": {},
     "output_type": "display_data"
    },
    {
     "data": {
      "text/html": [
       "\n",
       "        <script src=\"/static/components/requirejs/require.js\"></script> <!-- Needed in Colab -->\n",
       "        <script>\n",
       "            require([\"https://rawgit.com/caldwell/renderjson/master/renderjson.js\"], function() {\n",
       "              renderjson.set_show_to_level(1)\n",
       "              document.getElementById('e9941961-07f3-4be2-b02c-0cfd9a90bbc8').appendChild(renderjson(['first']))\n",
       "            });\n",
       "        </script>\n",
       "    "
      ],
      "text/plain": [
       "<IPython.core.display.HTML object>"
      ]
     },
     "metadata": {},
     "output_type": "display_data"
    }
   ],
   "source": [
    "eeprint(outfile.reduceReion)\n",
    "# https://code.earthengine.google.com/93771600a3347bc42a81efe357117992"
   ]
  },
  {
   "cell_type": "code",
   "execution_count": 33,
   "id": "f2285c08-3a51-4da4-b375-a24fef5755ca",
   "metadata": {},
   "outputs": [
    {
     "data": {
      "application/vnd.jupyter.widget-view+json": {
       "model_id": "c834d41c637f4e5b895b2200ade80d24",
       "version_major": 2,
       "version_minor": 0
      },
      "text/plain": [
       "Map(center=[20, 0], controls=(WidgetControl(options=['position', 'transparent_bg'], widget=HBox(children=(Togg…"
      ]
     },
     "execution_count": 33,
     "metadata": {},
     "output_type": "execute_result"
    }
   ],
   "source": [
    "Map = geemap.Map()\n",
    "Map.addLayer(outfile)\n",
    "Map"
   ]
  },
  {
   "cell_type": "code",
   "execution_count": 17,
   "id": "8f335ba9-995c-4a88-937c-4dfc42bea359",
   "metadata": {
    "collapsed": true,
    "jupyter": {
     "outputs_hidden": true
    },
    "tags": []
   },
   "outputs": [
    {
     "ename": "EEException",
     "evalue": "Request payload size exceeds the limit: 10485760 bytes.",
     "output_type": "error",
     "traceback": [
      "\u001b[1;31m---------------------------------------------------------------------------\u001b[0m",
      "\u001b[1;31mHttpError\u001b[0m                                 Traceback (most recent call last)",
      "File \u001b[1;32mC:\\WINDOWS\\System32\\erty\\lib\\site-packages\\ee\\data.py:328\u001b[0m, in \u001b[0;36m_execute_cloud_call\u001b[1;34m(call, num_retries)\u001b[0m\n\u001b[0;32m    327\u001b[0m \u001b[38;5;28;01mtry\u001b[39;00m:\n\u001b[1;32m--> 328\u001b[0m   \u001b[38;5;28;01mreturn\u001b[39;00m \u001b[43mcall\u001b[49m\u001b[38;5;241;43m.\u001b[39;49m\u001b[43mexecute\u001b[49m\u001b[43m(\u001b[49m\u001b[43mnum_retries\u001b[49m\u001b[38;5;241;43m=\u001b[39;49m\u001b[43mnum_retries\u001b[49m\u001b[43m)\u001b[49m\n\u001b[0;32m    329\u001b[0m \u001b[38;5;28;01mexcept\u001b[39;00m googleapiclient\u001b[38;5;241m.\u001b[39merrors\u001b[38;5;241m.\u001b[39mHttpError \u001b[38;5;28;01mas\u001b[39;00m e:\n",
      "File \u001b[1;32mC:\\WINDOWS\\System32\\erty\\lib\\site-packages\\googleapiclient\\_helpers.py:134\u001b[0m, in \u001b[0;36mpositional.<locals>.positional_decorator.<locals>.positional_wrapper\u001b[1;34m(*args, **kwargs)\u001b[0m\n\u001b[0;32m    133\u001b[0m         logger\u001b[38;5;241m.\u001b[39mwarning(message)\n\u001b[1;32m--> 134\u001b[0m \u001b[38;5;28;01mreturn\u001b[39;00m wrapped(\u001b[38;5;241m*\u001b[39margs, \u001b[38;5;241m*\u001b[39m\u001b[38;5;241m*\u001b[39mkwargs)\n",
      "File \u001b[1;32mC:\\WINDOWS\\System32\\erty\\lib\\site-packages\\googleapiclient\\http.py:915\u001b[0m, in \u001b[0;36mHttpRequest.execute\u001b[1;34m(self, http, num_retries)\u001b[0m\n\u001b[0;32m    914\u001b[0m \u001b[38;5;28;01mif\u001b[39;00m resp\u001b[38;5;241m.\u001b[39mstatus \u001b[38;5;241m>\u001b[39m\u001b[38;5;241m=\u001b[39m \u001b[38;5;241m300\u001b[39m:\n\u001b[1;32m--> 915\u001b[0m     \u001b[38;5;28;01mraise\u001b[39;00m HttpError(resp, content, uri\u001b[38;5;241m=\u001b[39m\u001b[38;5;28mself\u001b[39m\u001b[38;5;241m.\u001b[39muri)\n\u001b[0;32m    916\u001b[0m \u001b[38;5;28;01mreturn\u001b[39;00m \u001b[38;5;28mself\u001b[39m\u001b[38;5;241m.\u001b[39mpostproc(resp, content)\n",
      "\u001b[1;31mHttpError\u001b[0m: <HttpError 400 when requesting https://earthengine-highvolume.googleapis.com/v1alpha/projects/earthengine-legacy/image:export?alt=json returned \"Request payload size exceeds the limit: 10485760 bytes.\". Details: \"Request payload size exceeds the limit: 10485760 bytes.\">",
      "\nDuring handling of the above exception, another exception occurred:\n",
      "\u001b[1;31mEEException\u001b[0m                               Traceback (most recent call last)",
      "Cell \u001b[1;32mIn [17], line 3\u001b[0m\n\u001b[0;32m      1\u001b[0m \u001b[38;5;66;03m#Alternatively export image to assets first then export to drive/download via geedim\u001b[39;00m\n\u001b[0;32m      2\u001b[0m task \u001b[38;5;241m=\u001b[39m ee\u001b[38;5;241m.\u001b[39mbatch\u001b[38;5;241m.\u001b[39mExport\u001b[38;5;241m.\u001b[39mimage\u001b[38;5;241m.\u001b[39mtoAsset(\u001b[38;5;241m*\u001b[39m\u001b[38;5;241m*\u001b[39m{\u001b[38;5;124m'\u001b[39m\u001b[38;5;124mimage\u001b[39m\u001b[38;5;124m'\u001b[39m:outfile, \u001b[38;5;124m'\u001b[39m\u001b[38;5;124mdescription\u001b[39m\u001b[38;5;124m'\u001b[39m: \u001b[38;5;124m'\u001b[39m\u001b[38;5;124mSA_POC\u001b[39m\u001b[38;5;124m'\u001b[39m, \u001b[38;5;124m'\u001b[39m\u001b[38;5;124massetId\u001b[39m\u001b[38;5;124m'\u001b[39m:\u001b[38;5;124m'\u001b[39m\u001b[38;5;124mprojects/ee-geethensingh/assets/SA_POC\u001b[39m\u001b[38;5;124m'\u001b[39m, \u001b[38;5;124m'\u001b[39m\u001b[38;5;124mregion\u001b[39m\u001b[38;5;124m'\u001b[39m: aoi, \u001b[38;5;124m'\u001b[39m\u001b[38;5;124mscale\u001b[39m\u001b[38;5;124m'\u001b[39m: \u001b[38;5;241m1000\u001b[39m, \u001b[38;5;124m'\u001b[39m\u001b[38;5;124mmaxPixels\u001b[39m\u001b[38;5;124m'\u001b[39m: \u001b[38;5;241m1e13\u001b[39m})\n\u001b[1;32m----> 3\u001b[0m \u001b[43mtask\u001b[49m\u001b[38;5;241;43m.\u001b[39;49m\u001b[43mstart\u001b[49m\u001b[43m(\u001b[49m\u001b[43m)\u001b[49m\n",
      "File \u001b[1;32mC:\\WINDOWS\\System32\\erty\\lib\\site-packages\\ee\\batch.py:91\u001b[0m, in \u001b[0;36mTask.start\u001b[1;34m(self)\u001b[0m\n\u001b[0;32m     88\u001b[0m   \u001b[38;5;28mself\u001b[39m\u001b[38;5;241m.\u001b[39mconfig[\u001b[38;5;124m'\u001b[39m\u001b[38;5;124mworkloadTag\u001b[39m\u001b[38;5;124m'\u001b[39m] \u001b[38;5;241m=\u001b[39m \u001b[38;5;28mself\u001b[39m\u001b[38;5;241m.\u001b[39mworkload_tag\n\u001b[0;32m     90\u001b[0m \u001b[38;5;28;01mif\u001b[39;00m \u001b[38;5;28mself\u001b[39m\u001b[38;5;241m.\u001b[39mtask_type \u001b[38;5;241m==\u001b[39m Task\u001b[38;5;241m.\u001b[39mType\u001b[38;5;241m.\u001b[39mEXPORT_IMAGE:\n\u001b[1;32m---> 91\u001b[0m   result \u001b[38;5;241m=\u001b[39m \u001b[43mdata\u001b[49m\u001b[38;5;241;43m.\u001b[39;49m\u001b[43mexportImage\u001b[49m\u001b[43m(\u001b[49m\u001b[38;5;28;43mself\u001b[39;49m\u001b[38;5;241;43m.\u001b[39;49m\u001b[43m_request_id\u001b[49m\u001b[43m,\u001b[49m\u001b[43m \u001b[49m\u001b[38;5;28;43mself\u001b[39;49m\u001b[38;5;241;43m.\u001b[39;49m\u001b[43mconfig\u001b[49m\u001b[43m)\u001b[49m\n\u001b[0;32m     92\u001b[0m \u001b[38;5;28;01melif\u001b[39;00m \u001b[38;5;28mself\u001b[39m\u001b[38;5;241m.\u001b[39mtask_type \u001b[38;5;241m==\u001b[39m Task\u001b[38;5;241m.\u001b[39mType\u001b[38;5;241m.\u001b[39mEXPORT_MAP:\n\u001b[0;32m     93\u001b[0m   result \u001b[38;5;241m=\u001b[39m data\u001b[38;5;241m.\u001b[39mexportMap(\u001b[38;5;28mself\u001b[39m\u001b[38;5;241m.\u001b[39m_request_id, \u001b[38;5;28mself\u001b[39m\u001b[38;5;241m.\u001b[39mconfig)\n",
      "File \u001b[1;32mC:\\WINDOWS\\System32\\erty\\lib\\site-packages\\ee\\data.py:1319\u001b[0m, in \u001b[0;36mexportImage\u001b[1;34m(request_id, params)\u001b[0m\n\u001b[0;32m   1298\u001b[0m \u001b[38;5;124;03m\"\"\"Starts an image export task running.\u001b[39;00m\n\u001b[0;32m   1299\u001b[0m \n\u001b[0;32m   1300\u001b[0m \u001b[38;5;124;03mThis is a low-level method. The higher-level ee.batch.Export.image object\u001b[39;00m\n\u001b[1;32m   (...)\u001b[0m\n\u001b[0;32m   1316\u001b[0m \u001b[38;5;124;03m  If you are using the cloud API, this will be an Operation.\u001b[39;00m\n\u001b[0;32m   1317\u001b[0m \u001b[38;5;124;03m\"\"\"\u001b[39;00m\n\u001b[0;32m   1318\u001b[0m params \u001b[38;5;241m=\u001b[39m params\u001b[38;5;241m.\u001b[39mcopy()\n\u001b[1;32m-> 1319\u001b[0m \u001b[38;5;28;01mreturn\u001b[39;00m \u001b[43m_prepare_and_run_export\u001b[49m\u001b[43m(\u001b[49m\n\u001b[0;32m   1320\u001b[0m \u001b[43m    \u001b[49m\u001b[43mrequest_id\u001b[49m\u001b[43m,\u001b[49m\u001b[43m \u001b[49m\u001b[43mparams\u001b[49m\u001b[43m,\u001b[49m\n\u001b[0;32m   1321\u001b[0m \u001b[43m    \u001b[49m\u001b[43m_get_cloud_api_resource\u001b[49m\u001b[43m(\u001b[49m\u001b[43m)\u001b[49m\u001b[38;5;241;43m.\u001b[39;49m\u001b[43mprojects\u001b[49m\u001b[43m(\u001b[49m\u001b[43m)\u001b[49m\u001b[38;5;241;43m.\u001b[39;49m\u001b[43mimage\u001b[49m\u001b[43m(\u001b[49m\u001b[43m)\u001b[49m\u001b[38;5;241;43m.\u001b[39;49m\u001b[43mexport\u001b[49m\u001b[43m)\u001b[49m\n",
      "File \u001b[1;32mC:\\WINDOWS\\System32\\erty\\lib\\site-packages\\ee\\data.py:1440\u001b[0m, in \u001b[0;36m_prepare_and_run_export\u001b[1;34m(request_id, params, export_endpoint)\u001b[0m\n\u001b[0;32m   1437\u001b[0m   params[\u001b[38;5;124m'\u001b[39m\u001b[38;5;124mexpression\u001b[39m\u001b[38;5;124m'\u001b[39m] \u001b[38;5;241m=\u001b[39m serializer\u001b[38;5;241m.\u001b[39mencode(\n\u001b[0;32m   1438\u001b[0m       params[\u001b[38;5;124m'\u001b[39m\u001b[38;5;124mexpression\u001b[39m\u001b[38;5;124m'\u001b[39m], for_cloud_api\u001b[38;5;241m=\u001b[39m\u001b[38;5;28;01mTrue\u001b[39;00m)\n\u001b[0;32m   1439\u001b[0m num_retries \u001b[38;5;241m=\u001b[39m MAX_RETRIES \u001b[38;5;28;01mif\u001b[39;00m request_id \u001b[38;5;28;01melse\u001b[39;00m \u001b[38;5;241m0\u001b[39m\n\u001b[1;32m-> 1440\u001b[0m \u001b[38;5;28;01mreturn\u001b[39;00m \u001b[43m_execute_cloud_call\u001b[49m\u001b[43m(\u001b[49m\n\u001b[0;32m   1441\u001b[0m \u001b[43m    \u001b[49m\u001b[43mexport_endpoint\u001b[49m\u001b[43m(\u001b[49m\u001b[43mproject\u001b[49m\u001b[38;5;241;43m=\u001b[39;49m\u001b[43m_get_projects_path\u001b[49m\u001b[43m(\u001b[49m\u001b[43m)\u001b[49m\u001b[43m,\u001b[49m\u001b[43m \u001b[49m\u001b[43mbody\u001b[49m\u001b[38;5;241;43m=\u001b[39;49m\u001b[43mparams\u001b[49m\u001b[43m)\u001b[49m\u001b[43m,\u001b[49m\n\u001b[0;32m   1442\u001b[0m \u001b[43m    \u001b[49m\u001b[43mnum_retries\u001b[49m\u001b[38;5;241;43m=\u001b[39;49m\u001b[43mnum_retries\u001b[49m\u001b[43m)\u001b[49m\n",
      "File \u001b[1;32mC:\\WINDOWS\\System32\\erty\\lib\\site-packages\\ee\\data.py:330\u001b[0m, in \u001b[0;36m_execute_cloud_call\u001b[1;34m(call, num_retries)\u001b[0m\n\u001b[0;32m    328\u001b[0m   \u001b[38;5;28;01mreturn\u001b[39;00m call\u001b[38;5;241m.\u001b[39mexecute(num_retries\u001b[38;5;241m=\u001b[39mnum_retries)\n\u001b[0;32m    329\u001b[0m \u001b[38;5;28;01mexcept\u001b[39;00m googleapiclient\u001b[38;5;241m.\u001b[39merrors\u001b[38;5;241m.\u001b[39mHttpError \u001b[38;5;28;01mas\u001b[39;00m e:\n\u001b[1;32m--> 330\u001b[0m   \u001b[38;5;28;01mraise\u001b[39;00m _translate_cloud_exception(e)\n",
      "\u001b[1;31mEEException\u001b[0m: Request payload size exceeds the limit: 10485760 bytes."
     ]
    }
   ],
   "source": [
    "#Alternatively export image to assets first then export to drive/download via geedim\n",
    "task = ee.batch.Export.image.toAsset(**{'image':outfile, 'description': 'SA_POC', 'assetId':'projects/ee-geethensingh/assets/SA_POC', 'region': aoi, 'scale': 1000, 'maxPixels': 1e13})\n",
    "task.start()"
   ]
  },
  {
   "cell_type": "markdown",
   "id": "ef33e01a-bafe-4478-90a1-39f402524190",
   "metadata": {},
   "source": [
    "## Urban Cover"
   ]
  },
  {
   "cell_type": "code",
   "execution_count": null,
   "id": "6bb2663e-afb8-404c-a381-dc86558a0d11",
   "metadata": {
    "tags": []
   },
   "outputs": [],
   "source": [
    "# Urban cover (10m>250m>1km) 2019\n",
    "area = ee.Image.pixelArea().divide(1e6).clip(aoi.geometry().buffer(5000))\n",
    "urban_cover = ee.ImageCollection(\"projects/sat-io/open-datasets/WSF/WSF_2019\")\n",
    "projection = ee.Image(urban_cover.filterBounds(aoi).first()).projection()\n",
    "urban_cover = urban_cover.filterBounds(aoi).mosaic().selfMask().setDefaultProjection(projection)\n",
    "areaImage = area.updateMask(urban_cover).setDefaultProjection(projection)#.addBands(grid1km)\n",
    "\n",
    "# Aggregate to 1km\n",
    "\n",
    "# Projection at 250 m\n",
    "projectionAt100m = projection.atScale(100)\n",
    "\n",
    "urban_cover100m = areaImage.reduceResolution(**{\\\n",
    "    'reducer': ee.Reducer.sum().unweighted(),\\\n",
    "    'maxPixels': 1024}).reproject(**{\\\n",
    "    'crs': projectionAt100m\n",
    "  })\n",
    "\n",
    "# Projection at 1 km\n",
    "projectionAt1k = projection.atScale(1000)\n",
    "\n",
    "urban_cover1k = urban_cover100m.reduceResolution(**{\\\n",
    "    'reducer': ee.Reducer.sum().unweighted(),\\\n",
    "    'maxPixels': 1024}).reproject(**{\\\n",
    "    'crs': projectionAt1k\n",
    "  }).rename('areakm2_urban')\n",
    "\n",
    "eeprint(urban_cover1k)\n",
    "Map.addLayer(areaImage,{}, 'urban')"
   ]
  },
  {
   "cell_type": "markdown",
   "id": "311a95e0-c20e-49ea-915b-3c97d4ba5e75",
   "metadata": {},
   "source": [
    "## Irrigated areas"
   ]
  },
  {
   "cell_type": "code",
   "execution_count": null,
   "id": "1f6f04ca-b937-43bb-a014-5104888f5f67",
   "metadata": {},
   "outputs": [],
   "source": [
    "# Highly irrigated areas (9276km) 2019\n",
    "area = ee.Image.pixelArea().divide(1e6).clip(aoi.geometry().buffer(5000))\n",
    "irrigated = ee.Image(\"users/deepakna/global_irrigation_maps/2015\").selfMask().rename('irrigation')\n",
    "projection = irrigated.projection()\n",
    "irrigatedMed = area.updateMask(irrigated.eq(1)).setDefaultProjection(projection)\n",
    "irrigatedHigh = area.updateMask(irrigated.eq(2)).setDefaultProjection(projection)\n",
    "# Aggregate to 1km\n",
    "# Projection at 1 km\n",
    "projectionAt1k = projection.atScale(1000)\n",
    "\n",
    "irrigationMed1k = irrigatedMed.reduceResolution(**{\\\n",
    "    'reducer': ee.Reducer.sum().unweighted(),\\\n",
    "    'maxPixels': 1024}).reproject(**{\\\n",
    "    'crs': projectionAt1k\n",
    "  }).rename('areakm2_irrig_med')\n",
    "\n",
    "irrigationHigh1k = irrigatedHigh.reduceResolution(**{\\\n",
    "    'reducer': ee.Reducer.sum().unweighted(),\\\n",
    "    'maxPixels': 1024}).reproject(**{\\\n",
    "    'crs': projectionAt1k\n",
    "  }).rename('areakm2_irrig_high')\n",
    "eeprint(irrigationMed1k)\n",
    "Map.addLayer(irrigationMed1k,{}, 'irrigated Medium')"
   ]
  },
  {
   "cell_type": "markdown",
   "id": "1dd57f4a-ea7c-4e34-bcc7-e9c70a236f71",
   "metadata": {},
   "source": [
    "## Crop Cover"
   ]
  },
  {
   "cell_type": "code",
   "execution_count": null,
   "id": "b8fc1054-18c3-490c-86d6-936011b75b5e",
   "metadata": {},
   "outputs": [],
   "source": [
    "#Crop cover (30 m)\n",
    "area = ee.Image.pixelArea().divide(1e6).clip(aoi.geometry().buffer(5000))\n",
    "crop_cover = ee.ImageCollection(\"users/potapovpeter/Global_cropland_2019\") \n",
    "projection = ee.Image(crop_cover.filterBounds(aoi).first()).projection()\n",
    "\n",
    "crop_cover = crop_cover.filterBounds(aoi).mosaic().selfMask()\n",
    "eeprint(crop_cover.projection().nominalScale())\n",
    "cropAreaImage = area.updateMask(crop_cover).setDefaultProjection(projection)\n",
    "\n",
    "# Projection at 300 m\n",
    "projectionAt300m = projection.atScale(300)\n",
    "\n",
    "cropCover300m = areaImage.reduceResolution(**{\\\n",
    "    'reducer': ee.Reducer.sum().unweighted(),\\\n",
    "    'maxPixels': 1024}).reproject(**{\\\n",
    "    'crs': projectionAt300m\n",
    "  })\n",
    "\n",
    "projectionAt1k = projection.atScale(1000)\n",
    "cropCover1k = cropCover300m.reduceResolution(**{\\\n",
    "       'reducer':ee.Reducer.sum().unweighted(),\\\n",
    "       'maxPixels':1024}).reproject(**{\\\n",
    "        'crs':projectionAt1k}).rename('areakm2_cropCover')\n",
    "\n",
    "eeprint(cropCover1k)\n",
    "Map.addLayer(cropCover1k,{},'Crop cover')"
   ]
  },
  {
   "cell_type": "markdown",
   "id": "a1ee3063-8db9-4236-b17a-84f3eec667cb",
   "metadata": {},
   "source": [
    "## Protected areas"
   ]
  },
  {
   "cell_type": "code",
   "execution_count": null,
   "id": "ebb2d6af-4a45-444b-b8a4-0176f19032df",
   "metadata": {
    "tags": []
   },
   "outputs": [],
   "source": [
    "#protected area\n",
    "prot_areas = ee.FeatureCollection(\"projects/ee-geethensingh/assets/WDPA_Africa_strict\").filterBounds(aoi)\n",
    "# eeprint(prot_areas)\n",
    "\n",
    "area = ee.Image.pixelArea().divide(1e6).clip(aoi)\n",
    "projection = area.projection()\n",
    "projectionAt1km = projection.atScale(1000)\n",
    "\n",
    "protectedAreaImage = area.clipToCollection(prot_areas)\n",
    "\n",
    "# projectionAt300m = projection.atScale(300)\n",
    "# protArea300m = protectedAreaImage.reduceResolution(**{\\\n",
    "#        'reducer':ee.Reducer.sum().unweighted(),\\\n",
    "#        'maxPixels':1024}).reproject(**{\\\n",
    "#         'crs':projectionAt300m}).rename('areakm2_protectedArea')\n",
    "\n",
    "\n",
    "protArea1km = protectedAreaImage.reduceResolution(**{\\\n",
    "       'reducer':ee.Reducer.sum().unweighted(),\\\n",
    "       'maxPixels':1024}).reproject(**{\\\n",
    "        'crs':projectionAt1k}).rename('areakm2_protectedArea')\n",
    "\n",
    "eeprint(protArea1km)\n",
    "Map.addLayer(protArea1km,{},'Protected Areas')"
   ]
  },
  {
   "cell_type": "markdown",
   "id": "49e609bc-06ef-4d3e-8268-30b166dc34f1",
   "metadata": {},
   "source": [
    "## Soil Nutrient status"
   ]
  },
  {
   "cell_type": "code",
   "execution_count": null,
   "id": "b983eedf-f490-4166-be78-26bc0444518b",
   "metadata": {},
   "outputs": [],
   "source": [
    "Soil_Lownutrient = ee.FeatureCollection(\"projects/ee-geethensingh/assets/Bell_1982_nutrient_map\")\\\n",
    ".filter(ee.Filter.eq('Nut_status', 'Low')).map(lambda ft: ft.set('Nut_status_id', 0))\n",
    "eeprint(Soil_Lownutrient.size())\n",
    "\n",
    "Soil_Mednutrient = ee.FeatureCollection(\"projects/ee-geethensingh/assets/Bell_1982_nutrient_map\")\\\n",
    ".filter(ee.Filter.eq('Nut_status', 'Medium')).map(lambda ft: ft.set('Nut_status_id', 1))\n",
    "eeprint(Soil_Mednutrient.size())\n",
    "\n",
    "Soil_Highnutrient = ee.FeatureCollection(\"projects/ee-geethensingh/assets/Bell_1982_nutrient_map\")\\\n",
    ".filter(ee.Filter.eq('Nut_status', 'High')).map(lambda ft: ft.set('Nut_status_id', 2))\n",
    "eeprint(Soil_Highnutrient.size())\n",
    "\n",
    "Soil_nutrient = Soil_Lownutrient.merge(Soil_Mednutrient).merge(Soil_Highnutrient)\n",
    "eeprint(Soil_nutrient.size())\n",
    "\n",
    "Soil_nutrient = ee.FeatureCollection(\"projects/ee-geethensingh/assets/Bell_1982_nutrient_map\").filterBounds(aoi)\\\n",
    ".map(lambda x: x.set(\"id\",x.get(\"Nut_statusid\")))\\\n",
    ".reduceToImage(**{'properties': ee.List([\"id\"]), 'reducer': ee.Reducer.first()}).unmask().rename('soilStatus')\n",
    "# eeprint(Soil_nutrient)\n",
    "\n",
    "area = ee.Image.pixelArea().divide(1e6).clip(aoi.geometry().buffer(5000))\n",
    "soilLowNutrientAreaImage = area.updateMask(Soil_nutrient.eq(0).selfMask()).setDefaultProjection(projectionAt1k)\n",
    "soilMedNutrientAreaImage = area.updateMask(Soil_nutrient.eq(1).selfMask()).setDefaultProjection(projectionAt1k)\n",
    "soilHighNutrientAreaImage = area.updateMask(Soil_nutrient.eq(2).selfMask()).setDefaultProjection(projectionAt1k)\n",
    "\n",
    "# soilLowArea300m = soilLowNutrientAreaImage.reduceResolution(**{\\\n",
    "#        'reducer':ee.Reducer.sum().unweighted(),\\\n",
    "#        'maxPixels':1024}).reproject(**{\\\n",
    "#         'crs':projectionAt300m}).rename('areakm2_soilLow')\n",
    "# soilMedArea300m = soilMedNutrientAreaImage.reduceResolution(**{\\\n",
    "#        'reducer':ee.Reducer.sum().unweighted(),\\\n",
    "#        'maxPixels':1024}).reproject(**{\\\n",
    "#         'crs':projectionAt300m}).rename('areakm2_soilMed')\n",
    "# soilHighArea300m = soilHighNutrientAreaImage.reduceResolution(**{\\\n",
    "#        'reducer':ee.Reducer.sum().unweighted(),\\\n",
    "#        'maxPixels':1024}).reproject(**{\\\n",
    "#         'crs':projectionAt300m}).rename('areakm2_soilHigh')\n",
    "\n",
    "soilLowArea1km = soilLowNutrientAreaImage.reduceResolution(**{\\\n",
    "       'reducer':ee.Reducer.sum().unweighted(),\\\n",
    "       'maxPixels':1024}).reproject(**{\\\n",
    "        'crs':projectionAt1k}).rename('areakm2_soilLow')\n",
    "soilMedArea1km = soilMedNutrientAreaImage.reduceResolution(**{\\\n",
    "       'reducer':ee.Reducer.sum().unweighted(),\\\n",
    "       'maxPixels':1024}).reproject(**{\\\n",
    "        'crs':projectionAt1k}).rename('areakm2_soilMed')\n",
    "soilHighArea1km = soilHighNutrientAreaImage.reduceResolution(**{\\\n",
    "       'reducer':ee.Reducer.sum().unweighted(),\\\n",
    "       'maxPixels':1024}).reproject(**{\\\n",
    "        'crs':projectionAt1k}).rename('areakm2_soilHigh')\n",
    "\n",
    "# eeprint(soilLowArea1km)\n",
    "# Map.addLayer(soilLowArea1km,{},'soil Low')"
   ]
  },
  {
   "cell_type": "markdown",
   "id": "51e02531-e824-45db-8953-b876d8c10088",
   "metadata": {},
   "source": [
    "## Sand Content"
   ]
  },
  {
   "cell_type": "code",
   "execution_count": null,
   "id": "1d418a35-0614-4ead-adb8-98598820da30",
   "metadata": {},
   "outputs": [],
   "source": [
    "sand_content = ee.Image(\"projects/sat-io/open-datasets/iSDAsoil_Africa_30m/sand_content\").select('b1')\n",
    "eeprint(sand_content.bandNames())\n",
    "\n",
    "projection = sand_content.projection()\n",
    "# Aggregate to 1km\n",
    "# Projection at 300 m\n",
    "projectionAt300m = projection.atScale(300)\n",
    "\n",
    "sand_content300m = sand_content.reduceResolution(**{\\\n",
    "    'reducer': ee.Reducer.sum().unweighted(),\\\n",
    "    'maxPixels': 1024}).reproject(**{\\\n",
    "    'crs': projectionAt300m\n",
    "  })\n",
    "\n",
    "# Projection at 1 km\n",
    "projectionAt1k = projection.atScale(1000)\n",
    "\n",
    "sandContent1k = sand_content300m.clip(aoi).reduceResolution(**{\\\n",
    "    'reducer': ee.Reducer.mean().unweighted(),\\\n",
    "    'maxPixels': 1024}).reproject(**{\\\n",
    "    'crs': projectionAt1k\n",
    "  }).rename('mean_sandContent')\n",
    "# eeprint(sandContent1k)\n",
    "# Map.addLayer(sandContent1k,{}, 'sand Content')"
   ]
  },
  {
   "cell_type": "markdown",
   "id": "d06a14e6-e56b-43b1-a0b5-c19148fe5ac2",
   "metadata": {},
   "source": [
    "# Precipitation"
   ]
  },
  {
   "cell_type": "code",
   "execution_count": null,
   "id": "a16c6a16-20ed-49ea-a042-baf2cbe06d0a",
   "metadata": {},
   "outputs": [],
   "source": [
    "years = list(range(1991,2021))\n",
    "\n",
    "precipitation = ee.ImageCollection(\"UCSB-CHG/CHIRPS/DAILY\")\n",
    "projection = ee.Image(precipitation.filterBounds(aoi).first()).projection()\n",
    "\n",
    "precipitation = precipitation.filterBounds(aoi)  \n",
    "precipitation = ee.Image(ee.ImageCollection(ee.List(years).map(lambda year: precipitation\\\n",
    ".filterDate(ee.Number(year).format(), ee.Number(year).add(1).format()).sum())).mean().rename('precipitation')).setDefaultProjection(projection)    \n",
    "eeprint(precipitation)     \n",
    "\n",
    "# Aggregate to 1km\n",
    "# Projection at 1 km\n",
    "projectionAt1k = projection.atScale(1000)\n",
    "\n",
    "precip1k = precipitation.reduceResolution(**{\\\n",
    "    'reducer': ee.Reducer.mean().unweighted(),\\\n",
    "    'maxPixels': 1024}).reproject(**{\\\n",
    "    'crs': projectionAt1k\n",
    "  }).rename('mean_precip')\n",
    "# eeprint(precip1k)\n",
    "# Map.addLayer(precip1k,{}, 'precipitation')"
   ]
  },
  {
   "cell_type": "markdown",
   "id": "799eb357-a0d0-4e56-a516-5e651a4b0ec1",
   "metadata": {},
   "source": [
    "## Population Density 1"
   ]
  },
  {
   "cell_type": "code",
   "execution_count": null,
   "id": "d50abb4f-f479-4e1f-b6b6-230fe1778bd8",
   "metadata": {},
   "outputs": [],
   "source": [
    "# https://developers.google.com/earth-engine/datasets/catalog/CIESIN_GPWv411_GPW_UNWPP-Adjusted_Population_Density#description\n",
    "pop_density = ee.ImageCollection(\"CIESIN/GPWv411/GPW_UNWPP-Adjusted_Population_Density\")\\\n",
    ".select('unwpp-adjusted_population_density')\n",
    "projection = ee.Image(pop_density.filterBounds(aoi).first()).projection()\n",
    "\n",
    "pop_density = pop_density.filterBounds(aoi).mosaic().setDefaultProjection(projection)    \n",
    "eeprint(pop_density)     \n",
    "\n",
    "# Aggregate to 1km\n",
    "# Projection at 1 km\n",
    "projectionAt1k = projection.atScale(1000)\n",
    "\n",
    "popDensity1k1 = pop_density.reduceResolution(**{\\\n",
    "    'reducer': ee.Reducer.mean().unweighted(),\\\n",
    "    'maxPixels': 1024}).reproject(**{\\\n",
    "    'crs': projectionAt1k\n",
    "  }).rename('mean_popDensity1')\n",
    "# eeprint(popDensity1k1)\n",
    "# Map.addLayer(popDensity1k1,{}, 'mean_popDensity1')"
   ]
  },
  {
   "cell_type": "markdown",
   "id": "65cb149f-f892-4d1a-99ec-0f9c6bec068d",
   "metadata": {},
   "source": [
    "## Population Density 2"
   ]
  },
  {
   "cell_type": "code",
   "execution_count": null,
   "id": "31fe7989-ff8a-4397-b79c-a3f823665da1",
   "metadata": {},
   "outputs": [],
   "source": [
    "HRSL = ee.ImageCollection(\"projects/sat-io/open-datasets/hrsl/hrslpop\")\n",
    "\n",
    "projection = ee.Image(HRSL.filterBounds(aoi).first()).projection()\n",
    "eeprint(projection)\n",
    "\n",
    "HRSL = HRSL.filterBounds(aoi).mosaic().setDefaultProjection(projection)    \n",
    "eeprint(HRSL)     \n",
    "\n",
    "# Aggregate to 1km\n",
    "# Projection at 300 m\n",
    "projectionAt300m = projection.atScale(300)\n",
    "\n",
    "HRSL300m = HRSL.reduceResolution(**{\\\n",
    "    'reducer': ee.Reducer.sum().unweighted(),\\\n",
    "    'maxPixels': 1024}).reproject(**{\\\n",
    "    'crs': projectionAt300m\n",
    "  })\n",
    "\n",
    "# Projection at 1 km\n",
    "projectionAt1k = projection.atScale(1000)\n",
    "\n",
    "popDensity1k2 = HRSL300m.reduceResolution(**{\\\n",
    "    'reducer': ee.Reducer.mean().unweighted(),\\\n",
    "    'maxPixels': 1024}).reproject(**{\\\n",
    "    'crs': projectionAt1k\n",
    "  }).rename('mean_popDensity2')\n",
    "# eeprint(popDensity1k2)\n",
    "# Map.addLayer(popDensity1k2,{}, 'mean_popDensity2')"
   ]
  },
  {
   "cell_type": "markdown",
   "id": "b0bdf785-5070-44d3-907d-bcf221ca46ec",
   "metadata": {},
   "source": [
    "## Grazing Density"
   ]
  },
  {
   "cell_type": "code",
   "execution_count": null,
   "id": "8f391c62-fa4e-4982-b023-8ac81dbf0e12",
   "metadata": {},
   "outputs": [],
   "source": [
    "cattle_density = ee.Image('projects/ee-geethensingh/assets/GrazingDensity/5_Ct_2010_Da')\n",
    "projection = cattle_density.projection()\n",
    "# Aggregate to 1km\n",
    "# Projection at 1 km\n",
    "projectionAt1k = projection.atScale(1000)\n",
    "\n",
    "cattleDensity1k = cattle_density.clip(aoi).reduceResolution(**{\\\n",
    "    'reducer': ee.Reducer.mean().unweighted(),\\\n",
    "    'maxPixels': 1024}).reproject(**{\\\n",
    "    'crs': projectionAt1k\n",
    "  }).rename('mean_cattleDensity')\n",
    "eeprint(cattleDensity1k)\n",
    "Map.addLayer(cattleDensity1k,{}, 'cattleDensity')\n",
    "\n",
    "sheep_density = ee.Image('projects/ee-geethensingh/assets/GrazingDensity/5_Sh_2010_Da')\n",
    "projection = sheep_density.projection()\n",
    "# Aggregate to 1km\n",
    "# Projection at 1 km\n",
    "projectionAt1k = projection.atScale(1000)\n",
    "\n",
    "sheepDensity1k = sheep_density.clip(aoi).reduceResolution(**{\\\n",
    "    'reducer': ee.Reducer.mean().unweighted(),\\\n",
    "    'maxPixels': 1024}).reproject(**{\\\n",
    "    'crs': projectionAt1k\n",
    "  }).rename('mean_sheepDensity')\n",
    "eeprint(sheepDensity1k)\n",
    "Map.addLayer(sheepDensity1k,{}, 'sheepDensity')\n",
    "\n",
    "\n",
    "goat_density = ee.Image('projects/ee-geethensingh/assets/GrazingDensity/5_Gt_2010_Da')\n",
    "projection = goat_density.projection()\n",
    "# Aggregate to 1km\n",
    "# Projection at 1 km\n",
    "projectionAt1k = projection.atScale(1000)\n",
    "\n",
    "goatDensity1k = goat_density.clip(aoi).reduceResolution(**{\\\n",
    "    'reducer': ee.Reducer.mean().unweighted(),\\\n",
    "    'maxPixels': 1024}).reproject(**{\\\n",
    "    'crs': projectionAt1k\n",
    "  }).rename('mean_goatDensity')\n",
    "eeprint(goatDensity1k)\n",
    "# Map.addLayer(goatDensity1k,{}, 'goatDensity')"
   ]
  },
  {
   "cell_type": "markdown",
   "id": "6a330db8-9074-4107-bd53-85fe14a3c1b3",
   "metadata": {},
   "source": [
    "## Nitrogen input"
   ]
  },
  {
   "cell_type": "code",
   "execution_count": null,
   "id": "62b4f08a-04b1-4465-8bdf-2befda91ac1f",
   "metadata": {},
   "outputs": [],
   "source": [
    "Nitrogen_input = ee.FeatureCollection(\"projects/ee-geethensingh/assets/Nfur_15arcmins\")\n",
    "\n",
    "urban_cover = ee.ImageCollection(\"projects/sat-io/open-datasets/WSF/WSF_2019\")\n",
    "projection = ee.Image(urban_cover.filterBounds(aoi).first()).projection()\n",
    "projectionAt1k = projection.atScale(1000)\n",
    "\n",
    "Nitrogen_input = Nitrogen_input.filterBounds(aoi)\\\n",
    ".map(lambda x: x.set(\"Nfer_kgha_\",ee.Number(x.get(\"Nfer_kgha_\")).toFloat()))\\\n",
    ".reduceToImage(**{'properties': ee.List([\"Nfer_kgha_\"]), 'reducer': ee.Reducer.first()}).unmask().rename('nInput')\n",
    "\n",
    "nitrogenInput = Nitrogen_input.clip(aoi).selfMask().setDefaultProjection(projection)\n",
    "\n",
    "nitrogenInput1k = nitrogenInput.reduceResolution(**{\\\n",
    "       'reducer':ee.Reducer.mean().unweighted(),\\\n",
    "       'maxPixels':1024}).reproject(**{\\\n",
    "        'crs':projectionAt1k}).rename('mean_Nitrogen_input')\n",
    "\n",
    "eeprint(nitrogenInput1k)\n",
    "# Map.addLayer(nitrogenInput1k,{},'Nitrogen input')"
   ]
  },
  {
   "cell_type": "markdown",
   "id": "ac259362-0275-4cda-820f-47b5ebd28246",
   "metadata": {},
   "source": [
    "## Field Size"
   ]
  },
  {
   "cell_type": "code",
   "execution_count": null,
   "id": "48a64b27-6bb5-4c98-8f3c-4ccb121e7661",
   "metadata": {
    "tags": []
   },
   "outputs": [],
   "source": [
    "field_size = ee.FeatureCollection(\"projects/ee-geethensingh/assets/dominant_field_sizes\").filterBounds(aoi)\\\n",
    ".map(lambda x: x.set('field_size',ee.Number(x.get('field_size')).toFloat()))\\\n",
    ".reduceToImage(**{'properties': ee.List(['field_size']), 'reducer': ee.Reducer.first()}).unmask().rename('fieldSize')\n",
    "\n",
    "urban_cover = ee.ImageCollection(\"projects/sat-io/open-datasets/WSF/WSF_2019\")\n",
    "projection = ee.Image(urban_cover.filterBounds(aoi).first()).projection()\n",
    "projectionAt1k = projection.atScale(1000)\n",
    "\n",
    "fieldSize = field_size.clip(aoi).selfMask().setDefaultProjection(projection)\n",
    "\n",
    "fieldSize1k = fieldSize.reduceResolution(**{\\\n",
    "       'reducer':ee.Reducer.mean().unweighted(),\\\n",
    "       'maxPixels':1024}).reproject(**{\\\n",
    "        'crs':projectionAt1km}).rename('mean_fieldSize')\n",
    "\n",
    "eeprint(fieldSize1k)\n",
    "# Map.addLayer(fieldSize1k,{},'field size')"
   ]
  },
  {
   "cell_type": "markdown",
   "id": "b7a9d6d4-276d-4cd9-9adb-e2729becd5f5",
   "metadata": {},
   "source": [
    "## Plantations and tree crop"
   ]
  },
  {
   "cell_type": "code",
   "execution_count": null,
   "id": "736b32b2-d2f3-48fe-b302-7344b496da1f",
   "metadata": {
    "tags": []
   },
   "outputs": [],
   "source": [
    "result = ee.ImageCollection(\"users/liuzhujun/SDPT_NEW\").mosaic()\n",
    "plantag = ee.Image(\"users/duzhenrong/SDPT/sdpt_plantag\")\n",
    "china_plantyear = ee.ImageCollection(\"users/liuzhujun/SDPT_China\").mosaic().rename('plantyear')\n",
    "DescalesOP = ee.ImageCollection(\"users/liuzhujun/Descales\").mosaic()\n",
    "op = DescalesOP.updateMask(DescalesOP.gt(1980)).rename('plantyear')\n",
    "sdpt_name = ee.Image(\"users/duzhenrong/SDPT/sdpt_name\")\n",
    "\n",
    "china_plantyear=china_plantyear.updateMask(china_plantyear.gt(1980))\n",
    "result=result.rename('plantyear').updateMask((sdpt_name.lt(120).And(sdpt_name.gt(0))).Or(sdpt_name.gt(129))).toInt32()\n",
    "\n",
    "plantationForest=ee.ImageCollection([result.updateMask(plantag.eq(1)),china_plantyear]).mosaic()\n",
    "eeprint(plantationForest)\n",
    "treeCrop=result.updateMask(plantag.eq(2))\n",
    "treeCrop =ee.ImageCollection([treeCrop,op]).mosaic()\n",
    "eeprint(treeCrop)\n",
    "\n",
    "urban_cover = ee.ImageCollection(\"projects/sat-io/open-datasets/WSF/WSF_2019\")\n",
    "projection = ee.Image(urban_cover.filterBounds(aoi).first()).projection()\n",
    "plantationForestAreaImage = area.updateMask(plantationForest).setDefaultProjection(projection)\n",
    "\n",
    "# Aggregate to 1km\n",
    "# Projection at 300 m\n",
    "projectionAt300m = projection.atScale(300)\n",
    "\n",
    "plantationForest300m = plantationForestAreaImage.reduceResolution(**{\\\n",
    "    'reducer': ee.Reducer.sum().unweighted(),\\\n",
    "    'maxPixels': 1024}).reproject(**{\\\n",
    "    'crs': projectionAt300m\n",
    "  })\n",
    "\n",
    "# Projection at 1 km\n",
    "projectionAt1k = projection.atScale(1000)\n",
    "plantationForest1k = plantationForest300m.reduceResolution(**{\\\n",
    "       'reducer':ee.Reducer.sum().unweighted(),\\\n",
    "       'maxPixels':1024}).reproject(**{\\\n",
    "        'crs':projectionAt1k}).rename('areakm2_plantationForest')\n",
    "\n",
    "eeprint(plantationForest1k)\n",
    "# Map.addLayer(plantationForest1k,{},'plantation forest')\n",
    "\n",
    "urban_cover = ee.ImageCollection(\"projects/sat-io/open-datasets/WSF/WSF_2019\")\n",
    "projection = ee.Image(urban_cover.filterBounds(aoi).first()).projection()\n",
    "treeCropAreaImage = area.updateMask(treeCrop).setDefaultProjection(projection)\n",
    "\n",
    "# Aggregate to 1km\n",
    "# Projection at 300 m\n",
    "projectionAt300m = projection.atScale(300)\n",
    "\n",
    "treeCropArea300m = treeCropAreaImage.reduceResolution(**{\\\n",
    "    'reducer': ee.Reducer.sum().unweighted(),\\\n",
    "    'maxPixels': 1024}).reproject(**{\\\n",
    "    'crs': projectionAt300m\n",
    "  })\n",
    "# Projection at 1 km\n",
    "projectionAt1k = projection.atScale(1000)\n",
    "treeCrop1k = treeCropArea300m.reduceResolution(**{\\\n",
    "       'reducer':ee.Reducer.sum().unweighted(),\\\n",
    "       'maxPixels':1024}).reproject(**{\\\n",
    "        'crs':projectionAt1k}).rename('areakm2_treeCrop')\n",
    "\n",
    "eeprint(treeCrop1k)\n",
    "# Map.addLayer(treeCrop1k,{},'plantation forest')"
   ]
  },
  {
   "cell_type": "markdown",
   "id": "61df3877-b419-4d65-b569-cbc535c902df",
   "metadata": {},
   "source": [
    "## Fragmentation"
   ]
  },
  {
   "cell_type": "code",
   "execution_count": null,
   "id": "40cdcc90-c7cc-4fdd-9024-8e73577ad70a",
   "metadata": {},
   "outputs": [],
   "source": []
  },
  {
   "cell_type": "markdown",
   "id": "dc19540d-67b1-4ead-b683-e8b55470d11c",
   "metadata": {},
   "source": [
    "## Compile covaraites"
   ]
  },
  {
   "cell_type": "code",
   "execution_count": null,
   "id": "7d1d235e-35fa-41b5-8a18-7fb7b68f2ebf",
   "metadata": {},
   "outputs": [],
   "source": [
    "covariates = grid1km.rename('grid_1km').addBands([grid8km.rename('grid_8km'),\\\n",
    "                            urban_cover1k, irrigationMed1k, irrigationHigh1k,\\\n",
    "                            cropCover1k, protArea1km, soilLowArea1km, soilMedArea1km,\\\n",
    "                        soilHighArea1km, plantationForest1k, treeCrop1k,\\\n",
    "                        sandContent1k, precip1k,popDensity1k1, popDensity1k2,\\\n",
    "                        cattleDensity1k,sheepDensity1k, goatDensity1k, nitrogenInput1k,\\\n",
    "                        fieldSize1k])\n",
    "\n",
    "layers = covariates.bandNames().getInfo()\n",
    "for layer in tqdm(layers):\n",
    "    layer = covariates.select(layer)\n",
    "    name = layer.bandNames().getInfo()[0]\n",
    "    desc = name\n",
    "    aid = 'projects/ee-geethensingh/assets/Hayley/SA_'+ str(name)\n",
    "    task = ee.batch.Export.image.toAsset(layer.clip(aoi), description = desc, assetId = aid, region =  aoi.geometry().buffer(8000), scale = 1000, maxPixels = 1e13)\n",
    "    task.start()"
   ]
  },
  {
   "cell_type": "code",
   "execution_count": null,
   "id": "f06bd648-119a-4b0a-b86e-d1b8e8c7fcd3",
   "metadata": {},
   "outputs": [],
   "source": [
    "task.status()"
   ]
  },
  {
   "cell_type": "markdown",
   "id": "758f3224-5f68-4fad-81fc-f4a7891a4eb7",
   "metadata": {},
   "source": [
    "## Extract data"
   ]
  },
  {
   "cell_type": "code",
   "execution_count": null,
   "id": "8b994cb0-1f41-47f0-901e-f71ae22b831c",
   "metadata": {},
   "outputs": [],
   "source": [
    "eeprint(sumCovariates.bandNames())\n",
    "eeprint(meanCovariates.bandNames())"
   ]
  },
  {
   "cell_type": "code",
   "execution_count": null,
   "id": "ad89ec7a-eac3-4093-a48f-482e8f9b8d6e",
   "metadata": {
    "tags": []
   },
   "outputs": [],
   "source": [
    "i = 911806#id1km[2]\n",
    "print('1km cell id:', i)\n",
    "scell = grid1km.addBands(sumCovariates).updateMask(grid1km.eq(i)).selfMask()\n",
    "gridCell = scell.reduceToVectors(**{'geometry': aoi, 'scale': 1000, 'geometryType': 'polygon',\\\n",
    "                                'eightConnected': False, 'labelProperty': 'id', 'reducer': ee.Reducer.sum()})\n",
    "\n",
    "eeprint(gridCell)\n",
    "\n",
    "eeprint(sumCovariates.reduceRegion(ee.Reducer.sum(), scale = 1000, geometry = gridCell))\n",
    "# eeprint(meanCovariates.reduceRegion(ee.Reducer.mean(), scale = 1000, geometry = gridCell))"
   ]
  },
  {
   "cell_type": "code",
   "execution_count": null,
   "id": "1d9024c1-ed3f-420f-8a1c-0cfeaeebbd0e",
   "metadata": {},
   "outputs": [],
   "source": [
    "%%timeit\n",
    "i = 911806#id1km[2]\n",
    "print('1km cell id:', i)\n",
    "scell = grid1km.updateMask(grid1km.eq(i).selfMask())\n",
    "gridCell = grid1km.addBands(sumCovariates).updateMask(scell)\\\n",
    ".reduceConnectedComponents(reducer= ee.Reducer.sum(), maxSize =256)\n",
    "\n",
    "eeprint(gridCell)\n",
    "\n",
    "# eeprint(sumCovariates.reduceRegion(ee.Reducer.sum(), scale = 1000, geometry = gridCell))\n",
    "# eeprint(meanCovariates.reduceRegion(ee.Reducer.mean(), scale = 1000, geometry = gridCell))"
   ]
  },
  {
   "cell_type": "code",
   "execution_count": null,
   "id": "8671e8f1-5211-4702-a33a-133446ae7e15",
   "metadata": {},
   "outputs": [],
   "source": [
    "Map = geemap.Map()\n",
    "Map.centerObject(ee.Geometry.Point([27.858, -25.742]), 13)\n",
    "Map.addLayer(gridCell)\n",
    "Map"
   ]
  },
  {
   "cell_type": "code",
   "execution_count": null,
   "id": "cd412b20-eb8b-40e8-88e5-2a3fabf6c528",
   "metadata": {
    "tags": []
   },
   "outputs": [],
   "source": [
    "dd = r\"C:\\Users\\coach\\myfiles\\miscellenous\\hayley\\outputs\"\n",
    "sumImageList = [urbanAreaImage, cropAreaImage, plantationAreaImage, treeCropAreaImage,\\\n",
    "                protectedAreaImage, irrigatedMed, irrigatedHigh,\\\n",
    "                soilLowNutrientAreaImage, soilMedNutrientAreaImage, soilHighNutrientAreaImage]\n",
    "\n",
    "meanImageList = [grid1km,grid8km.rename('id8km'),sandContent, precipitation, popDensity, cattleDensity,\\\n",
    "                                       sheepDensity, goatDensity, nitrogenInput, fieldSize]\n",
    "    \n",
    "for image in sumImageList:\n",
    "    iName = image.bandNames().getInfo()[0]\n",
    "    print(iName)\n",
    "    scale = image.projection().nominalScale()\n",
    "    extractor(image, aoi.geometry(), scale = 1000, dd = dd, target = grid1km, crs = 'EPSG:4326', num_threads = 25)\\\n",
    "    .extractRasterGrid(reduce = True, reducer = ee.Reducer.sum(), gridSize = 100000, batchSize = 100, filename = f'{iName}_1km.csv')"
   ]
  },
  {
   "cell_type": "code",
   "execution_count": null,
   "id": "1e3cf20d-a06b-4797-ad49-1a8832b30906",
   "metadata": {
    "tags": []
   },
   "outputs": [],
   "source": [
    "bands = sumCovariates.bandNames().getInfo()[1:]\n",
    "for cid in id1km[1:2]:\n",
    "    print(cid)\n",
    "    for band in bands:\n",
    "        sumCell = sumCovariates.select([str(band)]).updateMask(grid1km.eq(cid).selfMask())\\\n",
    "        .reduceRegion(ee.Reducer.sum(), scale=1000, geometry= aoi, maxPixels= 1e13)\n",
    "        eeprint(sumCell)"
   ]
  },
  {
   "cell_type": "code",
   "execution_count": null,
   "id": "86faef19-4eb9-49d1-96b5-1b9eb8ea5a2d",
   "metadata": {
    "tags": []
   },
   "outputs": [],
   "source": [
    "bands = sumCovariates.bandNames().getInfo()[1:]\n",
    "for cid in id8km[10:11]:\n",
    "    print(cid)\n",
    "    for band in bands:\n",
    "        sumCell = sumCovariates.select([str(band), 'id' ]).updateMask(grid8km.eq(cid).selfMask())\\\n",
    "        .reduceRegion(ee.Reducer.sum().group(groupField=1, groupName='id1km'), scale=1000, geometry= aoi, maxPixels= 1e13)\n",
    "        eeprint(sumCell)"
   ]
  },
  {
   "cell_type": "markdown",
   "id": "8beb8e74-58c0-4a28-87d9-b43a5593676b",
   "metadata": {},
   "source": [
    "## Decision tree"
   ]
  },
  {
   "cell_type": "code",
   "execution_count": null,
   "id": "debdd069-ec7e-470c-9b5e-3d2cf9e4fb19",
   "metadata": {},
   "outputs": [],
   "source": [
    "covariates = grid1km.rename('grid_1km').addBands([grid8km.rename('grid_8km'),\\\n",
    "                            urban_cover1k, irrigationMed1k, irrigationHigh1k,\\\n",
    "                            cropCover1k, protArea1km, soilLowArea1km, soilMedArea1km,\\\n",
    "                        soilHighArea1km, plantationForest1k, treeCrop1k,\\\n",
    "                        sandContent1k, precip1k,popDensity1k1, popDensity1k2,\\\n",
    "                        cattleDensity1k,sheepDensity1k, goatDensity1k, nitrogenInput1k,\\\n",
    "                        fieldSize1k])\n",
    "eeprint(covariates.bandNames())"
   ]
  },
  {
   "cell_type": "code",
   "execution_count": null,
   "id": "e068d4f9-8b2f-4272-8726-344c9fe59ff2",
   "metadata": {},
   "outputs": [],
   "source": [
    "Urban = ee.Image.constant(1).updateMask(urban_cover1k.gt(0.20)\\\n",
    "                                        .And(popDensity1k1.gt(15000))).toInt()\n",
    "# eeprint(Urban)\n",
    "\n",
    "Settlements_nonAgric = ee.Image.constant(2).updateMask(popDensity1k1.gt(100)\\\n",
    "                        .And(cropCover1k.lt(0.05)\\\n",
    "                        .Or(treeCrop.lt(0.05)))).toInt()\n",
    "# eeprint(Settlements_nonAgric)\n",
    "                                                        \n",
    "Agric_settlements = ee.Image.constant(3).updateMask(popDensity1k1.gt(100)\\\n",
    "                    .And(cropCover1k).gte(0.05).Or(cropCover1k.divide(1).lte(0.20))\\\n",
    "                    .And(treeCrop.gte(0.05)).Or(treeCrop.divide(1).lte(0.20))).toInt()\n",
    "# eeprint(Agric_settlements)\n",
    "                                                          \n",
    "Timber_plantations = ee.Image.constant(4).updateMask(plantationForest1k.gt(0.20)).toInt()\n",
    "# eeprint(Timber_plantations)\n",
    "                                                     \n",
    "treeCrop =  ee.Image.constant(5).updateMask(treeCrop1k.gt(0.20)).toInt()\n",
    "# eeprint(treeCrop)\n",
    "                                                             \n",
    "Agric =  ee.Image.constant(6).updateMask(cropCover1k.gt(0.20)).toInt()\n",
    "# eeprint(Agric)\n",
    "                                                             \n",
    "protArea = protArea1km.gt(0.5).toInt()\n",
    "# eeprint(protArea)\n",
    "                                                             \n",
    "landUse = ee.ImageCollection.fromImages([Urban,Settlements_nonAgric, Agric_settlements, Timber_plantations,\\\n",
    "                          treeCrop, Agric, protArea, ee.Image.constant(7)]).min().toInt()\n",
    "eeprint(landUse)"
   ]
  },
  {
   "cell_type": "code",
   "execution_count": null,
   "id": "291ded0f-9dbe-4593-961d-ceca003b7225",
   "metadata": {},
   "outputs": [],
   "source": [
    "task = ee.batch.Export.image.toAsset(Urban.toInt(), description = 'SA_LU', assetId = 'users/geethensingh/SA_Urban_1km', region =  aoi.geometry(), scale = 1000, maxPixels = 1e13)\n",
    "task.start()"
   ]
  },
  {
   "cell_type": "code",
   "execution_count": null,
   "id": "ded5f99b-437a-4802-8deb-d0a4898719aa",
   "metadata": {},
   "outputs": [],
   "source": [
    "task.status()"
   ]
  }
 ],
 "metadata": {
  "kernelspec": {
   "display_name": "erty",
   "language": "python",
   "name": "erty"
  },
  "language_info": {
   "codemirror_mode": {
    "name": "ipython",
    "version": 3
   },
   "file_extension": ".py",
   "mimetype": "text/x-python",
   "name": "python",
   "nbconvert_exporter": "python",
   "pygments_lexer": "ipython3",
   "version": "3.9.12"
  },
  "toc-autonumbering": false,
  "toc-showcode": true
 },
 "nbformat": 4,
 "nbformat_minor": 5
}
